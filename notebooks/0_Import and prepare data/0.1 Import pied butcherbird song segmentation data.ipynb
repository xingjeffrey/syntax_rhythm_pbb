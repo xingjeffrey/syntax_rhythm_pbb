{
 "cells": [
  {
   "cell_type": "markdown",
   "id": "0c97c285",
   "metadata": {},
   "source": [
    "***\n",
    "# 0.1 Import pied butcherbird song segmentation data\n",
    "### JX, 03/07/2022\n",
    "***\n",
    "\n",
    "This notebook imports data from:\n",
    "\n",
    "    >/mnt/cube/j8xing/syntax_rhythm_pbb/data/raw  \n",
    "    >/mnt/cube/j8xing/syntax_rhythm_pbb/data/interim/tg\n",
    "    \n",
    "and saves JSON at:\n",
    "\n",
    "    >/mnt/cube/j8xing/syntax_rhythm_pbb/data/interim/butcherbird/YYYY-MM-DD_HH-MM-SS\n",
    "***"
   ]
  },
  {
   "cell_type": "markdown",
   "id": "d855a2d0",
   "metadata": {},
   "source": [
    "## Import locations"
   ]
  },
  {
   "cell_type": "code",
   "execution_count": 1,
   "id": "f64b020b",
   "metadata": {},
   "outputs": [],
   "source": [
    "from butcherbird.utils.paths import DATA_DIR"
   ]
  },
  {
   "cell_type": "code",
   "execution_count": 2,
   "id": "cebd5d50",
   "metadata": {},
   "outputs": [
    {
     "data": {
      "text/plain": [
       "PosixPath('/mnt/cube/j8xing/syntax_rhythm_pbb/data')"
      ]
     },
     "execution_count": 2,
     "metadata": {},
     "output_type": "execute_result"
    }
   ],
   "source": [
    "DATA_DIR"
   ]
  },
  {
   "cell_type": "code",
   "execution_count": 3,
   "id": "19dce05b",
   "metadata": {},
   "outputs": [],
   "source": [
    "rcd_loc = DATA_DIR/'interim/denoised'\n",
    "tg_loc = DATA_DIR/'interim/tg'"
   ]
  },
  {
   "cell_type": "markdown",
   "id": "5d64c076",
   "metadata": {},
   "source": [
    "## Import Dataset Tools"
   ]
  },
  {
   "cell_type": "code",
   "execution_count": 4,
   "id": "23cd9251",
   "metadata": {},
   "outputs": [
    {
     "name": "stderr",
     "output_type": "stream",
     "text": [
      "/home/AD/j8xing/syntax_rhythm_pbb/butcherbird/data/setup.py:7: TqdmExperimentalWarning: Using `tqdm.autonotebook.tqdm` in notebook mode. Use `tqdm.tqdm` instead to force console mode (e.g. in jupyter console)\n",
      "  from tqdm.autonotebook import tqdm\n"
     ]
    }
   ],
   "source": [
    "from datetime import datetime\n",
    "import numpy as np\n",
    "import pandas as pd\n",
    "\n",
    "import butcherbird.data.setup as setup"
   ]
  },
  {
   "cell_type": "code",
   "execution_count": 5,
   "id": "51030c9f",
   "metadata": {},
   "outputs": [
    {
     "name": "stdout",
     "output_type": "stream",
     "text": [
      "The current working dataset is butcherbird \n",
      "Data instantiated at 2022-03-07_17-49-43\n"
     ]
    }
   ],
   "source": [
    "## Instantiate DataSet name\n",
    "DATASET_ID = 'butcherbird'\n",
    "DT_ID = datetime.now().strftime(\"%Y-%m-%d_%H-%M-%S\")\n",
    "print('The current working dataset is', DATASET_ID, '\\nData instantiated at', DT_ID)"
   ]
  },
  {
   "cell_type": "code",
   "execution_count": 6,
   "id": "2e15c396",
   "metadata": {},
   "outputs": [
    {
     "name": "stdout",
     "output_type": "stream",
     "text": [
      "Discovered 7 Recordings.\n"
     ]
    },
    {
     "data": {
      "text/plain": [
       "[PosixPath('/mnt/cube/j8xing/syntax_rhythm_pbb/data/interim/denoised/LS110146A.10.13.2015GeoGreens_dn.wav'),\n",
       " PosixPath('/mnt/cube/j8xing/syntax_rhythm_pbb/data/interim/denoised/LS110593.9.8.2018Araluen_dn.wav'),\n",
       " PosixPath('/mnt/cube/j8xing/syntax_rhythm_pbb/data/interim/denoised/LS110640.10.1.2018Araluen_dn.wav'),\n",
       " PosixPath('/mnt/cube/j8xing/syntax_rhythm_pbb/data/interim/denoised/LS110143.10.12.2015GeoGreens_dn.wav'),\n",
       " PosixPath('/mnt/cube/j8xing/syntax_rhythm_pbb/data/interim/denoised/LS110136.10.10.2015GeoGreens_dn.wav'),\n",
       " PosixPath('/mnt/cube/j8xing/syntax_rhythm_pbb/data/interim/denoised/LS110131.10.9.2015GeoPool_dn.wav'),\n",
       " PosixPath('/mnt/cube/j8xing/syntax_rhythm_pbb/data/interim/denoised/LS110395.9.28.2017PalmRagonesi_dn.wav')]"
      ]
     },
     "execution_count": 6,
     "metadata": {},
     "output_type": "execute_result"
    }
   ],
   "source": [
    "## grab a list of all the raw waveforms\n",
    "wav_list = list(rcd_loc.glob('*.wav')) + list (rcd_loc.glob('*.WAV'))\n",
    "\n",
    "# get number of rcds, display them in sorted order\n",
    "print('Discovered', len(wav_list), 'Recordings.')\n",
    "wav_list"
   ]
  },
  {
   "cell_type": "code",
   "execution_count": 7,
   "id": "b4e93d8d",
   "metadata": {},
   "outputs": [
    {
     "name": "stdout",
     "output_type": "stream",
     "text": [
      "Discovered 7 Textgrids.\n"
     ]
    },
    {
     "data": {
      "text/plain": [
       "[PosixPath('/mnt/cube/j8xing/syntax_rhythm_pbb/data/interim/tg/LS110593_9_8_2018Araluen_Bird22.TextGrid'),\n",
       " PosixPath('/mnt/cube/j8xing/syntax_rhythm_pbb/data/interim/tg/LS110136_10_10_2015GeoGreens_Bird5.TextGrid'),\n",
       " PosixPath('/mnt/cube/j8xing/syntax_rhythm_pbb/data/interim/tg/LS110143_10_12_2015GeoGreens_Bird5.TextGrid'),\n",
       " PosixPath('/mnt/cube/j8xing/syntax_rhythm_pbb/data/interim/tg/LS110640_10_1_2018Araluen_Bird22.TextGrid'),\n",
       " PosixPath('/mnt/cube/j8xing/syntax_rhythm_pbb/data/interim/tg/LS110131_10_9_2015GeoPool_Bird5.TextGrid'),\n",
       " PosixPath('/mnt/cube/j8xing/syntax_rhythm_pbb/data/interim/tg/LS110146A_10_13_2015GeoGreens_Bird5.TextGrid'),\n",
       " PosixPath('/mnt/cube/j8xing/syntax_rhythm_pbb/data/interim/tg/LS110395_9_28_2017PalmRagonesi_Bird26.TextGrid')]"
      ]
     },
     "execution_count": 7,
     "metadata": {},
     "output_type": "execute_result"
    }
   ],
   "source": [
    "## grab a list of all the textgrids\n",
    "tg_list = list(tg_loc.glob('*.TextGrid'))\n",
    "\n",
    "## get number of tgs, display them in sorted order\n",
    "print('Discovered', len(wav_list), 'Textgrids.')\n",
    "tg_list"
   ]
  },
  {
   "cell_type": "markdown",
   "id": "fc9913fc",
   "metadata": {},
   "source": [
    "## Extract Song Segmentation"
   ]
  },
  {
   "cell_type": "code",
   "execution_count": 8,
   "id": "9fa1f296",
   "metadata": {},
   "outputs": [
    {
     "name": "stdout",
     "output_type": "stream",
     "text": [
      "/mnt/cube/j8xing/syntax_rhythm_pbb/data/interim/denoised/LS110146A.10.13.2015GeoGreens_dn.wav\n"
     ]
    },
    {
     "data": {
      "application/vnd.jupyter.widget-view+json": {
       "model_id": "e927581898f74301af6c84b2a708a7e4",
       "version_major": 2,
       "version_minor": 0
      },
      "text/plain": [
       "  0%|          | 0/1 [00:00<?, ?it/s]"
      ]
     },
     "metadata": {},
     "output_type": "display_data"
    },
    {
     "data": {
      "application/vnd.jupyter.widget-view+json": {
       "model_id": "e437ae729f874a66a0cbf93a9a942944",
       "version_major": 2,
       "version_minor": 0
      },
      "text/plain": [
       "  0%|          | 0/489 [00:00<?, ?it/s]"
      ]
     },
     "metadata": {},
     "output_type": "display_data"
    },
    {
     "name": "stdout",
     "output_type": "stream",
     "text": [
      "/mnt/cube/j8xing/syntax_rhythm_pbb/data/interim/denoised/LS110593.9.8.2018Araluen_dn.wav\n"
     ]
    },
    {
     "data": {
      "application/vnd.jupyter.widget-view+json": {
       "model_id": "8ead94c5790e4bc595f83b502a4c19e9",
       "version_major": 2,
       "version_minor": 0
      },
      "text/plain": [
       "  0%|          | 0/1 [00:00<?, ?it/s]"
      ]
     },
     "metadata": {},
     "output_type": "display_data"
    },
    {
     "data": {
      "application/vnd.jupyter.widget-view+json": {
       "model_id": "014ab0cb0e94452caa990b00fe1505ff",
       "version_major": 2,
       "version_minor": 0
      },
      "text/plain": [
       "  0%|          | 0/431 [00:00<?, ?it/s]"
      ]
     },
     "metadata": {},
     "output_type": "display_data"
    },
    {
     "name": "stdout",
     "output_type": "stream",
     "text": [
      "/mnt/cube/j8xing/syntax_rhythm_pbb/data/interim/denoised/LS110640.10.1.2018Araluen_dn.wav\n"
     ]
    },
    {
     "data": {
      "application/vnd.jupyter.widget-view+json": {
       "model_id": "0ff8737d61dc45f48e48d5e6a2183a06",
       "version_major": 2,
       "version_minor": 0
      },
      "text/plain": [
       "  0%|          | 0/1 [00:00<?, ?it/s]"
      ]
     },
     "metadata": {},
     "output_type": "display_data"
    },
    {
     "data": {
      "application/vnd.jupyter.widget-view+json": {
       "model_id": "84f7ca0c73184dc89a7011198bc9b59c",
       "version_major": 2,
       "version_minor": 0
      },
      "text/plain": [
       "  0%|          | 0/218 [00:00<?, ?it/s]"
      ]
     },
     "metadata": {},
     "output_type": "display_data"
    },
    {
     "name": "stdout",
     "output_type": "stream",
     "text": [
      "/mnt/cube/j8xing/syntax_rhythm_pbb/data/interim/denoised/LS110143.10.12.2015GeoGreens_dn.wav\n"
     ]
    },
    {
     "data": {
      "application/vnd.jupyter.widget-view+json": {
       "model_id": "dfc5ef1224a3463abbe8c46fc76e74a6",
       "version_major": 2,
       "version_minor": 0
      },
      "text/plain": [
       "  0%|          | 0/1 [00:00<?, ?it/s]"
      ]
     },
     "metadata": {},
     "output_type": "display_data"
    },
    {
     "data": {
      "application/vnd.jupyter.widget-view+json": {
       "model_id": "23f4b9d325d3467fbacddf5f3cd2a8c9",
       "version_major": 2,
       "version_minor": 0
      },
      "text/plain": [
       "  0%|          | 0/457 [00:00<?, ?it/s]"
      ]
     },
     "metadata": {},
     "output_type": "display_data"
    },
    {
     "name": "stdout",
     "output_type": "stream",
     "text": [
      "/mnt/cube/j8xing/syntax_rhythm_pbb/data/interim/denoised/LS110136.10.10.2015GeoGreens_dn.wav\n"
     ]
    },
    {
     "data": {
      "application/vnd.jupyter.widget-view+json": {
       "model_id": "b052ef1eaa1b496087fbf48f5335621b",
       "version_major": 2,
       "version_minor": 0
      },
      "text/plain": [
       "  0%|          | 0/1 [00:00<?, ?it/s]"
      ]
     },
     "metadata": {},
     "output_type": "display_data"
    },
    {
     "data": {
      "application/vnd.jupyter.widget-view+json": {
       "model_id": "bb395bbe71444610a5ef65235bedabdd",
       "version_major": 2,
       "version_minor": 0
      },
      "text/plain": [
       "  0%|          | 0/373 [00:00<?, ?it/s]"
      ]
     },
     "metadata": {},
     "output_type": "display_data"
    },
    {
     "name": "stdout",
     "output_type": "stream",
     "text": [
      "/mnt/cube/j8xing/syntax_rhythm_pbb/data/interim/denoised/LS110131.10.9.2015GeoPool_dn.wav\n"
     ]
    },
    {
     "data": {
      "application/vnd.jupyter.widget-view+json": {
       "model_id": "0c766550990c4a93b355e2a27e32e8f5",
       "version_major": 2,
       "version_minor": 0
      },
      "text/plain": [
       "  0%|          | 0/1 [00:00<?, ?it/s]"
      ]
     },
     "metadata": {},
     "output_type": "display_data"
    },
    {
     "data": {
      "application/vnd.jupyter.widget-view+json": {
       "model_id": "11011eef57df49dba7efc7bcc7b39f6a",
       "version_major": 2,
       "version_minor": 0
      },
      "text/plain": [
       "  0%|          | 0/452 [00:00<?, ?it/s]"
      ]
     },
     "metadata": {},
     "output_type": "display_data"
    },
    {
     "name": "stdout",
     "output_type": "stream",
     "text": [
      "/mnt/cube/j8xing/syntax_rhythm_pbb/data/interim/denoised/LS110395.9.28.2017PalmRagonesi_dn.wav\n"
     ]
    },
    {
     "data": {
      "application/vnd.jupyter.widget-view+json": {
       "model_id": "7b1b83ccb6754147bb9e2d2371001f42",
       "version_major": 2,
       "version_minor": 0
      },
      "text/plain": [
       "  0%|          | 0/1 [00:00<?, ?it/s]"
      ]
     },
     "metadata": {},
     "output_type": "display_data"
    },
    {
     "data": {
      "application/vnd.jupyter.widget-view+json": {
       "model_id": "12b98e3e0c484fd4b64994db7025944b",
       "version_major": 2,
       "version_minor": 0
      },
      "text/plain": [
       "  0%|          | 0/1427 [00:00<?, ?it/s]"
      ]
     },
     "metadata": {},
     "output_type": "display_data"
    }
   ],
   "source": [
    "df_pbb = pd.concat([setup.song_to_df(wav_path, tg_loc) for wav_path in wav_list])"
   ]
  },
  {
   "cell_type": "code",
   "execution_count": 9,
   "id": "6d3e77c4",
   "metadata": {},
   "outputs": [
    {
     "data": {
      "text/html": [
       "<div>\n",
       "<style scoped>\n",
       "    .dataframe tbody tr th:only-of-type {\n",
       "        vertical-align: middle;\n",
       "    }\n",
       "\n",
       "    .dataframe tbody tr th {\n",
       "        vertical-align: top;\n",
       "    }\n",
       "\n",
       "    .dataframe thead th {\n",
       "        text-align: right;\n",
       "    }\n",
       "</style>\n",
       "<table border=\"1\" class=\"dataframe\">\n",
       "  <thead>\n",
       "    <tr style=\"text-align: right;\">\n",
       "      <th></th>\n",
       "      <th>tg_nm</th>\n",
       "      <th>bird_nm</th>\n",
       "      <th>phrase_nb</th>\n",
       "      <th>phrase_strt</th>\n",
       "      <th>phrase_end</th>\n",
       "      <th>phrase_len</th>\n",
       "      <th>note_cnt</th>\n",
       "      <th>note_nb</th>\n",
       "      <th>note_strt</th>\n",
       "      <th>note_end</th>\n",
       "      <th>note_len</th>\n",
       "    </tr>\n",
       "    <tr>\n",
       "      <th>wav_nm</th>\n",
       "      <th></th>\n",
       "      <th></th>\n",
       "      <th></th>\n",
       "      <th></th>\n",
       "      <th></th>\n",
       "      <th></th>\n",
       "      <th></th>\n",
       "      <th></th>\n",
       "      <th></th>\n",
       "      <th></th>\n",
       "      <th></th>\n",
       "    </tr>\n",
       "  </thead>\n",
       "  <tbody>\n",
       "    <tr>\n",
       "      <th>LS110146A.10.13.2015GeoGreens_dn</th>\n",
       "      <td>LS110146A_10_13_2015GeoGreens_Bird5.TextGrid</td>\n",
       "      <td>Bird5</td>\n",
       "      <td>0</td>\n",
       "      <td>798.450000</td>\n",
       "      <td>801.028235</td>\n",
       "      <td>2.578235</td>\n",
       "      <td>13</td>\n",
       "      <td>0</td>\n",
       "      <td>798.450000</td>\n",
       "      <td>798.590953</td>\n",
       "      <td>0.140953</td>\n",
       "    </tr>\n",
       "    <tr>\n",
       "      <th>LS110146A.10.13.2015GeoGreens_dn</th>\n",
       "      <td>LS110146A_10_13_2015GeoGreens_Bird5.TextGrid</td>\n",
       "      <td>Bird5</td>\n",
       "      <td>0</td>\n",
       "      <td>798.450000</td>\n",
       "      <td>801.028235</td>\n",
       "      <td>2.578235</td>\n",
       "      <td>13</td>\n",
       "      <td>1</td>\n",
       "      <td>798.710000</td>\n",
       "      <td>798.939041</td>\n",
       "      <td>0.229041</td>\n",
       "    </tr>\n",
       "    <tr>\n",
       "      <th>LS110146A.10.13.2015GeoGreens_dn</th>\n",
       "      <td>LS110146A_10_13_2015GeoGreens_Bird5.TextGrid</td>\n",
       "      <td>Bird5</td>\n",
       "      <td>0</td>\n",
       "      <td>798.450000</td>\n",
       "      <td>801.028235</td>\n",
       "      <td>2.578235</td>\n",
       "      <td>13</td>\n",
       "      <td>2</td>\n",
       "      <td>799.100000</td>\n",
       "      <td>799.154704</td>\n",
       "      <td>0.054704</td>\n",
       "    </tr>\n",
       "    <tr>\n",
       "      <th>LS110146A.10.13.2015GeoGreens_dn</th>\n",
       "      <td>LS110146A_10_13_2015GeoGreens_Bird5.TextGrid</td>\n",
       "      <td>Bird5</td>\n",
       "      <td>0</td>\n",
       "      <td>798.450000</td>\n",
       "      <td>801.028235</td>\n",
       "      <td>2.578235</td>\n",
       "      <td>13</td>\n",
       "      <td>3</td>\n",
       "      <td>799.211458</td>\n",
       "      <td>799.390000</td>\n",
       "      <td>0.178542</td>\n",
       "    </tr>\n",
       "    <tr>\n",
       "      <th>LS110146A.10.13.2015GeoGreens_dn</th>\n",
       "      <td>LS110146A_10_13_2015GeoGreens_Bird5.TextGrid</td>\n",
       "      <td>Bird5</td>\n",
       "      <td>0</td>\n",
       "      <td>798.450000</td>\n",
       "      <td>801.028235</td>\n",
       "      <td>2.578235</td>\n",
       "      <td>13</td>\n",
       "      <td>4</td>\n",
       "      <td>799.430000</td>\n",
       "      <td>799.840000</td>\n",
       "      <td>0.410000</td>\n",
       "    </tr>\n",
       "    <tr>\n",
       "      <th>...</th>\n",
       "      <td>...</td>\n",
       "      <td>...</td>\n",
       "      <td>...</td>\n",
       "      <td>...</td>\n",
       "      <td>...</td>\n",
       "      <td>...</td>\n",
       "      <td>...</td>\n",
       "      <td>...</td>\n",
       "      <td>...</td>\n",
       "      <td>...</td>\n",
       "      <td>...</td>\n",
       "    </tr>\n",
       "    <tr>\n",
       "      <th>LS110395.9.28.2017PalmRagonesi_dn</th>\n",
       "      <td>LS110395_9_28_2017PalmRagonesi_Bird26.TextGrid</td>\n",
       "      <td>Bird26</td>\n",
       "      <td>1426</td>\n",
       "      <td>7451.938961</td>\n",
       "      <td>7454.270021</td>\n",
       "      <td>2.331060</td>\n",
       "      <td>11</td>\n",
       "      <td>6</td>\n",
       "      <td>7453.230000</td>\n",
       "      <td>7453.347846</td>\n",
       "      <td>0.117846</td>\n",
       "    </tr>\n",
       "    <tr>\n",
       "      <th>LS110395.9.28.2017PalmRagonesi_dn</th>\n",
       "      <td>LS110395_9_28_2017PalmRagonesi_Bird26.TextGrid</td>\n",
       "      <td>Bird26</td>\n",
       "      <td>1426</td>\n",
       "      <td>7451.938961</td>\n",
       "      <td>7454.270021</td>\n",
       "      <td>2.331060</td>\n",
       "      <td>11</td>\n",
       "      <td>7</td>\n",
       "      <td>7453.430000</td>\n",
       "      <td>7453.582862</td>\n",
       "      <td>0.152862</td>\n",
       "    </tr>\n",
       "    <tr>\n",
       "      <th>LS110395.9.28.2017PalmRagonesi_dn</th>\n",
       "      <td>LS110395_9_28_2017PalmRagonesi_Bird26.TextGrid</td>\n",
       "      <td>Bird26</td>\n",
       "      <td>1426</td>\n",
       "      <td>7451.938961</td>\n",
       "      <td>7454.270021</td>\n",
       "      <td>2.331060</td>\n",
       "      <td>11</td>\n",
       "      <td>8</td>\n",
       "      <td>7453.582862</td>\n",
       "      <td>7453.644792</td>\n",
       "      <td>0.061930</td>\n",
       "    </tr>\n",
       "    <tr>\n",
       "      <th>LS110395.9.28.2017PalmRagonesi_dn</th>\n",
       "      <td>LS110395_9_28_2017PalmRagonesi_Bird26.TextGrid</td>\n",
       "      <td>Bird26</td>\n",
       "      <td>1426</td>\n",
       "      <td>7451.938961</td>\n",
       "      <td>7454.270021</td>\n",
       "      <td>2.331060</td>\n",
       "      <td>11</td>\n",
       "      <td>9</td>\n",
       "      <td>7453.786119</td>\n",
       "      <td>7453.917918</td>\n",
       "      <td>0.131800</td>\n",
       "    </tr>\n",
       "    <tr>\n",
       "      <th>LS110395.9.28.2017PalmRagonesi_dn</th>\n",
       "      <td>LS110395_9_28_2017PalmRagonesi_Bird26.TextGrid</td>\n",
       "      <td>Bird26</td>\n",
       "      <td>1426</td>\n",
       "      <td>7451.938961</td>\n",
       "      <td>7454.270021</td>\n",
       "      <td>2.331060</td>\n",
       "      <td>11</td>\n",
       "      <td>10</td>\n",
       "      <td>7454.046542</td>\n",
       "      <td>7454.270021</td>\n",
       "      <td>0.223479</td>\n",
       "    </tr>\n",
       "  </tbody>\n",
       "</table>\n",
       "<p>31767 rows × 11 columns</p>\n",
       "</div>"
      ],
      "text/plain": [
       "                                                                            tg_nm  \\\n",
       "wav_nm                                                                              \n",
       "LS110146A.10.13.2015GeoGreens_dn     LS110146A_10_13_2015GeoGreens_Bird5.TextGrid   \n",
       "LS110146A.10.13.2015GeoGreens_dn     LS110146A_10_13_2015GeoGreens_Bird5.TextGrid   \n",
       "LS110146A.10.13.2015GeoGreens_dn     LS110146A_10_13_2015GeoGreens_Bird5.TextGrid   \n",
       "LS110146A.10.13.2015GeoGreens_dn     LS110146A_10_13_2015GeoGreens_Bird5.TextGrid   \n",
       "LS110146A.10.13.2015GeoGreens_dn     LS110146A_10_13_2015GeoGreens_Bird5.TextGrid   \n",
       "...                                                                           ...   \n",
       "LS110395.9.28.2017PalmRagonesi_dn  LS110395_9_28_2017PalmRagonesi_Bird26.TextGrid   \n",
       "LS110395.9.28.2017PalmRagonesi_dn  LS110395_9_28_2017PalmRagonesi_Bird26.TextGrid   \n",
       "LS110395.9.28.2017PalmRagonesi_dn  LS110395_9_28_2017PalmRagonesi_Bird26.TextGrid   \n",
       "LS110395.9.28.2017PalmRagonesi_dn  LS110395_9_28_2017PalmRagonesi_Bird26.TextGrid   \n",
       "LS110395.9.28.2017PalmRagonesi_dn  LS110395_9_28_2017PalmRagonesi_Bird26.TextGrid   \n",
       "\n",
       "                                  bird_nm  phrase_nb  phrase_strt  \\\n",
       "wav_nm                                                              \n",
       "LS110146A.10.13.2015GeoGreens_dn    Bird5          0   798.450000   \n",
       "LS110146A.10.13.2015GeoGreens_dn    Bird5          0   798.450000   \n",
       "LS110146A.10.13.2015GeoGreens_dn    Bird5          0   798.450000   \n",
       "LS110146A.10.13.2015GeoGreens_dn    Bird5          0   798.450000   \n",
       "LS110146A.10.13.2015GeoGreens_dn    Bird5          0   798.450000   \n",
       "...                                   ...        ...          ...   \n",
       "LS110395.9.28.2017PalmRagonesi_dn  Bird26       1426  7451.938961   \n",
       "LS110395.9.28.2017PalmRagonesi_dn  Bird26       1426  7451.938961   \n",
       "LS110395.9.28.2017PalmRagonesi_dn  Bird26       1426  7451.938961   \n",
       "LS110395.9.28.2017PalmRagonesi_dn  Bird26       1426  7451.938961   \n",
       "LS110395.9.28.2017PalmRagonesi_dn  Bird26       1426  7451.938961   \n",
       "\n",
       "                                    phrase_end  phrase_len  note_cnt  note_nb  \\\n",
       "wav_nm                                                                          \n",
       "LS110146A.10.13.2015GeoGreens_dn    801.028235    2.578235        13        0   \n",
       "LS110146A.10.13.2015GeoGreens_dn    801.028235    2.578235        13        1   \n",
       "LS110146A.10.13.2015GeoGreens_dn    801.028235    2.578235        13        2   \n",
       "LS110146A.10.13.2015GeoGreens_dn    801.028235    2.578235        13        3   \n",
       "LS110146A.10.13.2015GeoGreens_dn    801.028235    2.578235        13        4   \n",
       "...                                        ...         ...       ...      ...   \n",
       "LS110395.9.28.2017PalmRagonesi_dn  7454.270021    2.331060        11        6   \n",
       "LS110395.9.28.2017PalmRagonesi_dn  7454.270021    2.331060        11        7   \n",
       "LS110395.9.28.2017PalmRagonesi_dn  7454.270021    2.331060        11        8   \n",
       "LS110395.9.28.2017PalmRagonesi_dn  7454.270021    2.331060        11        9   \n",
       "LS110395.9.28.2017PalmRagonesi_dn  7454.270021    2.331060        11       10   \n",
       "\n",
       "                                     note_strt     note_end  note_len  \n",
       "wav_nm                                                                 \n",
       "LS110146A.10.13.2015GeoGreens_dn    798.450000   798.590953  0.140953  \n",
       "LS110146A.10.13.2015GeoGreens_dn    798.710000   798.939041  0.229041  \n",
       "LS110146A.10.13.2015GeoGreens_dn    799.100000   799.154704  0.054704  \n",
       "LS110146A.10.13.2015GeoGreens_dn    799.211458   799.390000  0.178542  \n",
       "LS110146A.10.13.2015GeoGreens_dn    799.430000   799.840000  0.410000  \n",
       "...                                        ...          ...       ...  \n",
       "LS110395.9.28.2017PalmRagonesi_dn  7453.230000  7453.347846  0.117846  \n",
       "LS110395.9.28.2017PalmRagonesi_dn  7453.430000  7453.582862  0.152862  \n",
       "LS110395.9.28.2017PalmRagonesi_dn  7453.582862  7453.644792  0.061930  \n",
       "LS110395.9.28.2017PalmRagonesi_dn  7453.786119  7453.917918  0.131800  \n",
       "LS110395.9.28.2017PalmRagonesi_dn  7454.046542  7454.270021  0.223479  \n",
       "\n",
       "[31767 rows x 11 columns]"
      ]
     },
     "execution_count": 9,
     "metadata": {},
     "output_type": "execute_result"
    }
   ],
   "source": [
    "df_pbb"
   ]
  },
  {
   "cell_type": "markdown",
   "id": "0bd28c66",
   "metadata": {},
   "source": [
    "## Convert df_pbb into JSON for AVGN"
   ]
  },
  {
   "cell_type": "code",
   "execution_count": 10,
   "id": "cf1d7dba",
   "metadata": {},
   "outputs": [
    {
     "name": "stdout",
     "output_type": "stream",
     "text": [
      "/mnt/cube/j8xing/syntax_rhythm_pbb/data/interim/denoised/LS110146A.10.13.2015GeoGreens_dn.wav\n",
      "/mnt/cube/j8xing/syntax_rhythm_pbb/data/interim/denoised/LS110593.9.8.2018Araluen_dn.wav\n",
      "/mnt/cube/j8xing/syntax_rhythm_pbb/data/interim/denoised/LS110640.10.1.2018Araluen_dn.wav\n",
      "/mnt/cube/j8xing/syntax_rhythm_pbb/data/interim/denoised/LS110143.10.12.2015GeoGreens_dn.wav\n",
      "/mnt/cube/j8xing/syntax_rhythm_pbb/data/interim/denoised/LS110136.10.10.2015GeoGreens_dn.wav\n",
      "/mnt/cube/j8xing/syntax_rhythm_pbb/data/interim/denoised/LS110131.10.9.2015GeoPool_dn.wav\n"
     ]
    },
    {
     "name": "stderr",
     "output_type": "stream",
     "text": [
      "/home/AD/j8xing/syntax_rhythm_pbb/butcherbird/data/setup.py:243: WavFileWarning: Chunk (non-data) not understood, skipping it.\n",
      "  json_dict[\"lengths_s\"] = len(read(wav_path)[1])\n"
     ]
    },
    {
     "name": "stdout",
     "output_type": "stream",
     "text": [
      "/mnt/cube/j8xing/syntax_rhythm_pbb/data/interim/denoised/LS110395.9.28.2017PalmRagonesi_dn.wav\n"
     ]
    },
    {
     "name": "stderr",
     "output_type": "stream",
     "text": [
      "/home/AD/j8xing/syntax_rhythm_pbb/butcherbird/data/setup.py:57: WavFileWarning: Chunk (non-data) not understood, skipping it.\n",
      "  return read(wav_path)[0]\n"
     ]
    }
   ],
   "source": [
    "## write every wav's json\n",
    "for wav_path in wav_list:\n",
    "    setup.wav_to_json(df_pbb, DATASET_ID, DT_ID, wav_path, tg_loc)"
   ]
  }
 ],
 "metadata": {
  "kernelspec": {
   "display_name": "pbb",
   "language": "python",
   "name": "pbb"
  },
  "language_info": {
   "codemirror_mode": {
    "name": "ipython",
    "version": 3
   },
   "file_extension": ".py",
   "mimetype": "text/x-python",
   "name": "python",
   "nbconvert_exporter": "python",
   "pygments_lexer": "ipython3",
   "version": "3.10.0"
  }
 },
 "nbformat": 4,
 "nbformat_minor": 5
}
