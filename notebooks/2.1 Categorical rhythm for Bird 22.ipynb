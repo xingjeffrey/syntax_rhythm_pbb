{
 "cells": [
  {
   "cell_type": "markdown",
   "id": "01607931",
   "metadata": {},
   "source": [
    "***\n",
    "# 2.1 Categorical rhythm for Bird 22\n",
    "### JX, 03/08/2022\n",
    "***\n",
    "\n",
    "    Bird22:\n",
    "    LS110593.9.8.2018Araluen.WAV\n",
    "    LS110640.10.1.2018Araluen.WAV\n",
    "    \n",
    "***"
   ]
  },
  {
   "cell_type": "markdown",
   "id": "aa770fa7",
   "metadata": {},
   "source": [
    "## Specify Locations"
   ]
  },
  {
   "cell_type": "code",
   "execution_count": 1,
   "id": "30590551",
   "metadata": {},
   "outputs": [],
   "source": [
    "from butcherbird.utils.paths import DATA_DIR"
   ]
  },
  {
   "cell_type": "code",
   "execution_count": 2,
   "id": "d4375558",
   "metadata": {},
   "outputs": [],
   "source": [
    "indv = \"Bird22\""
   ]
  },
  {
   "cell_type": "code",
   "execution_count": 3,
   "id": "153564ba",
   "metadata": {},
   "outputs": [],
   "source": [
    "SAVE_LOC = DATA_DIR/'interim/raw_spectrogram/butcherbird_note_df.pickle'"
   ]
  },
  {
   "cell_type": "markdown",
   "id": "1dbc2310",
   "metadata": {},
   "source": [
    "## Load in Data"
   ]
  },
  {
   "cell_type": "code",
   "execution_count": 4,
   "id": "247a2acc",
   "metadata": {},
   "outputs": [],
   "source": [
    "import pandas as pd"
   ]
  },
  {
   "cell_type": "code",
   "execution_count": 5,
   "id": "4ffd65d8",
   "metadata": {},
   "outputs": [],
   "source": [
    "note_df = pd.read_pickle(SAVE_LOC)"
   ]
  },
  {
   "cell_type": "code",
   "execution_count": 6,
   "id": "478a4eaf",
   "metadata": {},
   "outputs": [],
   "source": [
    "indv_df = note_df[note_df['indv'] == indv].reset_index()"
   ]
  },
  {
   "cell_type": "code",
   "execution_count": 7,
   "id": "4def7083",
   "metadata": {},
   "outputs": [
    {
     "data": {
      "text/html": [
       "<div>\n",
       "<style scoped>\n",
       "    .dataframe tbody tr th:only-of-type {\n",
       "        vertical-align: middle;\n",
       "    }\n",
       "\n",
       "    .dataframe tbody tr th {\n",
       "        vertical-align: top;\n",
       "    }\n",
       "\n",
       "    .dataframe thead th {\n",
       "        text-align: right;\n",
       "    }\n",
       "</style>\n",
       "<table border=\"1\" class=\"dataframe\">\n",
       "  <thead>\n",
       "    <tr style=\"text-align: right;\">\n",
       "      <th></th>\n",
       "      <th>index</th>\n",
       "      <th>phrase_nb</th>\n",
       "      <th>phrase_strt</th>\n",
       "      <th>phrase_end</th>\n",
       "      <th>phrase_len</th>\n",
       "      <th>note_cnt</th>\n",
       "      <th>note_nb</th>\n",
       "      <th>note_strt</th>\n",
       "      <th>note_end</th>\n",
       "      <th>note_len</th>\n",
       "      <th>indv</th>\n",
       "      <th>indvi</th>\n",
       "      <th>key</th>\n",
       "      <th>audio</th>\n",
       "      <th>rate</th>\n",
       "      <th>spectrogram</th>\n",
       "    </tr>\n",
       "  </thead>\n",
       "  <tbody>\n",
       "    <tr>\n",
       "      <th>0</th>\n",
       "      <td>0</td>\n",
       "      <td>0</td>\n",
       "      <td>2.370000</td>\n",
       "      <td>4.240000</td>\n",
       "      <td>1.870000</td>\n",
       "      <td>8</td>\n",
       "      <td>0</td>\n",
       "      <td>2.370000</td>\n",
       "      <td>2.415699</td>\n",
       "      <td>0.045699</td>\n",
       "      <td>Bird22</td>\n",
       "      <td>0</td>\n",
       "      <td>LS110593.9.8.2018Araluen_dn</td>\n",
       "      <td>[0.0, -5.558967174674641e-06, -5.2225732263302...</td>\n",
       "      <td>48000</td>\n",
       "      <td>[[0, 0, 0, 0, 0, 0, 0, 0, 0, 0, 0, 0, 0, 0, 0,...</td>\n",
       "    </tr>\n",
       "    <tr>\n",
       "      <th>1</th>\n",
       "      <td>1</td>\n",
       "      <td>0</td>\n",
       "      <td>2.370000</td>\n",
       "      <td>4.240000</td>\n",
       "      <td>1.870000</td>\n",
       "      <td>8</td>\n",
       "      <td>1</td>\n",
       "      <td>2.660000</td>\n",
       "      <td>2.977558</td>\n",
       "      <td>0.317558</td>\n",
       "      <td>Bird22</td>\n",
       "      <td>0</td>\n",
       "      <td>LS110593.9.8.2018Araluen_dn</td>\n",
       "      <td>[0.0, 3.069944854750729e-05, 4.037410245845782...</td>\n",
       "      <td>48000</td>\n",
       "      <td>[[0, 0, 0, 0, 0, 0, 0, 0, 0, 0, 0, 0, 0, 0, 0,...</td>\n",
       "    </tr>\n",
       "    <tr>\n",
       "      <th>2</th>\n",
       "      <td>2</td>\n",
       "      <td>0</td>\n",
       "      <td>2.370000</td>\n",
       "      <td>4.240000</td>\n",
       "      <td>1.870000</td>\n",
       "      <td>8</td>\n",
       "      <td>2</td>\n",
       "      <td>3.079714</td>\n",
       "      <td>3.173357</td>\n",
       "      <td>0.093643</td>\n",
       "      <td>Bird22</td>\n",
       "      <td>0</td>\n",
       "      <td>LS110593.9.8.2018Araluen_dn</td>\n",
       "      <td>[0.0, 0.0030796517861769505, 0.008741865222086...</td>\n",
       "      <td>48000</td>\n",
       "      <td>[[0, 0, 0, 0, 0, 0, 0, 0, 0, 0, 0, 0, 0, 0, 0,...</td>\n",
       "    </tr>\n",
       "    <tr>\n",
       "      <th>3</th>\n",
       "      <td>3</td>\n",
       "      <td>0</td>\n",
       "      <td>2.370000</td>\n",
       "      <td>4.240000</td>\n",
       "      <td>1.870000</td>\n",
       "      <td>8</td>\n",
       "      <td>3</td>\n",
       "      <td>3.260000</td>\n",
       "      <td>3.581982</td>\n",
       "      <td>0.321982</td>\n",
       "      <td>Bird22</td>\n",
       "      <td>0</td>\n",
       "      <td>LS110593.9.8.2018Araluen_dn</td>\n",
       "      <td>[-0.0, -0.00020854328852771913, -0.00037995893...</td>\n",
       "      <td>48000</td>\n",
       "      <td>[[0, 0, 0, 0, 0, 0, 0, 0, 0, 0, 0, 0, 0, 0, 0,...</td>\n",
       "    </tr>\n",
       "    <tr>\n",
       "      <th>4</th>\n",
       "      <td>4</td>\n",
       "      <td>0</td>\n",
       "      <td>2.370000</td>\n",
       "      <td>4.240000</td>\n",
       "      <td>1.870000</td>\n",
       "      <td>8</td>\n",
       "      <td>4</td>\n",
       "      <td>3.664275</td>\n",
       "      <td>3.718191</td>\n",
       "      <td>0.053916</td>\n",
       "      <td>Bird22</td>\n",
       "      <td>0</td>\n",
       "      <td>LS110593.9.8.2018Araluen_dn</td>\n",
       "      <td>[-0.0, -0.0018707999847079283, -0.003892325714...</td>\n",
       "      <td>48000</td>\n",
       "      <td>[[0, 0, 0, 0, 0, 0, 0, 0, 0, 0, 0, 0, 0, 0, 0,...</td>\n",
       "    </tr>\n",
       "    <tr>\n",
       "      <th>...</th>\n",
       "      <td>...</td>\n",
       "      <td>...</td>\n",
       "      <td>...</td>\n",
       "      <td>...</td>\n",
       "      <td>...</td>\n",
       "      <td>...</td>\n",
       "      <td>...</td>\n",
       "      <td>...</td>\n",
       "      <td>...</td>\n",
       "      <td>...</td>\n",
       "      <td>...</td>\n",
       "      <td>...</td>\n",
       "      <td>...</td>\n",
       "      <td>...</td>\n",
       "      <td>...</td>\n",
       "      <td>...</td>\n",
       "    </tr>\n",
       "    <tr>\n",
       "      <th>3566</th>\n",
       "      <td>1077</td>\n",
       "      <td>216</td>\n",
       "      <td>7449.073765</td>\n",
       "      <td>7451.014733</td>\n",
       "      <td>1.940968</td>\n",
       "      <td>5</td>\n",
       "      <td>2</td>\n",
       "      <td>7449.909933</td>\n",
       "      <td>7450.602325</td>\n",
       "      <td>0.692392</td>\n",
       "      <td>Bird22</td>\n",
       "      <td>0</td>\n",
       "      <td>LS110640.10.1.2018Araluen_dn</td>\n",
       "      <td>[-0.0, -2.140440722621177e-07, -3.212511081611...</td>\n",
       "      <td>48000</td>\n",
       "      <td>[[0, 0, 0, 0, 0, 0, 0, 0, 0, 0, 0, 0, 0, 0, 0,...</td>\n",
       "    </tr>\n",
       "    <tr>\n",
       "      <th>3567</th>\n",
       "      <td>1078</td>\n",
       "      <td>216</td>\n",
       "      <td>7449.073765</td>\n",
       "      <td>7451.014733</td>\n",
       "      <td>1.940968</td>\n",
       "      <td>5</td>\n",
       "      <td>3</td>\n",
       "      <td>7450.606109</td>\n",
       "      <td>7450.790000</td>\n",
       "      <td>0.183891</td>\n",
       "      <td>Bird22</td>\n",
       "      <td>0</td>\n",
       "      <td>LS110640.10.1.2018Araluen_dn</td>\n",
       "      <td>[0.0, 6.060969809557767e-05, 0.000226911032359...</td>\n",
       "      <td>48000</td>\n",
       "      <td>[[0, 0, 0, 0, 0, 0, 0, 0, 0, 0, 0, 0, 0, 0, 0,...</td>\n",
       "    </tr>\n",
       "    <tr>\n",
       "      <th>3568</th>\n",
       "      <td>1079</td>\n",
       "      <td>216</td>\n",
       "      <td>7449.073765</td>\n",
       "      <td>7451.014733</td>\n",
       "      <td>1.940968</td>\n",
       "      <td>5</td>\n",
       "      <td>4</td>\n",
       "      <td>7450.880000</td>\n",
       "      <td>7451.014733</td>\n",
       "      <td>0.134733</td>\n",
       "      <td>Bird22</td>\n",
       "      <td>0</td>\n",
       "      <td>LS110640.10.1.2018Araluen_dn</td>\n",
       "      <td>[-0.0, -0.0002617451218550637, -0.000495686777...</td>\n",
       "      <td>48000</td>\n",
       "      <td>[[0, 0, 0, 0, 0, 0, 0, 0, 0, 0, 0, 0, 0, 0, 0,...</td>\n",
       "    </tr>\n",
       "    <tr>\n",
       "      <th>3569</th>\n",
       "      <td>1080</td>\n",
       "      <td>217</td>\n",
       "      <td>7455.220000</td>\n",
       "      <td>7455.855543</td>\n",
       "      <td>0.635543</td>\n",
       "      <td>2</td>\n",
       "      <td>0</td>\n",
       "      <td>7455.220000</td>\n",
       "      <td>7455.440000</td>\n",
       "      <td>0.220000</td>\n",
       "      <td>Bird22</td>\n",
       "      <td>0</td>\n",
       "      <td>LS110640.10.1.2018Araluen_dn</td>\n",
       "      <td>[0.0, 4.403572842078721e-05, 6.391323052796741...</td>\n",
       "      <td>48000</td>\n",
       "      <td>[[0, 0, 0, 0, 0, 0, 0, 0, 0, 0, 0, 0, 0, 0, 0,...</td>\n",
       "    </tr>\n",
       "    <tr>\n",
       "      <th>3570</th>\n",
       "      <td>1081</td>\n",
       "      <td>217</td>\n",
       "      <td>7455.220000</td>\n",
       "      <td>7455.855543</td>\n",
       "      <td>0.635543</td>\n",
       "      <td>2</td>\n",
       "      <td>1</td>\n",
       "      <td>7455.670000</td>\n",
       "      <td>7455.855543</td>\n",
       "      <td>0.185543</td>\n",
       "      <td>Bird22</td>\n",
       "      <td>0</td>\n",
       "      <td>LS110640.10.1.2018Araluen_dn</td>\n",
       "      <td>[0.0, 1.7624285897152536e-05, 1.44506010833202...</td>\n",
       "      <td>48000</td>\n",
       "      <td>[[0, 0, 0, 0, 0, 0, 0, 0, 0, 0, 0, 0, 0, 0, 0,...</td>\n",
       "    </tr>\n",
       "  </tbody>\n",
       "</table>\n",
       "<p>3571 rows × 16 columns</p>\n",
       "</div>"
      ],
      "text/plain": [
       "      index  phrase_nb  phrase_strt   phrase_end  phrase_len  note_cnt  \\\n",
       "0         0          0     2.370000     4.240000    1.870000         8   \n",
       "1         1          0     2.370000     4.240000    1.870000         8   \n",
       "2         2          0     2.370000     4.240000    1.870000         8   \n",
       "3         3          0     2.370000     4.240000    1.870000         8   \n",
       "4         4          0     2.370000     4.240000    1.870000         8   \n",
       "...     ...        ...          ...          ...         ...       ...   \n",
       "3566   1077        216  7449.073765  7451.014733    1.940968         5   \n",
       "3567   1078        216  7449.073765  7451.014733    1.940968         5   \n",
       "3568   1079        216  7449.073765  7451.014733    1.940968         5   \n",
       "3569   1080        217  7455.220000  7455.855543    0.635543         2   \n",
       "3570   1081        217  7455.220000  7455.855543    0.635543         2   \n",
       "\n",
       "      note_nb    note_strt     note_end  note_len    indv  indvi  \\\n",
       "0           0     2.370000     2.415699  0.045699  Bird22      0   \n",
       "1           1     2.660000     2.977558  0.317558  Bird22      0   \n",
       "2           2     3.079714     3.173357  0.093643  Bird22      0   \n",
       "3           3     3.260000     3.581982  0.321982  Bird22      0   \n",
       "4           4     3.664275     3.718191  0.053916  Bird22      0   \n",
       "...       ...          ...          ...       ...     ...    ...   \n",
       "3566        2  7449.909933  7450.602325  0.692392  Bird22      0   \n",
       "3567        3  7450.606109  7450.790000  0.183891  Bird22      0   \n",
       "3568        4  7450.880000  7451.014733  0.134733  Bird22      0   \n",
       "3569        0  7455.220000  7455.440000  0.220000  Bird22      0   \n",
       "3570        1  7455.670000  7455.855543  0.185543  Bird22      0   \n",
       "\n",
       "                               key  \\\n",
       "0      LS110593.9.8.2018Araluen_dn   \n",
       "1      LS110593.9.8.2018Araluen_dn   \n",
       "2      LS110593.9.8.2018Araluen_dn   \n",
       "3      LS110593.9.8.2018Araluen_dn   \n",
       "4      LS110593.9.8.2018Araluen_dn   \n",
       "...                            ...   \n",
       "3566  LS110640.10.1.2018Araluen_dn   \n",
       "3567  LS110640.10.1.2018Araluen_dn   \n",
       "3568  LS110640.10.1.2018Araluen_dn   \n",
       "3569  LS110640.10.1.2018Araluen_dn   \n",
       "3570  LS110640.10.1.2018Araluen_dn   \n",
       "\n",
       "                                                  audio   rate  \\\n",
       "0     [0.0, -5.558967174674641e-06, -5.2225732263302...  48000   \n",
       "1     [0.0, 3.069944854750729e-05, 4.037410245845782...  48000   \n",
       "2     [0.0, 0.0030796517861769505, 0.008741865222086...  48000   \n",
       "3     [-0.0, -0.00020854328852771913, -0.00037995893...  48000   \n",
       "4     [-0.0, -0.0018707999847079283, -0.003892325714...  48000   \n",
       "...                                                 ...    ...   \n",
       "3566  [-0.0, -2.140440722621177e-07, -3.212511081611...  48000   \n",
       "3567  [0.0, 6.060969809557767e-05, 0.000226911032359...  48000   \n",
       "3568  [-0.0, -0.0002617451218550637, -0.000495686777...  48000   \n",
       "3569  [0.0, 4.403572842078721e-05, 6.391323052796741...  48000   \n",
       "3570  [0.0, 1.7624285897152536e-05, 1.44506010833202...  48000   \n",
       "\n",
       "                                            spectrogram  \n",
       "0     [[0, 0, 0, 0, 0, 0, 0, 0, 0, 0, 0, 0, 0, 0, 0,...  \n",
       "1     [[0, 0, 0, 0, 0, 0, 0, 0, 0, 0, 0, 0, 0, 0, 0,...  \n",
       "2     [[0, 0, 0, 0, 0, 0, 0, 0, 0, 0, 0, 0, 0, 0, 0,...  \n",
       "3     [[0, 0, 0, 0, 0, 0, 0, 0, 0, 0, 0, 0, 0, 0, 0,...  \n",
       "4     [[0, 0, 0, 0, 0, 0, 0, 0, 0, 0, 0, 0, 0, 0, 0,...  \n",
       "...                                                 ...  \n",
       "3566  [[0, 0, 0, 0, 0, 0, 0, 0, 0, 0, 0, 0, 0, 0, 0,...  \n",
       "3567  [[0, 0, 0, 0, 0, 0, 0, 0, 0, 0, 0, 0, 0, 0, 0,...  \n",
       "3568  [[0, 0, 0, 0, 0, 0, 0, 0, 0, 0, 0, 0, 0, 0, 0,...  \n",
       "3569  [[0, 0, 0, 0, 0, 0, 0, 0, 0, 0, 0, 0, 0, 0, 0,...  \n",
       "3570  [[0, 0, 0, 0, 0, 0, 0, 0, 0, 0, 0, 0, 0, 0, 0,...  \n",
       "\n",
       "[3571 rows x 16 columns]"
      ]
     },
     "execution_count": 7,
     "metadata": {},
     "output_type": "execute_result"
    }
   ],
   "source": [
    "indv_df"
   ]
  },
  {
   "cell_type": "markdown",
   "id": "0ef649c5",
   "metadata": {},
   "source": [
    "## Calculate Empirical Rhythm"
   ]
  },
  {
   "cell_type": "code",
   "execution_count": 8,
   "id": "c3a3cfed",
   "metadata": {},
   "outputs": [
    {
     "name": "stderr",
     "output_type": "stream",
     "text": [
      "/home/AD/j8xing/syntax_rhythm_pbb/butcherbird/rhythm.py:151: TqdmExperimentalWarning: Using `tqdm.autonotebook.tqdm` in notebook mode. Use `tqdm.tqdm` instead to force console mode (e.g. in jupyter console)\n",
      "  from tqdm.autonotebook import tqdm\n"
     ]
    }
   ],
   "source": [
    "import butcherbird.rhythm as rhythm\n",
    "import seaborn as sns"
   ]
  },
  {
   "cell_type": "code",
   "execution_count": 9,
   "id": "a2e29cdc",
   "metadata": {},
   "outputs": [],
   "source": [
    "dyadic = rhythm.construct_rhythm_df(\n",
    "    onsets = indv_df['note_strt'], \n",
    "    syntactic_units = indv_df['indv'], \n",
    "    expected_interval_range = [0, 1]\n",
    ")"
   ]
  },
  {
   "cell_type": "code",
   "execution_count": 10,
   "id": "8db7d7df",
   "metadata": {
    "scrolled": false
   },
   "outputs": [
    {
     "data": {
      "text/html": [
       "<div>\n",
       "<style scoped>\n",
       "    .dataframe tbody tr th:only-of-type {\n",
       "        vertical-align: middle;\n",
       "    }\n",
       "\n",
       "    .dataframe tbody tr th {\n",
       "        vertical-align: top;\n",
       "    }\n",
       "\n",
       "    .dataframe thead th {\n",
       "        text-align: right;\n",
       "    }\n",
       "</style>\n",
       "<table border=\"1\" class=\"dataframe\">\n",
       "  <thead>\n",
       "    <tr style=\"text-align: right;\">\n",
       "      <th></th>\n",
       "      <th>intervals1</th>\n",
       "      <th>intervals2</th>\n",
       "      <th>label1</th>\n",
       "      <th>label2</th>\n",
       "      <th>label3</th>\n",
       "      <th>s_interval</th>\n",
       "      <th>l_interval</th>\n",
       "      <th>cycle_dur</th>\n",
       "      <th>ratio_roeske</th>\n",
       "      <th>ratio_custom</th>\n",
       "      <th>cycle_rank</th>\n",
       "    </tr>\n",
       "  </thead>\n",
       "  <tbody>\n",
       "    <tr>\n",
       "      <th>746</th>\n",
       "      <td>0.018920</td>\n",
       "      <td>0.015573</td>\n",
       "      <td>Bird22</td>\n",
       "      <td>Bird22</td>\n",
       "      <td>Bird22</td>\n",
       "      <td>0.015573</td>\n",
       "      <td>0.018920</td>\n",
       "      <td>0.034493</td>\n",
       "      <td>0.548518</td>\n",
       "      <td>0.823094</td>\n",
       "      <td>1</td>\n",
       "    </tr>\n",
       "    <tr>\n",
       "      <th>1275</th>\n",
       "      <td>0.049143</td>\n",
       "      <td>0.007020</td>\n",
       "      <td>Bird22</td>\n",
       "      <td>Bird22</td>\n",
       "      <td>Bird22</td>\n",
       "      <td>0.007020</td>\n",
       "      <td>0.049143</td>\n",
       "      <td>0.056163</td>\n",
       "      <td>0.875000</td>\n",
       "      <td>0.142857</td>\n",
       "      <td>2</td>\n",
       "    </tr>\n",
       "    <tr>\n",
       "      <th>2146</th>\n",
       "      <td>0.054145</td>\n",
       "      <td>0.019306</td>\n",
       "      <td>Bird22</td>\n",
       "      <td>Bird22</td>\n",
       "      <td>Bird22</td>\n",
       "      <td>0.019306</td>\n",
       "      <td>0.054145</td>\n",
       "      <td>0.073452</td>\n",
       "      <td>0.737159</td>\n",
       "      <td>0.356560</td>\n",
       "      <td>3</td>\n",
       "    </tr>\n",
       "    <tr>\n",
       "      <th>12</th>\n",
       "      <td>0.042565</td>\n",
       "      <td>0.048240</td>\n",
       "      <td>Bird22</td>\n",
       "      <td>Bird22</td>\n",
       "      <td>Bird22</td>\n",
       "      <td>0.042565</td>\n",
       "      <td>0.048240</td>\n",
       "      <td>0.090806</td>\n",
       "      <td>0.468750</td>\n",
       "      <td>0.882353</td>\n",
       "      <td>4</td>\n",
       "    </tr>\n",
       "    <tr>\n",
       "      <th>2634</th>\n",
       "      <td>0.055795</td>\n",
       "      <td>0.056753</td>\n",
       "      <td>Bird22</td>\n",
       "      <td>Bird22</td>\n",
       "      <td>Bird22</td>\n",
       "      <td>0.055795</td>\n",
       "      <td>0.056753</td>\n",
       "      <td>0.112549</td>\n",
       "      <td>0.495744</td>\n",
       "      <td>0.983118</td>\n",
       "      <td>5</td>\n",
       "    </tr>\n",
       "    <tr>\n",
       "      <th>...</th>\n",
       "      <td>...</td>\n",
       "      <td>...</td>\n",
       "      <td>...</td>\n",
       "      <td>...</td>\n",
       "      <td>...</td>\n",
       "      <td>...</td>\n",
       "      <td>...</td>\n",
       "      <td>...</td>\n",
       "      <td>...</td>\n",
       "      <td>...</td>\n",
       "      <td>...</td>\n",
       "    </tr>\n",
       "    <tr>\n",
       "      <th>509</th>\n",
       "      <td>0.555021</td>\n",
       "      <td>0.895000</td>\n",
       "      <td>Bird22</td>\n",
       "      <td>Bird22</td>\n",
       "      <td>Bird22</td>\n",
       "      <td>0.555021</td>\n",
       "      <td>0.895000</td>\n",
       "      <td>1.450021</td>\n",
       "      <td>0.382767</td>\n",
       "      <td>0.620135</td>\n",
       "      <td>2295</td>\n",
       "    </tr>\n",
       "    <tr>\n",
       "      <th>1609</th>\n",
       "      <td>0.707663</td>\n",
       "      <td>0.752358</td>\n",
       "      <td>Bird22</td>\n",
       "      <td>Bird22</td>\n",
       "      <td>Bird22</td>\n",
       "      <td>0.707663</td>\n",
       "      <td>0.752358</td>\n",
       "      <td>1.460021</td>\n",
       "      <td>0.484694</td>\n",
       "      <td>0.940593</td>\n",
       "      <td>2296</td>\n",
       "    </tr>\n",
       "    <tr>\n",
       "      <th>427</th>\n",
       "      <td>0.670000</td>\n",
       "      <td>0.830021</td>\n",
       "      <td>Bird22</td>\n",
       "      <td>Bird22</td>\n",
       "      <td>Bird22</td>\n",
       "      <td>0.670000</td>\n",
       "      <td>0.830021</td>\n",
       "      <td>1.500021</td>\n",
       "      <td>0.446660</td>\n",
       "      <td>0.807209</td>\n",
       "      <td>2297</td>\n",
       "    </tr>\n",
       "    <tr>\n",
       "      <th>3343</th>\n",
       "      <td>0.555399</td>\n",
       "      <td>0.965593</td>\n",
       "      <td>Bird22</td>\n",
       "      <td>Bird22</td>\n",
       "      <td>Bird22</td>\n",
       "      <td>0.555399</td>\n",
       "      <td>0.965593</td>\n",
       "      <td>1.520993</td>\n",
       "      <td>0.365156</td>\n",
       "      <td>0.575190</td>\n",
       "      <td>2298</td>\n",
       "    </tr>\n",
       "    <tr>\n",
       "      <th>1143</th>\n",
       "      <td>0.792418</td>\n",
       "      <td>0.737603</td>\n",
       "      <td>Bird22</td>\n",
       "      <td>Bird22</td>\n",
       "      <td>Bird22</td>\n",
       "      <td>0.737603</td>\n",
       "      <td>0.792418</td>\n",
       "      <td>1.530021</td>\n",
       "      <td>0.517913</td>\n",
       "      <td>0.930825</td>\n",
       "      <td>2299</td>\n",
       "    </tr>\n",
       "  </tbody>\n",
       "</table>\n",
       "<p>2299 rows × 11 columns</p>\n",
       "</div>"
      ],
      "text/plain": [
       "      intervals1  intervals2  label1  label2  label3  s_interval  l_interval  \\\n",
       "746     0.018920    0.015573  Bird22  Bird22  Bird22    0.015573    0.018920   \n",
       "1275    0.049143    0.007020  Bird22  Bird22  Bird22    0.007020    0.049143   \n",
       "2146    0.054145    0.019306  Bird22  Bird22  Bird22    0.019306    0.054145   \n",
       "12      0.042565    0.048240  Bird22  Bird22  Bird22    0.042565    0.048240   \n",
       "2634    0.055795    0.056753  Bird22  Bird22  Bird22    0.055795    0.056753   \n",
       "...          ...         ...     ...     ...     ...         ...         ...   \n",
       "509     0.555021    0.895000  Bird22  Bird22  Bird22    0.555021    0.895000   \n",
       "1609    0.707663    0.752358  Bird22  Bird22  Bird22    0.707663    0.752358   \n",
       "427     0.670000    0.830021  Bird22  Bird22  Bird22    0.670000    0.830021   \n",
       "3343    0.555399    0.965593  Bird22  Bird22  Bird22    0.555399    0.965593   \n",
       "1143    0.792418    0.737603  Bird22  Bird22  Bird22    0.737603    0.792418   \n",
       "\n",
       "      cycle_dur  ratio_roeske  ratio_custom  cycle_rank  \n",
       "746    0.034493      0.548518      0.823094           1  \n",
       "1275   0.056163      0.875000      0.142857           2  \n",
       "2146   0.073452      0.737159      0.356560           3  \n",
       "12     0.090806      0.468750      0.882353           4  \n",
       "2634   0.112549      0.495744      0.983118           5  \n",
       "...         ...           ...           ...         ...  \n",
       "509    1.450021      0.382767      0.620135        2295  \n",
       "1609   1.460021      0.484694      0.940593        2296  \n",
       "427    1.500021      0.446660      0.807209        2297  \n",
       "3343   1.520993      0.365156      0.575190        2298  \n",
       "1143   1.530021      0.517913      0.930825        2299  \n",
       "\n",
       "[2299 rows x 11 columns]"
      ]
     },
     "execution_count": 10,
     "metadata": {},
     "output_type": "execute_result"
    }
   ],
   "source": [
    "dyadic"
   ]
  },
  {
   "cell_type": "code",
   "execution_count": 11,
   "id": "ae5050b9",
   "metadata": {},
   "outputs": [
    {
     "data": {
      "text/plain": [
       "<AxesSubplot:xlabel='ratio_roeske', ylabel='Count'>"
      ]
     },
     "execution_count": 11,
     "metadata": {},
     "output_type": "execute_result"
    },
    {
     "data": {
      "image/png": "[encoded data removed]",
      "text/plain": [
       "<Figure size 432x288 with 1 Axes>"
      ]
     },
     "metadata": {
      "needs_background": "light"
     },
     "output_type": "display_data"
    }
   ],
   "source": [
    "sns.histplot(dyadic['ratio_roeske'])"
   ]
  },
  {
   "cell_type": "markdown",
   "id": "d70ee8a7",
   "metadata": {},
   "source": [
    "## Calculate Uniform Rhythm\n",
    "> Uniform rhythm is calculated under the assumption that interval lengths are uniformly distributed between a minimum and maximum interval length.  "
   ]
  },
  {
   "cell_type": "code",
   "execution_count": 12,
   "id": "99046b59",
   "metadata": {},
   "outputs": [],
   "source": [
    "import numpy as np\n",
    "import numpy.random as random"
   ]
  },
  {
   "cell_type": "code",
   "execution_count": 13,
   "id": "a9d54652",
   "metadata": {},
   "outputs": [],
   "source": [
    "interval_min = np.min([dyadic['intervals1'].values, dyadic['intervals2']])\n",
    "interval_max = np.max([dyadic['intervals1'].values, dyadic['intervals2']])"
   ]
  },
  {
   "cell_type": "code",
   "execution_count": 14,
   "id": "3652c0d5",
   "metadata": {},
   "outputs": [],
   "source": [
    "interval1_uni = random.uniform(low = interval_min, high = interval_max, size = len(dyadic) * 1000)\n",
    "interval2_uni = random.uniform(low = interval_min, high = interval_max, size = len(dyadic) * 1000)\n",
    "uni_ratio = interval1_uni / (interval1_uni + interval2_uni)"
   ]
  },
  {
   "cell_type": "code",
   "execution_count": 15,
   "id": "2b66dcaa",
   "metadata": {},
   "outputs": [
    {
     "data": {
      "text/plain": [
       "<AxesSubplot:ylabel='Count'>"
      ]
     },
     "execution_count": 15,
     "metadata": {},
     "output_type": "execute_result"
    },
    {
     "data": {
      "image/png": "[encoded data removed]",
      "text/plain": [
       "<Figure size 432x288 with 1 Axes>"
      ]
     },
     "metadata": {
      "needs_background": "light"
     },
     "output_type": "display_data"
    }
   ],
   "source": [
    "sns.histplot(uni_ratio)"
   ]
  },
  {
   "cell_type": "markdown",
   "id": "7c1d3bd8",
   "metadata": {},
   "source": [
    "## Calculate Shuffled Rhythm\n",
    "> Shuffled rhythm is calculated under the assumption that interval lengths are bootstrapped from the empirical distribution, but the consecutive order of intervals are shuffled. "
   ]
  },
  {
   "cell_type": "code",
   "execution_count": 16,
   "id": "b4e9e3c5",
   "metadata": {},
   "outputs": [],
   "source": [
    "interval1_sf = dyadic['intervals1'].sample(frac = 1000, replace = True).values\n",
    "interval2_sf = dyadic['intervals2'].sample(frac = 1000, replace = True).values\n",
    "sf_ratio = interval1_sf / (interval1_sf + interval2_sf)"
   ]
  },
  {
   "cell_type": "code",
   "execution_count": 17,
   "id": "e475ed22",
   "metadata": {},
   "outputs": [
    {
     "data": {
      "text/plain": [
       "<AxesSubplot:ylabel='Count'>"
      ]
     },
     "execution_count": 17,
     "metadata": {},
     "output_type": "execute_result"
    },
    {
     "data": {
      "image/png": "[encoded data removed]",
      "text/plain": [
       "<Figure size 432x288 with 1 Axes>"
      ]
     },
     "metadata": {
      "needs_background": "light"
     },
     "output_type": "display_data"
    }
   ],
   "source": [
    "sns.histplot(sf_ratio)"
   ]
  },
  {
   "cell_type": "markdown",
   "id": "8052cb83",
   "metadata": {},
   "source": [
    "## Draw Figure"
   ]
  },
  {
   "cell_type": "code",
   "execution_count": 18,
   "id": "c4f58637",
   "metadata": {},
   "outputs": [],
   "source": [
    "import matplotlib.pyplot as plt\n",
    "from matplotlib.pyplot import figure\n",
    "from butcherbird.utils.paths import FIGURE_DIR"
   ]
  },
  {
   "cell_type": "code",
   "execution_count": 19,
   "id": "6a72becd",
   "metadata": {},
   "outputs": [
    {
     "data": {
      "image/png": "[encoded data removed]",
      "text/plain": [
       "<Figure size 2400x1800 with 1 Axes>"
      ]
     },
     "metadata": {
      "needs_background": "light"
     },
     "output_type": "display_data"
    }
   ],
   "source": [
    "figure(figsize = (8, 6), dpi = 300)\n",
    "\n",
    "fig = plt.hist(\n",
    "    x = dyadic['ratio_roeske'],\n",
    "    bins = 100,\n",
    "    density = True,\n",
    "    color = '#A3E301'\n",
    ")\n",
    "\n",
    "uni = plt.hist(\n",
    "    x = uni_ratio,\n",
    "    histtype = 'step', \n",
    "    density = True,\n",
    "    bins = 100,\n",
    "    color = '#FC6983'\n",
    ")\n",
    "\n",
    "sf = plt.hist(\n",
    "    x = sf_ratio,\n",
    "    histtype = 'step',\n",
    "    density = True, \n",
    "    bins = 100,\n",
    "    color = '#15215B'\n",
    ")\n",
    "\n",
    "ax = plt.gca()\n",
    "ax.set_xlim([0, 1])\n",
    "plt.xticks(np.arange(0, 1.25, 0.25))\n",
    "\n",
    "# save\n",
    "figname = 'fig1_' + 'categorical_rhythm_' + indv + '.svg'\n",
    "plt.savefig(FIGURE_DIR/figname)"
   ]
  }
 ],
 "metadata": {
  "kernelspec": {
   "display_name": "pbb",
   "language": "python",
   "name": "pbb"
  },
  "language_info": {
   "codemirror_mode": {
    "name": "ipython",
    "version": 3
   },
   "file_extension": ".py",
   "mimetype": "text/x-python",
   "name": "python",
   "nbconvert_exporter": "python",
   "pygments_lexer": "ipython3",
   "version": "3.10.0"
  }
 },
 "nbformat": 4,
 "nbformat_minor": 5
}
