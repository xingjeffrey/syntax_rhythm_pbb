{
 "cells": [
  {
   "cell_type": "markdown",
   "id": "2a515b8b",
   "metadata": {},
   "source": [
    "***\n",
    "# Supplemental Material 2: Segmentation Manual\n",
    "### JX, 04/05/2022\n",
    "\n",
    "This manual documents methods for segmenting Australian pied butcherbird songs via Praat Textgrids.\n",
    "\n",
    "***"
   ]
  },
  {
   "cell_type": "markdown",
   "id": "944d4d40",
   "metadata": {},
   "source": [
    "## Song Unit Definitions and Boundary Placement"
   ]
  },
  {
   "cell_type": "markdown",
   "id": "2efd1706",
   "metadata": {},
   "source": [
    "### Note\n",
    "* Discontinuous instances of acoustic events on the spectrogram/waveform accentuated by surrounding periods of silence or amplitude envelope of the signal. \n",
    "    * Warbles (a train of short notes repeated quickly in succession) are segmented as one note. \n",
    "\n",
    "### Phrase\n",
    "* Short bursts of notes separated by few seconds of silence"
   ]
  },
  {
   "cell_type": "markdown",
   "id": "d2f25deb",
   "metadata": {},
   "source": [
    "## Spectrogram Settings"
   ]
  },
  {
   "cell_type": "markdown",
   "id": "3177c941",
   "metadata": {},
   "source": [
    "Praat Spectrogram Settings (insert screencap)"
   ]
  },
  {
   "cell_type": "markdown",
   "id": "156d2efe",
   "metadata": {},
   "source": [
    "Praat Advanced Spectrogram Settings (insert screencap)"
   ]
  },
  {
   "cell_type": "markdown",
   "id": "854d9a7c",
   "metadata": {},
   "source": [
    "## Boundary Placement\n",
    "\n",
    "(insert screencap)\n",
    "\n",
    "* Generate two tiers of boundaries: one for note and one for phrase.  \n",
    "    * Note boundaries: place bounds at onset and offset of a note, and label the resulting note interval with 'n'.\n",
    "    * Phrase boundaries: place bounds at onset and offset of the first and last note in a phrase. Label the resulting phrase interval with 'p'. \n",
    "    \n",
    "* Ignore reverberation trails while creating offset boundaries.\n",
    "\n",
    "(insert screencap)\n",
    "\n",
    "* Ignore other birds or species. \n",
    "\n",
    "(insert screencap)"
   ]
  },
  {
   "cell_type": "markdown",
   "id": "5156f0a4",
   "metadata": {},
   "source": [
    "## Special Cases"
   ]
  },
  {
   "cell_type": "markdown",
   "id": "2e17f542",
   "metadata": {},
   "source": [
    "* Warbles\n",
    "(insert screencap)\n",
    "* Notes accentuated by amplitude envelope\n",
    "(insert screencap)"
   ]
  }
 ],
 "metadata": {
  "kernelspec": {
   "display_name": "pbb",
   "language": "python",
   "name": "pbb"
  },
  "language_info": {
   "codemirror_mode": {
    "name": "ipython",
    "version": 3
   },
   "file_extension": ".py",
   "mimetype": "text/x-python",
   "name": "python",
   "nbconvert_exporter": "python",
   "pygments_lexer": "ipython3",
   "version": "3.10.0"
  }
 },
 "nbformat": 4,
 "nbformat_minor": 5
}
