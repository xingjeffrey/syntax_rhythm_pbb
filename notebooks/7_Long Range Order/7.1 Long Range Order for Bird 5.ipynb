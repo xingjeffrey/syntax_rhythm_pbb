{
 "cells": [
  {
   "cell_type": "markdown",
   "id": "d1a9f6e9",
   "metadata": {},
   "source": [
    "***\n",
    "# 3.1 First Order Syntax for Bird 5\n",
    "### JX, 03/15/2022\n",
    "***\n",
    "    Bird5:\n",
    "    LS110131.10.9.2015GeoPool.aiff\n",
    "    LS110136.10.10.2015GeoGreens.aiff\n",
    "    LS110143.10.12.2015GeoGreens.aiff\n",
    "    LS110146A.10.13.2015GeoGreens.aiff\n",
    "    \n",
    "***"
   ]
  },
  {
   "cell_type": "code",
   "execution_count": 1,
   "id": "59cc6ba7",
   "metadata": {},
   "outputs": [],
   "source": [
    "indv = 'Bird5'\n",
    "iterations = 100"
   ]
  },
  {
   "cell_type": "code",
   "execution_count": 2,
   "id": "8fca7f57",
   "metadata": {
    "scrolled": true
   },
   "outputs": [
    {
     "data": {
      "text/html": [
       "<div>\n",
       "<style scoped>\n",
       "    .dataframe tbody tr th:only-of-type {\n",
       "        vertical-align: middle;\n",
       "    }\n",
       "\n",
       "    .dataframe tbody tr th {\n",
       "        vertical-align: top;\n",
       "    }\n",
       "\n",
       "    .dataframe thead th {\n",
       "        text-align: right;\n",
       "    }\n",
       "</style>\n",
       "<table border=\"1\" class=\"dataframe\">\n",
       "  <thead>\n",
       "    <tr style=\"text-align: right;\">\n",
       "      <th></th>\n",
       "      <th>phrase_nb</th>\n",
       "      <th>phrase_strt</th>\n",
       "      <th>phrase_end</th>\n",
       "      <th>phrase_len</th>\n",
       "      <th>note_cnt</th>\n",
       "      <th>note_nb</th>\n",
       "      <th>note_strt</th>\n",
       "      <th>note_end</th>\n",
       "      <th>note_len</th>\n",
       "      <th>indv</th>\n",
       "      <th>...</th>\n",
       "      <th>key</th>\n",
       "      <th>audio</th>\n",
       "      <th>rate</th>\n",
       "      <th>spectrogram</th>\n",
       "      <th>umap</th>\n",
       "      <th>hdbscan_labels</th>\n",
       "      <th>recur_labels</th>\n",
       "      <th>recur_labels_id</th>\n",
       "      <th>lasso_labels</th>\n",
       "      <th>seq_id</th>\n",
       "    </tr>\n",
       "  </thead>\n",
       "  <tbody>\n",
       "    <tr>\n",
       "      <th>0</th>\n",
       "      <td>0</td>\n",
       "      <td>513.780000</td>\n",
       "      <td>517.061923</td>\n",
       "      <td>3.281923</td>\n",
       "      <td>15</td>\n",
       "      <td>0</td>\n",
       "      <td>513.780000</td>\n",
       "      <td>513.905214</td>\n",
       "      <td>0.125214</td>\n",
       "      <td>Bird5</td>\n",
       "      <td>...</td>\n",
       "      <td>LS110143.10.12.2015GeoGreens_dn</td>\n",
       "      <td>[-0.0, -7.356902671940375e-05, -0.000162745769...</td>\n",
       "      <td>44100</td>\n",
       "      <td>[[0, 0, 0, 0, 0, 0, 0, 0, 0, 0, 0, 0, 0, 0, 0,...</td>\n",
       "      <td>[4.8774133, 15.248685]</td>\n",
       "      <td>16</td>\n",
       "      <td>16|1|0|nan|nan|nan|nan|nan|nan</td>\n",
       "      <td>87</td>\n",
       "      <td>42</td>\n",
       "      <td>0</td>\n",
       "    </tr>\n",
       "    <tr>\n",
       "      <th>1</th>\n",
       "      <td>0</td>\n",
       "      <td>513.780000</td>\n",
       "      <td>517.061923</td>\n",
       "      <td>3.281923</td>\n",
       "      <td>15</td>\n",
       "      <td>1</td>\n",
       "      <td>513.917747</td>\n",
       "      <td>513.980936</td>\n",
       "      <td>0.063188</td>\n",
       "      <td>Bird5</td>\n",
       "      <td>...</td>\n",
       "      <td>LS110143.10.12.2015GeoGreens_dn</td>\n",
       "      <td>[0.0, 0.0014728324725323874, 0.002769917049663...</td>\n",
       "      <td>44100</td>\n",
       "      <td>[[0, 0, 0, 0, 0, 0, 0, 0, 0, 0, 0, 0, 0, 0, 0,...</td>\n",
       "      <td>[6.9320498, 10.134182]</td>\n",
       "      <td>13</td>\n",
       "      <td>13|1|0|1.0|0.0|1.0|0.0|nan|nan</td>\n",
       "      <td>45</td>\n",
       "      <td>52</td>\n",
       "      <td>0</td>\n",
       "    </tr>\n",
       "    <tr>\n",
       "      <th>2</th>\n",
       "      <td>0</td>\n",
       "      <td>513.780000</td>\n",
       "      <td>517.061923</td>\n",
       "      <td>3.281923</td>\n",
       "      <td>15</td>\n",
       "      <td>2</td>\n",
       "      <td>514.170000</td>\n",
       "      <td>514.480698</td>\n",
       "      <td>0.310698</td>\n",
       "      <td>Bird5</td>\n",
       "      <td>...</td>\n",
       "      <td>LS110143.10.12.2015GeoGreens_dn</td>\n",
       "      <td>[0.0, 4.4531726447127805e-05, 4.62385657049665...</td>\n",
       "      <td>44100</td>\n",
       "      <td>[[0, 0, 0, 0, 0, 0, 0, 0, 0, 0, 0, 0, 0, 0, 0,...</td>\n",
       "      <td>[8.438871, 21.151648]</td>\n",
       "      <td>5</td>\n",
       "      <td>5|2|0|0.0|nan|nan|nan|nan|nan</td>\n",
       "      <td>143</td>\n",
       "      <td>3</td>\n",
       "      <td>0</td>\n",
       "    </tr>\n",
       "    <tr>\n",
       "      <th>3</th>\n",
       "      <td>0</td>\n",
       "      <td>513.780000</td>\n",
       "      <td>517.061923</td>\n",
       "      <td>3.281923</td>\n",
       "      <td>15</td>\n",
       "      <td>3</td>\n",
       "      <td>514.620783</td>\n",
       "      <td>515.310000</td>\n",
       "      <td>0.689217</td>\n",
       "      <td>Bird5</td>\n",
       "      <td>...</td>\n",
       "      <td>LS110143.10.12.2015GeoGreens_dn</td>\n",
       "      <td>[-0.0, -3.2631556531601904e-06, -7.44037823939...</td>\n",
       "      <td>44100</td>\n",
       "      <td>[[0, 0, 0, 0, 0, 0, 0, 0, 0, 0, 0, 0, 0, 0, 0,...</td>\n",
       "      <td>[19.637224, -5.1326833]</td>\n",
       "      <td>7</td>\n",
       "      <td>7|0|1|0.0|nan|nan|nan|nan|nan</td>\n",
       "      <td>151</td>\n",
       "      <td>20</td>\n",
       "      <td>0</td>\n",
       "    </tr>\n",
       "    <tr>\n",
       "      <th>4</th>\n",
       "      <td>0</td>\n",
       "      <td>513.780000</td>\n",
       "      <td>517.061923</td>\n",
       "      <td>3.281923</td>\n",
       "      <td>15</td>\n",
       "      <td>4</td>\n",
       "      <td>515.355217</td>\n",
       "      <td>515.660180</td>\n",
       "      <td>0.304964</td>\n",
       "      <td>Bird5</td>\n",
       "      <td>...</td>\n",
       "      <td>LS110143.10.12.2015GeoGreens_dn</td>\n",
       "      <td>[-0.0, -2.958346783314775e-05, -7.119856074752...</td>\n",
       "      <td>44100</td>\n",
       "      <td>[[0, 0, 0, 0, 0, 0, 0, 0, 0, 0, 0, 0, 0, 0, 0,...</td>\n",
       "      <td>[9.055997, -1.52321]</td>\n",
       "      <td>12</td>\n",
       "      <td>12|1|0|nan|nan|nan|nan|nan|nan</td>\n",
       "      <td>38</td>\n",
       "      <td>14</td>\n",
       "      <td>0</td>\n",
       "    </tr>\n",
       "    <tr>\n",
       "      <th>...</th>\n",
       "      <td>...</td>\n",
       "      <td>...</td>\n",
       "      <td>...</td>\n",
       "      <td>...</td>\n",
       "      <td>...</td>\n",
       "      <td>...</td>\n",
       "      <td>...</td>\n",
       "      <td>...</td>\n",
       "      <td>...</td>\n",
       "      <td>...</td>\n",
       "      <td>...</td>\n",
       "      <td>...</td>\n",
       "      <td>...</td>\n",
       "      <td>...</td>\n",
       "      <td>...</td>\n",
       "      <td>...</td>\n",
       "      <td>...</td>\n",
       "      <td>...</td>\n",
       "      <td>...</td>\n",
       "      <td>...</td>\n",
       "      <td>...</td>\n",
       "    </tr>\n",
       "    <tr>\n",
       "      <th>17325</th>\n",
       "      <td>488</td>\n",
       "      <td>3955.500491</td>\n",
       "      <td>3957.771268</td>\n",
       "      <td>2.270777</td>\n",
       "      <td>16</td>\n",
       "      <td>11</td>\n",
       "      <td>3956.827269</td>\n",
       "      <td>3956.984287</td>\n",
       "      <td>0.157018</td>\n",
       "      <td>Bird5</td>\n",
       "      <td>...</td>\n",
       "      <td>LS110146A.10.13.2015GeoGreens_dn</td>\n",
       "      <td>[-0.0, -0.0003734800289541283, -0.000744419409...</td>\n",
       "      <td>44100</td>\n",
       "      <td>[[0, 0, 0, 0, 0, 0, 0, 0, 0, 0, 0, 0, 0, 0, 0,...</td>\n",
       "      <td>[5.5191817, -9.9033375]</td>\n",
       "      <td>8</td>\n",
       "      <td>8|1|0|nan|nan|nan|nan|nan|nan</td>\n",
       "      <td>161</td>\n",
       "      <td>4</td>\n",
       "      <td>1770</td>\n",
       "    </tr>\n",
       "    <tr>\n",
       "      <th>17326</th>\n",
       "      <td>488</td>\n",
       "      <td>3955.500491</td>\n",
       "      <td>3957.771268</td>\n",
       "      <td>2.270777</td>\n",
       "      <td>16</td>\n",
       "      <td>12</td>\n",
       "      <td>3957.129954</td>\n",
       "      <td>3957.413722</td>\n",
       "      <td>0.283767</td>\n",
       "      <td>Bird5</td>\n",
       "      <td>...</td>\n",
       "      <td>LS110146A.10.13.2015GeoGreens_dn</td>\n",
       "      <td>[-0.0, -5.999877314464557e-06, -1.294964036885...</td>\n",
       "      <td>44100</td>\n",
       "      <td>[[0, 0, 0, 0, 0, 0, 0, 0, 0, 0, 0, 0, 0, 0, 0,...</td>\n",
       "      <td>[17.48298, -3.0183713]</td>\n",
       "      <td>15</td>\n",
       "      <td>15|1|0|nan|nan|nan|nan|nan|nan</td>\n",
       "      <td>81</td>\n",
       "      <td>23</td>\n",
       "      <td>1770</td>\n",
       "    </tr>\n",
       "    <tr>\n",
       "      <th>17327</th>\n",
       "      <td>488</td>\n",
       "      <td>3955.500491</td>\n",
       "      <td>3957.771268</td>\n",
       "      <td>2.270777</td>\n",
       "      <td>16</td>\n",
       "      <td>13</td>\n",
       "      <td>3957.530000</td>\n",
       "      <td>3957.576257</td>\n",
       "      <td>0.046257</td>\n",
       "      <td>Bird5</td>\n",
       "      <td>...</td>\n",
       "      <td>LS110146A.10.13.2015GeoGreens_dn</td>\n",
       "      <td>[-0.0, -0.00020799144552458053, -0.00033384171...</td>\n",
       "      <td>44100</td>\n",
       "      <td>[[0, 0, 0, 0, 0, 0, 0, 0, 0, 0, 0, 0, 0, 0, 0,...</td>\n",
       "      <td>[4.470899, -3.3807]</td>\n",
       "      <td>4</td>\n",
       "      <td>4|1|1|0.0|1.0|0.0|nan|nan|nan</td>\n",
       "      <td>138</td>\n",
       "      <td>63</td>\n",
       "      <td>1770</td>\n",
       "    </tr>\n",
       "    <tr>\n",
       "      <th>17328</th>\n",
       "      <td>488</td>\n",
       "      <td>3955.500491</td>\n",
       "      <td>3957.771268</td>\n",
       "      <td>2.270777</td>\n",
       "      <td>16</td>\n",
       "      <td>14</td>\n",
       "      <td>3957.585716</td>\n",
       "      <td>3957.644361</td>\n",
       "      <td>0.058645</td>\n",
       "      <td>Bird5</td>\n",
       "      <td>...</td>\n",
       "      <td>LS110146A.10.13.2015GeoGreens_dn</td>\n",
       "      <td>[0.0, 0.0007728977791414965, 0.000127507273682...</td>\n",
       "      <td>44100</td>\n",
       "      <td>[[0, 0, 0, 0, 0, 0, 0, 0, 0, 0, 0, 0, 0, 0, 0,...</td>\n",
       "      <td>[4.4345427, -3.3523924]</td>\n",
       "      <td>4</td>\n",
       "      <td>4|1|1|0.0|1.0|0.0|nan|nan|nan</td>\n",
       "      <td>138</td>\n",
       "      <td>63</td>\n",
       "      <td>1770</td>\n",
       "    </tr>\n",
       "    <tr>\n",
       "      <th>17329</th>\n",
       "      <td>488</td>\n",
       "      <td>3955.500491</td>\n",
       "      <td>3957.771268</td>\n",
       "      <td>2.270777</td>\n",
       "      <td>16</td>\n",
       "      <td>15</td>\n",
       "      <td>3957.652874</td>\n",
       "      <td>3957.771268</td>\n",
       "      <td>0.118394</td>\n",
       "      <td>Bird5</td>\n",
       "      <td>...</td>\n",
       "      <td>LS110146A.10.13.2015GeoGreens_dn</td>\n",
       "      <td>[0.0, 0.00011858547843942706, -0.0002786145864...</td>\n",
       "      <td>44100</td>\n",
       "      <td>[[0, 0, 0, 0, 0, 0, 0, 0, 0, 0, 0, 0, 0, 0, 0,...</td>\n",
       "      <td>[4.437637, 13.322912]</td>\n",
       "      <td>17</td>\n",
       "      <td>17|0|1|0.0|nan|nan|nan|nan|nan</td>\n",
       "      <td>89</td>\n",
       "      <td>43</td>\n",
       "      <td>1770</td>\n",
       "    </tr>\n",
       "  </tbody>\n",
       "</table>\n",
       "<p>17330 rows × 21 columns</p>\n",
       "</div>"
      ],
      "text/plain": [
       "       phrase_nb  phrase_strt   phrase_end  phrase_len  note_cnt  note_nb  \\\n",
       "0              0   513.780000   517.061923    3.281923        15        0   \n",
       "1              0   513.780000   517.061923    3.281923        15        1   \n",
       "2              0   513.780000   517.061923    3.281923        15        2   \n",
       "3              0   513.780000   517.061923    3.281923        15        3   \n",
       "4              0   513.780000   517.061923    3.281923        15        4   \n",
       "...          ...          ...          ...         ...       ...      ...   \n",
       "17325        488  3955.500491  3957.771268    2.270777        16       11   \n",
       "17326        488  3955.500491  3957.771268    2.270777        16       12   \n",
       "17327        488  3955.500491  3957.771268    2.270777        16       13   \n",
       "17328        488  3955.500491  3957.771268    2.270777        16       14   \n",
       "17329        488  3955.500491  3957.771268    2.270777        16       15   \n",
       "\n",
       "         note_strt     note_end  note_len   indv  ...  \\\n",
       "0       513.780000   513.905214  0.125214  Bird5  ...   \n",
       "1       513.917747   513.980936  0.063188  Bird5  ...   \n",
       "2       514.170000   514.480698  0.310698  Bird5  ...   \n",
       "3       514.620783   515.310000  0.689217  Bird5  ...   \n",
       "4       515.355217   515.660180  0.304964  Bird5  ...   \n",
       "...            ...          ...       ...    ...  ...   \n",
       "17325  3956.827269  3956.984287  0.157018  Bird5  ...   \n",
       "17326  3957.129954  3957.413722  0.283767  Bird5  ...   \n",
       "17327  3957.530000  3957.576257  0.046257  Bird5  ...   \n",
       "17328  3957.585716  3957.644361  0.058645  Bird5  ...   \n",
       "17329  3957.652874  3957.771268  0.118394  Bird5  ...   \n",
       "\n",
       "                                    key  \\\n",
       "0       LS110143.10.12.2015GeoGreens_dn   \n",
       "1       LS110143.10.12.2015GeoGreens_dn   \n",
       "2       LS110143.10.12.2015GeoGreens_dn   \n",
       "3       LS110143.10.12.2015GeoGreens_dn   \n",
       "4       LS110143.10.12.2015GeoGreens_dn   \n",
       "...                                 ...   \n",
       "17325  LS110146A.10.13.2015GeoGreens_dn   \n",
       "17326  LS110146A.10.13.2015GeoGreens_dn   \n",
       "17327  LS110146A.10.13.2015GeoGreens_dn   \n",
       "17328  LS110146A.10.13.2015GeoGreens_dn   \n",
       "17329  LS110146A.10.13.2015GeoGreens_dn   \n",
       "\n",
       "                                                   audio   rate  \\\n",
       "0      [-0.0, -7.356902671940375e-05, -0.000162745769...  44100   \n",
       "1      [0.0, 0.0014728324725323874, 0.002769917049663...  44100   \n",
       "2      [0.0, 4.4531726447127805e-05, 4.62385657049665...  44100   \n",
       "3      [-0.0, -3.2631556531601904e-06, -7.44037823939...  44100   \n",
       "4      [-0.0, -2.958346783314775e-05, -7.119856074752...  44100   \n",
       "...                                                  ...    ...   \n",
       "17325  [-0.0, -0.0003734800289541283, -0.000744419409...  44100   \n",
       "17326  [-0.0, -5.999877314464557e-06, -1.294964036885...  44100   \n",
       "17327  [-0.0, -0.00020799144552458053, -0.00033384171...  44100   \n",
       "17328  [0.0, 0.0007728977791414965, 0.000127507273682...  44100   \n",
       "17329  [0.0, 0.00011858547843942706, -0.0002786145864...  44100   \n",
       "\n",
       "                                             spectrogram  \\\n",
       "0      [[0, 0, 0, 0, 0, 0, 0, 0, 0, 0, 0, 0, 0, 0, 0,...   \n",
       "1      [[0, 0, 0, 0, 0, 0, 0, 0, 0, 0, 0, 0, 0, 0, 0,...   \n",
       "2      [[0, 0, 0, 0, 0, 0, 0, 0, 0, 0, 0, 0, 0, 0, 0,...   \n",
       "3      [[0, 0, 0, 0, 0, 0, 0, 0, 0, 0, 0, 0, 0, 0, 0,...   \n",
       "4      [[0, 0, 0, 0, 0, 0, 0, 0, 0, 0, 0, 0, 0, 0, 0,...   \n",
       "...                                                  ...   \n",
       "17325  [[0, 0, 0, 0, 0, 0, 0, 0, 0, 0, 0, 0, 0, 0, 0,...   \n",
       "17326  [[0, 0, 0, 0, 0, 0, 0, 0, 0, 0, 0, 0, 0, 0, 0,...   \n",
       "17327  [[0, 0, 0, 0, 0, 0, 0, 0, 0, 0, 0, 0, 0, 0, 0,...   \n",
       "17328  [[0, 0, 0, 0, 0, 0, 0, 0, 0, 0, 0, 0, 0, 0, 0,...   \n",
       "17329  [[0, 0, 0, 0, 0, 0, 0, 0, 0, 0, 0, 0, 0, 0, 0,...   \n",
       "\n",
       "                          umap hdbscan_labels                    recur_labels  \\\n",
       "0       [4.8774133, 15.248685]             16  16|1|0|nan|nan|nan|nan|nan|nan   \n",
       "1       [6.9320498, 10.134182]             13  13|1|0|1.0|0.0|1.0|0.0|nan|nan   \n",
       "2        [8.438871, 21.151648]              5   5|2|0|0.0|nan|nan|nan|nan|nan   \n",
       "3      [19.637224, -5.1326833]              7   7|0|1|0.0|nan|nan|nan|nan|nan   \n",
       "4         [9.055997, -1.52321]             12  12|1|0|nan|nan|nan|nan|nan|nan   \n",
       "...                        ...            ...                             ...   \n",
       "17325  [5.5191817, -9.9033375]              8   8|1|0|nan|nan|nan|nan|nan|nan   \n",
       "17326   [17.48298, -3.0183713]             15  15|1|0|nan|nan|nan|nan|nan|nan   \n",
       "17327      [4.470899, -3.3807]              4   4|1|1|0.0|1.0|0.0|nan|nan|nan   \n",
       "17328  [4.4345427, -3.3523924]              4   4|1|1|0.0|1.0|0.0|nan|nan|nan   \n",
       "17329    [4.437637, 13.322912]             17  17|0|1|0.0|nan|nan|nan|nan|nan   \n",
       "\n",
       "      recur_labels_id  lasso_labels  seq_id  \n",
       "0                  87            42       0  \n",
       "1                  45            52       0  \n",
       "2                 143             3       0  \n",
       "3                 151            20       0  \n",
       "4                  38            14       0  \n",
       "...               ...           ...     ...  \n",
       "17325             161             4    1770  \n",
       "17326              81            23    1770  \n",
       "17327             138            63    1770  \n",
       "17328             138            63    1770  \n",
       "17329              89            43    1770  \n",
       "\n",
       "[17330 rows x 21 columns]"
      ]
     },
     "execution_count": 2,
     "metadata": {},
     "output_type": "execute_result"
    }
   ],
   "source": [
    "from butcherbird.utils.paths import DATA_DIR, FIGURE_DIR\n",
    "## Load up Note Dataframe\n",
    "\n",
    "import pandas as pd\n",
    "from pathlib2 import Path\n",
    "\n",
    "from butcherbird.utils.paths import DATA_DIR\n",
    "\n",
    "SAVE_LOC = 'interim/fine_labels/butcherbird_note_df_'+indv+'_fine.pickle'\n",
    "SAVE_LOC = DATA_DIR / SAVE_LOC\n",
    "\n",
    "note_df = pd.read_pickle(SAVE_LOC)\n",
    "\n",
    "## Make a copy of recursively generated labels\n",
    "#note_df['lasso_labels'] = note_df['recur_labels_id']\n",
    "\n",
    "note_df"
   ]
  },
  {
   "cell_type": "markdown",
   "id": "c3a7005e",
   "metadata": {},
   "source": [
    "## Normalized Block Entropy of Different Models"
   ]
  },
  {
   "cell_type": "code",
   "execution_count": 3,
   "id": "e3f1783d",
   "metadata": {},
   "outputs": [
    {
     "name": "stderr",
     "output_type": "stream",
     "text": [
      "/tmp/ipykernel_25241/2375031118.py:3: TqdmExperimentalWarning: Using `tqdm.autonotebook.tqdm` in notebook mode. Use `tqdm.tqdm` instead to force console mode (e.g. in jupyter console)\n",
      "  from tqdm.autonotebook import tqdm\n"
     ]
    }
   ],
   "source": [
    "import random\n",
    "import numpy as np\n",
    "from tqdm.autonotebook import tqdm\n",
    "import butcherbird.sequential as sequential"
   ]
  },
  {
   "cell_type": "markdown",
   "id": "0fabe548",
   "metadata": {},
   "source": [
    "### Random Model"
   ]
  },
  {
   "cell_type": "code",
   "execution_count": 4,
   "id": "4d47f077",
   "metadata": {},
   "outputs": [
    {
     "data": {
      "application/vnd.jupyter.widget-view+json": {
       "model_id": "fcdd56c3cfdb489180cdd1f1b5ce4cf6",
       "version_major": 2,
       "version_minor": 0
      },
      "text/plain": [
       "  0%|          | 0/100 [00:00<?, ?it/s]"
      ]
     },
     "metadata": {},
     "output_type": "display_data"
    }
   ],
   "source": [
    "## make 100 sequences\n",
    "rand_seqs = []\n",
    "\n",
    "for index in tqdm(np.arange(0, iterations)):\n",
    "    indv_seq = []\n",
    "\n",
    "    unique_states = sequential.get_seq_states(note_df['lasso_labels'])[0]\n",
    "    p_states = sequential.uniform_p_dist(unique_states)\n",
    "\n",
    "    for note in note_df['lasso_labels']:\n",
    "        indv_seq.append(random.choices(unique_states, p_states)[0])\n",
    "\n",
    "    rand_seqs.append(indv_seq)"
   ]
  },
  {
   "cell_type": "code",
   "execution_count": null,
   "id": "97726b4f",
   "metadata": {},
   "outputs": [
    {
     "data": {
      "application/vnd.jupyter.widget-view+json": {
       "model_id": "61a2d9a167a348868b44042306dcca51",
       "version_major": 2,
       "version_minor": 0
      },
      "text/plain": [
       "  0%|          | 0/100 [00:00<?, ?it/s]"
      ]
     },
     "metadata": {},
     "output_type": "display_data"
    },
    {
     "name": "stderr",
     "output_type": "stream",
     "text": [
      "/home/AD/j8xing/syntax_rhythm_pbb/butcherbird/sequential.py:306: FutureWarning: The frame.append method is deprecated and will be removed from pandas in a future version. Use pandas.concat instead.\n",
      "  seq_block_entropy = seq_block_entropy.append(\n",
      "/home/AD/j8xing/syntax_rhythm_pbb/butcherbird/sequential.py:306: FutureWarning: The frame.append method is deprecated and will be removed from pandas in a future version. Use pandas.concat instead.\n",
      "  seq_block_entropy = seq_block_entropy.append(\n",
      "/home/AD/j8xing/syntax_rhythm_pbb/butcherbird/sequential.py:306: FutureWarning: The frame.append method is deprecated and will be removed from pandas in a future version. Use pandas.concat instead.\n",
      "  seq_block_entropy = seq_block_entropy.append(\n",
      "/home/AD/j8xing/syntax_rhythm_pbb/butcherbird/sequential.py:306: FutureWarning: The frame.append method is deprecated and will be removed from pandas in a future version. Use pandas.concat instead.\n",
      "  seq_block_entropy = seq_block_entropy.append(\n",
      "/home/AD/j8xing/syntax_rhythm_pbb/butcherbird/sequential.py:306: FutureWarning: The frame.append method is deprecated and will be removed from pandas in a future version. Use pandas.concat instead.\n",
      "  seq_block_entropy = seq_block_entropy.append(\n",
      "/home/AD/j8xing/syntax_rhythm_pbb/butcherbird/sequential.py:306: FutureWarning: The frame.append method is deprecated and will be removed from pandas in a future version. Use pandas.concat instead.\n",
      "  seq_block_entropy = seq_block_entropy.append(\n",
      "/home/AD/j8xing/syntax_rhythm_pbb/butcherbird/sequential.py:306: FutureWarning: The frame.append method is deprecated and will be removed from pandas in a future version. Use pandas.concat instead.\n",
      "  seq_block_entropy = seq_block_entropy.append(\n",
      "/home/AD/j8xing/syntax_rhythm_pbb/butcherbird/sequential.py:306: FutureWarning: The frame.append method is deprecated and will be removed from pandas in a future version. Use pandas.concat instead.\n",
      "  seq_block_entropy = seq_block_entropy.append(\n",
      "/home/AD/j8xing/syntax_rhythm_pbb/butcherbird/sequential.py:306: FutureWarning: The frame.append method is deprecated and will be removed from pandas in a future version. Use pandas.concat instead.\n",
      "  seq_block_entropy = seq_block_entropy.append(\n",
      "/home/AD/j8xing/syntax_rhythm_pbb/butcherbird/sequential.py:306: FutureWarning: The frame.append method is deprecated and will be removed from pandas in a future version. Use pandas.concat instead.\n",
      "  seq_block_entropy = seq_block_entropy.append(\n",
      "/home/AD/j8xing/syntax_rhythm_pbb/butcherbird/sequential.py:306: FutureWarning: The frame.append method is deprecated and will be removed from pandas in a future version. Use pandas.concat instead.\n",
      "  seq_block_entropy = seq_block_entropy.append(\n",
      "/home/AD/j8xing/syntax_rhythm_pbb/butcherbird/sequential.py:306: FutureWarning: The frame.append method is deprecated and will be removed from pandas in a future version. Use pandas.concat instead.\n",
      "  seq_block_entropy = seq_block_entropy.append(\n",
      "/home/AD/j8xing/syntax_rhythm_pbb/butcherbird/sequential.py:306: FutureWarning: The frame.append method is deprecated and will be removed from pandas in a future version. Use pandas.concat instead.\n",
      "  seq_block_entropy = seq_block_entropy.append(\n",
      "/home/AD/j8xing/syntax_rhythm_pbb/butcherbird/sequential.py:306: FutureWarning: The frame.append method is deprecated and will be removed from pandas in a future version. Use pandas.concat instead.\n",
      "  seq_block_entropy = seq_block_entropy.append(\n",
      "/home/AD/j8xing/syntax_rhythm_pbb/butcherbird/sequential.py:306: FutureWarning: The frame.append method is deprecated and will be removed from pandas in a future version. Use pandas.concat instead.\n",
      "  seq_block_entropy = seq_block_entropy.append(\n",
      "/home/AD/j8xing/syntax_rhythm_pbb/butcherbird/sequential.py:306: FutureWarning: The frame.append method is deprecated and will be removed from pandas in a future version. Use pandas.concat instead.\n",
      "  seq_block_entropy = seq_block_entropy.append(\n",
      "/home/AD/j8xing/syntax_rhythm_pbb/butcherbird/sequential.py:306: FutureWarning: The frame.append method is deprecated and will be removed from pandas in a future version. Use pandas.concat instead.\n",
      "  seq_block_entropy = seq_block_entropy.append(\n",
      "/home/AD/j8xing/syntax_rhythm_pbb/butcherbird/sequential.py:306: FutureWarning: The frame.append method is deprecated and will be removed from pandas in a future version. Use pandas.concat instead.\n",
      "  seq_block_entropy = seq_block_entropy.append(\n",
      "/home/AD/j8xing/syntax_rhythm_pbb/butcherbird/sequential.py:306: FutureWarning: The frame.append method is deprecated and will be removed from pandas in a future version. Use pandas.concat instead.\n",
      "  seq_block_entropy = seq_block_entropy.append(\n",
      "/home/AD/j8xing/syntax_rhythm_pbb/butcherbird/sequential.py:306: FutureWarning: The frame.append method is deprecated and will be removed from pandas in a future version. Use pandas.concat instead.\n",
      "  seq_block_entropy = seq_block_entropy.append(\n",
      "/home/AD/j8xing/syntax_rhythm_pbb/butcherbird/sequential.py:306: FutureWarning: The frame.append method is deprecated and will be removed from pandas in a future version. Use pandas.concat instead.\n",
      "  seq_block_entropy = seq_block_entropy.append(\n",
      "/home/AD/j8xing/syntax_rhythm_pbb/butcherbird/sequential.py:306: FutureWarning: The frame.append method is deprecated and will be removed from pandas in a future version. Use pandas.concat instead.\n",
      "  seq_block_entropy = seq_block_entropy.append(\n",
      "/home/AD/j8xing/syntax_rhythm_pbb/butcherbird/sequential.py:306: FutureWarning: The frame.append method is deprecated and will be removed from pandas in a future version. Use pandas.concat instead.\n",
      "  seq_block_entropy = seq_block_entropy.append(\n",
      "/home/AD/j8xing/syntax_rhythm_pbb/butcherbird/sequential.py:306: FutureWarning: The frame.append method is deprecated and will be removed from pandas in a future version. Use pandas.concat instead.\n",
      "  seq_block_entropy = seq_block_entropy.append(\n",
      "/home/AD/j8xing/syntax_rhythm_pbb/butcherbird/sequential.py:306: FutureWarning: The frame.append method is deprecated and will be removed from pandas in a future version. Use pandas.concat instead.\n",
      "  seq_block_entropy = seq_block_entropy.append(\n",
      "/home/AD/j8xing/syntax_rhythm_pbb/butcherbird/sequential.py:306: FutureWarning: The frame.append method is deprecated and will be removed from pandas in a future version. Use pandas.concat instead.\n",
      "  seq_block_entropy = seq_block_entropy.append(\n",
      "/home/AD/j8xing/syntax_rhythm_pbb/butcherbird/sequential.py:306: FutureWarning: The frame.append method is deprecated and will be removed from pandas in a future version. Use pandas.concat instead.\n",
      "  seq_block_entropy = seq_block_entropy.append(\n",
      "/home/AD/j8xing/syntax_rhythm_pbb/butcherbird/sequential.py:306: FutureWarning: The frame.append method is deprecated and will be removed from pandas in a future version. Use pandas.concat instead.\n",
      "  seq_block_entropy = seq_block_entropy.append(\n",
      "/home/AD/j8xing/syntax_rhythm_pbb/butcherbird/sequential.py:306: FutureWarning: The frame.append method is deprecated and will be removed from pandas in a future version. Use pandas.concat instead.\n",
      "  seq_block_entropy = seq_block_entropy.append(\n",
      "/home/AD/j8xing/syntax_rhythm_pbb/butcherbird/sequential.py:306: FutureWarning: The frame.append method is deprecated and will be removed from pandas in a future version. Use pandas.concat instead.\n",
      "  seq_block_entropy = seq_block_entropy.append(\n",
      "/home/AD/j8xing/syntax_rhythm_pbb/butcherbird/sequential.py:306: FutureWarning: The frame.append method is deprecated and will be removed from pandas in a future version. Use pandas.concat instead.\n",
      "  seq_block_entropy = seq_block_entropy.append(\n",
      "/home/AD/j8xing/syntax_rhythm_pbb/butcherbird/sequential.py:306: FutureWarning: The frame.append method is deprecated and will be removed from pandas in a future version. Use pandas.concat instead.\n",
      "  seq_block_entropy = seq_block_entropy.append(\n",
      "/home/AD/j8xing/syntax_rhythm_pbb/butcherbird/sequential.py:306: FutureWarning: The frame.append method is deprecated and will be removed from pandas in a future version. Use pandas.concat instead.\n",
      "  seq_block_entropy = seq_block_entropy.append(\n",
      "/home/AD/j8xing/syntax_rhythm_pbb/butcherbird/sequential.py:306: FutureWarning: The frame.append method is deprecated and will be removed from pandas in a future version. Use pandas.concat instead.\n",
      "  seq_block_entropy = seq_block_entropy.append(\n"
     ]
    },
    {
     "name": "stderr",
     "output_type": "stream",
     "text": [
      "/home/AD/j8xing/syntax_rhythm_pbb/butcherbird/sequential.py:306: FutureWarning: The frame.append method is deprecated and will be removed from pandas in a future version. Use pandas.concat instead.\n",
      "  seq_block_entropy = seq_block_entropy.append(\n",
      "/home/AD/j8xing/syntax_rhythm_pbb/butcherbird/sequential.py:306: FutureWarning: The frame.append method is deprecated and will be removed from pandas in a future version. Use pandas.concat instead.\n",
      "  seq_block_entropy = seq_block_entropy.append(\n",
      "/home/AD/j8xing/syntax_rhythm_pbb/butcherbird/sequential.py:306: FutureWarning: The frame.append method is deprecated and will be removed from pandas in a future version. Use pandas.concat instead.\n",
      "  seq_block_entropy = seq_block_entropy.append(\n",
      "/home/AD/j8xing/syntax_rhythm_pbb/butcherbird/sequential.py:306: FutureWarning: The frame.append method is deprecated and will be removed from pandas in a future version. Use pandas.concat instead.\n",
      "  seq_block_entropy = seq_block_entropy.append(\n",
      "/home/AD/j8xing/syntax_rhythm_pbb/butcherbird/sequential.py:306: FutureWarning: The frame.append method is deprecated and will be removed from pandas in a future version. Use pandas.concat instead.\n",
      "  seq_block_entropy = seq_block_entropy.append(\n",
      "/home/AD/j8xing/syntax_rhythm_pbb/butcherbird/sequential.py:306: FutureWarning: The frame.append method is deprecated and will be removed from pandas in a future version. Use pandas.concat instead.\n",
      "  seq_block_entropy = seq_block_entropy.append(\n",
      "/home/AD/j8xing/syntax_rhythm_pbb/butcherbird/sequential.py:306: FutureWarning: The frame.append method is deprecated and will be removed from pandas in a future version. Use pandas.concat instead.\n",
      "  seq_block_entropy = seq_block_entropy.append(\n",
      "/home/AD/j8xing/syntax_rhythm_pbb/butcherbird/sequential.py:306: FutureWarning: The frame.append method is deprecated and will be removed from pandas in a future version. Use pandas.concat instead.\n",
      "  seq_block_entropy = seq_block_entropy.append(\n",
      "/home/AD/j8xing/syntax_rhythm_pbb/butcherbird/sequential.py:306: FutureWarning: The frame.append method is deprecated and will be removed from pandas in a future version. Use pandas.concat instead.\n",
      "  seq_block_entropy = seq_block_entropy.append(\n",
      "/home/AD/j8xing/syntax_rhythm_pbb/butcherbird/sequential.py:306: FutureWarning: The frame.append method is deprecated and will be removed from pandas in a future version. Use pandas.concat instead.\n",
      "  seq_block_entropy = seq_block_entropy.append(\n",
      "/home/AD/j8xing/syntax_rhythm_pbb/butcherbird/sequential.py:306: FutureWarning: The frame.append method is deprecated and will be removed from pandas in a future version. Use pandas.concat instead.\n",
      "  seq_block_entropy = seq_block_entropy.append(\n",
      "/home/AD/j8xing/syntax_rhythm_pbb/butcherbird/sequential.py:306: FutureWarning: The frame.append method is deprecated and will be removed from pandas in a future version. Use pandas.concat instead.\n",
      "  seq_block_entropy = seq_block_entropy.append(\n",
      "/home/AD/j8xing/syntax_rhythm_pbb/butcherbird/sequential.py:306: FutureWarning: The frame.append method is deprecated and will be removed from pandas in a future version. Use pandas.concat instead.\n",
      "  seq_block_entropy = seq_block_entropy.append(\n",
      "/home/AD/j8xing/syntax_rhythm_pbb/butcherbird/sequential.py:306: FutureWarning: The frame.append method is deprecated and will be removed from pandas in a future version. Use pandas.concat instead.\n",
      "  seq_block_entropy = seq_block_entropy.append(\n",
      "/home/AD/j8xing/syntax_rhythm_pbb/butcherbird/sequential.py:306: FutureWarning: The frame.append method is deprecated and will be removed from pandas in a future version. Use pandas.concat instead.\n",
      "  seq_block_entropy = seq_block_entropy.append(\n",
      "/home/AD/j8xing/syntax_rhythm_pbb/butcherbird/sequential.py:306: FutureWarning: The frame.append method is deprecated and will be removed from pandas in a future version. Use pandas.concat instead.\n",
      "  seq_block_entropy = seq_block_entropy.append(\n",
      "/home/AD/j8xing/syntax_rhythm_pbb/butcherbird/sequential.py:306: FutureWarning: The frame.append method is deprecated and will be removed from pandas in a future version. Use pandas.concat instead.\n",
      "  seq_block_entropy = seq_block_entropy.append(\n",
      "/home/AD/j8xing/syntax_rhythm_pbb/butcherbird/sequential.py:306: FutureWarning: The frame.append method is deprecated and will be removed from pandas in a future version. Use pandas.concat instead.\n",
      "  seq_block_entropy = seq_block_entropy.append(\n",
      "/home/AD/j8xing/syntax_rhythm_pbb/butcherbird/sequential.py:306: FutureWarning: The frame.append method is deprecated and will be removed from pandas in a future version. Use pandas.concat instead.\n",
      "  seq_block_entropy = seq_block_entropy.append(\n",
      "/home/AD/j8xing/syntax_rhythm_pbb/butcherbird/sequential.py:306: FutureWarning: The frame.append method is deprecated and will be removed from pandas in a future version. Use pandas.concat instead.\n",
      "  seq_block_entropy = seq_block_entropy.append(\n",
      "/home/AD/j8xing/syntax_rhythm_pbb/butcherbird/sequential.py:306: FutureWarning: The frame.append method is deprecated and will be removed from pandas in a future version. Use pandas.concat instead.\n",
      "  seq_block_entropy = seq_block_entropy.append(\n",
      "/home/AD/j8xing/syntax_rhythm_pbb/butcherbird/sequential.py:306: FutureWarning: The frame.append method is deprecated and will be removed from pandas in a future version. Use pandas.concat instead.\n",
      "  seq_block_entropy = seq_block_entropy.append(\n",
      "/home/AD/j8xing/syntax_rhythm_pbb/butcherbird/sequential.py:306: FutureWarning: The frame.append method is deprecated and will be removed from pandas in a future version. Use pandas.concat instead.\n",
      "  seq_block_entropy = seq_block_entropy.append(\n",
      "/home/AD/j8xing/syntax_rhythm_pbb/butcherbird/sequential.py:306: FutureWarning: The frame.append method is deprecated and will be removed from pandas in a future version. Use pandas.concat instead.\n",
      "  seq_block_entropy = seq_block_entropy.append(\n",
      "/home/AD/j8xing/syntax_rhythm_pbb/butcherbird/sequential.py:306: FutureWarning: The frame.append method is deprecated and will be removed from pandas in a future version. Use pandas.concat instead.\n",
      "  seq_block_entropy = seq_block_entropy.append(\n",
      "/home/AD/j8xing/syntax_rhythm_pbb/butcherbird/sequential.py:306: FutureWarning: The frame.append method is deprecated and will be removed from pandas in a future version. Use pandas.concat instead.\n",
      "  seq_block_entropy = seq_block_entropy.append(\n",
      "/home/AD/j8xing/syntax_rhythm_pbb/butcherbird/sequential.py:306: FutureWarning: The frame.append method is deprecated and will be removed from pandas in a future version. Use pandas.concat instead.\n",
      "  seq_block_entropy = seq_block_entropy.append(\n",
      "/home/AD/j8xing/syntax_rhythm_pbb/butcherbird/sequential.py:306: FutureWarning: The frame.append method is deprecated and will be removed from pandas in a future version. Use pandas.concat instead.\n",
      "  seq_block_entropy = seq_block_entropy.append(\n"
     ]
    }
   ],
   "source": [
    "## get 20 normalized entropy values for all 100 sequences\n",
    "rand_ent = []\n",
    "\n",
    "for seq in tqdm(rand_seqs):\n",
    "    rand_ent.append(sequential.seq_block_entropy(seq, 'Random Song', 21))"
   ]
  },
  {
   "cell_type": "code",
   "execution_count": null,
   "id": "ee926151",
   "metadata": {},
   "outputs": [],
   "source": [
    "rand_df = pd.concat(rand_ent)"
   ]
  },
  {
   "cell_type": "code",
   "execution_count": null,
   "id": "6b2241fc",
   "metadata": {},
   "outputs": [],
   "source": [
    "rand_df"
   ]
  },
  {
   "cell_type": "code",
   "execution_count": null,
   "id": "965f2b5e",
   "metadata": {},
   "outputs": [],
   "source": [
    "len(rand_df['p_states'].values[2])"
   ]
  },
  {
   "cell_type": "markdown",
   "id": "d94c81e3",
   "metadata": {},
   "source": [
    "### Zero-order model"
   ]
  },
  {
   "cell_type": "code",
   "execution_count": null,
   "id": "b3c2f263",
   "metadata": {},
   "outputs": [],
   "source": [
    "## make 100 sequences\n",
    "zero_seqs = []\n",
    "\n",
    "for index in tqdm(np.arange(0, iterations)):\n",
    "    zero_seqs.append(sequential.syn_seq_gen(note_df, label = 'lasso_labels', order = 'zero'))"
   ]
  },
  {
   "cell_type": "code",
   "execution_count": null,
   "id": "8fa8b3f2",
   "metadata": {},
   "outputs": [],
   "source": [
    "## get 20 normalized entropy values for all 100 sequences\n",
    "zero_ent = []\n",
    "\n",
    "for seq in tqdm(zero_seqs):\n",
    "    zero_ent.append(sequential.seq_block_entropy(seq, 'Zero-Order Song', 21))"
   ]
  },
  {
   "cell_type": "code",
   "execution_count": null,
   "id": "f862a777",
   "metadata": {},
   "outputs": [],
   "source": [
    "zero_df = pd.concat(zero_ent)"
   ]
  },
  {
   "cell_type": "code",
   "execution_count": null,
   "id": "a639d67e",
   "metadata": {},
   "outputs": [],
   "source": [
    "zero_df"
   ]
  },
  {
   "cell_type": "markdown",
   "id": "bb1cde94",
   "metadata": {},
   "source": [
    "## First-Order Model"
   ]
  },
  {
   "cell_type": "code",
   "execution_count": null,
   "id": "2229580a",
   "metadata": {
    "scrolled": true
   },
   "outputs": [],
   "source": [
    "## make 100 sequences\n",
    "first_seqs = []\n",
    "\n",
    "for index in tqdm(np.arange(0, iterations)):\n",
    "    first_seqs.append(sequential.syn_seq_gen(note_df, label = 'lasso_labels', order = 'first'))"
   ]
  },
  {
   "cell_type": "code",
   "execution_count": null,
   "id": "67026800",
   "metadata": {
    "scrolled": true
   },
   "outputs": [],
   "source": [
    "## get 20 normalized entropy values for all 100 sequences\n",
    "first_ent = []\n",
    "\n",
    "for seq in tqdm(first_seqs):\n",
    "    first_ent.append(sequential.seq_block_entropy(seq, 'First-Order Song', 21))"
   ]
  },
  {
   "cell_type": "code",
   "execution_count": null,
   "id": "88b49fd0",
   "metadata": {},
   "outputs": [],
   "source": [
    "first_df = pd.concat(first_ent)"
   ]
  },
  {
   "cell_type": "code",
   "execution_count": null,
   "id": "19fdfad2",
   "metadata": {},
   "outputs": [],
   "source": [
    "first_df"
   ]
  },
  {
   "cell_type": "markdown",
   "id": "10facff9",
   "metadata": {},
   "source": [
    "## Second-Order model"
   ]
  },
  {
   "cell_type": "code",
   "execution_count": null,
   "id": "7eacdaac",
   "metadata": {},
   "outputs": [],
   "source": [
    "## make 100 sequences\n",
    "second_seqs = []\n",
    "\n",
    "for index in tqdm(np.arange(0, iterations)):\n",
    "    second_seqs.append(sequential.syn_seq_gen(note_df, label = 'lasso_labels', order = 'second'))"
   ]
  },
  {
   "cell_type": "code",
   "execution_count": null,
   "id": "39d43466",
   "metadata": {},
   "outputs": [],
   "source": [
    "## get 20 normalized entropy values for all 100 sequences\n",
    "second_ent = []\n",
    "\n",
    "for seq in tqdm(second_seqs):\n",
    "    second_ent.append(sequential.seq_block_entropy(seq, 'Second-Order Song', 21))"
   ]
  },
  {
   "cell_type": "code",
   "execution_count": null,
   "id": "7d833534",
   "metadata": {},
   "outputs": [],
   "source": [
    "second_df = pd.concat(second_ent)"
   ]
  },
  {
   "cell_type": "code",
   "execution_count": null,
   "id": "5988f61f",
   "metadata": {},
   "outputs": [],
   "source": [
    "second_df"
   ]
  },
  {
   "cell_type": "markdown",
   "id": "c4b235bd",
   "metadata": {},
   "source": [
    "### True Song"
   ]
  },
  {
   "cell_type": "code",
   "execution_count": null,
   "id": "9a15b319",
   "metadata": {},
   "outputs": [],
   "source": [
    "true_df = sequential.seq_block_entropy(note_df['lasso_labels'], 'True Song', 21)"
   ]
  },
  {
   "cell_type": "markdown",
   "id": "35ddd56f",
   "metadata": {},
   "source": [
    "## Add everything together"
   ]
  },
  {
   "cell_type": "code",
   "execution_count": null,
   "id": "83cdc314",
   "metadata": {},
   "outputs": [],
   "source": [
    "block_entropy_vis = pd.concat([true_df, rand_df, zero_df, first_df, second_df])"
   ]
  },
  {
   "cell_type": "code",
   "execution_count": null,
   "id": "22b4e927",
   "metadata": {},
   "outputs": [],
   "source": [
    "block_entropy_vis = block_entropy_vis.reset_index()"
   ]
  },
  {
   "cell_type": "markdown",
   "id": "73cf75f2",
   "metadata": {},
   "source": [
    "## Plot all models with confidence intervals"
   ]
  },
  {
   "cell_type": "code",
   "execution_count": null,
   "id": "686c5b29",
   "metadata": {},
   "outputs": [],
   "source": [
    "import matplotlib.pyplot as plt\n",
    "import seaborn as sns"
   ]
  },
  {
   "cell_type": "code",
   "execution_count": null,
   "id": "93916662",
   "metadata": {},
   "outputs": [],
   "source": [
    "fig, ax = plt.subplots(figsize = (8, 8))\n",
    "\n",
    "sns.lineplot(data = block_entropy_vis, x = 'block_size', y = 'normalized_block_entropy', hue = 'song_type', lw = 3, err_style=\"bars\", ci=0.95, alpha = 0.9)\n",
    "\n",
    "sns.set_style(\"white\")\n",
    "palette = sns.color_palette(\"mako_r\", 6)\n",
    "\n",
    "ax.set_xticks(np.arange(0, 21, step = 2))\n",
    "\n",
    "# save\n",
    "figname = 'long_range' + indv + '.svg'\n",
    "plt.savefig(FIGURE_DIR/'long_range'/indv/figname)\n",
    "\n",
    "plt.show()"
   ]
  },
  {
   "cell_type": "markdown",
   "id": "fb0ce231",
   "metadata": {},
   "source": [
    "## find mean of all song types"
   ]
  },
  {
   "cell_type": "code",
   "execution_count": null,
   "id": "060e288c",
   "metadata": {},
   "outputs": [],
   "source": [
    "import numpy as np\n",
    "import scipy.stats\n",
    "\n",
    "## a standard calculation for confidence interval\n",
    "def mean_confidence_interval(data, confidence=0.95):\n",
    "    a = 1.0 * np.array(data)\n",
    "    n = len(a)\n",
    "    m, se = np.mean(a), scipy.stats.sem(a)\n",
    "    h = se * scipy.stats.t.ppf((1 + confidence) / 2., n-1)\n",
    "    return m, m-h, m+h"
   ]
  },
  {
   "cell_type": "code",
   "execution_count": null,
   "id": "fbc94266",
   "metadata": {},
   "outputs": [],
   "source": [
    "def mean_normalized_entropy(ent):\n",
    "    #find mean and confidence intervals of note sequence normalized entropies\n",
    "    sample_means = []\n",
    "    for sample in ent:\n",
    "        sample_means.append(np.mean(sample['normalized_block_entropy']))\n",
    "        \n",
    "    return mean_confidence_interval(sample_means)"
   ]
  },
  {
   "cell_type": "code",
   "execution_count": null,
   "id": "7f9c4dbd",
   "metadata": {},
   "outputs": [],
   "source": [
    "mean_normalized_entropy(rand_ent)"
   ]
  },
  {
   "cell_type": "code",
   "execution_count": null,
   "id": "a0be7bc7",
   "metadata": {},
   "outputs": [],
   "source": [
    "mean_normalized_entropy(zero_ent)"
   ]
  },
  {
   "cell_type": "code",
   "execution_count": null,
   "id": "688d84ef",
   "metadata": {},
   "outputs": [],
   "source": [
    "mean_normalized_entropy(first_ent)"
   ]
  },
  {
   "cell_type": "code",
   "execution_count": null,
   "id": "75a9188e",
   "metadata": {},
   "outputs": [],
   "source": [
    "mean_normalized_entropy(second_ent)"
   ]
  },
  {
   "cell_type": "code",
   "execution_count": null,
   "id": "4979da4e",
   "metadata": {},
   "outputs": [],
   "source": [
    "mean_normalized_entropy([true_df])"
   ]
  }
 ],
 "metadata": {
  "kernelspec": {
   "display_name": "pbb",
   "language": "python",
   "name": "pbb"
  },
  "language_info": {
   "codemirror_mode": {
    "name": "ipython",
    "version": 3
   },
   "file_extension": ".py",
   "mimetype": "text/x-python",
   "name": "python",
   "nbconvert_exporter": "python",
   "pygments_lexer": "ipython3",
   "version": "3.10.0"
  }
 },
 "nbformat": 4,
 "nbformat_minor": 5
}
