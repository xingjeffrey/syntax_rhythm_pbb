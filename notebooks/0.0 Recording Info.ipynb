{
 "cells": [
  {
   "cell_type": "markdown",
   "id": "2a515b8b",
   "metadata": {},
   "source": [
    "***\n",
    "# 0.0 Recording Information\n",
    "### JX, 03/07/2022\n",
    "***\n",
    "\n",
    "This notebook contains notes from Dr. Hollis Taylor for:\n",
    "\n",
    "    /mnt/cube/j8xing/syntax_rhythm_pbb/data/raw\n",
    "    \n",
    "    Bird5:\n",
    "    LS110131.10.9.2015GeoPool.aiff\n",
    "    LS110136.10.10.2015GeoGreens.aiff\n",
    "    LS110143.10.12.2015GeoGreens.aiff\n",
    "    LS110146A.10.13.2015GeoGreens.aiff\n",
    "    \n",
    "    Bird22:\n",
    "    LS110593.9.8.2018Araluen.WAV\n",
    "    LS110640.10.1.2018Araluen.WAV\n",
    "    \n",
    "    Bird26:\n",
    "    LS110395.9.28.2017PalmRagonesi.WAV\n",
    "    \n",
    "***"
   ]
  },
  {
   "cell_type": "markdown",
   "id": "605d393d",
   "metadata": {},
   "source": [
    "## Bird 5 (Georgetown, Queensland, at the pool in Greens Park)"
   ]
  },
  {
   "cell_type": "markdown",
   "id": "7882e8ae",
   "metadata": {},
   "source": [
    "### LS110131.10.9.2015GeoPool.aiff\n",
    "> Georgetown: sunrise 6:01am, 90/66 degrees: BIRD 5: LS110131: 4:45am,\n",
    "Greens Park at Farewell Cow next to swimming pool: 18 17 22.1; 143 33\n",
    "01.3; 303m.; magpie first at 6:40 in, pied butcherbird enters with traffic at 7:50\n",
    "in, ****, stunning, combinatorial, virtuosic, truncation especially at end, other\n",
    "birds singing similar phrases but not with the endurance (one distant one\n",
    "does continue after this one stops), sc in song, fascinating harmonic\n",
    "implications of some phrases including a descending four-note phrase, rattle,\n",
    "timbral, whole song, 66:17 dur. LS110132: continuing from previous at\n",
    "Georgetown Pool, no antiphons, magpie and others, possible ambience, 8:27\n",
    "dur."
   ]
  },
  {
   "cell_type": "markdown",
   "id": "701b9e7d",
   "metadata": {},
   "source": [
    "### LS110136.10.10.2015GeoGreens.aiff\n",
    "> Georgetown: sunrise 5:59am, 91/66 degrees, very windy. LS110136: 4:45am,\n",
    "Greens Park at Farewell Cow next to swimming pool, windy all night and into\n",
    "the morning, which undoubtedly accounts for the late start at 5:06am (26:04\n",
    "in); phrase with B rattle sounds like a G arpeggio, whole song **, sc from\n",
    "various birds, 63:30 dur."
   ]
  },
  {
   "cell_type": "markdown",
   "id": "6f834371",
   "metadata": {},
   "source": [
    "### LS110143.10.12.2015GeoGreens.aiff\n",
    ">Georgetown: sunrise 5:59am, 95/63 but 72 right now. LS110143: 4:25am,\n",
    "Greens Park at Farewell Cow next to swimming pool: whole song,\n",
    "intruder/interloper in yesterday’s second songpost at 55:00 in (now 35:00), a\n",
    "few new phrases or at least variants, cut first 20”, ****, 59:52 dur."
   ]
  },
  {
   "cell_type": "markdown",
   "id": "19d788a3",
   "metadata": {},
   "source": [
    "### LS110146A.10.13.2015GeoGreens.aiff\n",
    "> Georgetown: sunrise 5:57am, 99/63 but 70 right now. LS110146: 4:30am,\n",
    "Greens Park at Farewell Cow next to swimming pool: intruder/interloper\n",
    "again, whole song, ****, didn’t hear a bird at other end of the park, some new\n",
    "phrases, A: 66:00; B: 11:55 dur."
   ]
  },
  {
   "cell_type": "markdown",
   "id": "2def64cc",
   "metadata": {},
   "source": [
    "## Bird 22 (Alice Springs, Northern Territory at the Araluen Arts Centre on Larapinta Drive)"
   ]
  },
  {
   "cell_type": "markdown",
   "id": "f7a1ef48",
   "metadata": {},
   "source": [
    "### LS110593.9.8.2018Araluen.WAV\n",
    "> 8 September. 80H/49L/56 now, sunrise 6:37am. LS110593: 3:45am, Araluen Arts\n",
    "Centre parking lot—middle PBB22: 23 42 03.2; 133 51 45.7; 581m., bottle thrown in\n",
    "my direction on my drive in, already singing, 4 songposts, combinatorial, timbral\n",
    "including one very steep, swift motif, one-pitch motif, three-note rising, seems to\n",
    "have a tonal center—D or C#, immediately repeated motifs, fast paced, rattle,\n",
    "elegant and delicate but strong—like finely wrought iron, sc from another bird at end,\n",
    "split between 2 machines, 57:18 dur. LS110797: 4:41am, continuing Araluen Arts\n",
    "Centre: 101:20 dur. Both tracks: ****."
   ]
  },
  {
   "cell_type": "markdown",
   "id": "3c065c89",
   "metadata": {},
   "source": [
    "### LS110640.10.1.2018Araluen.WAV\n",
    "> 1 October. 94H/64L/70 now, sunrise 6:14am. LS110640-42: 1:52am, Araluen Arts\n",
    "Centre parking lot—middle PBB22: stop and start, whole song, ****, some new\n",
    "things, magpie sings a few phrases, bird begins when security car pulls up, one\n",
    "person early on singing/wailing as he walks past, LS110640: 124:16 dur., LS110641:\n",
    "continuing, 124:16 dur., LS110642: 0:58 dur. (YTM mobbing @ 0:19 only)."
   ]
  },
  {
   "cell_type": "markdown",
   "id": "1c34a833",
   "metadata": {},
   "source": [
    "## Bird 26 (Alice Springs, Northern Territory on Ragonesi Road @ Palm Place)"
   ]
  },
  {
   "cell_type": "markdown",
   "id": "7c7e978d",
   "metadata": {},
   "source": [
    "### LS110395.9.28.2017PalmRagonesi.WAV\n",
    "> 28 September: 86H/54L/69now, sunrise 6:18am. LS110395: 3:45am, Palm\n",
    "Ragonesi at same place but so many galahs making a racket that the bird moves\n",
    "across the street and past the CP entrance one house, then crosses back to the CP\n",
    "side PBB26: 1 st 23 44 08.7; 133 52 16.5; 565m., then 23 44 09.1; 133 52 17.7;\n",
    "567m., ****, sc in song, timbral tricks, 124:16 dur. LS110396: 5:49am, Palm\n",
    "Ragonesi, continuing, ***, interesting steep descending frequency sweeps near the\n",
    "end, 14:48 dur."
   ]
  },
  {
   "cell_type": "markdown",
   "id": "044cbddf",
   "metadata": {},
   "source": [
    "# Gear Info"
   ]
  },
  {
   "cell_type": "markdown",
   "id": "b02ace3e",
   "metadata": {},
   "source": [
    "Sound recordings were made on an Olympus LS-11 Linear PCM Field\n",
    "Recorder with a pair of Sennheiser ME67 shotgun microphones\n",
    "mounted on a tripod. GPS measurements were taken on a Garmin\n",
    "GPSmap 6.2s. Behavioral observations were recorded at the end of\n",
    "each track, amplified by written annotations made on the same day.\n",
    "Sonograms were generated with (Raven Pro v1.6.1). Audio processing\n",
    "software included iZotope RX 7 Audio Editor for eliminating low\n",
    "bandwidth traffic."
   ]
  }
 ],
 "metadata": {
  "kernelspec": {
   "display_name": "pbb",
   "language": "python",
   "name": "pbb"
  },
  "language_info": {
   "codemirror_mode": {
    "name": "ipython",
    "version": 3
   },
   "file_extension": ".py",
   "mimetype": "text/x-python",
   "name": "python",
   "nbconvert_exporter": "python",
   "pygments_lexer": "ipython3",
   "version": "3.10.0"
  }
 },
 "nbformat": 4,
 "nbformat_minor": 5
}
