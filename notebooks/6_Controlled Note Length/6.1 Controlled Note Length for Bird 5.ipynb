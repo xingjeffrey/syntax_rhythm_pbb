{
 "cells": [
  {
   "cell_type": "markdown",
   "id": "d1a9f6e9",
   "metadata": {},
   "source": [
    "***\n",
    "# 4.1 Bio-mechanic Estimations for Bird 5\n",
    "### JX, 03/19/2022\n",
    "***\n",
    "    Bird5\n",
    "    \n",
    "***"
   ]
  },
  {
   "cell_type": "code",
   "execution_count": 1,
   "id": "59cc6ba7",
   "metadata": {},
   "outputs": [],
   "source": [
    "indv = 'Bird5'"
   ]
  },
  {
   "cell_type": "code",
   "execution_count": 2,
   "id": "8fca7f57",
   "metadata": {},
   "outputs": [
    {
     "data": {
      "text/html": [
       "<div>\n",
       "<style scoped>\n",
       "    .dataframe tbody tr th:only-of-type {\n",
       "        vertical-align: middle;\n",
       "    }\n",
       "\n",
       "    .dataframe tbody tr th {\n",
       "        vertical-align: top;\n",
       "    }\n",
       "\n",
       "    .dataframe thead th {\n",
       "        text-align: right;\n",
       "    }\n",
       "</style>\n",
       "<table border=\"1\" class=\"dataframe\">\n",
       "  <thead>\n",
       "    <tr style=\"text-align: right;\">\n",
       "      <th></th>\n",
       "      <th>phrase_nb</th>\n",
       "      <th>phrase_strt</th>\n",
       "      <th>phrase_end</th>\n",
       "      <th>phrase_len</th>\n",
       "      <th>note_cnt</th>\n",
       "      <th>note_nb</th>\n",
       "      <th>note_strt</th>\n",
       "      <th>note_end</th>\n",
       "      <th>note_len</th>\n",
       "      <th>indv</th>\n",
       "      <th>...</th>\n",
       "      <th>key</th>\n",
       "      <th>audio</th>\n",
       "      <th>rate</th>\n",
       "      <th>spectrogram</th>\n",
       "      <th>umap</th>\n",
       "      <th>hdbscan_labels</th>\n",
       "      <th>recur_labels</th>\n",
       "      <th>recur_labels_id</th>\n",
       "      <th>lasso_labels</th>\n",
       "      <th>seq_id</th>\n",
       "    </tr>\n",
       "  </thead>\n",
       "  <tbody>\n",
       "    <tr>\n",
       "      <th>0</th>\n",
       "      <td>0</td>\n",
       "      <td>513.780000</td>\n",
       "      <td>517.061923</td>\n",
       "      <td>3.281923</td>\n",
       "      <td>15</td>\n",
       "      <td>0</td>\n",
       "      <td>513.780000</td>\n",
       "      <td>513.905214</td>\n",
       "      <td>0.125214</td>\n",
       "      <td>Bird5</td>\n",
       "      <td>...</td>\n",
       "      <td>LS110143.10.12.2015GeoGreens_dn</td>\n",
       "      <td>[-0.0, -7.356902671940375e-05, -0.000162745769...</td>\n",
       "      <td>44100</td>\n",
       "      <td>[[0, 0, 0, 0, 0, 0, 0, 0, 0, 0, 0, 0, 0, 0, 0,...</td>\n",
       "      <td>[4.8774133, 15.248685]</td>\n",
       "      <td>16</td>\n",
       "      <td>16|1|0|nan|nan|nan|nan|nan|nan</td>\n",
       "      <td>87</td>\n",
       "      <td>42</td>\n",
       "      <td>0</td>\n",
       "    </tr>\n",
       "    <tr>\n",
       "      <th>1</th>\n",
       "      <td>0</td>\n",
       "      <td>513.780000</td>\n",
       "      <td>517.061923</td>\n",
       "      <td>3.281923</td>\n",
       "      <td>15</td>\n",
       "      <td>1</td>\n",
       "      <td>513.917747</td>\n",
       "      <td>513.980936</td>\n",
       "      <td>0.063188</td>\n",
       "      <td>Bird5</td>\n",
       "      <td>...</td>\n",
       "      <td>LS110143.10.12.2015GeoGreens_dn</td>\n",
       "      <td>[0.0, 0.0014728324725323874, 0.002769917049663...</td>\n",
       "      <td>44100</td>\n",
       "      <td>[[0, 0, 0, 0, 0, 0, 0, 0, 0, 0, 0, 0, 0, 0, 0,...</td>\n",
       "      <td>[6.9320498, 10.134182]</td>\n",
       "      <td>13</td>\n",
       "      <td>13|1|0|1.0|0.0|1.0|0.0|nan|nan</td>\n",
       "      <td>45</td>\n",
       "      <td>52</td>\n",
       "      <td>0</td>\n",
       "    </tr>\n",
       "    <tr>\n",
       "      <th>2</th>\n",
       "      <td>0</td>\n",
       "      <td>513.780000</td>\n",
       "      <td>517.061923</td>\n",
       "      <td>3.281923</td>\n",
       "      <td>15</td>\n",
       "      <td>2</td>\n",
       "      <td>514.170000</td>\n",
       "      <td>514.480698</td>\n",
       "      <td>0.310698</td>\n",
       "      <td>Bird5</td>\n",
       "      <td>...</td>\n",
       "      <td>LS110143.10.12.2015GeoGreens_dn</td>\n",
       "      <td>[0.0, 4.4531726447127805e-05, 4.62385657049665...</td>\n",
       "      <td>44100</td>\n",
       "      <td>[[0, 0, 0, 0, 0, 0, 0, 0, 0, 0, 0, 0, 0, 0, 0,...</td>\n",
       "      <td>[8.438871, 21.151648]</td>\n",
       "      <td>5</td>\n",
       "      <td>5|2|0|0.0|nan|nan|nan|nan|nan</td>\n",
       "      <td>143</td>\n",
       "      <td>3</td>\n",
       "      <td>0</td>\n",
       "    </tr>\n",
       "    <tr>\n",
       "      <th>3</th>\n",
       "      <td>0</td>\n",
       "      <td>513.780000</td>\n",
       "      <td>517.061923</td>\n",
       "      <td>3.281923</td>\n",
       "      <td>15</td>\n",
       "      <td>3</td>\n",
       "      <td>514.620783</td>\n",
       "      <td>515.310000</td>\n",
       "      <td>0.689217</td>\n",
       "      <td>Bird5</td>\n",
       "      <td>...</td>\n",
       "      <td>LS110143.10.12.2015GeoGreens_dn</td>\n",
       "      <td>[-0.0, -3.2631556531601904e-06, -7.44037823939...</td>\n",
       "      <td>44100</td>\n",
       "      <td>[[0, 0, 0, 0, 0, 0, 0, 0, 0, 0, 0, 0, 0, 0, 0,...</td>\n",
       "      <td>[19.637224, -5.1326833]</td>\n",
       "      <td>7</td>\n",
       "      <td>7|0|1|0.0|nan|nan|nan|nan|nan</td>\n",
       "      <td>151</td>\n",
       "      <td>20</td>\n",
       "      <td>0</td>\n",
       "    </tr>\n",
       "    <tr>\n",
       "      <th>4</th>\n",
       "      <td>0</td>\n",
       "      <td>513.780000</td>\n",
       "      <td>517.061923</td>\n",
       "      <td>3.281923</td>\n",
       "      <td>15</td>\n",
       "      <td>4</td>\n",
       "      <td>515.355217</td>\n",
       "      <td>515.660180</td>\n",
       "      <td>0.304964</td>\n",
       "      <td>Bird5</td>\n",
       "      <td>...</td>\n",
       "      <td>LS110143.10.12.2015GeoGreens_dn</td>\n",
       "      <td>[-0.0, -2.958346783314775e-05, -7.119856074752...</td>\n",
       "      <td>44100</td>\n",
       "      <td>[[0, 0, 0, 0, 0, 0, 0, 0, 0, 0, 0, 0, 0, 0, 0,...</td>\n",
       "      <td>[9.055997, -1.52321]</td>\n",
       "      <td>12</td>\n",
       "      <td>12|1|0|nan|nan|nan|nan|nan|nan</td>\n",
       "      <td>38</td>\n",
       "      <td>14</td>\n",
       "      <td>0</td>\n",
       "    </tr>\n",
       "    <tr>\n",
       "      <th>...</th>\n",
       "      <td>...</td>\n",
       "      <td>...</td>\n",
       "      <td>...</td>\n",
       "      <td>...</td>\n",
       "      <td>...</td>\n",
       "      <td>...</td>\n",
       "      <td>...</td>\n",
       "      <td>...</td>\n",
       "      <td>...</td>\n",
       "      <td>...</td>\n",
       "      <td>...</td>\n",
       "      <td>...</td>\n",
       "      <td>...</td>\n",
       "      <td>...</td>\n",
       "      <td>...</td>\n",
       "      <td>...</td>\n",
       "      <td>...</td>\n",
       "      <td>...</td>\n",
       "      <td>...</td>\n",
       "      <td>...</td>\n",
       "      <td>...</td>\n",
       "    </tr>\n",
       "    <tr>\n",
       "      <th>17325</th>\n",
       "      <td>488</td>\n",
       "      <td>3955.500491</td>\n",
       "      <td>3957.771268</td>\n",
       "      <td>2.270777</td>\n",
       "      <td>16</td>\n",
       "      <td>11</td>\n",
       "      <td>3956.827269</td>\n",
       "      <td>3956.984287</td>\n",
       "      <td>0.157018</td>\n",
       "      <td>Bird5</td>\n",
       "      <td>...</td>\n",
       "      <td>LS110146A.10.13.2015GeoGreens_dn</td>\n",
       "      <td>[-0.0, -0.0003734800289541283, -0.000744419409...</td>\n",
       "      <td>44100</td>\n",
       "      <td>[[0, 0, 0, 0, 0, 0, 0, 0, 0, 0, 0, 0, 0, 0, 0,...</td>\n",
       "      <td>[5.5191817, -9.9033375]</td>\n",
       "      <td>8</td>\n",
       "      <td>8|1|0|nan|nan|nan|nan|nan|nan</td>\n",
       "      <td>161</td>\n",
       "      <td>4</td>\n",
       "      <td>1770</td>\n",
       "    </tr>\n",
       "    <tr>\n",
       "      <th>17326</th>\n",
       "      <td>488</td>\n",
       "      <td>3955.500491</td>\n",
       "      <td>3957.771268</td>\n",
       "      <td>2.270777</td>\n",
       "      <td>16</td>\n",
       "      <td>12</td>\n",
       "      <td>3957.129954</td>\n",
       "      <td>3957.413722</td>\n",
       "      <td>0.283767</td>\n",
       "      <td>Bird5</td>\n",
       "      <td>...</td>\n",
       "      <td>LS110146A.10.13.2015GeoGreens_dn</td>\n",
       "      <td>[-0.0, -5.999877314464557e-06, -1.294964036885...</td>\n",
       "      <td>44100</td>\n",
       "      <td>[[0, 0, 0, 0, 0, 0, 0, 0, 0, 0, 0, 0, 0, 0, 0,...</td>\n",
       "      <td>[17.48298, -3.0183713]</td>\n",
       "      <td>15</td>\n",
       "      <td>15|1|0|nan|nan|nan|nan|nan|nan</td>\n",
       "      <td>81</td>\n",
       "      <td>23</td>\n",
       "      <td>1770</td>\n",
       "    </tr>\n",
       "    <tr>\n",
       "      <th>17327</th>\n",
       "      <td>488</td>\n",
       "      <td>3955.500491</td>\n",
       "      <td>3957.771268</td>\n",
       "      <td>2.270777</td>\n",
       "      <td>16</td>\n",
       "      <td>13</td>\n",
       "      <td>3957.530000</td>\n",
       "      <td>3957.576257</td>\n",
       "      <td>0.046257</td>\n",
       "      <td>Bird5</td>\n",
       "      <td>...</td>\n",
       "      <td>LS110146A.10.13.2015GeoGreens_dn</td>\n",
       "      <td>[-0.0, -0.00020799144552458053, -0.00033384171...</td>\n",
       "      <td>44100</td>\n",
       "      <td>[[0, 0, 0, 0, 0, 0, 0, 0, 0, 0, 0, 0, 0, 0, 0,...</td>\n",
       "      <td>[4.470899, -3.3807]</td>\n",
       "      <td>4</td>\n",
       "      <td>4|1|1|0.0|1.0|0.0|nan|nan|nan</td>\n",
       "      <td>138</td>\n",
       "      <td>63</td>\n",
       "      <td>1770</td>\n",
       "    </tr>\n",
       "    <tr>\n",
       "      <th>17328</th>\n",
       "      <td>488</td>\n",
       "      <td>3955.500491</td>\n",
       "      <td>3957.771268</td>\n",
       "      <td>2.270777</td>\n",
       "      <td>16</td>\n",
       "      <td>14</td>\n",
       "      <td>3957.585716</td>\n",
       "      <td>3957.644361</td>\n",
       "      <td>0.058645</td>\n",
       "      <td>Bird5</td>\n",
       "      <td>...</td>\n",
       "      <td>LS110146A.10.13.2015GeoGreens_dn</td>\n",
       "      <td>[0.0, 0.0007728977791414965, 0.000127507273682...</td>\n",
       "      <td>44100</td>\n",
       "      <td>[[0, 0, 0, 0, 0, 0, 0, 0, 0, 0, 0, 0, 0, 0, 0,...</td>\n",
       "      <td>[4.4345427, -3.3523924]</td>\n",
       "      <td>4</td>\n",
       "      <td>4|1|1|0.0|1.0|0.0|nan|nan|nan</td>\n",
       "      <td>138</td>\n",
       "      <td>63</td>\n",
       "      <td>1770</td>\n",
       "    </tr>\n",
       "    <tr>\n",
       "      <th>17329</th>\n",
       "      <td>488</td>\n",
       "      <td>3955.500491</td>\n",
       "      <td>3957.771268</td>\n",
       "      <td>2.270777</td>\n",
       "      <td>16</td>\n",
       "      <td>15</td>\n",
       "      <td>3957.652874</td>\n",
       "      <td>3957.771268</td>\n",
       "      <td>0.118394</td>\n",
       "      <td>Bird5</td>\n",
       "      <td>...</td>\n",
       "      <td>LS110146A.10.13.2015GeoGreens_dn</td>\n",
       "      <td>[0.0, 0.00011858547843942706, -0.0002786145864...</td>\n",
       "      <td>44100</td>\n",
       "      <td>[[0, 0, 0, 0, 0, 0, 0, 0, 0, 0, 0, 0, 0, 0, 0,...</td>\n",
       "      <td>[4.437637, 13.322912]</td>\n",
       "      <td>17</td>\n",
       "      <td>17|0|1|0.0|nan|nan|nan|nan|nan</td>\n",
       "      <td>89</td>\n",
       "      <td>43</td>\n",
       "      <td>1770</td>\n",
       "    </tr>\n",
       "  </tbody>\n",
       "</table>\n",
       "<p>17330 rows × 21 columns</p>\n",
       "</div>"
      ],
      "text/plain": [
       "       phrase_nb  phrase_strt   phrase_end  phrase_len  note_cnt  note_nb  \\\n",
       "0              0   513.780000   517.061923    3.281923        15        0   \n",
       "1              0   513.780000   517.061923    3.281923        15        1   \n",
       "2              0   513.780000   517.061923    3.281923        15        2   \n",
       "3              0   513.780000   517.061923    3.281923        15        3   \n",
       "4              0   513.780000   517.061923    3.281923        15        4   \n",
       "...          ...          ...          ...         ...       ...      ...   \n",
       "17325        488  3955.500491  3957.771268    2.270777        16       11   \n",
       "17326        488  3955.500491  3957.771268    2.270777        16       12   \n",
       "17327        488  3955.500491  3957.771268    2.270777        16       13   \n",
       "17328        488  3955.500491  3957.771268    2.270777        16       14   \n",
       "17329        488  3955.500491  3957.771268    2.270777        16       15   \n",
       "\n",
       "         note_strt     note_end  note_len   indv  ...  \\\n",
       "0       513.780000   513.905214  0.125214  Bird5  ...   \n",
       "1       513.917747   513.980936  0.063188  Bird5  ...   \n",
       "2       514.170000   514.480698  0.310698  Bird5  ...   \n",
       "3       514.620783   515.310000  0.689217  Bird5  ...   \n",
       "4       515.355217   515.660180  0.304964  Bird5  ...   \n",
       "...            ...          ...       ...    ...  ...   \n",
       "17325  3956.827269  3956.984287  0.157018  Bird5  ...   \n",
       "17326  3957.129954  3957.413722  0.283767  Bird5  ...   \n",
       "17327  3957.530000  3957.576257  0.046257  Bird5  ...   \n",
       "17328  3957.585716  3957.644361  0.058645  Bird5  ...   \n",
       "17329  3957.652874  3957.771268  0.118394  Bird5  ...   \n",
       "\n",
       "                                    key  \\\n",
       "0       LS110143.10.12.2015GeoGreens_dn   \n",
       "1       LS110143.10.12.2015GeoGreens_dn   \n",
       "2       LS110143.10.12.2015GeoGreens_dn   \n",
       "3       LS110143.10.12.2015GeoGreens_dn   \n",
       "4       LS110143.10.12.2015GeoGreens_dn   \n",
       "...                                 ...   \n",
       "17325  LS110146A.10.13.2015GeoGreens_dn   \n",
       "17326  LS110146A.10.13.2015GeoGreens_dn   \n",
       "17327  LS110146A.10.13.2015GeoGreens_dn   \n",
       "17328  LS110146A.10.13.2015GeoGreens_dn   \n",
       "17329  LS110146A.10.13.2015GeoGreens_dn   \n",
       "\n",
       "                                                   audio   rate  \\\n",
       "0      [-0.0, -7.356902671940375e-05, -0.000162745769...  44100   \n",
       "1      [0.0, 0.0014728324725323874, 0.002769917049663...  44100   \n",
       "2      [0.0, 4.4531726447127805e-05, 4.62385657049665...  44100   \n",
       "3      [-0.0, -3.2631556531601904e-06, -7.44037823939...  44100   \n",
       "4      [-0.0, -2.958346783314775e-05, -7.119856074752...  44100   \n",
       "...                                                  ...    ...   \n",
       "17325  [-0.0, -0.0003734800289541283, -0.000744419409...  44100   \n",
       "17326  [-0.0, -5.999877314464557e-06, -1.294964036885...  44100   \n",
       "17327  [-0.0, -0.00020799144552458053, -0.00033384171...  44100   \n",
       "17328  [0.0, 0.0007728977791414965, 0.000127507273682...  44100   \n",
       "17329  [0.0, 0.00011858547843942706, -0.0002786145864...  44100   \n",
       "\n",
       "                                             spectrogram  \\\n",
       "0      [[0, 0, 0, 0, 0, 0, 0, 0, 0, 0, 0, 0, 0, 0, 0,...   \n",
       "1      [[0, 0, 0, 0, 0, 0, 0, 0, 0, 0, 0, 0, 0, 0, 0,...   \n",
       "2      [[0, 0, 0, 0, 0, 0, 0, 0, 0, 0, 0, 0, 0, 0, 0,...   \n",
       "3      [[0, 0, 0, 0, 0, 0, 0, 0, 0, 0, 0, 0, 0, 0, 0,...   \n",
       "4      [[0, 0, 0, 0, 0, 0, 0, 0, 0, 0, 0, 0, 0, 0, 0,...   \n",
       "...                                                  ...   \n",
       "17325  [[0, 0, 0, 0, 0, 0, 0, 0, 0, 0, 0, 0, 0, 0, 0,...   \n",
       "17326  [[0, 0, 0, 0, 0, 0, 0, 0, 0, 0, 0, 0, 0, 0, 0,...   \n",
       "17327  [[0, 0, 0, 0, 0, 0, 0, 0, 0, 0, 0, 0, 0, 0, 0,...   \n",
       "17328  [[0, 0, 0, 0, 0, 0, 0, 0, 0, 0, 0, 0, 0, 0, 0,...   \n",
       "17329  [[0, 0, 0, 0, 0, 0, 0, 0, 0, 0, 0, 0, 0, 0, 0,...   \n",
       "\n",
       "                          umap hdbscan_labels                    recur_labels  \\\n",
       "0       [4.8774133, 15.248685]             16  16|1|0|nan|nan|nan|nan|nan|nan   \n",
       "1       [6.9320498, 10.134182]             13  13|1|0|1.0|0.0|1.0|0.0|nan|nan   \n",
       "2        [8.438871, 21.151648]              5   5|2|0|0.0|nan|nan|nan|nan|nan   \n",
       "3      [19.637224, -5.1326833]              7   7|0|1|0.0|nan|nan|nan|nan|nan   \n",
       "4         [9.055997, -1.52321]             12  12|1|0|nan|nan|nan|nan|nan|nan   \n",
       "...                        ...            ...                             ...   \n",
       "17325  [5.5191817, -9.9033375]              8   8|1|0|nan|nan|nan|nan|nan|nan   \n",
       "17326   [17.48298, -3.0183713]             15  15|1|0|nan|nan|nan|nan|nan|nan   \n",
       "17327      [4.470899, -3.3807]              4   4|1|1|0.0|1.0|0.0|nan|nan|nan   \n",
       "17328  [4.4345427, -3.3523924]              4   4|1|1|0.0|1.0|0.0|nan|nan|nan   \n",
       "17329    [4.437637, 13.322912]             17  17|0|1|0.0|nan|nan|nan|nan|nan   \n",
       "\n",
       "      recur_labels_id  lasso_labels  seq_id  \n",
       "0                  87            42       0  \n",
       "1                  45            52       0  \n",
       "2                 143             3       0  \n",
       "3                 151            20       0  \n",
       "4                  38            14       0  \n",
       "...               ...           ...     ...  \n",
       "17325             161             4    1770  \n",
       "17326              81            23    1770  \n",
       "17327             138            63    1770  \n",
       "17328             138            63    1770  \n",
       "17329              89            43    1770  \n",
       "\n",
       "[17330 rows x 21 columns]"
      ]
     },
     "execution_count": 2,
     "metadata": {},
     "output_type": "execute_result"
    }
   ],
   "source": [
    "## Load up Note Dataframe\n",
    "\n",
    "import pandas as pd\n",
    "from pathlib2 import Path\n",
    "\n",
    "from butcherbird.utils.paths import DATA_DIR\n",
    "\n",
    "SAVE_LOC = 'interim/fine_labels/butcherbird_note_df_'+indv+'_fine.pickle'\n",
    "SAVE_LOC = DATA_DIR / SAVE_LOC\n",
    "\n",
    "note_df = pd.read_pickle(SAVE_LOC)\n",
    "\n",
    "note_df"
   ]
  },
  {
   "cell_type": "code",
   "execution_count": 3,
   "id": "fce46403",
   "metadata": {},
   "outputs": [],
   "source": [
    "## Tap into dyadic calculations"
   ]
  },
  {
   "cell_type": "code",
   "execution_count": 4,
   "id": "8477d92d",
   "metadata": {},
   "outputs": [],
   "source": [
    "import scipy.stats as stats\n",
    "import numpy as np"
   ]
  },
  {
   "cell_type": "code",
   "execution_count": 5,
   "id": "26ed89af",
   "metadata": {},
   "outputs": [],
   "source": [
    "def construct_rhythm_df(onsets, syntactic_units, expected_interval_range, note_len = [0]):\n",
    "    '''\n",
    "    This function transforms a list of onsets and list of syntactic units for rhythm analyses\n",
    "    '''\n",
    "    \n",
    "    ### DISCOVER ALL INTER-ONSET INTERVALS\n",
    "    ## Use counter design\n",
    "    i = 0\n",
    "    intervals = []\n",
    "    avg_len = np.mean(note_len)\n",
    "    \n",
    "    ## for every note onset\n",
    "    for onset in onsets:\n",
    "        \n",
    "        ## if at last note, exit for loop\n",
    "        if i == (len(onsets) - 1):\n",
    "            continue\n",
    "            \n",
    "        ## interval = next onset - current onset, add to interval list\n",
    "        interval = onsets[i + 1] - onsets[i]\n",
    "        \n",
    "        ######## IF CONTROL IS ON, substract note_len to nullify note_len, and repopulate with mean note_len\n",
    "        interval = interval - note_len[i] + avg_len\n",
    "        \n",
    "        intervals.append(interval)\n",
    "        \n",
    "        ## counter up\n",
    "        i = i + 1\n",
    "        \n",
    "    ## Collect intervals into dyadic formation\n",
    "    \n",
    "    ## interval 1 does not include last interval\n",
    "    intervals1 = list(intervals)\n",
    "    del(intervals1[-1])\n",
    "    \n",
    "    ## interval 2 does not include first interval\n",
    "    intervals2 = list(intervals)\n",
    "    del(intervals2[0])\n",
    "    \n",
    "    ## Put intervals into datafrmae\n",
    "    d = {'intervals1': intervals1, 'intervals2': intervals2}\n",
    "    dyadic = pd.DataFrame(data = d)\n",
    "    \n",
    "    ## back propagate label and spec information\n",
    "    \n",
    "    ## note identity 1 // Delete last two values\n",
    "    labels1 = list(syntactic_units)\n",
    "    del(labels1[-1])\n",
    "    del(labels1[-1])\n",
    "    \n",
    "    ## note identity 2 // Delete first and last value\n",
    "    labels2 = list(syntactic_units)\n",
    "    del(labels2[0])\n",
    "    del(labels2[-1])\n",
    "    \n",
    "    ## note identity 3 // Delete first two values\n",
    "    labels3 = list(syntactic_units)\n",
    "    del(labels3[0])\n",
    "    del(labels3[0])\n",
    "    \n",
    "    ## fill\n",
    "    dyadic['label1'] = labels1\n",
    "    dyadic['label2'] = labels2\n",
    "    dyadic['label3'] = labels3\n",
    "    \n",
    "    ## Sort dyadic into short/long interval\n",
    "    ### sort all intervals and calculate necessary components\n",
    "    s_interval = []\n",
    "    l_interval = []\n",
    "    cycle_dur = []\n",
    "    ratio_custom = []\n",
    "    ratio_roeske = []\n",
    "    \n",
    "    ## for every dyadic\n",
    "    for index, row in dyadic.iterrows():\n",
    "\n",
    "        i1 = row['intervals1']\n",
    "        i2 = row['intervals2']\n",
    "\n",
    "        ## short long decider\n",
    "        if i1 > i2:\n",
    "            s = i2\n",
    "            l = i1\n",
    "        else:\n",
    "            s = i1\n",
    "            l = i2\n",
    "            \n",
    "        ## calculate components\n",
    "        s_interval.append(s)\n",
    "        l_interval.append(l)\n",
    "        cycle_dur.append(s + l)\n",
    "        ratio_roeske.append(i1/(i1+i2))\n",
    "        ratio_custom.append(s/l)\n",
    "\n",
    "    ## push into dyadic\n",
    "    dyadic['s_interval'] = s_interval\n",
    "    dyadic['l_interval'] = l_interval\n",
    "    dyadic['cycle_dur'] = cycle_dur\n",
    "    dyadic['ratio_roeske'] = ratio_roeske\n",
    "    dyadic['ratio_custom'] = ratio_custom\n",
    "    \n",
    "    ## sort ascending by shortest cycle to longest cycle\n",
    "    dyadic = dyadic.sort_values(by = ['cycle_dur'])\n",
    "    \n",
    "    ## filter out transition between phrases\n",
    "    dyadic = dyadic[dyadic['l_interval'] < expected_interval_range[1]]\n",
    "    dyadic = dyadic[dyadic['s_interval'] > expected_interval_range[0]]\n",
    "    \n",
    "    ## put cycle rank into data frame\n",
    "    dyadic['cycle_rank'] = dyadic['cycle_dur'].rank().astype(int)\n",
    "    \n",
    "    return dyadic"
   ]
  },
  {
   "cell_type": "code",
   "execution_count": 6,
   "id": "d443cf3a",
   "metadata": {},
   "outputs": [],
   "source": [
    "onsets = note_df['note_strt']\n",
    "syntactic_units = note_df['lasso_labels']\n",
    "expected_interval_range = [0, 1]\n",
    "dataset_description = 'Songbird: Pied Butcherbirds'"
   ]
  },
  {
   "cell_type": "code",
   "execution_count": 7,
   "id": "0d6f789c",
   "metadata": {},
   "outputs": [],
   "source": [
    "dyadic = construct_rhythm_df(\n",
    "    onsets = onsets, \n",
    "    syntactic_units = syntactic_units, \n",
    "    expected_interval_range = expected_interval_range,\n",
    "    note_len = note_df['note_len']\n",
    ")"
   ]
  },
  {
   "cell_type": "code",
   "execution_count": 8,
   "id": "96244620",
   "metadata": {},
   "outputs": [
    {
     "data": {
      "text/plain": [
       "0.11899429688292684"
      ]
     },
     "execution_count": 8,
     "metadata": {},
     "output_type": "execute_result"
    }
   ],
   "source": [
    "np.mean(note_df['note_len'])"
   ]
  },
  {
   "cell_type": "code",
   "execution_count": 9,
   "id": "d56cd87c",
   "metadata": {},
   "outputs": [
    {
     "data": {
      "text/html": [
       "<div>\n",
       "<style scoped>\n",
       "    .dataframe tbody tr th:only-of-type {\n",
       "        vertical-align: middle;\n",
       "    }\n",
       "\n",
       "    .dataframe tbody tr th {\n",
       "        vertical-align: top;\n",
       "    }\n",
       "\n",
       "    .dataframe thead th {\n",
       "        text-align: right;\n",
       "    }\n",
       "</style>\n",
       "<table border=\"1\" class=\"dataframe\">\n",
       "  <thead>\n",
       "    <tr style=\"text-align: right;\">\n",
       "      <th></th>\n",
       "      <th>intervals1</th>\n",
       "      <th>intervals2</th>\n",
       "      <th>label1</th>\n",
       "      <th>label2</th>\n",
       "      <th>label3</th>\n",
       "      <th>s_interval</th>\n",
       "      <th>l_interval</th>\n",
       "      <th>cycle_dur</th>\n",
       "      <th>ratio_roeske</th>\n",
       "      <th>ratio_custom</th>\n",
       "      <th>cycle_rank</th>\n",
       "    </tr>\n",
       "  </thead>\n",
       "  <tbody>\n",
       "    <tr>\n",
       "      <th>9579</th>\n",
       "      <td>0.118994</td>\n",
       "      <td>0.118994</td>\n",
       "      <td>44</td>\n",
       "      <td>35</td>\n",
       "      <td>32</td>\n",
       "      <td>0.118994</td>\n",
       "      <td>0.118994</td>\n",
       "      <td>0.237989</td>\n",
       "      <td>0.500000</td>\n",
       "      <td>1.000000</td>\n",
       "      <td>6</td>\n",
       "    </tr>\n",
       "    <tr>\n",
       "      <th>6572</th>\n",
       "      <td>0.118994</td>\n",
       "      <td>0.118994</td>\n",
       "      <td>8</td>\n",
       "      <td>35</td>\n",
       "      <td>17</td>\n",
       "      <td>0.118994</td>\n",
       "      <td>0.118994</td>\n",
       "      <td>0.237989</td>\n",
       "      <td>0.500000</td>\n",
       "      <td>1.000000</td>\n",
       "      <td>6</td>\n",
       "    </tr>\n",
       "    <tr>\n",
       "      <th>1010</th>\n",
       "      <td>0.118994</td>\n",
       "      <td>0.118994</td>\n",
       "      <td>56</td>\n",
       "      <td>35</td>\n",
       "      <td>47</td>\n",
       "      <td>0.118994</td>\n",
       "      <td>0.118994</td>\n",
       "      <td>0.237989</td>\n",
       "      <td>0.500000</td>\n",
       "      <td>1.000000</td>\n",
       "      <td>6</td>\n",
       "    </tr>\n",
       "    <tr>\n",
       "      <th>3931</th>\n",
       "      <td>0.118994</td>\n",
       "      <td>0.118994</td>\n",
       "      <td>52</td>\n",
       "      <td>36</td>\n",
       "      <td>5</td>\n",
       "      <td>0.118994</td>\n",
       "      <td>0.118994</td>\n",
       "      <td>0.237989</td>\n",
       "      <td>0.500000</td>\n",
       "      <td>1.000000</td>\n",
       "      <td>6</td>\n",
       "    </tr>\n",
       "    <tr>\n",
       "      <th>3332</th>\n",
       "      <td>0.118994</td>\n",
       "      <td>0.118994</td>\n",
       "      <td>50</td>\n",
       "      <td>35</td>\n",
       "      <td>47</td>\n",
       "      <td>0.118994</td>\n",
       "      <td>0.118994</td>\n",
       "      <td>0.237989</td>\n",
       "      <td>0.500000</td>\n",
       "      <td>1.000000</td>\n",
       "      <td>6</td>\n",
       "    </tr>\n",
       "    <tr>\n",
       "      <th>...</th>\n",
       "      <td>...</td>\n",
       "      <td>...</td>\n",
       "      <td>...</td>\n",
       "      <td>...</td>\n",
       "      <td>...</td>\n",
       "      <td>...</td>\n",
       "      <td>...</td>\n",
       "      <td>...</td>\n",
       "      <td>...</td>\n",
       "      <td>...</td>\n",
       "      <td>...</td>\n",
       "    </tr>\n",
       "    <tr>\n",
       "      <th>12317</th>\n",
       "      <td>0.891355</td>\n",
       "      <td>0.141711</td>\n",
       "      <td>31</td>\n",
       "      <td>7</td>\n",
       "      <td>19</td>\n",
       "      <td>0.141711</td>\n",
       "      <td>0.891355</td>\n",
       "      <td>1.033066</td>\n",
       "      <td>0.862825</td>\n",
       "      <td>0.158984</td>\n",
       "      <td>13791</td>\n",
       "    </tr>\n",
       "    <tr>\n",
       "      <th>8825</th>\n",
       "      <td>0.858994</td>\n",
       "      <td>0.198994</td>\n",
       "      <td>38</td>\n",
       "      <td>4</td>\n",
       "      <td>42</td>\n",
       "      <td>0.198994</td>\n",
       "      <td>0.858994</td>\n",
       "      <td>1.057989</td>\n",
       "      <td>0.811913</td>\n",
       "      <td>0.231660</td>\n",
       "      <td>13792</td>\n",
       "    </tr>\n",
       "    <tr>\n",
       "      <th>5972</th>\n",
       "      <td>0.840717</td>\n",
       "      <td>0.225005</td>\n",
       "      <td>29</td>\n",
       "      <td>9</td>\n",
       "      <td>35</td>\n",
       "      <td>0.225005</td>\n",
       "      <td>0.840717</td>\n",
       "      <td>1.065722</td>\n",
       "      <td>0.788871</td>\n",
       "      <td>0.267634</td>\n",
       "      <td>13793</td>\n",
       "    </tr>\n",
       "    <tr>\n",
       "      <th>5971</th>\n",
       "      <td>0.228945</td>\n",
       "      <td>0.840717</td>\n",
       "      <td>58</td>\n",
       "      <td>29</td>\n",
       "      <td>9</td>\n",
       "      <td>0.228945</td>\n",
       "      <td>0.840717</td>\n",
       "      <td>1.069663</td>\n",
       "      <td>0.214035</td>\n",
       "      <td>0.272322</td>\n",
       "      <td>13794</td>\n",
       "    </tr>\n",
       "    <tr>\n",
       "      <th>8824</th>\n",
       "      <td>0.406735</td>\n",
       "      <td>0.858994</td>\n",
       "      <td>52</td>\n",
       "      <td>38</td>\n",
       "      <td>4</td>\n",
       "      <td>0.406735</td>\n",
       "      <td>0.858994</td>\n",
       "      <td>1.265730</td>\n",
       "      <td>0.321345</td>\n",
       "      <td>0.473502</td>\n",
       "      <td>13795</td>\n",
       "    </tr>\n",
       "  </tbody>\n",
       "</table>\n",
       "<p>13795 rows × 11 columns</p>\n",
       "</div>"
      ],
      "text/plain": [
       "       intervals1  intervals2  label1  label2  label3  s_interval  l_interval  \\\n",
       "9579     0.118994    0.118994      44      35      32    0.118994    0.118994   \n",
       "6572     0.118994    0.118994       8      35      17    0.118994    0.118994   \n",
       "1010     0.118994    0.118994      56      35      47    0.118994    0.118994   \n",
       "3931     0.118994    0.118994      52      36       5    0.118994    0.118994   \n",
       "3332     0.118994    0.118994      50      35      47    0.118994    0.118994   \n",
       "...           ...         ...     ...     ...     ...         ...         ...   \n",
       "12317    0.891355    0.141711      31       7      19    0.141711    0.891355   \n",
       "8825     0.858994    0.198994      38       4      42    0.198994    0.858994   \n",
       "5972     0.840717    0.225005      29       9      35    0.225005    0.840717   \n",
       "5971     0.228945    0.840717      58      29       9    0.228945    0.840717   \n",
       "8824     0.406735    0.858994      52      38       4    0.406735    0.858994   \n",
       "\n",
       "       cycle_dur  ratio_roeske  ratio_custom  cycle_rank  \n",
       "9579    0.237989      0.500000      1.000000           6  \n",
       "6572    0.237989      0.500000      1.000000           6  \n",
       "1010    0.237989      0.500000      1.000000           6  \n",
       "3931    0.237989      0.500000      1.000000           6  \n",
       "3332    0.237989      0.500000      1.000000           6  \n",
       "...          ...           ...           ...         ...  \n",
       "12317   1.033066      0.862825      0.158984       13791  \n",
       "8825    1.057989      0.811913      0.231660       13792  \n",
       "5972    1.065722      0.788871      0.267634       13793  \n",
       "5971    1.069663      0.214035      0.272322       13794  \n",
       "8824    1.265730      0.321345      0.473502       13795  \n",
       "\n",
       "[13795 rows x 11 columns]"
      ]
     },
     "execution_count": 9,
     "metadata": {},
     "output_type": "execute_result"
    }
   ],
   "source": [
    "dyadic"
   ]
  },
  {
   "cell_type": "markdown",
   "id": "1cd4f97a",
   "metadata": {},
   "source": [
    "## Calculate Hopkins Statistic"
   ]
  },
  {
   "cell_type": "code",
   "execution_count": 10,
   "id": "5a38ff77",
   "metadata": {},
   "outputs": [
    {
     "name": "stderr",
     "output_type": "stream",
     "text": [
      "/home/AD/j8xing/syntax_rhythm_pbb/butcherbird/rhythm.py:300: TqdmExperimentalWarning: Using `tqdm.autonotebook.tqdm` in notebook mode. Use `tqdm.tqdm` instead to force console mode (e.g. in jupyter console)\n",
      "  from tqdm.autonotebook import tqdm\n"
     ]
    }
   ],
   "source": [
    "import butcherbird.rhythm as rhythm"
   ]
  },
  {
   "cell_type": "code",
   "execution_count": null,
   "id": "ede139d4",
   "metadata": {},
   "outputs": [
    {
     "data": {
      "application/vnd.jupyter.widget-view+json": {
       "model_id": "bd5b00fd182e47d29edc83e52febed9e",
       "version_major": 2,
       "version_minor": 0
      },
      "text/plain": [
       "  0%|          | 0/100 [00:00<?, ?it/s]"
      ]
     },
     "metadata": {},
     "output_type": "display_data"
    }
   ],
   "source": [
    "h = rhythm.decompose_rhythm(\n",
    "    ## Macro controls\n",
    "    dyadic, \n",
    "    label = None, \n",
    "    position = 1, \n",
    "    hopkins_iteration = 100,\n",
    "    ## Graph controls\n",
    "    figsize = (16, 32),\n",
    "    xlim = (0, 1),\n",
    "    s_interval = 's_interval',\n",
    "    l_interval = 'l_interval', \n",
    "    cycle_rank = 'cycle_rank',\n",
    "    marker = '.',\n",
    "    color = 'black', \n",
    "    hue_norm = (0, 1),\n",
    "    palette = 'deep',\n",
    "    legend = False, \n",
    "    linewidth = 0,\n",
    "    s = 20,\n",
    "    s_ratio = 0.04,\n",
    "    alpha = 1,\n",
    "    alpha_ratio = 0.25,\n",
    "    rhythm_ratio = 'ratio_roeske',\n",
    "    binwidth = 0.01,\n",
    "    kde = True\n",
    ")"
   ]
  },
  {
   "cell_type": "code",
   "execution_count": null,
   "id": "4aa41b1e",
   "metadata": {},
   "outputs": [],
   "source": [
    "np.mean(h)"
   ]
  },
  {
   "cell_type": "markdown",
   "id": "919e2a53",
   "metadata": {},
   "source": [
    "## Calculate Uniform Rhythm\n",
    "> Uniform rhythm is calculated under the assumption that interval lengths are uniformly distributed between a minimum and maximum interval length.  "
   ]
  },
  {
   "cell_type": "code",
   "execution_count": null,
   "id": "88974449",
   "metadata": {},
   "outputs": [],
   "source": [
    "import numpy as np\n",
    "import numpy.random as random\n",
    "import seaborn as sns"
   ]
  },
  {
   "cell_type": "code",
   "execution_count": null,
   "id": "1acdacdc",
   "metadata": {},
   "outputs": [],
   "source": [
    "interval_min = np.min([dyadic['intervals1'].values, dyadic['intervals2']])\n",
    "interval_max = np.max([dyadic['intervals1'].values, dyadic['intervals2']])"
   ]
  },
  {
   "cell_type": "code",
   "execution_count": null,
   "id": "816ef432",
   "metadata": {},
   "outputs": [],
   "source": [
    "interval1_uni = random.uniform(low = interval_min, high = interval_max, size = len(dyadic) * 1000)\n",
    "interval2_uni = random.uniform(low = interval_min, high = interval_max, size = len(dyadic) * 1000)\n",
    "uni_ratio = interval1_uni / (interval1_uni + interval2_uni)"
   ]
  },
  {
   "cell_type": "code",
   "execution_count": null,
   "id": "74658e4e",
   "metadata": {},
   "outputs": [],
   "source": [
    "sns.histplot(uni_ratio)"
   ]
  },
  {
   "cell_type": "markdown",
   "id": "7c1d3bd8",
   "metadata": {},
   "source": [
    "## Calculate Shuffled IOI Rhythm\n",
    "> Shuffled rhythm is calculated under the assumption that interval lengths are bootstrapped from the empirical distribution, but the consecutive order of intervals are shuffled. "
   ]
  },
  {
   "cell_type": "code",
   "execution_count": null,
   "id": "5fec365e",
   "metadata": {},
   "outputs": [],
   "source": [
    "n = 1000"
   ]
  },
  {
   "cell_type": "code",
   "execution_count": null,
   "id": "b4e9e3c5",
   "metadata": {},
   "outputs": [],
   "source": [
    "df_sf = []\n",
    "for i in np.arange(0, n):\n",
    "    interval1_sf = dyadic['intervals1'].sample(frac = 1, replace = True).values\n",
    "    interval2_sf = dyadic['intervals2'].sample(frac = 1, replace = True).values\n",
    "    df_sf.append(interval1_sf / (interval1_sf + interval2_sf))"
   ]
  },
  {
   "cell_type": "code",
   "execution_count": null,
   "id": "492b68d9",
   "metadata": {},
   "outputs": [],
   "source": [
    "sf_ratio = np.array(df_sf).flatten()"
   ]
  },
  {
   "cell_type": "code",
   "execution_count": null,
   "id": "e475ed22",
   "metadata": {},
   "outputs": [],
   "source": [
    "sns.histplot(sf_ratio)"
   ]
  },
  {
   "cell_type": "markdown",
   "id": "f4ef0b1f",
   "metadata": {},
   "source": [
    "## Calculate Shuffled Note + Gap\n",
    "> Shuffled Note + Gap rhythm is calculated under the assumption that note length and inter-note gaps are independently shuffled."
   ]
  },
  {
   "cell_type": "code",
   "execution_count": null,
   "id": "98e19bef",
   "metadata": {},
   "outputs": [],
   "source": [
    "import numpy.random as random"
   ]
  },
  {
   "cell_type": "code",
   "execution_count": null,
   "id": "e86b6c7d",
   "metadata": {},
   "outputs": [],
   "source": [
    "# find all gaps and their positions\n",
    "grand_gaps = []\n",
    "\n",
    "for phrase_nb in np.unique(note_df['phrase_nb']):\n",
    "    ## pull out each phrase\n",
    "    phrase = note_df[note_df['phrase_nb'] == phrase_nb]\n",
    "\n",
    "        ## find all internote gaps\n",
    "    gaps = phrase['note_strt'][1:].values - phrase['note_end'][:-1].values\n",
    "    grand_gaps.append(gaps)\n",
    "    \n",
    "grand_gaps = np.hstack(grand_gaps)\n",
    "grand_gaps = grand_gaps[grand_gaps < 10]\n",
    "grand_gaps = grand_gaps[grand_gaps > 0]## gaps that are more than 10 seconds long are noise"
   ]
  },
  {
   "cell_type": "code",
   "execution_count": null,
   "id": "619fa531",
   "metadata": {},
   "outputs": [],
   "source": [
    "df_lg = []\n",
    "\n",
    "for i in np.arange(0, n):\n",
    "    ## randomly shuffle gaps\n",
    "    random.shuffle(grand_gaps)\n",
    "    ## add to randomly shuffled lengths\n",
    "    shuffled_lg = grand_gaps + np.mean(note_df['note_len'])\n",
    "    \n",
    "    shuffled_lg_i1 = shuffled_lg[:-1]\n",
    "    shuffled_lg_i2 = shuffled_lg[1:]\n",
    "    \n",
    "    df_lg.append(shuffled_lg_i1 / (shuffled_lg_i1 + shuffled_lg_i2))"
   ]
  },
  {
   "cell_type": "code",
   "execution_count": null,
   "id": "f586fa7e",
   "metadata": {},
   "outputs": [],
   "source": [
    "lg_ratio = np.hstack(df_lg)"
   ]
  },
  {
   "cell_type": "code",
   "execution_count": null,
   "id": "85ca084c",
   "metadata": {},
   "outputs": [],
   "source": [
    "sns.histplot(lg_ratio)"
   ]
  },
  {
   "cell_type": "markdown",
   "id": "bf805b21",
   "metadata": {},
   "source": [
    "## plot"
   ]
  },
  {
   "cell_type": "code",
   "execution_count": null,
   "id": "d85f7bb8",
   "metadata": {},
   "outputs": [],
   "source": [
    "import matplotlib.pyplot as plt\n",
    "from matplotlib.pyplot import figure\n",
    "from butcherbird.utils.paths import FIGURE_DIR\n",
    "import seaborn as sns"
   ]
  },
  {
   "cell_type": "code",
   "execution_count": null,
   "id": "4029aa89",
   "metadata": {},
   "outputs": [],
   "source": [
    "figure(figsize = (4, 3), dpi = 300)\n",
    "\n",
    "plt.rcParams['patch.edgecolor'] = 'none'\n",
    "\n",
    "fig = sns.histplot(\n",
    "    x = dyadic['ratio_roeske'],\n",
    "    binwidth = 0.01,\n",
    "    stat = 'density',\n",
    "    color = '#A3E301',\n",
    "    fill = '#A3E301',\n",
    "    kde = True\n",
    ")\n",
    "\n",
    "uni = sns.histplot(\n",
    "    x = uni_ratio,\n",
    "    stat = 'density',\n",
    "    alpha = 0,\n",
    "    binwidth = 0.01,\n",
    "    color = '#FC6983',\n",
    "    kde = True,\n",
    "    line_kws = dict(linestyle = 'dashed')\n",
    ")\n",
    "\n",
    "'''sf = sns.histplot(\n",
    "        x = sf_ratio,\n",
    "        stat = 'density',\n",
    "        alpha = 0,\n",
    "        color = '#1DB6AB',\n",
    "        kde = True,\n",
    "        line_kws = dict(linestyle = 'dashed')\n",
    "    )\n",
    "\n",
    "lg = sns.histplot(\n",
    "        x = lg_ratio,\n",
    "        stat = 'density',\n",
    "        alpha = 0,\n",
    "        color = '#15215B',\n",
    "        kde = True,\n",
    "        line_kws = dict(linestyle = 'dashed')\n",
    ")'''\n",
    "\n",
    "ax = plt.gca()\n",
    "ax.set_xlim([0, 1])\n",
    "plt.xticks(np.arange(0, 1.25, 0.25))\n",
    "\n",
    "# save\n",
    "figname = 'fig1_' + 'lengthcontrol_rhythm_' + indv + '.pdf'\n",
    "plt.savefig(FIGURE_DIR/'len_control'/indv/figname)"
   ]
  },
  {
   "cell_type": "markdown",
   "id": "1e84c838",
   "metadata": {},
   "source": [
    "## Find Consistent Transitions (Copied from 3.1)"
   ]
  },
  {
   "cell_type": "code",
   "execution_count": null,
   "id": "7e2de5db",
   "metadata": {},
   "outputs": [],
   "source": [
    "from butcherbird import sequential"
   ]
  },
  {
   "cell_type": "code",
   "execution_count": null,
   "id": "69b8999a",
   "metadata": {},
   "outputs": [],
   "source": [
    "import numpy as np"
   ]
  },
  {
   "cell_type": "code",
   "execution_count": null,
   "id": "6d28730b",
   "metadata": {},
   "outputs": [],
   "source": [
    "trans_mat = sequential.construct_seq_matrix(note_df, label = 'lasso_labels', sort = False)"
   ]
  },
  {
   "cell_type": "code",
   "execution_count": null,
   "id": "d673e7a7",
   "metadata": {},
   "outputs": [],
   "source": [
    "## bootstrap null distributions with 100 samples under 0-order syntax assumption"
   ]
  },
  {
   "cell_type": "code",
   "execution_count": null,
   "id": "daae1f18",
   "metadata": {},
   "outputs": [],
   "source": [
    "p_container = []\n",
    "\n",
    "## sample 100 times\n",
    "for i in np.arange(0, 100):\n",
    "    \n",
    "    ## bootstrap one zero-order sequence\n",
    "    bootstrapped_df = note_df.sample(n = len(note_df), replace = True).reset_index()\n",
    "    \n",
    "    ## find the transition matrix of the sequence\n",
    "    bootstrapped_mat = sequential.construct_seq_matrix(bootstrapped_df, label = 'lasso_labels', sort = False)\n",
    "    \n",
    "    ## turn the matrix into long form\n",
    "    bootstrapped_long = sequential.long_cvtr(bootstrapped_mat, songType = 'Bootstrapped')\n",
    "    \n",
    "    ## return bootstrapped distribution of all transition probabilities\n",
    "    p_container.append(bootstrapped_long.p.values)\n",
    "    \n",
    "p_container"
   ]
  },
  {
   "cell_type": "code",
   "execution_count": null,
   "id": "f1c63634",
   "metadata": {},
   "outputs": [],
   "source": [
    "## swap axes so that each element in p_container is a null sampling distribution of \n",
    "## find how likely that specific transition happpens with just 0 order syntax"
   ]
  },
  {
   "cell_type": "code",
   "execution_count": null,
   "id": "7de711cb",
   "metadata": {},
   "outputs": [],
   "source": [
    "p = np.swapaxes(p_container, 0, 1)"
   ]
  },
  {
   "cell_type": "code",
   "execution_count": null,
   "id": "8b39cb6f",
   "metadata": {},
   "outputs": [],
   "source": [
    "p"
   ]
  },
  {
   "cell_type": "code",
   "execution_count": null,
   "id": "ff54d6f4",
   "metadata": {},
   "outputs": [],
   "source": [
    "import numpy as np\n",
    "import scipy.stats\n",
    "\n",
    "## a standard calculation for confidence interval\n",
    "def mean_confidence_interval(data, confidence=0.95):\n",
    "    a = 1.0 * np.array(data)\n",
    "    n = len(a)\n",
    "    m, se = np.mean(a), scipy.stats.sem(a)\n",
    "    h = se * scipy.stats.t.ppf((1 + confidence) / 2., n-1)\n",
    "    return m, m-h, m+h"
   ]
  },
  {
   "cell_type": "code",
   "execution_count": null,
   "id": "ed59c539",
   "metadata": {},
   "outputs": [],
   "source": [
    "higherconfints = []\n",
    "\n",
    "for null_transitions in p:\n",
    "    higherconfints.append(mean_confidence_interval(null_transitions, confidence = 0.95)[2])\n",
    "    \n",
    "higherconfints"
   ]
  },
  {
   "cell_type": "code",
   "execution_count": null,
   "id": "cfd1ef36",
   "metadata": {},
   "outputs": [],
   "source": [
    "trans_long = sequential.long_cvtr(trans_mat, songType = 'True')"
   ]
  },
  {
   "cell_type": "code",
   "execution_count": null,
   "id": "801db54b",
   "metadata": {
    "scrolled": true
   },
   "outputs": [],
   "source": [
    "trans_long"
   ]
  },
  {
   "cell_type": "code",
   "execution_count": null,
   "id": "50dd94b2",
   "metadata": {},
   "outputs": [],
   "source": [
    "trans_long['higherconfint'] = higherconfints"
   ]
  },
  {
   "cell_type": "code",
   "execution_count": null,
   "id": "31ab814e",
   "metadata": {},
   "outputs": [],
   "source": [
    "trans_long"
   ]
  },
  {
   "cell_type": "code",
   "execution_count": null,
   "id": "bc5a303f",
   "metadata": {},
   "outputs": [],
   "source": [
    "filtered_trans_long = trans_long[trans_long.p > trans_long.higherconfint]"
   ]
  },
  {
   "cell_type": "code",
   "execution_count": null,
   "id": "f656f7c4",
   "metadata": {
    "scrolled": true
   },
   "outputs": [],
   "source": [
    "filtered_trans_long"
   ]
  },
  {
   "cell_type": "code",
   "execution_count": null,
   "id": "21b6a0a2",
   "metadata": {},
   "outputs": [],
   "source": [
    "ftl = filtered_trans_long"
   ]
  },
  {
   "cell_type": "code",
   "execution_count": null,
   "id": "1e921202",
   "metadata": {},
   "outputs": [],
   "source": [
    "## verify rhythm counts above 0.01 of total rhythm count (8013 * 0.01)"
   ]
  },
  {
   "cell_type": "code",
   "execution_count": null,
   "id": "0c6a1152",
   "metadata": {},
   "outputs": [],
   "source": [
    "verified = []\n",
    "\n",
    "for index, transition in ftl.iterrows():\n",
    "    note = transition.noteType\n",
    "    dest = transition.markov\n",
    "    \n",
    "    ## find if dyadic contains enough entries for this particular combination\n",
    "    first_filter = dyadic[dyadic.label1 == note]\n",
    "    second_filter = first_filter[first_filter.label2 == dest]\n",
    "    \n",
    "    if len(second_filter) > 0.01*len(dyadic):\n",
    "        verified.append(index)"
   ]
  },
  {
   "cell_type": "code",
   "execution_count": null,
   "id": "e55154b3",
   "metadata": {},
   "outputs": [],
   "source": [
    "vr = ftl.filter(items = verified, axis = 0)"
   ]
  },
  {
   "cell_type": "code",
   "execution_count": null,
   "id": "069bec2e",
   "metadata": {},
   "outputs": [],
   "source": [
    "unique, counts = np.unique(vr.noteType, return_counts = True)"
   ]
  },
  {
   "cell_type": "code",
   "execution_count": null,
   "id": "da1db056",
   "metadata": {},
   "outputs": [],
   "source": [
    "eligible_notes = []\n",
    "for noteType, count in zip(unique, counts):\n",
    "    if count > 1:\n",
    "        eligible_notes.append(noteType)"
   ]
  },
  {
   "cell_type": "code",
   "execution_count": null,
   "id": "d61d92f7",
   "metadata": {},
   "outputs": [],
   "source": [
    "eligible_transitions = []\n",
    "\n",
    "for n in eligible_notes:\n",
    "    eligible_transitions.append(vr[vr.noteType == n])\n",
    "    \n",
    "eligible_transitions = pd.concat(eligible_transitions)"
   ]
  },
  {
   "cell_type": "code",
   "execution_count": null,
   "id": "901bdc91",
   "metadata": {},
   "outputs": [],
   "source": [
    "eligible_transitions"
   ]
  },
  {
   "cell_type": "code",
   "execution_count": null,
   "id": "dc9e0e25",
   "metadata": {},
   "outputs": [],
   "source": [
    "import scipy.stats\n",
    "import itertools\n",
    "\n",
    "def bif_rhythm_ks(vd_bif, dyadic, mode = 'ratio_roeske'):\n",
    "    '''\n",
    "    Calculate KS test for each bifurcation point\n",
    "    '''\n",
    "    \n",
    "    output = []\n",
    "    \n",
    "    # 1. Extract Bifurcation Info from vd_bif\n",
    "    ### a. Find all pre-bifurcation notes\n",
    "    pre_bif = np.unique(vd_bif['noteType'])\n",
    "    \n",
    "    # 2. For each bifurcation, conduct a Kolmogorov-Smirnov test\n",
    "    ### a. for each bifurcation\n",
    "    for note in pre_bif:\n",
    "        ### a. Query its exact slice\n",
    "        bif_df = vd_bif[vd_bif['noteType'] == note]\n",
    "        ### b. Query its bifurcation destinations\n",
    "        destinations = np.unique(bif_df['markov'])\n",
    "        pairs = list(itertools.combinations(destinations, 2))\n",
    "        ### c. Filter dyadic by pre_bif\n",
    "        note_df = dyadic[dyadic['label1'] == note]\n",
    "        ### d. Filter note_df by bif destinations\n",
    "        for pair in pairs: \n",
    "            t1_df = note_df[note_df['label2'] == pair[0]]\n",
    "            t2_df = note_df[note_df['label2'] == pair[1]]\n",
    "            bif_prob0 = bif_df[bif_df['markov'] == pair[0]]['p'].values[0]\n",
    "            bif_prob1 = bif_df[bif_df['markov'] == pair[1]]['p'].values[0]\n",
    "            \n",
    "            ### e. compute ks\n",
    "            try:\n",
    "                ks = scipy.stats.ks_2samp(t1_df[mode], t2_df[mode])\n",
    "            except:\n",
    "                ks = [None, None]\n",
    "                print('ks not computed')\n",
    "            ### e. feeds out pandas\n",
    "            output.append(\n",
    "                pd.DataFrame(\n",
    "                    {\n",
    "                        'pre_bif': [note],\n",
    "                        'bif_des': [(pair[0], pair[1])],\n",
    "                        'bif_prof': [\n",
    "                            (\n",
    "                                bif_prob0,\n",
    "                                bif_prob1\n",
    "                            )\n",
    "                        ],\n",
    "                        'rhy_cnts': [\n",
    "                            (\n",
    "                                len(t1_df),\n",
    "                                len(t2_df)\n",
    "                            )\n",
    "                        ],\n",
    "                        'ks_statistic': [ks[0]],\n",
    "                        'ks_p': [ks[1]]\n",
    "                    }\n",
    "                )\n",
    "            )\n",
    "        \n",
    "        print('Finished querying bifurcation with pre_bif ', note)\n",
    "    return pd.concat(output)"
   ]
  },
  {
   "cell_type": "code",
   "execution_count": null,
   "id": "0118f37e",
   "metadata": {},
   "outputs": [],
   "source": [
    "entangle = bif_rhythm_ks(eligible_transitions, dyadic)"
   ]
  },
  {
   "cell_type": "code",
   "execution_count": null,
   "id": "ddbd8559",
   "metadata": {},
   "outputs": [],
   "source": [
    "entangle"
   ]
  },
  {
   "cell_type": "code",
   "execution_count": null,
   "id": "53f1a6d4",
   "metadata": {},
   "outputs": [],
   "source": [
    "entangle['ks_p'] < 0.05"
   ]
  },
  {
   "cell_type": "code",
   "execution_count": null,
   "id": "b603f249",
   "metadata": {},
   "outputs": [],
   "source": [
    "## do a shuffle\n",
    "dyadic_shuffle = dyadic.copy(deep = True)\n",
    "np.random.shuffle(dyadic_shuffle['ratio_roeske'].values)\n",
    "entangle = bif_rhythm_ks(eligible_transitions, dyadic_shuffle)"
   ]
  },
  {
   "cell_type": "code",
   "execution_count": null,
   "id": "ca6da683",
   "metadata": {},
   "outputs": [],
   "source": [
    "entangle"
   ]
  },
  {
   "cell_type": "markdown",
   "id": "899926cf",
   "metadata": {},
   "source": [
    "# Compute Global Statistic"
   ]
  },
  {
   "cell_type": "markdown",
   "id": "c19d4594",
   "metadata": {},
   "source": [
    "The concept of the global statistic here is to compare the rhythm ratios for each first-order syntax and to compare between-group variation / within-group variation. \n",
    "\n",
    "1. Find each first-order transition -> z-score -> compile all first-order transition -> MSE\n",
    "2. Compare with zero-order transition -> z-score -> compile all first-order transition -> MSE\n",
    "3. Is first-order transition variance is lower than zero-order transition variance?"
   ]
  },
  {
   "cell_type": "markdown",
   "id": "4b4da43d",
   "metadata": {},
   "source": [
    "## Let's find all the first-order transitions first"
   ]
  },
  {
   "cell_type": "code",
   "execution_count": null,
   "id": "085122c0",
   "metadata": {},
   "outputs": [],
   "source": [
    "import scipy.stats as stats"
   ]
  },
  {
   "cell_type": "code",
   "execution_count": null,
   "id": "fa9ebf19",
   "metadata": {},
   "outputs": [],
   "source": [
    "def syntactic_rhythmic_modulation_metric (dyadic):\n",
    "    \n",
    "    ## compute global metric\n",
    "    \n",
    "    first_order_rhythms_centered = []\n",
    "    first_order_group_n = 0\n",
    "\n",
    "    ## for every possible label\n",
    "    for label in np.unique(dyadic['label1']):\n",
    "\n",
    "        ## find a sub dataframe containing only designated zero-order label\n",
    "        zero_order = dyadic[dyadic['label1'] == label]\n",
    "\n",
    "        ## for every possible transition of that label\n",
    "        for transition in np.unique(zero_order['label2']):\n",
    "\n",
    "            ## find its rhythms\n",
    "            first_order = zero_order[zero_order['label2'] == transition]\n",
    "            first_order_rhythms = first_order['ratio_roeske'].values\n",
    "            first_order_rhythms_centered.extend(first_order_rhythms - np.mean(first_order_rhythms))\n",
    "\n",
    "            ## add 1 to group_n\n",
    "            first_order_group_n+=1\n",
    "    \n",
    "    # find MSE\n",
    "    MSE_first = sum(np.square(first_order_rhythms_centered)) / len(dyadic)\n",
    "    MSE_baseline = sum(np.square(dyadic['ratio_roeske'].values - np.mean(dyadic['ratio_roeske']))) / len(dyadic)\n",
    "    \n",
    "    return 1 - MSE_first / MSE_baseline"
   ]
  },
  {
   "cell_type": "markdown",
   "id": "fc058b01",
   "metadata": {},
   "source": [
    "## empirical "
   ]
  },
  {
   "cell_type": "code",
   "execution_count": null,
   "id": "c404335e",
   "metadata": {
    "scrolled": false
   },
   "outputs": [],
   "source": [
    "syntactic_rhythmic_modulation_metric(dyadic)"
   ]
  },
  {
   "cell_type": "markdown",
   "id": "33740639",
   "metadata": {},
   "source": [
    "## Find Baseline using bootstrap"
   ]
  },
  {
   "cell_type": "code",
   "execution_count": null,
   "id": "ca0dd09e",
   "metadata": {},
   "outputs": [],
   "source": [
    "from tqdm.autonotebook import tqdm"
   ]
  },
  {
   "cell_type": "code",
   "execution_count": null,
   "id": "35a2fbca",
   "metadata": {},
   "outputs": [],
   "source": [
    "dyadic_shuffle = dyadic.copy(deep = True)\n",
    "\n",
    "SDoMSE = []\n",
    "\n",
    "for sample in tqdm(np.arange(0, 100)):\n",
    "    \n",
    "    ## shuffle dyadic\n",
    "    np.random.shuffle(dyadic_shuffle['ratio_roeske'].values)\n",
    "    \n",
    "    SDoMSE.append(syntactic_rhythmic_modulation_metric(dyadic_shuffle))"
   ]
  },
  {
   "cell_type": "code",
   "execution_count": null,
   "id": "6e02c959",
   "metadata": {},
   "outputs": [],
   "source": [
    "mean_confidence_interval(SDoMSE, confidence=0.95)"
   ]
  },
  {
   "cell_type": "code",
   "execution_count": null,
   "id": "1f07bdee",
   "metadata": {},
   "outputs": [],
   "source": [
    "syntactic_rhythmic_modulation_metric(dyadic)"
   ]
  },
  {
   "cell_type": "markdown",
   "id": "041b6cdc",
   "metadata": {},
   "source": [
    "## try using anova"
   ]
  },
  {
   "cell_type": "code",
   "execution_count": null,
   "id": "c2aa2848",
   "metadata": {},
   "outputs": [],
   "source": [
    "import statsmodels.api as sm\n",
    "from statsmodels.formula.api import ols"
   ]
  },
  {
   "cell_type": "code",
   "execution_count": null,
   "id": "0dd8b66a",
   "metadata": {},
   "outputs": [],
   "source": [
    "dyadic = dyadic.astype({'label1': str, 'label2': str})"
   ]
  },
  {
   "cell_type": "code",
   "execution_count": null,
   "id": "561d6684",
   "metadata": {},
   "outputs": [],
   "source": [
    "model = ols('ratio_roeske ~ label1', data = dyadic).fit()\n",
    "anova_table = sm.stats.anova_lm(model, typ=2)\n",
    "anova_table"
   ]
  },
  {
   "cell_type": "code",
   "execution_count": null,
   "id": "9f861b87",
   "metadata": {},
   "outputs": [],
   "source": [
    "dyadic['transition'] = dyadic['label1'] + '+' + dyadic['label2']"
   ]
  },
  {
   "cell_type": "code",
   "execution_count": null,
   "id": "19b51544",
   "metadata": {},
   "outputs": [],
   "source": [
    "dyadic"
   ]
  },
  {
   "cell_type": "code",
   "execution_count": null,
   "id": "c319173e",
   "metadata": {},
   "outputs": [],
   "source": [
    "model = ols('ratio_roeske ~ transition', data = dyadic).fit()\n",
    "anova_table = sm.stats.anova_lm(model, typ=2)\n",
    "anova_table"
   ]
  },
  {
   "cell_type": "code",
   "execution_count": null,
   "id": "7ed80894",
   "metadata": {},
   "outputs": [],
   "source": []
  }
 ],
 "metadata": {
  "kernelspec": {
   "display_name": "pbb",
   "language": "python",
   "name": "pbb"
  },
  "language_info": {
   "codemirror_mode": {
    "name": "ipython",
    "version": 3
   },
   "file_extension": ".py",
   "mimetype": "text/x-python",
   "name": "python",
   "nbconvert_exporter": "python",
   "pygments_lexer": "ipython3",
   "version": "3.10.0"
  }
 },
 "nbformat": 4,
 "nbformat_minor": 5
}
