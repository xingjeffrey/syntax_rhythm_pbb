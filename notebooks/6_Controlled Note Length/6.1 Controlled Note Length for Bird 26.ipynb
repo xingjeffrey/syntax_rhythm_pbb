{
 "cells": [
  {
   "cell_type": "markdown",
   "id": "d1a9f6e9",
   "metadata": {},
   "source": [
    "***\n",
    "# 4.1 Bio-mechanic Estimationsfor Bird 26\n",
    "### JX, 03/19/2022\n",
    "***\n",
    "    Bird26\n",
    "    \n",
    "***"
   ]
  },
  {
   "cell_type": "code",
   "execution_count": 1,
   "id": "59cc6ba7",
   "metadata": {},
   "outputs": [],
   "source": [
    "indv = 'Bird26'"
   ]
  },
  {
   "cell_type": "code",
   "execution_count": 2,
   "id": "8fca7f57",
   "metadata": {},
   "outputs": [
    {
     "data": {
      "text/html": [
       "<div>\n",
       "<style scoped>\n",
       "    .dataframe tbody tr th:only-of-type {\n",
       "        vertical-align: middle;\n",
       "    }\n",
       "\n",
       "    .dataframe tbody tr th {\n",
       "        vertical-align: top;\n",
       "    }\n",
       "\n",
       "    .dataframe thead th {\n",
       "        text-align: right;\n",
       "    }\n",
       "</style>\n",
       "<table border=\"1\" class=\"dataframe\">\n",
       "  <thead>\n",
       "    <tr style=\"text-align: right;\">\n",
       "      <th></th>\n",
       "      <th>phrase_nb</th>\n",
       "      <th>phrase_strt</th>\n",
       "      <th>phrase_end</th>\n",
       "      <th>phrase_len</th>\n",
       "      <th>note_cnt</th>\n",
       "      <th>note_nb</th>\n",
       "      <th>note_strt</th>\n",
       "      <th>note_end</th>\n",
       "      <th>note_len</th>\n",
       "      <th>indv</th>\n",
       "      <th>indvi</th>\n",
       "      <th>key</th>\n",
       "      <th>audio</th>\n",
       "      <th>rate</th>\n",
       "      <th>spectrogram</th>\n",
       "      <th>umap</th>\n",
       "      <th>hdbscan_labels</th>\n",
       "      <th>recur_labels</th>\n",
       "      <th>recur_labels_id</th>\n",
       "      <th>lasso_labels</th>\n",
       "    </tr>\n",
       "  </thead>\n",
       "  <tbody>\n",
       "    <tr>\n",
       "      <th>0</th>\n",
       "      <td>0</td>\n",
       "      <td>2.530000</td>\n",
       "      <td>3.108940</td>\n",
       "      <td>0.578940</td>\n",
       "      <td>4</td>\n",
       "      <td>0</td>\n",
       "      <td>2.530000</td>\n",
       "      <td>2.565308</td>\n",
       "      <td>0.035308</td>\n",
       "      <td>Bird26</td>\n",
       "      <td>0</td>\n",
       "      <td>LS110395.9.28.2017PalmRagonesi_dn</td>\n",
       "      <td>[0.0, 1.046653124410034e-05, 2.781446748131873...</td>\n",
       "      <td>48000</td>\n",
       "      <td>[[0, 0, 0, 0, 0, 0, 0, 0, 0, 0, 0, 0, 0, 0, 0,...</td>\n",
       "      <td>[-7.5537066, 8.209083]</td>\n",
       "      <td>21</td>\n",
       "      <td>21|0|1.0|1.0|0.0|nan|nan|nan|nan</td>\n",
       "      <td>154</td>\n",
       "      <td>4</td>\n",
       "    </tr>\n",
       "    <tr>\n",
       "      <th>1</th>\n",
       "      <td>0</td>\n",
       "      <td>2.530000</td>\n",
       "      <td>3.108940</td>\n",
       "      <td>0.578940</td>\n",
       "      <td>4</td>\n",
       "      <td>1</td>\n",
       "      <td>2.582859</td>\n",
       "      <td>2.646042</td>\n",
       "      <td>0.063184</td>\n",
       "      <td>Bird26</td>\n",
       "      <td>0</td>\n",
       "      <td>LS110395.9.28.2017PalmRagonesi_dn</td>\n",
       "      <td>[-0.0, -5.34641467372343e-06, -1.1688967129128...</td>\n",
       "      <td>48000</td>\n",
       "      <td>[[0, 0, 0, 0, 0, 0, 0, 0, 0, 0, 0, 0, 0, 0, 0,...</td>\n",
       "      <td>[-0.6834063, 9.239816]</td>\n",
       "      <td>11</td>\n",
       "      <td>11|0|0.0|1.0|0.0|1.0|0.0|0.0|nan</td>\n",
       "      <td>14</td>\n",
       "      <td>2</td>\n",
       "    </tr>\n",
       "    <tr>\n",
       "      <th>2</th>\n",
       "      <td>0</td>\n",
       "      <td>2.530000</td>\n",
       "      <td>3.108940</td>\n",
       "      <td>0.578940</td>\n",
       "      <td>4</td>\n",
       "      <td>2</td>\n",
       "      <td>2.754858</td>\n",
       "      <td>2.877196</td>\n",
       "      <td>0.122338</td>\n",
       "      <td>Bird26</td>\n",
       "      <td>0</td>\n",
       "      <td>LS110395.9.28.2017PalmRagonesi_dn</td>\n",
       "      <td>[0.0, 2.4410663172602654e-05, 5.92200898084064...</td>\n",
       "      <td>48000</td>\n",
       "      <td>[[0, 0, 0, 0, 0, 0, 0, 0, 0, 0, 0, 0, 0, 0, 0,...</td>\n",
       "      <td>[-1.5902307, -12.39612]</td>\n",
       "      <td>0</td>\n",
       "      <td>0|0|0.0|0.0|1.0|0.0|nan|nan|nan</td>\n",
       "      <td>1</td>\n",
       "      <td>0</td>\n",
       "    </tr>\n",
       "    <tr>\n",
       "      <th>3</th>\n",
       "      <td>0</td>\n",
       "      <td>2.530000</td>\n",
       "      <td>3.108940</td>\n",
       "      <td>0.578940</td>\n",
       "      <td>4</td>\n",
       "      <td>3</td>\n",
       "      <td>2.942109</td>\n",
       "      <td>3.108940</td>\n",
       "      <td>0.166831</td>\n",
       "      <td>Bird26</td>\n",
       "      <td>0</td>\n",
       "      <td>LS110395.9.28.2017PalmRagonesi_dn</td>\n",
       "      <td>[-0.0, -0.00015404379157812003, -0.00030952889...</td>\n",
       "      <td>48000</td>\n",
       "      <td>[[0, 0, 0, 0, 0, 0, 0, 0, 0, 0, 0, 0, 0, 0, 0,...</td>\n",
       "      <td>[7.0395265, 3.0541244]</td>\n",
       "      <td>26</td>\n",
       "      <td>26|1|1.0|0.0|nan|nan|nan|nan|nan</td>\n",
       "      <td>206</td>\n",
       "      <td>19</td>\n",
       "    </tr>\n",
       "    <tr>\n",
       "      <th>4</th>\n",
       "      <td>1</td>\n",
       "      <td>7.660000</td>\n",
       "      <td>9.269842</td>\n",
       "      <td>1.609842</td>\n",
       "      <td>6</td>\n",
       "      <td>0</td>\n",
       "      <td>7.660000</td>\n",
       "      <td>7.802573</td>\n",
       "      <td>0.142573</td>\n",
       "      <td>Bird26</td>\n",
       "      <td>0</td>\n",
       "      <td>LS110395.9.28.2017PalmRagonesi_dn</td>\n",
       "      <td>[0.0, 5.444124866051962e-05, 0.000182190384940...</td>\n",
       "      <td>48000</td>\n",
       "      <td>[[0, 0, 0, 0, 0, 0, 0, 0, 0, 0, 0, 0, 0, 0, 0,...</td>\n",
       "      <td>[5.1442027, -3.2366111]</td>\n",
       "      <td>12</td>\n",
       "      <td>12|1|0.0|1.0|0.0|nan|nan|nan|nan</td>\n",
       "      <td>37</td>\n",
       "      <td>35</td>\n",
       "    </tr>\n",
       "    <tr>\n",
       "      <th>...</th>\n",
       "      <td>...</td>\n",
       "      <td>...</td>\n",
       "      <td>...</td>\n",
       "      <td>...</td>\n",
       "      <td>...</td>\n",
       "      <td>...</td>\n",
       "      <td>...</td>\n",
       "      <td>...</td>\n",
       "      <td>...</td>\n",
       "      <td>...</td>\n",
       "      <td>...</td>\n",
       "      <td>...</td>\n",
       "      <td>...</td>\n",
       "      <td>...</td>\n",
       "      <td>...</td>\n",
       "      <td>...</td>\n",
       "      <td>...</td>\n",
       "      <td>...</td>\n",
       "      <td>...</td>\n",
       "      <td>...</td>\n",
       "    </tr>\n",
       "    <tr>\n",
       "      <th>10861</th>\n",
       "      <td>1426</td>\n",
       "      <td>7451.938961</td>\n",
       "      <td>7454.270021</td>\n",
       "      <td>2.331060</td>\n",
       "      <td>11</td>\n",
       "      <td>6</td>\n",
       "      <td>7453.230000</td>\n",
       "      <td>7453.347846</td>\n",
       "      <td>0.117846</td>\n",
       "      <td>Bird26</td>\n",
       "      <td>0</td>\n",
       "      <td>LS110395.9.28.2017PalmRagonesi_dn</td>\n",
       "      <td>[0.0, 0.00020218813079315542, 0.00039304040322...</td>\n",
       "      <td>48000</td>\n",
       "      <td>[[0, 0, 0, 0, 0, 0, 0, 0, 0, 0, 0, 0, 0, 0, 0,...</td>\n",
       "      <td>[5.835227, 3.594297]</td>\n",
       "      <td>25</td>\n",
       "      <td>25|1|1.0|1.0|0.0|0.0|nan|nan|nan</td>\n",
       "      <td>195</td>\n",
       "      <td>17</td>\n",
       "    </tr>\n",
       "    <tr>\n",
       "      <th>10862</th>\n",
       "      <td>1426</td>\n",
       "      <td>7451.938961</td>\n",
       "      <td>7454.270021</td>\n",
       "      <td>2.331060</td>\n",
       "      <td>11</td>\n",
       "      <td>7</td>\n",
       "      <td>7453.430000</td>\n",
       "      <td>7453.582862</td>\n",
       "      <td>0.152862</td>\n",
       "      <td>Bird26</td>\n",
       "      <td>0</td>\n",
       "      <td>LS110395.9.28.2017PalmRagonesi_dn</td>\n",
       "      <td>[-0.0, -6.027892231941223e-05, -0.000147847971...</td>\n",
       "      <td>48000</td>\n",
       "      <td>[[0, 0, 0, 0, 0, 0, 0, 0, 0, 0, 0, 0, 0, 0, 0,...</td>\n",
       "      <td>[5.1574388, 3.9381824]</td>\n",
       "      <td>25</td>\n",
       "      <td>25|0|0.0|0.0|nan|nan|nan|nan|nan</td>\n",
       "      <td>188</td>\n",
       "      <td>11</td>\n",
       "    </tr>\n",
       "    <tr>\n",
       "      <th>10863</th>\n",
       "      <td>1426</td>\n",
       "      <td>7451.938961</td>\n",
       "      <td>7454.270021</td>\n",
       "      <td>2.331060</td>\n",
       "      <td>11</td>\n",
       "      <td>8</td>\n",
       "      <td>7453.582862</td>\n",
       "      <td>7453.644792</td>\n",
       "      <td>0.061930</td>\n",
       "      <td>Bird26</td>\n",
       "      <td>0</td>\n",
       "      <td>LS110395.9.28.2017PalmRagonesi_dn</td>\n",
       "      <td>[-0.0, -0.0007704722401279731, -0.002082758701...</td>\n",
       "      <td>48000</td>\n",
       "      <td>[[0, 0, 0, 0, 0, 0, 0, 0, 0, 0, 0, 0, 0, 0, 0,...</td>\n",
       "      <td>[-0.96411866, 1.086623]</td>\n",
       "      <td>19</td>\n",
       "      <td>19|0|0.0|1.0|1.0|0.0|nan|nan|nan</td>\n",
       "      <td>118</td>\n",
       "      <td>9</td>\n",
       "    </tr>\n",
       "    <tr>\n",
       "      <th>10864</th>\n",
       "      <td>1426</td>\n",
       "      <td>7451.938961</td>\n",
       "      <td>7454.270021</td>\n",
       "      <td>2.331060</td>\n",
       "      <td>11</td>\n",
       "      <td>9</td>\n",
       "      <td>7453.786119</td>\n",
       "      <td>7453.917918</td>\n",
       "      <td>0.131800</td>\n",
       "      <td>Bird26</td>\n",
       "      <td>0</td>\n",
       "      <td>LS110395.9.28.2017PalmRagonesi_dn</td>\n",
       "      <td>[-0.0, -2.3817842366836413e-06, -8.17539332897...</td>\n",
       "      <td>48000</td>\n",
       "      <td>[[0, 0, 0, 0, 0, 0, 0, 0, 0, 0, 0, 0, 0, 0, 0,...</td>\n",
       "      <td>[2.2781262, -6.882173]</td>\n",
       "      <td>9</td>\n",
       "      <td>9|0|0.0|1.0|0.0|nan|nan|nan|nan</td>\n",
       "      <td>234</td>\n",
       "      <td>27</td>\n",
       "    </tr>\n",
       "    <tr>\n",
       "      <th>10865</th>\n",
       "      <td>1426</td>\n",
       "      <td>7451.938961</td>\n",
       "      <td>7454.270021</td>\n",
       "      <td>2.331060</td>\n",
       "      <td>11</td>\n",
       "      <td>10</td>\n",
       "      <td>7454.046542</td>\n",
       "      <td>7454.270021</td>\n",
       "      <td>0.223479</td>\n",
       "      <td>Bird26</td>\n",
       "      <td>0</td>\n",
       "      <td>LS110395.9.28.2017PalmRagonesi_dn</td>\n",
       "      <td>[0.0, 0.0008279382682486668, 0.001595642342663...</td>\n",
       "      <td>48000</td>\n",
       "      <td>[[0, 0, 0, 0, 0, 0, 0, 0, 0, 0, 0, 0, 0, 0, 0,...</td>\n",
       "      <td>[-4.1325746, -10.875906]</td>\n",
       "      <td>6</td>\n",
       "      <td>6|1|2.0|1.0|0.0|nan|nan|nan|nan</td>\n",
       "      <td>227</td>\n",
       "      <td>23</td>\n",
       "    </tr>\n",
       "  </tbody>\n",
       "</table>\n",
       "<p>10866 rows × 20 columns</p>\n",
       "</div>"
      ],
      "text/plain": [
       "       phrase_nb  phrase_strt   phrase_end  phrase_len  note_cnt  note_nb  \\\n",
       "0              0     2.530000     3.108940    0.578940         4        0   \n",
       "1              0     2.530000     3.108940    0.578940         4        1   \n",
       "2              0     2.530000     3.108940    0.578940         4        2   \n",
       "3              0     2.530000     3.108940    0.578940         4        3   \n",
       "4              1     7.660000     9.269842    1.609842         6        0   \n",
       "...          ...          ...          ...         ...       ...      ...   \n",
       "10861       1426  7451.938961  7454.270021    2.331060        11        6   \n",
       "10862       1426  7451.938961  7454.270021    2.331060        11        7   \n",
       "10863       1426  7451.938961  7454.270021    2.331060        11        8   \n",
       "10864       1426  7451.938961  7454.270021    2.331060        11        9   \n",
       "10865       1426  7451.938961  7454.270021    2.331060        11       10   \n",
       "\n",
       "         note_strt     note_end  note_len    indv  indvi  \\\n",
       "0         2.530000     2.565308  0.035308  Bird26      0   \n",
       "1         2.582859     2.646042  0.063184  Bird26      0   \n",
       "2         2.754858     2.877196  0.122338  Bird26      0   \n",
       "3         2.942109     3.108940  0.166831  Bird26      0   \n",
       "4         7.660000     7.802573  0.142573  Bird26      0   \n",
       "...            ...          ...       ...     ...    ...   \n",
       "10861  7453.230000  7453.347846  0.117846  Bird26      0   \n",
       "10862  7453.430000  7453.582862  0.152862  Bird26      0   \n",
       "10863  7453.582862  7453.644792  0.061930  Bird26      0   \n",
       "10864  7453.786119  7453.917918  0.131800  Bird26      0   \n",
       "10865  7454.046542  7454.270021  0.223479  Bird26      0   \n",
       "\n",
       "                                     key  \\\n",
       "0      LS110395.9.28.2017PalmRagonesi_dn   \n",
       "1      LS110395.9.28.2017PalmRagonesi_dn   \n",
       "2      LS110395.9.28.2017PalmRagonesi_dn   \n",
       "3      LS110395.9.28.2017PalmRagonesi_dn   \n",
       "4      LS110395.9.28.2017PalmRagonesi_dn   \n",
       "...                                  ...   \n",
       "10861  LS110395.9.28.2017PalmRagonesi_dn   \n",
       "10862  LS110395.9.28.2017PalmRagonesi_dn   \n",
       "10863  LS110395.9.28.2017PalmRagonesi_dn   \n",
       "10864  LS110395.9.28.2017PalmRagonesi_dn   \n",
       "10865  LS110395.9.28.2017PalmRagonesi_dn   \n",
       "\n",
       "                                                   audio   rate  \\\n",
       "0      [0.0, 1.046653124410034e-05, 2.781446748131873...  48000   \n",
       "1      [-0.0, -5.34641467372343e-06, -1.1688967129128...  48000   \n",
       "2      [0.0, 2.4410663172602654e-05, 5.92200898084064...  48000   \n",
       "3      [-0.0, -0.00015404379157812003, -0.00030952889...  48000   \n",
       "4      [0.0, 5.444124866051962e-05, 0.000182190384940...  48000   \n",
       "...                                                  ...    ...   \n",
       "10861  [0.0, 0.00020218813079315542, 0.00039304040322...  48000   \n",
       "10862  [-0.0, -6.027892231941223e-05, -0.000147847971...  48000   \n",
       "10863  [-0.0, -0.0007704722401279731, -0.002082758701...  48000   \n",
       "10864  [-0.0, -2.3817842366836413e-06, -8.17539332897...  48000   \n",
       "10865  [0.0, 0.0008279382682486668, 0.001595642342663...  48000   \n",
       "\n",
       "                                             spectrogram  \\\n",
       "0      [[0, 0, 0, 0, 0, 0, 0, 0, 0, 0, 0, 0, 0, 0, 0,...   \n",
       "1      [[0, 0, 0, 0, 0, 0, 0, 0, 0, 0, 0, 0, 0, 0, 0,...   \n",
       "2      [[0, 0, 0, 0, 0, 0, 0, 0, 0, 0, 0, 0, 0, 0, 0,...   \n",
       "3      [[0, 0, 0, 0, 0, 0, 0, 0, 0, 0, 0, 0, 0, 0, 0,...   \n",
       "4      [[0, 0, 0, 0, 0, 0, 0, 0, 0, 0, 0, 0, 0, 0, 0,...   \n",
       "...                                                  ...   \n",
       "10861  [[0, 0, 0, 0, 0, 0, 0, 0, 0, 0, 0, 0, 0, 0, 0,...   \n",
       "10862  [[0, 0, 0, 0, 0, 0, 0, 0, 0, 0, 0, 0, 0, 0, 0,...   \n",
       "10863  [[0, 0, 0, 0, 0, 0, 0, 0, 0, 0, 0, 0, 0, 0, 0,...   \n",
       "10864  [[0, 0, 0, 0, 0, 0, 0, 0, 0, 0, 0, 0, 0, 0, 0,...   \n",
       "10865  [[0, 0, 0, 0, 0, 0, 0, 0, 0, 0, 0, 0, 0, 0, 0,...   \n",
       "\n",
       "                           umap  hdbscan_labels  \\\n",
       "0        [-7.5537066, 8.209083]              21   \n",
       "1        [-0.6834063, 9.239816]              11   \n",
       "2       [-1.5902307, -12.39612]               0   \n",
       "3        [7.0395265, 3.0541244]              26   \n",
       "4       [5.1442027, -3.2366111]              12   \n",
       "...                         ...             ...   \n",
       "10861      [5.835227, 3.594297]              25   \n",
       "10862    [5.1574388, 3.9381824]              25   \n",
       "10863   [-0.96411866, 1.086623]              19   \n",
       "10864    [2.2781262, -6.882173]               9   \n",
       "10865  [-4.1325746, -10.875906]               6   \n",
       "\n",
       "                           recur_labels  recur_labels_id  lasso_labels  \n",
       "0      21|0|1.0|1.0|0.0|nan|nan|nan|nan              154             4  \n",
       "1      11|0|0.0|1.0|0.0|1.0|0.0|0.0|nan               14             2  \n",
       "2       0|0|0.0|0.0|1.0|0.0|nan|nan|nan                1             0  \n",
       "3      26|1|1.0|0.0|nan|nan|nan|nan|nan              206            19  \n",
       "4      12|1|0.0|1.0|0.0|nan|nan|nan|nan               37            35  \n",
       "...                                 ...              ...           ...  \n",
       "10861  25|1|1.0|1.0|0.0|0.0|nan|nan|nan              195            17  \n",
       "10862  25|0|0.0|0.0|nan|nan|nan|nan|nan              188            11  \n",
       "10863  19|0|0.0|1.0|1.0|0.0|nan|nan|nan              118             9  \n",
       "10864   9|0|0.0|1.0|0.0|nan|nan|nan|nan              234            27  \n",
       "10865   6|1|2.0|1.0|0.0|nan|nan|nan|nan              227            23  \n",
       "\n",
       "[10866 rows x 20 columns]"
      ]
     },
     "execution_count": 2,
     "metadata": {},
     "output_type": "execute_result"
    }
   ],
   "source": [
    "## Load up Note Dataframe\n",
    "\n",
    "import pandas as pd\n",
    "from pathlib2 import Path\n",
    "\n",
    "from butcherbird.utils.paths import DATA_DIR\n",
    "\n",
    "SAVE_LOC = 'interim/fine_labels/butcherbird_note_df_'+indv+'_fine.pickle'\n",
    "SAVE_LOC = DATA_DIR / SAVE_LOC\n",
    "\n",
    "note_df = pd.read_pickle(SAVE_LOC)\n",
    "\n",
    "note_df"
   ]
  },
  {
   "cell_type": "code",
   "execution_count": 3,
   "id": "fce46403",
   "metadata": {},
   "outputs": [],
   "source": [
    "## Tap into dyadic calculations"
   ]
  },
  {
   "cell_type": "code",
   "execution_count": 4,
   "id": "8477d92d",
   "metadata": {},
   "outputs": [
    {
     "name": "stderr",
     "output_type": "stream",
     "text": [
      "/home/AD/j8xing/syntax_rhythm_pbb/butcherbird/rhythm.py:300: TqdmExperimentalWarning: Using `tqdm.autonotebook.tqdm` in notebook mode. Use `tqdm.tqdm` instead to force console mode (e.g. in jupyter console)\n",
      "  from tqdm.autonotebook import tqdm\n"
     ]
    }
   ],
   "source": [
    "import scipy.stats as stats\n",
    "import numpy as np\n",
    "import butcherbird.rhythm as rhythm"
   ]
  },
  {
   "cell_type": "code",
   "execution_count": 5,
   "id": "0d6f789c",
   "metadata": {},
   "outputs": [
    {
     "data": {
      "application/vnd.jupyter.widget-view+json": {
       "model_id": "1403bdfaf9c542828cadb9f09f1fdd6e",
       "version_major": 2,
       "version_minor": 0
      },
      "text/plain": [
       "  0%|          | 0/1 [00:00<?, ?it/s]"
      ]
     },
     "metadata": {},
     "output_type": "display_data"
    },
    {
     "data": {
      "application/vnd.jupyter.widget-view+json": {
       "model_id": "864ddb4cb478458793b57f4c094eae9a",
       "version_major": 2,
       "version_minor": 0
      },
      "text/plain": [
       "  0%|          | 0/1427 [00:00<?, ?it/s]"
      ]
     },
     "metadata": {},
     "output_type": "display_data"
    }
   ],
   "source": [
    "dyadic = rhythm.construct_rhythm_df(note_df, 'lasso_labels', len_control = \"on\")"
   ]
  },
  {
   "cell_type": "code",
   "execution_count": 6,
   "id": "96244620",
   "metadata": {},
   "outputs": [
    {
     "data": {
      "text/plain": [
       "0.14423228605473912"
      ]
     },
     "execution_count": 6,
     "metadata": {},
     "output_type": "execute_result"
    }
   ],
   "source": [
    "np.mean(note_df['note_len'])"
   ]
  },
  {
   "cell_type": "code",
   "execution_count": 7,
   "id": "d56cd87c",
   "metadata": {},
   "outputs": [
    {
     "data": {
      "text/html": [
       "<div>\n",
       "<style scoped>\n",
       "    .dataframe tbody tr th:only-of-type {\n",
       "        vertical-align: middle;\n",
       "    }\n",
       "\n",
       "    .dataframe tbody tr th {\n",
       "        vertical-align: top;\n",
       "    }\n",
       "\n",
       "    .dataframe thead th {\n",
       "        text-align: right;\n",
       "    }\n",
       "</style>\n",
       "<table border=\"1\" class=\"dataframe\">\n",
       "  <thead>\n",
       "    <tr style=\"text-align: right;\">\n",
       "      <th></th>\n",
       "      <th>intervals1</th>\n",
       "      <th>intervals2</th>\n",
       "      <th>label1</th>\n",
       "      <th>label2</th>\n",
       "      <th>label3</th>\n",
       "      <th>len1</th>\n",
       "      <th>len2</th>\n",
       "      <th>len3</th>\n",
       "      <th>s_interval</th>\n",
       "      <th>l_interval</th>\n",
       "      <th>cycle_dur</th>\n",
       "      <th>ratio_roeske</th>\n",
       "      <th>ratio_custom</th>\n",
       "      <th>cycle_rank</th>\n",
       "    </tr>\n",
       "  </thead>\n",
       "  <tbody>\n",
       "    <tr>\n",
       "      <th>0</th>\n",
       "      <td>0.161783</td>\n",
       "      <td>0.253048</td>\n",
       "      <td>4</td>\n",
       "      <td>2</td>\n",
       "      <td>0</td>\n",
       "      <td>0.035308</td>\n",
       "      <td>0.063184</td>\n",
       "      <td>0.122338</td>\n",
       "      <td>0.161783</td>\n",
       "      <td>0.253048</td>\n",
       "      <td>0.414832</td>\n",
       "      <td>0.389997</td>\n",
       "      <td>0.639337</td>\n",
       "      <td>1</td>\n",
       "    </tr>\n",
       "    <tr>\n",
       "      <th>1</th>\n",
       "      <td>0.253048</td>\n",
       "      <td>0.209145</td>\n",
       "      <td>2</td>\n",
       "      <td>0</td>\n",
       "      <td>19</td>\n",
       "      <td>0.063184</td>\n",
       "      <td>0.122338</td>\n",
       "      <td>0.166831</td>\n",
       "      <td>0.209145</td>\n",
       "      <td>0.253048</td>\n",
       "      <td>0.462193</td>\n",
       "      <td>0.547495</td>\n",
       "      <td>0.826500</td>\n",
       "      <td>2</td>\n",
       "    </tr>\n",
       "    <tr>\n",
       "      <th>2</th>\n",
       "      <td>0.227471</td>\n",
       "      <td>0.264918</td>\n",
       "      <td>35</td>\n",
       "      <td>34</td>\n",
       "      <td>6</td>\n",
       "      <td>0.142573</td>\n",
       "      <td>0.183503</td>\n",
       "      <td>0.264143</td>\n",
       "      <td>0.227471</td>\n",
       "      <td>0.264918</td>\n",
       "      <td>0.492389</td>\n",
       "      <td>0.461974</td>\n",
       "      <td>0.858646</td>\n",
       "      <td>1</td>\n",
       "    </tr>\n",
       "    <tr>\n",
       "      <th>3</th>\n",
       "      <td>0.264918</td>\n",
       "      <td>0.250089</td>\n",
       "      <td>34</td>\n",
       "      <td>6</td>\n",
       "      <td>20</td>\n",
       "      <td>0.183503</td>\n",
       "      <td>0.264143</td>\n",
       "      <td>0.182846</td>\n",
       "      <td>0.250089</td>\n",
       "      <td>0.264918</td>\n",
       "      <td>0.515007</td>\n",
       "      <td>0.514397</td>\n",
       "      <td>0.944024</td>\n",
       "      <td>2</td>\n",
       "    </tr>\n",
       "    <tr>\n",
       "      <th>4</th>\n",
       "      <td>0.408367</td>\n",
       "      <td>0.225439</td>\n",
       "      <td>20</td>\n",
       "      <td>0</td>\n",
       "      <td>15</td>\n",
       "      <td>0.182846</td>\n",
       "      <td>0.084141</td>\n",
       "      <td>0.097513</td>\n",
       "      <td>0.225439</td>\n",
       "      <td>0.408367</td>\n",
       "      <td>0.633807</td>\n",
       "      <td>0.644309</td>\n",
       "      <td>0.552051</td>\n",
       "      <td>3</td>\n",
       "    </tr>\n",
       "    <tr>\n",
       "      <th>...</th>\n",
       "      <td>...</td>\n",
       "      <td>...</td>\n",
       "      <td>...</td>\n",
       "      <td>...</td>\n",
       "      <td>...</td>\n",
       "      <td>...</td>\n",
       "      <td>...</td>\n",
       "      <td>...</td>\n",
       "      <td>...</td>\n",
       "      <td>...</td>\n",
       "      <td>...</td>\n",
       "      <td>...</td>\n",
       "      <td>...</td>\n",
       "      <td>...</td>\n",
       "    </tr>\n",
       "    <tr>\n",
       "      <th>8007</th>\n",
       "      <td>0.214903</td>\n",
       "      <td>0.227998</td>\n",
       "      <td>0</td>\n",
       "      <td>19</td>\n",
       "      <td>2</td>\n",
       "      <td>0.109568</td>\n",
       "      <td>0.126234</td>\n",
       "      <td>0.057561</td>\n",
       "      <td>0.214903</td>\n",
       "      <td>0.227998</td>\n",
       "      <td>0.442901</td>\n",
       "      <td>0.485217</td>\n",
       "      <td>0.942567</td>\n",
       "      <td>5</td>\n",
       "    </tr>\n",
       "    <tr>\n",
       "      <th>8008</th>\n",
       "      <td>0.246258</td>\n",
       "      <td>0.214903</td>\n",
       "      <td>2</td>\n",
       "      <td>0</td>\n",
       "      <td>19</td>\n",
       "      <td>0.057166</td>\n",
       "      <td>0.109568</td>\n",
       "      <td>0.126234</td>\n",
       "      <td>0.214903</td>\n",
       "      <td>0.246258</td>\n",
       "      <td>0.461161</td>\n",
       "      <td>0.533995</td>\n",
       "      <td>0.872676</td>\n",
       "      <td>6</td>\n",
       "    </tr>\n",
       "    <tr>\n",
       "      <th>8009</th>\n",
       "      <td>0.346671</td>\n",
       "      <td>0.154232</td>\n",
       "      <td>2</td>\n",
       "      <td>25</td>\n",
       "      <td>17</td>\n",
       "      <td>0.057561</td>\n",
       "      <td>0.420000</td>\n",
       "      <td>0.117846</td>\n",
       "      <td>0.154232</td>\n",
       "      <td>0.346671</td>\n",
       "      <td>0.500903</td>\n",
       "      <td>0.692092</td>\n",
       "      <td>0.444896</td>\n",
       "      <td>7</td>\n",
       "    </tr>\n",
       "    <tr>\n",
       "      <th>8010</th>\n",
       "      <td>0.285559</td>\n",
       "      <td>0.272856</td>\n",
       "      <td>9</td>\n",
       "      <td>27</td>\n",
       "      <td>23</td>\n",
       "      <td>0.061930</td>\n",
       "      <td>0.131800</td>\n",
       "      <td>0.223479</td>\n",
       "      <td>0.272856</td>\n",
       "      <td>0.285559</td>\n",
       "      <td>0.558415</td>\n",
       "      <td>0.511375</td>\n",
       "      <td>0.955513</td>\n",
       "      <td>8</td>\n",
       "    </tr>\n",
       "    <tr>\n",
       "      <th>8011</th>\n",
       "      <td>0.227998</td>\n",
       "      <td>0.346671</td>\n",
       "      <td>19</td>\n",
       "      <td>2</td>\n",
       "      <td>25</td>\n",
       "      <td>0.126234</td>\n",
       "      <td>0.057561</td>\n",
       "      <td>0.420000</td>\n",
       "      <td>0.227998</td>\n",
       "      <td>0.346671</td>\n",
       "      <td>0.574669</td>\n",
       "      <td>0.396747</td>\n",
       "      <td>0.657679</td>\n",
       "      <td>9</td>\n",
       "    </tr>\n",
       "  </tbody>\n",
       "</table>\n",
       "<p>8012 rows × 14 columns</p>\n",
       "</div>"
      ],
      "text/plain": [
       "      intervals1  intervals2  label1  label2  label3      len1      len2  \\\n",
       "0       0.161783    0.253048       4       2       0  0.035308  0.063184   \n",
       "1       0.253048    0.209145       2       0      19  0.063184  0.122338   \n",
       "2       0.227471    0.264918      35      34       6  0.142573  0.183503   \n",
       "3       0.264918    0.250089      34       6      20  0.183503  0.264143   \n",
       "4       0.408367    0.225439      20       0      15  0.182846  0.084141   \n",
       "...          ...         ...     ...     ...     ...       ...       ...   \n",
       "8007    0.214903    0.227998       0      19       2  0.109568  0.126234   \n",
       "8008    0.246258    0.214903       2       0      19  0.057166  0.109568   \n",
       "8009    0.346671    0.154232       2      25      17  0.057561  0.420000   \n",
       "8010    0.285559    0.272856       9      27      23  0.061930  0.131800   \n",
       "8011    0.227998    0.346671      19       2      25  0.126234  0.057561   \n",
       "\n",
       "          len3  s_interval  l_interval  cycle_dur  ratio_roeske  ratio_custom  \\\n",
       "0     0.122338    0.161783    0.253048   0.414832      0.389997      0.639337   \n",
       "1     0.166831    0.209145    0.253048   0.462193      0.547495      0.826500   \n",
       "2     0.264143    0.227471    0.264918   0.492389      0.461974      0.858646   \n",
       "3     0.182846    0.250089    0.264918   0.515007      0.514397      0.944024   \n",
       "4     0.097513    0.225439    0.408367   0.633807      0.644309      0.552051   \n",
       "...        ...         ...         ...        ...           ...           ...   \n",
       "8007  0.057561    0.214903    0.227998   0.442901      0.485217      0.942567   \n",
       "8008  0.126234    0.214903    0.246258   0.461161      0.533995      0.872676   \n",
       "8009  0.117846    0.154232    0.346671   0.500903      0.692092      0.444896   \n",
       "8010  0.223479    0.272856    0.285559   0.558415      0.511375      0.955513   \n",
       "8011  0.420000    0.227998    0.346671   0.574669      0.396747      0.657679   \n",
       "\n",
       "      cycle_rank  \n",
       "0              1  \n",
       "1              2  \n",
       "2              1  \n",
       "3              2  \n",
       "4              3  \n",
       "...          ...  \n",
       "8007           5  \n",
       "8008           6  \n",
       "8009           7  \n",
       "8010           8  \n",
       "8011           9  \n",
       "\n",
       "[8012 rows x 14 columns]"
      ]
     },
     "execution_count": 7,
     "metadata": {},
     "output_type": "execute_result"
    }
   ],
   "source": [
    "dyadic"
   ]
  },
  {
   "cell_type": "markdown",
   "id": "1cd4f97a",
   "metadata": {},
   "source": [
    "## Calculate Hopkins Statistic"
   ]
  },
  {
   "cell_type": "code",
   "execution_count": 8,
   "id": "5a38ff77",
   "metadata": {},
   "outputs": [],
   "source": [
    "import butcherbird.rhythm as rhythm"
   ]
  },
  {
   "cell_type": "code",
   "execution_count": null,
   "id": "ede139d4",
   "metadata": {},
   "outputs": [
    {
     "data": {
      "application/vnd.jupyter.widget-view+json": {
       "model_id": "395fc167ec894e378b9dfb34a8fe50e5",
       "version_major": 2,
       "version_minor": 0
      },
      "text/plain": [
       "  0%|          | 0/100 [00:00<?, ?it/s]"
      ]
     },
     "metadata": {},
     "output_type": "display_data"
    }
   ],
   "source": [
    "h = rhythm.decompose_rhythm(\n",
    "    ## Macro controls\n",
    "    dyadic, \n",
    "    label = None, \n",
    "    position = 1, \n",
    "    hopkins_iteration = 100,\n",
    "    ## Graph controls\n",
    "    figsize = (16, 32),\n",
    "    xlim = (0, 1),\n",
    "    s_interval = 's_interval',\n",
    "    l_interval = 'l_interval', \n",
    "    cycle_rank = 'cycle_rank',\n",
    "    marker = '.',\n",
    "    color = 'black', \n",
    "    hue_norm = (0, 1),\n",
    "    palette = 'deep',\n",
    "    legend = False, \n",
    "    linewidth = 0,\n",
    "    s = 20,\n",
    "    s_ratio = 0.04,\n",
    "    alpha = 1,\n",
    "    alpha_ratio = 0.25,\n",
    "    rhythm_ratio = 'ratio_roeske',\n",
    "    binwidth = 0.01,\n",
    "    kde = True\n",
    ")"
   ]
  },
  {
   "cell_type": "code",
   "execution_count": null,
   "id": "4aa41b1e",
   "metadata": {},
   "outputs": [],
   "source": [
    "np.mean(h)"
   ]
  },
  {
   "cell_type": "markdown",
   "id": "919e2a53",
   "metadata": {},
   "source": [
    "## Calculate Uniform Rhythm\n",
    "> Uniform rhythm is calculated under the assumption that interval lengths are uniformly distributed between a minimum and maximum interval length.  "
   ]
  },
  {
   "cell_type": "code",
   "execution_count": null,
   "id": "88974449",
   "metadata": {},
   "outputs": [],
   "source": [
    "import numpy as np\n",
    "import numpy.random as random\n",
    "import seaborn as sns"
   ]
  },
  {
   "cell_type": "code",
   "execution_count": null,
   "id": "1acdacdc",
   "metadata": {},
   "outputs": [],
   "source": [
    "interval_min = np.min([dyadic['intervals1'].values, dyadic['intervals2']])\n",
    "interval_max = np.max([dyadic['intervals1'].values, dyadic['intervals2']])"
   ]
  },
  {
   "cell_type": "code",
   "execution_count": null,
   "id": "816ef432",
   "metadata": {},
   "outputs": [],
   "source": [
    "interval1_uni = random.uniform(low = interval_min, high = interval_max, size = len(dyadic) * 1000)\n",
    "interval2_uni = random.uniform(low = interval_min, high = interval_max, size = len(dyadic) * 1000)\n",
    "uni_ratio = interval1_uni / (interval1_uni + interval2_uni)"
   ]
  },
  {
   "cell_type": "code",
   "execution_count": null,
   "id": "74658e4e",
   "metadata": {},
   "outputs": [],
   "source": [
    "sns.histplot(uni_ratio)"
   ]
  },
  {
   "cell_type": "markdown",
   "id": "7c1d3bd8",
   "metadata": {},
   "source": [
    "## Calculate Shuffled IOI Rhythm\n",
    "> Shuffled rhythm is calculated under the assumption that interval lengths are bootstrapped from the empirical distribution, but the consecutive order of intervals are shuffled. "
   ]
  },
  {
   "cell_type": "code",
   "execution_count": null,
   "id": "5fec365e",
   "metadata": {},
   "outputs": [],
   "source": [
    "n = 1000"
   ]
  },
  {
   "cell_type": "code",
   "execution_count": null,
   "id": "b4e9e3c5",
   "metadata": {},
   "outputs": [],
   "source": [
    "df_sf = []\n",
    "for i in np.arange(0, n):\n",
    "    interval1_sf = dyadic['intervals1'].sample(frac = 1, replace = True).values\n",
    "    interval2_sf = dyadic['intervals2'].sample(frac = 1, replace = True).values\n",
    "    df_sf.append(interval1_sf / (interval1_sf + interval2_sf))"
   ]
  },
  {
   "cell_type": "code",
   "execution_count": null,
   "id": "492b68d9",
   "metadata": {},
   "outputs": [],
   "source": [
    "sf_ratio = np.array(df_sf).flatten()"
   ]
  },
  {
   "cell_type": "code",
   "execution_count": null,
   "id": "e475ed22",
   "metadata": {},
   "outputs": [],
   "source": [
    "sns.histplot(sf_ratio)"
   ]
  },
  {
   "cell_type": "markdown",
   "id": "f4ef0b1f",
   "metadata": {},
   "source": [
    "## Calculate Shuffled Note + Gap\n",
    "> Shuffled Note + Gap rhythm is calculated under the assumption that note length and inter-note gaps are independently shuffled."
   ]
  },
  {
   "cell_type": "code",
   "execution_count": null,
   "id": "98e19bef",
   "metadata": {},
   "outputs": [],
   "source": [
    "import numpy.random as random"
   ]
  },
  {
   "cell_type": "code",
   "execution_count": null,
   "id": "e86b6c7d",
   "metadata": {},
   "outputs": [],
   "source": [
    "# find all gaps and their positions\n",
    "grand_gaps = []\n",
    "\n",
    "for phrase_nb in np.unique(note_df['phrase_nb']):\n",
    "    ## pull out each phrase\n",
    "    phrase = note_df[note_df['phrase_nb'] == phrase_nb]\n",
    "\n",
    "        ## find all internote gaps\n",
    "    gaps = phrase['note_strt'][1:].values - phrase['note_end'][:-1].values\n",
    "    grand_gaps.append(gaps)\n",
    "    \n",
    "grand_gaps = np.hstack(grand_gaps)\n",
    "grand_gaps = grand_gaps[grand_gaps < 10] ## gaps that are more than 10 seconds long are noise"
   ]
  },
  {
   "cell_type": "code",
   "execution_count": null,
   "id": "619fa531",
   "metadata": {},
   "outputs": [],
   "source": [
    "df_lg = []\n",
    "\n",
    "for i in np.arange(0, n):\n",
    "    ## randomly shuffle gaps\n",
    "    random.shuffle(grand_gaps)\n",
    "    ## add to randomly shuffled lengths\n",
    "    shuffled_lg = grand_gaps + np.mean(note_df['note_len'])\n",
    "    \n",
    "    shuffled_lg_i1 = shuffled_lg[:-1]\n",
    "    shuffled_lg_i2 = shuffled_lg[1:]\n",
    "    \n",
    "    df_lg.append(shuffled_lg_i1 / (shuffled_lg_i1 + shuffled_lg_i2))"
   ]
  },
  {
   "cell_type": "code",
   "execution_count": null,
   "id": "f586fa7e",
   "metadata": {},
   "outputs": [],
   "source": [
    "lg_ratio = np.hstack(df_lg)"
   ]
  },
  {
   "cell_type": "code",
   "execution_count": null,
   "id": "85ca084c",
   "metadata": {},
   "outputs": [],
   "source": [
    "sns.histplot(lg_ratio)"
   ]
  },
  {
   "cell_type": "markdown",
   "id": "bf805b21",
   "metadata": {},
   "source": [
    "## plot"
   ]
  },
  {
   "cell_type": "code",
   "execution_count": null,
   "id": "d85f7bb8",
   "metadata": {},
   "outputs": [],
   "source": [
    "import matplotlib.pyplot as plt\n",
    "from matplotlib.pyplot import figure\n",
    "from butcherbird.utils.paths import FIGURE_DIR\n",
    "import seaborn as sns"
   ]
  },
  {
   "cell_type": "code",
   "execution_count": null,
   "id": "4029aa89",
   "metadata": {},
   "outputs": [],
   "source": [
    "figure(figsize = (4, 3), dpi = 300)\n",
    "\n",
    "plt.rcParams['patch.edgecolor'] = 'none'\n",
    "\n",
    "fig = sns.histplot(\n",
    "    x = dyadic['ratio_roeske'],\n",
    "    binwidth = 0.01,\n",
    "    stat = 'density',\n",
    "    color = '#A3E301',\n",
    "    fill = '#A3E301',\n",
    "    kde = True\n",
    ")\n",
    "\n",
    "uni = sns.histplot(\n",
    "    x = uni_ratio,\n",
    "    stat = 'density',\n",
    "    alpha = 0,\n",
    "    binwidth = 0.01,\n",
    "    color = '#FC6983',\n",
    "    kde = True,\n",
    "    line_kws = dict(linestyle = 'dashed')\n",
    ")\n",
    "\n",
    "'''sf = sns.histplot(\n",
    "        x = sf_ratio,\n",
    "        stat = 'density',\n",
    "        alpha = 0,\n",
    "        color = '#1DB6AB',\n",
    "        kde = True,\n",
    "        line_kws = dict(linestyle = 'dashed')\n",
    "    )\n",
    "\n",
    "lg = sns.histplot(\n",
    "        x = lg_ratio,\n",
    "        stat = 'density',\n",
    "        alpha = 0,\n",
    "        color = '#15215B',\n",
    "        kde = True,\n",
    "        line_kws = dict(linestyle = 'dashed')\n",
    ")'''\n",
    "\n",
    "ax = plt.gca()\n",
    "ax.set_xlim([0, 1])\n",
    "plt.xticks(np.arange(0, 1.25, 0.25))\n",
    "\n",
    "# save\n",
    "figname = 'fig1_' + 'lengthcontrol_rhythm_' + indv + '.pdf'\n",
    "plt.savefig(FIGURE_DIR/'len_control'/indv/figname)"
   ]
  },
  {
   "cell_type": "markdown",
   "id": "1e84c838",
   "metadata": {},
   "source": [
    "## Find Consistent Transitions (Copied from 3.1)"
   ]
  },
  {
   "cell_type": "code",
   "execution_count": null,
   "id": "7e2de5db",
   "metadata": {},
   "outputs": [],
   "source": [
    "from butcherbird import sequential"
   ]
  },
  {
   "cell_type": "code",
   "execution_count": null,
   "id": "69b8999a",
   "metadata": {},
   "outputs": [],
   "source": [
    "import numpy as np"
   ]
  },
  {
   "cell_type": "code",
   "execution_count": null,
   "id": "6d28730b",
   "metadata": {},
   "outputs": [],
   "source": [
    "trans_mat = sequential.construct_seq_matrix(note_df, label = 'lasso_labels', sort = False)"
   ]
  },
  {
   "cell_type": "code",
   "execution_count": null,
   "id": "d673e7a7",
   "metadata": {},
   "outputs": [],
   "source": [
    "## bootstrap null distributions with 100 samples under 0-order syntax assumption"
   ]
  },
  {
   "cell_type": "code",
   "execution_count": null,
   "id": "daae1f18",
   "metadata": {},
   "outputs": [],
   "source": [
    "p_container = []\n",
    "\n",
    "## sample 100 times\n",
    "for i in np.arange(0, 100):\n",
    "    \n",
    "    ## bootstrap one zero-order sequence\n",
    "    bootstrapped_df = note_df.sample(n = len(note_df), replace = True).reset_index()\n",
    "    \n",
    "    ## find the transition matrix of the sequence\n",
    "    bootstrapped_mat = sequential.construct_seq_matrix(bootstrapped_df, label = 'lasso_labels', sort = False)\n",
    "    \n",
    "    ## turn the matrix into long form\n",
    "    bootstrapped_long = sequential.long_cvtr(bootstrapped_mat, songType = 'Bootstrapped')\n",
    "    \n",
    "    ## return bootstrapped distribution of all transition probabilities\n",
    "    p_container.append(bootstrapped_long.p.values)\n",
    "    \n",
    "p_container"
   ]
  },
  {
   "cell_type": "code",
   "execution_count": null,
   "id": "f1c63634",
   "metadata": {},
   "outputs": [],
   "source": [
    "## swap axes so that each element in p_container is a null sampling distribution of \n",
    "## find how likely that specific transition happpens with just 0 order syntax"
   ]
  },
  {
   "cell_type": "code",
   "execution_count": null,
   "id": "7de711cb",
   "metadata": {},
   "outputs": [],
   "source": [
    "p = np.swapaxes(p_container, 0, 1)"
   ]
  },
  {
   "cell_type": "code",
   "execution_count": null,
   "id": "8b39cb6f",
   "metadata": {},
   "outputs": [],
   "source": [
    "p"
   ]
  },
  {
   "cell_type": "code",
   "execution_count": null,
   "id": "ff54d6f4",
   "metadata": {},
   "outputs": [],
   "source": [
    "import numpy as np\n",
    "import scipy.stats\n",
    "\n",
    "## a standard calculation for confidence interval\n",
    "def mean_confidence_interval(data, confidence=0.95):\n",
    "    a = 1.0 * np.array(data)\n",
    "    n = len(a)\n",
    "    m, se = np.mean(a), scipy.stats.sem(a)\n",
    "    h = se * scipy.stats.t.ppf((1 + confidence) / 2., n-1)\n",
    "    return m, m-h, m+h"
   ]
  },
  {
   "cell_type": "code",
   "execution_count": null,
   "id": "ed59c539",
   "metadata": {},
   "outputs": [],
   "source": [
    "higherconfints = []\n",
    "\n",
    "for null_transitions in p:\n",
    "    higherconfints.append(mean_confidence_interval(null_transitions, confidence = 0.95)[2])\n",
    "    \n",
    "higherconfints"
   ]
  },
  {
   "cell_type": "code",
   "execution_count": null,
   "id": "cfd1ef36",
   "metadata": {},
   "outputs": [],
   "source": [
    "trans_long = sequential.long_cvtr(trans_mat, songType = 'True')"
   ]
  },
  {
   "cell_type": "code",
   "execution_count": null,
   "id": "801db54b",
   "metadata": {
    "scrolled": true
   },
   "outputs": [],
   "source": [
    "trans_long"
   ]
  },
  {
   "cell_type": "code",
   "execution_count": null,
   "id": "50dd94b2",
   "metadata": {},
   "outputs": [],
   "source": [
    "trans_long['higherconfint'] = higherconfints"
   ]
  },
  {
   "cell_type": "code",
   "execution_count": null,
   "id": "31ab814e",
   "metadata": {},
   "outputs": [],
   "source": [
    "trans_long"
   ]
  },
  {
   "cell_type": "code",
   "execution_count": null,
   "id": "bc5a303f",
   "metadata": {},
   "outputs": [],
   "source": [
    "filtered_trans_long = trans_long[trans_long.p > trans_long.higherconfint]"
   ]
  },
  {
   "cell_type": "code",
   "execution_count": null,
   "id": "f656f7c4",
   "metadata": {
    "scrolled": true
   },
   "outputs": [],
   "source": [
    "filtered_trans_long"
   ]
  },
  {
   "cell_type": "code",
   "execution_count": null,
   "id": "21b6a0a2",
   "metadata": {},
   "outputs": [],
   "source": [
    "ftl = filtered_trans_long"
   ]
  },
  {
   "cell_type": "code",
   "execution_count": null,
   "id": "1e921202",
   "metadata": {},
   "outputs": [],
   "source": [
    "## verify rhythm counts above 0.01 of total rhythm count (8013 * 0.01)"
   ]
  },
  {
   "cell_type": "code",
   "execution_count": null,
   "id": "0c6a1152",
   "metadata": {},
   "outputs": [],
   "source": [
    "verified = []\n",
    "\n",
    "for index, transition in ftl.iterrows():\n",
    "    note = transition.noteType\n",
    "    dest = transition.markov\n",
    "    \n",
    "    ## find if dyadic contains enough entries for this particular combination\n",
    "    first_filter = dyadic[dyadic.label1 == note]\n",
    "    second_filter = first_filter[first_filter.label2 == dest]\n",
    "    \n",
    "    if len(second_filter) > 0.01*len(dyadic):\n",
    "        verified.append(index)"
   ]
  },
  {
   "cell_type": "code",
   "execution_count": null,
   "id": "e55154b3",
   "metadata": {},
   "outputs": [],
   "source": [
    "vr = ftl.filter(items = verified, axis = 0)"
   ]
  },
  {
   "cell_type": "code",
   "execution_count": null,
   "id": "069bec2e",
   "metadata": {},
   "outputs": [],
   "source": [
    "unique, counts = np.unique(vr.noteType, return_counts = True)"
   ]
  },
  {
   "cell_type": "code",
   "execution_count": null,
   "id": "da1db056",
   "metadata": {},
   "outputs": [],
   "source": [
    "eligible_notes = []\n",
    "for noteType, count in zip(unique, counts):\n",
    "    if count > 1:\n",
    "        eligible_notes.append(noteType)"
   ]
  },
  {
   "cell_type": "code",
   "execution_count": null,
   "id": "d61d92f7",
   "metadata": {},
   "outputs": [],
   "source": [
    "eligible_transitions = []\n",
    "\n",
    "for n in eligible_notes:\n",
    "    eligible_transitions.append(vr[vr.noteType == n])\n",
    "    \n",
    "eligible_transitions = pd.concat(eligible_transitions)"
   ]
  },
  {
   "cell_type": "code",
   "execution_count": null,
   "id": "901bdc91",
   "metadata": {},
   "outputs": [],
   "source": [
    "eligible_transitions"
   ]
  },
  {
   "cell_type": "code",
   "execution_count": null,
   "id": "dc9e0e25",
   "metadata": {},
   "outputs": [],
   "source": [
    "import scipy.stats\n",
    "import itertools\n",
    "\n",
    "def bif_rhythm_ks(vd_bif, dyadic, mode = 'ratio_roeske'):\n",
    "    '''\n",
    "    Calculate KS test for each bifurcation point\n",
    "    '''\n",
    "    \n",
    "    output = []\n",
    "    \n",
    "    # 1. Extract Bifurcation Info from vd_bif\n",
    "    ### a. Find all pre-bifurcation notes\n",
    "    pre_bif = np.unique(vd_bif['noteType'])\n",
    "    \n",
    "    # 2. For each bifurcation, conduct a Kolmogorov-Smirnov test\n",
    "    ### a. for each bifurcation\n",
    "    for note in pre_bif:\n",
    "        ### a. Query its exact slice\n",
    "        bif_df = vd_bif[vd_bif['noteType'] == note]\n",
    "        ### b. Query its bifurcation destinations\n",
    "        destinations = np.unique(bif_df['markov'])\n",
    "        pairs = list(itertools.combinations(destinations, 2))\n",
    "        ### c. Filter dyadic by pre_bif\n",
    "        note_df = dyadic[dyadic['label1'] == note]\n",
    "        ### d. Filter note_df by bif destinations\n",
    "        for pair in pairs: \n",
    "            t1_df = note_df[note_df['label2'] == pair[0]]\n",
    "            t2_df = note_df[note_df['label2'] == pair[1]]\n",
    "            bif_prob0 = bif_df[bif_df['markov'] == pair[0]]['p'].values[0]\n",
    "            bif_prob1 = bif_df[bif_df['markov'] == pair[1]]['p'].values[0]\n",
    "            \n",
    "            ### e. compute ks\n",
    "            try:\n",
    "                ks = scipy.stats.ks_2samp(t1_df[mode], t2_df[mode])\n",
    "            except:\n",
    "                ks = [None, None]\n",
    "                print('ks not computed')\n",
    "            ### e. feeds out pandas\n",
    "            output.append(\n",
    "                pd.DataFrame(\n",
    "                    {\n",
    "                        'pre_bif': [note],\n",
    "                        'bif_des': [(pair[0], pair[1])],\n",
    "                        'bif_prof': [\n",
    "                            (\n",
    "                                bif_prob0,\n",
    "                                bif_prob1\n",
    "                            )\n",
    "                        ],\n",
    "                        'rhy_cnts': [\n",
    "                            (\n",
    "                                len(t1_df),\n",
    "                                len(t2_df)\n",
    "                            )\n",
    "                        ],\n",
    "                        'ks_statistic': [ks[0]],\n",
    "                        'ks_p': [ks[1]]\n",
    "                    }\n",
    "                )\n",
    "            )\n",
    "        \n",
    "        print('Finished querying bifurcation with pre_bif ', note)\n",
    "    return pd.concat(output)"
   ]
  },
  {
   "cell_type": "code",
   "execution_count": null,
   "id": "0118f37e",
   "metadata": {},
   "outputs": [],
   "source": [
    "entangle = bif_rhythm_ks(eligible_transitions, dyadic)"
   ]
  },
  {
   "cell_type": "code",
   "execution_count": null,
   "id": "ddbd8559",
   "metadata": {},
   "outputs": [],
   "source": [
    "entangle"
   ]
  },
  {
   "cell_type": "code",
   "execution_count": null,
   "id": "53f1a6d4",
   "metadata": {},
   "outputs": [],
   "source": [
    "entangle['ks_p'] < 0.05"
   ]
  },
  {
   "cell_type": "code",
   "execution_count": null,
   "id": "b603f249",
   "metadata": {},
   "outputs": [],
   "source": [
    "## do a shuffle\n",
    "dyadic_shuffle = dyadic.copy(deep = True)\n",
    "np.random.shuffle(dyadic_shuffle['ratio_roeske'].values)\n",
    "entangle = bif_rhythm_ks(eligible_transitions, dyadic_shuffle)"
   ]
  },
  {
   "cell_type": "code",
   "execution_count": null,
   "id": "ca6da683",
   "metadata": {},
   "outputs": [],
   "source": [
    "entangle"
   ]
  },
  {
   "cell_type": "markdown",
   "id": "899926cf",
   "metadata": {},
   "source": [
    "# Compute Global Statistic"
   ]
  },
  {
   "cell_type": "markdown",
   "id": "c19d4594",
   "metadata": {},
   "source": [
    "The concept of the global statistic here is to compare the rhythm ratios for each first-order syntax and to compare between-group variation / within-group variation. \n",
    "\n",
    "1. Find each first-order transition -> z-score -> compile all first-order transition -> MSE\n",
    "2. Compare with zero-order transition -> z-score -> compile all first-order transition -> MSE\n",
    "3. Is first-order transition variance is lower than zero-order transition variance?"
   ]
  },
  {
   "cell_type": "markdown",
   "id": "4b4da43d",
   "metadata": {},
   "source": [
    "## Let's find all the first-order transitions first"
   ]
  },
  {
   "cell_type": "code",
   "execution_count": null,
   "id": "085122c0",
   "metadata": {},
   "outputs": [],
   "source": [
    "import scipy.stats as stats"
   ]
  },
  {
   "cell_type": "code",
   "execution_count": null,
   "id": "fa9ebf19",
   "metadata": {},
   "outputs": [],
   "source": [
    "def syntactic_rhythmic_modulation_metric (dyadic):\n",
    "    \n",
    "    ## compute global metric\n",
    "    \n",
    "    first_order_rhythms_centered = []\n",
    "    first_order_group_n = 0\n",
    "\n",
    "    ## for every possible label\n",
    "    for label in np.unique(dyadic['label1']):\n",
    "\n",
    "        ## find a sub dataframe containing only designated zero-order label\n",
    "        zero_order = dyadic[dyadic['label1'] == label]\n",
    "\n",
    "        ## for every possible transition of that label\n",
    "        for transition in np.unique(zero_order['label2']):\n",
    "\n",
    "            ## find its rhythms\n",
    "            first_order = zero_order[zero_order['label2'] == transition]\n",
    "            first_order_rhythms = first_order['ratio_roeske'].values\n",
    "            first_order_rhythms_centered.extend(first_order_rhythms - np.mean(first_order_rhythms))\n",
    "\n",
    "            ## add 1 to group_n\n",
    "            first_order_group_n+=1\n",
    "    \n",
    "    # find MSE\n",
    "    MSE_first = sum(np.square(first_order_rhythms_centered)) / len(dyadic)\n",
    "    MSE_baseline = sum(np.square(dyadic['ratio_roeske'].values - np.mean(dyadic['ratio_roeske']))) / len(dyadic)\n",
    "    \n",
    "    return 1 - MSE_first / MSE_baseline"
   ]
  },
  {
   "cell_type": "markdown",
   "id": "fc058b01",
   "metadata": {},
   "source": [
    "## empirical "
   ]
  },
  {
   "cell_type": "code",
   "execution_count": null,
   "id": "c404335e",
   "metadata": {
    "scrolled": false
   },
   "outputs": [],
   "source": [
    "syntactic_rhythmic_modulation_metric(dyadic)"
   ]
  },
  {
   "cell_type": "markdown",
   "id": "33740639",
   "metadata": {},
   "source": [
    "## Find Baseline using bootstrap"
   ]
  },
  {
   "cell_type": "code",
   "execution_count": null,
   "id": "ca0dd09e",
   "metadata": {},
   "outputs": [],
   "source": [
    "from tqdm.autonotebook import tqdm"
   ]
  },
  {
   "cell_type": "code",
   "execution_count": null,
   "id": "35a2fbca",
   "metadata": {},
   "outputs": [],
   "source": [
    "dyadic_shuffle = dyadic.copy(deep = True)\n",
    "\n",
    "SDoMSE = []\n",
    "\n",
    "for sample in tqdm(np.arange(0, 100)):\n",
    "    \n",
    "    ## shuffle dyadic\n",
    "    np.random.shuffle(dyadic_shuffle['ratio_roeske'].values)\n",
    "    \n",
    "    SDoMSE.append(syntactic_rhythmic_modulation_metric(dyadic_shuffle))"
   ]
  },
  {
   "cell_type": "code",
   "execution_count": null,
   "id": "6e02c959",
   "metadata": {},
   "outputs": [],
   "source": [
    "mean_confidence_interval(SDoMSE, confidence=0.95)"
   ]
  },
  {
   "cell_type": "code",
   "execution_count": null,
   "id": "1f07bdee",
   "metadata": {},
   "outputs": [],
   "source": [
    "syntactic_rhythmic_modulation_metric(dyadic)"
   ]
  },
  {
   "cell_type": "markdown",
   "id": "041b6cdc",
   "metadata": {},
   "source": [
    "## try using anova"
   ]
  },
  {
   "cell_type": "code",
   "execution_count": null,
   "id": "c2aa2848",
   "metadata": {},
   "outputs": [],
   "source": [
    "import statsmodels.api as sm\n",
    "from statsmodels.formula.api import ols"
   ]
  },
  {
   "cell_type": "code",
   "execution_count": null,
   "id": "0dd8b66a",
   "metadata": {},
   "outputs": [],
   "source": [
    "dyadic = dyadic.astype({'label1': str, 'label2': str})"
   ]
  },
  {
   "cell_type": "code",
   "execution_count": null,
   "id": "561d6684",
   "metadata": {},
   "outputs": [],
   "source": [
    "model = ols('ratio_roeske ~ label1', data = dyadic).fit()\n",
    "anova_table = sm.stats.anova_lm(model, typ=2)\n",
    "anova_table"
   ]
  },
  {
   "cell_type": "code",
   "execution_count": null,
   "id": "9f861b87",
   "metadata": {},
   "outputs": [],
   "source": [
    "dyadic['transition'] = dyadic['label1'] + '+' + dyadic['label2']"
   ]
  },
  {
   "cell_type": "code",
   "execution_count": null,
   "id": "19b51544",
   "metadata": {},
   "outputs": [],
   "source": [
    "dyadic"
   ]
  },
  {
   "cell_type": "code",
   "execution_count": null,
   "id": "c319173e",
   "metadata": {},
   "outputs": [],
   "source": [
    "model = ols('ratio_roeske ~ transition', data = dyadic).fit()\n",
    "anova_table = sm.stats.anova_lm(model, typ=2)\n",
    "anova_table"
   ]
  },
  {
   "cell_type": "code",
   "execution_count": null,
   "id": "7ed80894",
   "metadata": {},
   "outputs": [],
   "source": []
  }
 ],
 "metadata": {
  "kernelspec": {
   "display_name": "pbb",
   "language": "python",
   "name": "pbb"
  },
  "language_info": {
   "codemirror_mode": {
    "name": "ipython",
    "version": 3
   },
   "file_extension": ".py",
   "mimetype": "text/x-python",
   "name": "python",
   "nbconvert_exporter": "python",
   "pygments_lexer": "ipython3",
   "version": "3.10.0"
  }
 },
 "nbformat": 4,
 "nbformat_minor": 5
}
