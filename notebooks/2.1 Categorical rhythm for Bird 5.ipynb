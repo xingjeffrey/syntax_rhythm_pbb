{
 "cells": [
  {
   "cell_type": "markdown",
   "id": "01607931",
   "metadata": {},
   "source": [
    "***\n",
    "# 2.1 Categorical rhythm for Bird 5\n",
    "### JX, 03/08/2022\n",
    "***\n",
    "    Bird5:\n",
    "    LS110131.10.9.2015GeoPool.aiff\n",
    "    LS110136.10.10.2015GeoGreens.aiff\n",
    "    LS110143.10.12.2015GeoGreens.aiff\n",
    "    LS110146A.10.13.2015GeoGreens.aiff\n",
    "    \n",
    "***"
   ]
  },
  {
   "cell_type": "markdown",
   "id": "aa770fa7",
   "metadata": {},
   "source": [
    "## Specify Locations"
   ]
  },
  {
   "cell_type": "code",
   "execution_count": 1,
   "id": "30590551",
   "metadata": {},
   "outputs": [],
   "source": [
    "from butcherbird.utils.paths import DATA_DIR"
   ]
  },
  {
   "cell_type": "code",
   "execution_count": 2,
   "id": "d4375558",
   "metadata": {},
   "outputs": [],
   "source": [
    "indv = \"Bird5\""
   ]
  },
  {
   "cell_type": "code",
   "execution_count": 3,
   "id": "153564ba",
   "metadata": {},
   "outputs": [],
   "source": [
    "SAVE_LOC = DATA_DIR/'interim/raw_spectrogram/butcherbird_note_df.pickle'"
   ]
  },
  {
   "cell_type": "markdown",
   "id": "1dbc2310",
   "metadata": {},
   "source": [
    "## Load in Data"
   ]
  },
  {
   "cell_type": "code",
   "execution_count": 4,
   "id": "247a2acc",
   "metadata": {},
   "outputs": [],
   "source": [
    "import pandas as pd"
   ]
  },
  {
   "cell_type": "code",
   "execution_count": 5,
   "id": "4ffd65d8",
   "metadata": {},
   "outputs": [],
   "source": [
    "note_df = pd.read_pickle(SAVE_LOC)"
   ]
  },
  {
   "cell_type": "code",
   "execution_count": 6,
   "id": "478a4eaf",
   "metadata": {},
   "outputs": [],
   "source": [
    "indv_df = note_df[note_df['indv'] == indv].reset_index()"
   ]
  },
  {
   "cell_type": "code",
   "execution_count": 7,
   "id": "b0784c80",
   "metadata": {},
   "outputs": [
    {
     "data": {
      "text/html": [
       "<div>\n",
       "<style scoped>\n",
       "    .dataframe tbody tr th:only-of-type {\n",
       "        vertical-align: middle;\n",
       "    }\n",
       "\n",
       "    .dataframe tbody tr th {\n",
       "        vertical-align: top;\n",
       "    }\n",
       "\n",
       "    .dataframe thead th {\n",
       "        text-align: right;\n",
       "    }\n",
       "</style>\n",
       "<table border=\"1\" class=\"dataframe\">\n",
       "  <thead>\n",
       "    <tr style=\"text-align: right;\">\n",
       "      <th></th>\n",
       "      <th>index</th>\n",
       "      <th>phrase_nb</th>\n",
       "      <th>phrase_strt</th>\n",
       "      <th>phrase_end</th>\n",
       "      <th>phrase_len</th>\n",
       "      <th>note_cnt</th>\n",
       "      <th>note_nb</th>\n",
       "      <th>note_strt</th>\n",
       "      <th>note_end</th>\n",
       "      <th>note_len</th>\n",
       "      <th>indv</th>\n",
       "      <th>indvi</th>\n",
       "      <th>key</th>\n",
       "      <th>audio</th>\n",
       "      <th>rate</th>\n",
       "      <th>spectrogram</th>\n",
       "    </tr>\n",
       "  </thead>\n",
       "  <tbody>\n",
       "    <tr>\n",
       "      <th>0</th>\n",
       "      <td>0</td>\n",
       "      <td>0</td>\n",
       "      <td>513.780000</td>\n",
       "      <td>517.061923</td>\n",
       "      <td>3.281923</td>\n",
       "      <td>15</td>\n",
       "      <td>0</td>\n",
       "      <td>513.780000</td>\n",
       "      <td>513.905214</td>\n",
       "      <td>0.125214</td>\n",
       "      <td>Bird5</td>\n",
       "      <td>0</td>\n",
       "      <td>LS110143.10.12.2015GeoGreens_dn</td>\n",
       "      <td>[-0.0, -7.356902671940375e-05, -0.000162745769...</td>\n",
       "      <td>44100</td>\n",
       "      <td>[[0, 0, 0, 0, 0, 0, 0, 0, 0, 0, 0, 0, 0, 0, 0,...</td>\n",
       "    </tr>\n",
       "    <tr>\n",
       "      <th>1</th>\n",
       "      <td>1</td>\n",
       "      <td>0</td>\n",
       "      <td>513.780000</td>\n",
       "      <td>517.061923</td>\n",
       "      <td>3.281923</td>\n",
       "      <td>15</td>\n",
       "      <td>1</td>\n",
       "      <td>513.917747</td>\n",
       "      <td>513.980936</td>\n",
       "      <td>0.063188</td>\n",
       "      <td>Bird5</td>\n",
       "      <td>0</td>\n",
       "      <td>LS110143.10.12.2015GeoGreens_dn</td>\n",
       "      <td>[0.0, 0.0014728324725323874, 0.002769917049663...</td>\n",
       "      <td>44100</td>\n",
       "      <td>[[0, 0, 0, 0, 0, 0, 0, 0, 0, 0, 0, 0, 0, 0, 0,...</td>\n",
       "    </tr>\n",
       "    <tr>\n",
       "      <th>2</th>\n",
       "      <td>2</td>\n",
       "      <td>0</td>\n",
       "      <td>513.780000</td>\n",
       "      <td>517.061923</td>\n",
       "      <td>3.281923</td>\n",
       "      <td>15</td>\n",
       "      <td>2</td>\n",
       "      <td>514.170000</td>\n",
       "      <td>514.480698</td>\n",
       "      <td>0.310698</td>\n",
       "      <td>Bird5</td>\n",
       "      <td>0</td>\n",
       "      <td>LS110143.10.12.2015GeoGreens_dn</td>\n",
       "      <td>[0.0, 4.4531726447127805e-05, 4.62385657049665...</td>\n",
       "      <td>44100</td>\n",
       "      <td>[[0, 0, 0, 0, 0, 0, 0, 0, 0, 0, 0, 0, 0, 0, 0,...</td>\n",
       "    </tr>\n",
       "    <tr>\n",
       "      <th>3</th>\n",
       "      <td>3</td>\n",
       "      <td>0</td>\n",
       "      <td>513.780000</td>\n",
       "      <td>517.061923</td>\n",
       "      <td>3.281923</td>\n",
       "      <td>15</td>\n",
       "      <td>3</td>\n",
       "      <td>514.620783</td>\n",
       "      <td>515.310000</td>\n",
       "      <td>0.689217</td>\n",
       "      <td>Bird5</td>\n",
       "      <td>0</td>\n",
       "      <td>LS110143.10.12.2015GeoGreens_dn</td>\n",
       "      <td>[-0.0, -3.2631556531601904e-06, -7.44037823939...</td>\n",
       "      <td>44100</td>\n",
       "      <td>[[0, 0, 0, 0, 0, 0, 0, 0, 0, 0, 0, 0, 0, 0, 0,...</td>\n",
       "    </tr>\n",
       "    <tr>\n",
       "      <th>4</th>\n",
       "      <td>4</td>\n",
       "      <td>0</td>\n",
       "      <td>513.780000</td>\n",
       "      <td>517.061923</td>\n",
       "      <td>3.281923</td>\n",
       "      <td>15</td>\n",
       "      <td>4</td>\n",
       "      <td>515.355217</td>\n",
       "      <td>515.660180</td>\n",
       "      <td>0.304964</td>\n",
       "      <td>Bird5</td>\n",
       "      <td>0</td>\n",
       "      <td>LS110143.10.12.2015GeoGreens_dn</td>\n",
       "      <td>[-0.0, -2.958346783314775e-05, -7.119856074752...</td>\n",
       "      <td>44100</td>\n",
       "      <td>[[0, 0, 0, 0, 0, 0, 0, 0, 0, 0, 0, 0, 0, 0, 0,...</td>\n",
       "    </tr>\n",
       "    <tr>\n",
       "      <th>...</th>\n",
       "      <td>...</td>\n",
       "      <td>...</td>\n",
       "      <td>...</td>\n",
       "      <td>...</td>\n",
       "      <td>...</td>\n",
       "      <td>...</td>\n",
       "      <td>...</td>\n",
       "      <td>...</td>\n",
       "      <td>...</td>\n",
       "      <td>...</td>\n",
       "      <td>...</td>\n",
       "      <td>...</td>\n",
       "      <td>...</td>\n",
       "      <td>...</td>\n",
       "      <td>...</td>\n",
       "      <td>...</td>\n",
       "    </tr>\n",
       "    <tr>\n",
       "      <th>17325</th>\n",
       "      <td>3374</td>\n",
       "      <td>372</td>\n",
       "      <td>3653.360023</td>\n",
       "      <td>3654.258666</td>\n",
       "      <td>0.898643</td>\n",
       "      <td>9</td>\n",
       "      <td>4</td>\n",
       "      <td>3653.853352</td>\n",
       "      <td>3653.888139</td>\n",
       "      <td>0.034787</td>\n",
       "      <td>Bird5</td>\n",
       "      <td>0</td>\n",
       "      <td>LS110136.10.10.2015GeoGreens_dn</td>\n",
       "      <td>[-0.0, -0.001673964145999627, -0.0031832942626...</td>\n",
       "      <td>44100</td>\n",
       "      <td>[[0, 0, 0, 0, 0, 0, 0, 0, 0, 0, 0, 0, 0, 0, 0,...</td>\n",
       "    </tr>\n",
       "    <tr>\n",
       "      <th>17326</th>\n",
       "      <td>3375</td>\n",
       "      <td>372</td>\n",
       "      <td>3653.360023</td>\n",
       "      <td>3654.258666</td>\n",
       "      <td>0.898643</td>\n",
       "      <td>9</td>\n",
       "      <td>5</td>\n",
       "      <td>3653.891925</td>\n",
       "      <td>3653.948207</td>\n",
       "      <td>0.056282</td>\n",
       "      <td>Bird5</td>\n",
       "      <td>0</td>\n",
       "      <td>LS110136.10.10.2015GeoGreens_dn</td>\n",
       "      <td>[0.0, 0.0034686514995242125, 0.008284073548028...</td>\n",
       "      <td>44100</td>\n",
       "      <td>[[0, 0, 0, 0, 0, 0, 0, 0, 0, 0, 0, 0, 0, 0, 0,...</td>\n",
       "    </tr>\n",
       "    <tr>\n",
       "      <th>17327</th>\n",
       "      <td>3376</td>\n",
       "      <td>372</td>\n",
       "      <td>3653.360023</td>\n",
       "      <td>3654.258666</td>\n",
       "      <td>0.898643</td>\n",
       "      <td>9</td>\n",
       "      <td>6</td>\n",
       "      <td>3654.008784</td>\n",
       "      <td>3654.031501</td>\n",
       "      <td>0.022716</td>\n",
       "      <td>Bird5</td>\n",
       "      <td>0</td>\n",
       "      <td>LS110136.10.10.2015GeoGreens_dn</td>\n",
       "      <td>[-0.0, -0.00043371164758733454, -0.00095053327...</td>\n",
       "      <td>44100</td>\n",
       "      <td>[[0, 0, 0, 0, 0, 0, 0, 0, 0, 0, 0, 0, 0, 0, 0,...</td>\n",
       "    </tr>\n",
       "    <tr>\n",
       "      <th>17328</th>\n",
       "      <td>3377</td>\n",
       "      <td>372</td>\n",
       "      <td>3653.360023</td>\n",
       "      <td>3654.258666</td>\n",
       "      <td>0.898643</td>\n",
       "      <td>9</td>\n",
       "      <td>7</td>\n",
       "      <td>3654.039073</td>\n",
       "      <td>3654.148869</td>\n",
       "      <td>0.109796</td>\n",
       "      <td>Bird5</td>\n",
       "      <td>0</td>\n",
       "      <td>LS110136.10.10.2015GeoGreens_dn</td>\n",
       "      <td>[0.0, 0.001004277659742624, 0.0037406290937590...</td>\n",
       "      <td>44100</td>\n",
       "      <td>[[0, 0, 0, 0, 0, 0, 0, 0, 0, 0, 0, 0, 0, 0, 0,...</td>\n",
       "    </tr>\n",
       "    <tr>\n",
       "      <th>17329</th>\n",
       "      <td>3378</td>\n",
       "      <td>372</td>\n",
       "      <td>3653.360023</td>\n",
       "      <td>3654.258666</td>\n",
       "      <td>0.898643</td>\n",
       "      <td>9</td>\n",
       "      <td>8</td>\n",
       "      <td>3654.156442</td>\n",
       "      <td>3654.258666</td>\n",
       "      <td>0.102224</td>\n",
       "      <td>Bird5</td>\n",
       "      <td>0</td>\n",
       "      <td>LS110136.10.10.2015GeoGreens_dn</td>\n",
       "      <td>[-0.0, -0.0005354460753850489, -0.001444331551...</td>\n",
       "      <td>44100</td>\n",
       "      <td>[[0, 0, 0, 0, 0, 0, 0, 0, 0, 0, 0, 0, 0, 0, 0,...</td>\n",
       "    </tr>\n",
       "  </tbody>\n",
       "</table>\n",
       "<p>17330 rows × 16 columns</p>\n",
       "</div>"
      ],
      "text/plain": [
       "       index  phrase_nb  phrase_strt   phrase_end  phrase_len  note_cnt  \\\n",
       "0          0          0   513.780000   517.061923    3.281923        15   \n",
       "1          1          0   513.780000   517.061923    3.281923        15   \n",
       "2          2          0   513.780000   517.061923    3.281923        15   \n",
       "3          3          0   513.780000   517.061923    3.281923        15   \n",
       "4          4          0   513.780000   517.061923    3.281923        15   \n",
       "...      ...        ...          ...          ...         ...       ...   \n",
       "17325   3374        372  3653.360023  3654.258666    0.898643         9   \n",
       "17326   3375        372  3653.360023  3654.258666    0.898643         9   \n",
       "17327   3376        372  3653.360023  3654.258666    0.898643         9   \n",
       "17328   3377        372  3653.360023  3654.258666    0.898643         9   \n",
       "17329   3378        372  3653.360023  3654.258666    0.898643         9   \n",
       "\n",
       "       note_nb    note_strt     note_end  note_len   indv  indvi  \\\n",
       "0            0   513.780000   513.905214  0.125214  Bird5      0   \n",
       "1            1   513.917747   513.980936  0.063188  Bird5      0   \n",
       "2            2   514.170000   514.480698  0.310698  Bird5      0   \n",
       "3            3   514.620783   515.310000  0.689217  Bird5      0   \n",
       "4            4   515.355217   515.660180  0.304964  Bird5      0   \n",
       "...        ...          ...          ...       ...    ...    ...   \n",
       "17325        4  3653.853352  3653.888139  0.034787  Bird5      0   \n",
       "17326        5  3653.891925  3653.948207  0.056282  Bird5      0   \n",
       "17327        6  3654.008784  3654.031501  0.022716  Bird5      0   \n",
       "17328        7  3654.039073  3654.148869  0.109796  Bird5      0   \n",
       "17329        8  3654.156442  3654.258666  0.102224  Bird5      0   \n",
       "\n",
       "                                   key  \\\n",
       "0      LS110143.10.12.2015GeoGreens_dn   \n",
       "1      LS110143.10.12.2015GeoGreens_dn   \n",
       "2      LS110143.10.12.2015GeoGreens_dn   \n",
       "3      LS110143.10.12.2015GeoGreens_dn   \n",
       "4      LS110143.10.12.2015GeoGreens_dn   \n",
       "...                                ...   \n",
       "17325  LS110136.10.10.2015GeoGreens_dn   \n",
       "17326  LS110136.10.10.2015GeoGreens_dn   \n",
       "17327  LS110136.10.10.2015GeoGreens_dn   \n",
       "17328  LS110136.10.10.2015GeoGreens_dn   \n",
       "17329  LS110136.10.10.2015GeoGreens_dn   \n",
       "\n",
       "                                                   audio   rate  \\\n",
       "0      [-0.0, -7.356902671940375e-05, -0.000162745769...  44100   \n",
       "1      [0.0, 0.0014728324725323874, 0.002769917049663...  44100   \n",
       "2      [0.0, 4.4531726447127805e-05, 4.62385657049665...  44100   \n",
       "3      [-0.0, -3.2631556531601904e-06, -7.44037823939...  44100   \n",
       "4      [-0.0, -2.958346783314775e-05, -7.119856074752...  44100   \n",
       "...                                                  ...    ...   \n",
       "17325  [-0.0, -0.001673964145999627, -0.0031832942626...  44100   \n",
       "17326  [0.0, 0.0034686514995242125, 0.008284073548028...  44100   \n",
       "17327  [-0.0, -0.00043371164758733454, -0.00095053327...  44100   \n",
       "17328  [0.0, 0.001004277659742624, 0.0037406290937590...  44100   \n",
       "17329  [-0.0, -0.0005354460753850489, -0.001444331551...  44100   \n",
       "\n",
       "                                             spectrogram  \n",
       "0      [[0, 0, 0, 0, 0, 0, 0, 0, 0, 0, 0, 0, 0, 0, 0,...  \n",
       "1      [[0, 0, 0, 0, 0, 0, 0, 0, 0, 0, 0, 0, 0, 0, 0,...  \n",
       "2      [[0, 0, 0, 0, 0, 0, 0, 0, 0, 0, 0, 0, 0, 0, 0,...  \n",
       "3      [[0, 0, 0, 0, 0, 0, 0, 0, 0, 0, 0, 0, 0, 0, 0,...  \n",
       "4      [[0, 0, 0, 0, 0, 0, 0, 0, 0, 0, 0, 0, 0, 0, 0,...  \n",
       "...                                                  ...  \n",
       "17325  [[0, 0, 0, 0, 0, 0, 0, 0, 0, 0, 0, 0, 0, 0, 0,...  \n",
       "17326  [[0, 0, 0, 0, 0, 0, 0, 0, 0, 0, 0, 0, 0, 0, 0,...  \n",
       "17327  [[0, 0, 0, 0, 0, 0, 0, 0, 0, 0, 0, 0, 0, 0, 0,...  \n",
       "17328  [[0, 0, 0, 0, 0, 0, 0, 0, 0, 0, 0, 0, 0, 0, 0,...  \n",
       "17329  [[0, 0, 0, 0, 0, 0, 0, 0, 0, 0, 0, 0, 0, 0, 0,...  \n",
       "\n",
       "[17330 rows x 16 columns]"
      ]
     },
     "execution_count": 7,
     "metadata": {},
     "output_type": "execute_result"
    }
   ],
   "source": [
    "indv_df"
   ]
  },
  {
   "cell_type": "markdown",
   "id": "0ef649c5",
   "metadata": {},
   "source": [
    "## Calculate Empirical Rhythm"
   ]
  },
  {
   "cell_type": "code",
   "execution_count": 8,
   "id": "c3a3cfed",
   "metadata": {},
   "outputs": [
    {
     "name": "stderr",
     "output_type": "stream",
     "text": [
      "/home/AD/j8xing/syntax_rhythm_pbb/butcherbird/rhythm.py:151: TqdmExperimentalWarning: Using `tqdm.autonotebook.tqdm` in notebook mode. Use `tqdm.tqdm` instead to force console mode (e.g. in jupyter console)\n",
      "  from tqdm.autonotebook import tqdm\n"
     ]
    }
   ],
   "source": [
    "import butcherbird.rhythm as rhythm\n",
    "import seaborn as sns"
   ]
  },
  {
   "cell_type": "code",
   "execution_count": 9,
   "id": "a2e29cdc",
   "metadata": {},
   "outputs": [],
   "source": [
    "dyadic = rhythm.construct_rhythm_df(\n",
    "    onsets = indv_df['note_strt'], \n",
    "    syntactic_units = indv_df['indv'], \n",
    "    expected_interval_range = [0, 1]\n",
    ")"
   ]
  },
  {
   "cell_type": "code",
   "execution_count": 10,
   "id": "8db7d7df",
   "metadata": {
    "scrolled": false
   },
   "outputs": [
    {
     "data": {
      "text/html": [
       "<div>\n",
       "<style scoped>\n",
       "    .dataframe tbody tr th:only-of-type {\n",
       "        vertical-align: middle;\n",
       "    }\n",
       "\n",
       "    .dataframe tbody tr th {\n",
       "        vertical-align: top;\n",
       "    }\n",
       "\n",
       "    .dataframe thead th {\n",
       "        text-align: right;\n",
       "    }\n",
       "</style>\n",
       "<table border=\"1\" class=\"dataframe\">\n",
       "  <thead>\n",
       "    <tr style=\"text-align: right;\">\n",
       "      <th></th>\n",
       "      <th>intervals1</th>\n",
       "      <th>intervals2</th>\n",
       "      <th>label1</th>\n",
       "      <th>label2</th>\n",
       "      <th>label3</th>\n",
       "      <th>s_interval</th>\n",
       "      <th>l_interval</th>\n",
       "      <th>cycle_dur</th>\n",
       "      <th>ratio_roeske</th>\n",
       "      <th>ratio_custom</th>\n",
       "      <th>cycle_rank</th>\n",
       "    </tr>\n",
       "  </thead>\n",
       "  <tbody>\n",
       "    <tr>\n",
       "      <th>15950</th>\n",
       "      <td>0.036773</td>\n",
       "      <td>0.003309</td>\n",
       "      <td>Bird5</td>\n",
       "      <td>Bird5</td>\n",
       "      <td>Bird5</td>\n",
       "      <td>0.003309</td>\n",
       "      <td>0.036773</td>\n",
       "      <td>0.040083</td>\n",
       "      <td>0.917441</td>\n",
       "      <td>0.089989</td>\n",
       "      <td>1</td>\n",
       "    </tr>\n",
       "    <tr>\n",
       "      <th>1010</th>\n",
       "      <td>0.034970</td>\n",
       "      <td>0.005312</td>\n",
       "      <td>Bird5</td>\n",
       "      <td>Bird5</td>\n",
       "      <td>Bird5</td>\n",
       "      <td>0.005312</td>\n",
       "      <td>0.034970</td>\n",
       "      <td>0.040282</td>\n",
       "      <td>0.868121</td>\n",
       "      <td>0.151913</td>\n",
       "      <td>2</td>\n",
       "    </tr>\n",
       "    <tr>\n",
       "      <th>72</th>\n",
       "      <td>0.039629</td>\n",
       "      <td>0.001440</td>\n",
       "      <td>Bird5</td>\n",
       "      <td>Bird5</td>\n",
       "      <td>Bird5</td>\n",
       "      <td>0.001440</td>\n",
       "      <td>0.039629</td>\n",
       "      <td>0.041068</td>\n",
       "      <td>0.964946</td>\n",
       "      <td>0.036327</td>\n",
       "      <td>3</td>\n",
       "    </tr>\n",
       "    <tr>\n",
       "      <th>8753</th>\n",
       "      <td>0.045232</td>\n",
       "      <td>0.011358</td>\n",
       "      <td>Bird5</td>\n",
       "      <td>Bird5</td>\n",
       "      <td>Bird5</td>\n",
       "      <td>0.011358</td>\n",
       "      <td>0.045232</td>\n",
       "      <td>0.056590</td>\n",
       "      <td>0.799288</td>\n",
       "      <td>0.251113</td>\n",
       "      <td>4</td>\n",
       "    </tr>\n",
       "    <tr>\n",
       "      <th>15933</th>\n",
       "      <td>0.022714</td>\n",
       "      <td>0.034077</td>\n",
       "      <td>Bird5</td>\n",
       "      <td>Bird5</td>\n",
       "      <td>Bird5</td>\n",
       "      <td>0.022714</td>\n",
       "      <td>0.034077</td>\n",
       "      <td>0.056791</td>\n",
       "      <td>0.399952</td>\n",
       "      <td>0.666534</td>\n",
       "      <td>5</td>\n",
       "    </tr>\n",
       "    <tr>\n",
       "      <th>...</th>\n",
       "      <td>...</td>\n",
       "      <td>...</td>\n",
       "      <td>...</td>\n",
       "      <td>...</td>\n",
       "      <td>...</td>\n",
       "      <td>...</td>\n",
       "      <td>...</td>\n",
       "      <td>...</td>\n",
       "      <td>...</td>\n",
       "      <td>...</td>\n",
       "      <td>...</td>\n",
       "    </tr>\n",
       "    <tr>\n",
       "      <th>9023</th>\n",
       "      <td>0.411473</td>\n",
       "      <td>0.858550</td>\n",
       "      <td>Bird5</td>\n",
       "      <td>Bird5</td>\n",
       "      <td>Bird5</td>\n",
       "      <td>0.411473</td>\n",
       "      <td>0.858550</td>\n",
       "      <td>1.270023</td>\n",
       "      <td>0.323989</td>\n",
       "      <td>0.479265</td>\n",
       "      <td>13789</td>\n",
       "    </tr>\n",
       "    <tr>\n",
       "      <th>3</th>\n",
       "      <td>0.734433</td>\n",
       "      <td>0.537019</td>\n",
       "      <td>Bird5</td>\n",
       "      <td>Bird5</td>\n",
       "      <td>Bird5</td>\n",
       "      <td>0.537019</td>\n",
       "      <td>0.734433</td>\n",
       "      <td>1.271452</td>\n",
       "      <td>0.577633</td>\n",
       "      <td>0.731202</td>\n",
       "      <td>13790</td>\n",
       "    </tr>\n",
       "    <tr>\n",
       "      <th>4665</th>\n",
       "      <td>0.460000</td>\n",
       "      <td>0.820000</td>\n",
       "      <td>Bird5</td>\n",
       "      <td>Bird5</td>\n",
       "      <td>Bird5</td>\n",
       "      <td>0.460000</td>\n",
       "      <td>0.820000</td>\n",
       "      <td>1.280000</td>\n",
       "      <td>0.359375</td>\n",
       "      <td>0.560976</td>\n",
       "      <td>13791</td>\n",
       "    </tr>\n",
       "    <tr>\n",
       "      <th>4765</th>\n",
       "      <td>0.440000</td>\n",
       "      <td>0.875788</td>\n",
       "      <td>Bird5</td>\n",
       "      <td>Bird5</td>\n",
       "      <td>Bird5</td>\n",
       "      <td>0.440000</td>\n",
       "      <td>0.875788</td>\n",
       "      <td>1.315788</td>\n",
       "      <td>0.334400</td>\n",
       "      <td>0.502405</td>\n",
       "      <td>13792</td>\n",
       "    </tr>\n",
       "    <tr>\n",
       "      <th>4621</th>\n",
       "      <td>0.387134</td>\n",
       "      <td>0.945566</td>\n",
       "      <td>Bird5</td>\n",
       "      <td>Bird5</td>\n",
       "      <td>Bird5</td>\n",
       "      <td>0.387134</td>\n",
       "      <td>0.945566</td>\n",
       "      <td>1.332700</td>\n",
       "      <td>0.290488</td>\n",
       "      <td>0.409420</td>\n",
       "      <td>13793</td>\n",
       "    </tr>\n",
       "  </tbody>\n",
       "</table>\n",
       "<p>13793 rows × 11 columns</p>\n",
       "</div>"
      ],
      "text/plain": [
       "       intervals1  intervals2 label1 label2 label3  s_interval  l_interval  \\\n",
       "15950    0.036773    0.003309  Bird5  Bird5  Bird5    0.003309    0.036773   \n",
       "1010     0.034970    0.005312  Bird5  Bird5  Bird5    0.005312    0.034970   \n",
       "72       0.039629    0.001440  Bird5  Bird5  Bird5    0.001440    0.039629   \n",
       "8753     0.045232    0.011358  Bird5  Bird5  Bird5    0.011358    0.045232   \n",
       "15933    0.022714    0.034077  Bird5  Bird5  Bird5    0.022714    0.034077   \n",
       "...           ...         ...    ...    ...    ...         ...         ...   \n",
       "9023     0.411473    0.858550  Bird5  Bird5  Bird5    0.411473    0.858550   \n",
       "3        0.734433    0.537019  Bird5  Bird5  Bird5    0.537019    0.734433   \n",
       "4665     0.460000    0.820000  Bird5  Bird5  Bird5    0.460000    0.820000   \n",
       "4765     0.440000    0.875788  Bird5  Bird5  Bird5    0.440000    0.875788   \n",
       "4621     0.387134    0.945566  Bird5  Bird5  Bird5    0.387134    0.945566   \n",
       "\n",
       "       cycle_dur  ratio_roeske  ratio_custom  cycle_rank  \n",
       "15950   0.040083      0.917441      0.089989           1  \n",
       "1010    0.040282      0.868121      0.151913           2  \n",
       "72      0.041068      0.964946      0.036327           3  \n",
       "8753    0.056590      0.799288      0.251113           4  \n",
       "15933   0.056791      0.399952      0.666534           5  \n",
       "...          ...           ...           ...         ...  \n",
       "9023    1.270023      0.323989      0.479265       13789  \n",
       "3       1.271452      0.577633      0.731202       13790  \n",
       "4665    1.280000      0.359375      0.560976       13791  \n",
       "4765    1.315788      0.334400      0.502405       13792  \n",
       "4621    1.332700      0.290488      0.409420       13793  \n",
       "\n",
       "[13793 rows x 11 columns]"
      ]
     },
     "execution_count": 10,
     "metadata": {},
     "output_type": "execute_result"
    }
   ],
   "source": [
    "dyadic"
   ]
  },
  {
   "cell_type": "code",
   "execution_count": 11,
   "id": "ae5050b9",
   "metadata": {},
   "outputs": [
    {
     "data": {
      "text/plain": [
       "<AxesSubplot:xlabel='ratio_roeske', ylabel='Count'>"
      ]
     },
     "execution_count": 11,
     "metadata": {},
     "output_type": "execute_result"
    },
    {
     "data": {
      "image/png": "[encoded data removed]",
      "text/plain": [
       "<Figure size 432x288 with 1 Axes>"
      ]
     },
     "metadata": {
      "needs_background": "light"
     },
     "output_type": "display_data"
    }
   ],
   "source": [
    "sns.histplot(dyadic['ratio_roeske'])"
   ]
  },
  {
   "cell_type": "markdown",
   "id": "d70ee8a7",
   "metadata": {},
   "source": [
    "## Calculate Uniform Rhythm\n",
    "> Uniform rhythm is calculated under the assumption that interval lengths are uniformly distributed between a minimum and maximum interval length.  "
   ]
  },
  {
   "cell_type": "code",
   "execution_count": 12,
   "id": "99046b59",
   "metadata": {},
   "outputs": [],
   "source": [
    "import numpy as np\n",
    "import numpy.random as random"
   ]
  },
  {
   "cell_type": "code",
   "execution_count": 13,
   "id": "a9d54652",
   "metadata": {},
   "outputs": [],
   "source": [
    "interval_min = np.min([dyadic['intervals1'].values, dyadic['intervals2']])\n",
    "interval_max = np.max([dyadic['intervals1'].values, dyadic['intervals2']])"
   ]
  },
  {
   "cell_type": "code",
   "execution_count": 14,
   "id": "3652c0d5",
   "metadata": {},
   "outputs": [],
   "source": [
    "interval1_uni = random.uniform(low = interval_min, high = interval_max, size = len(dyadic) * 1000)\n",
    "interval2_uni = random.uniform(low = interval_min, high = interval_max, size = len(dyadic) * 1000)\n",
    "uni_ratio = interval1_uni / (interval1_uni + interval2_uni)"
   ]
  },
  {
   "cell_type": "code",
   "execution_count": 15,
   "id": "2b66dcaa",
   "metadata": {},
   "outputs": [
    {
     "data": {
      "text/plain": [
       "<AxesSubplot:ylabel='Count'>"
      ]
     },
     "execution_count": 15,
     "metadata": {},
     "output_type": "execute_result"
    },
    {
     "data": {
      "image/png": "[encoded data removed]",
      "text/plain": [
       "<Figure size 432x288 with 1 Axes>"
      ]
     },
     "metadata": {
      "needs_background": "light"
     },
     "output_type": "display_data"
    }
   ],
   "source": [
    "sns.histplot(uni_ratio)"
   ]
  },
  {
   "cell_type": "markdown",
   "id": "7c1d3bd8",
   "metadata": {},
   "source": [
    "## Calculate Shuffled Rhythm\n",
    "> Shuffled rhythm is calculated under the assumption that interval lengths are bootstrapped from the empirical distribution, but the consecutive order of intervals are shuffled. "
   ]
  },
  {
   "cell_type": "code",
   "execution_count": 16,
   "id": "b4e9e3c5",
   "metadata": {},
   "outputs": [],
   "source": [
    "interval1_sf = dyadic['intervals1'].sample(frac = 1000, replace = True).values\n",
    "interval2_sf = dyadic['intervals2'].sample(frac = 1000, replace = True).values\n",
    "sf_ratio = interval1_sf / (interval1_sf + interval2_sf)"
   ]
  },
  {
   "cell_type": "code",
   "execution_count": 17,
   "id": "e475ed22",
   "metadata": {},
   "outputs": [
    {
     "data": {
      "text/plain": [
       "<AxesSubplot:ylabel='Count'>"
      ]
     },
     "execution_count": 17,
     "metadata": {},
     "output_type": "execute_result"
    },
    {
     "data": {
      "image/png": "[encoded data removed]",
      "text/plain": [
       "<Figure size 432x288 with 1 Axes>"
      ]
     },
     "metadata": {
      "needs_background": "light"
     },
     "output_type": "display_data"
    }
   ],
   "source": [
    "sns.histplot(sf_ratio)"
   ]
  },
  {
   "cell_type": "markdown",
   "id": "8052cb83",
   "metadata": {},
   "source": [
    "## Draw Figure"
   ]
  },
  {
   "cell_type": "code",
   "execution_count": 18,
   "id": "c4f58637",
   "metadata": {},
   "outputs": [],
   "source": [
    "import matplotlib.pyplot as plt\n",
    "from matplotlib.pyplot import figure\n",
    "from butcherbird.utils.paths import FIGURE_DIR"
   ]
  },
  {
   "cell_type": "code",
   "execution_count": 19,
   "id": "6a72becd",
   "metadata": {},
   "outputs": [
    {
     "data": {
      "image/png": "[encoded data removed]",
      "text/plain": [
       "<Figure size 2400x1800 with 1 Axes>"
      ]
     },
     "metadata": {
      "needs_background": "light"
     },
     "output_type": "display_data"
    }
   ],
   "source": [
    "figure(figsize = (8, 6), dpi = 300)\n",
    "\n",
    "fig = plt.hist(\n",
    "    x = dyadic['ratio_roeske'],\n",
    "    bins = 100,\n",
    "    density = True,\n",
    "    color = '#A3E301'\n",
    ")\n",
    "\n",
    "uni = plt.hist(\n",
    "    x = uni_ratio,\n",
    "    histtype = 'step', \n",
    "    density = True,\n",
    "    bins = 100,\n",
    "    color = '#FC6983'\n",
    ")\n",
    "\n",
    "sf = plt.hist(\n",
    "    x = sf_ratio,\n",
    "    histtype = 'step',\n",
    "    density = True, \n",
    "    bins = 100,\n",
    "    color = '#15215B'\n",
    ")\n",
    "\n",
    "ax = plt.gca()\n",
    "ax.set_xlim([0, 1])\n",
    "plt.xticks(np.arange(0, 1.25, 0.25))\n",
    "\n",
    "# save\n",
    "figname = 'fig1_' + 'categorical_rhythm_' + indv + '.svg'\n",
    "plt.savefig(FIGURE_DIR/figname)"
   ]
  }
 ],
 "metadata": {
  "kernelspec": {
   "display_name": "pbb",
   "language": "python",
   "name": "pbb"
  },
  "language_info": {
   "codemirror_mode": {
    "name": "ipython",
    "version": 3
   },
   "file_extension": ".py",
   "mimetype": "text/x-python",
   "name": "python",
   "nbconvert_exporter": "python",
   "pygments_lexer": "ipython3",
   "version": "3.10.0"
  }
 },
 "nbformat": 4,
 "nbformat_minor": 5
}
