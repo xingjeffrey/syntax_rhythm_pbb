{
 "cells": [
  {
   "cell_type": "markdown",
   "id": "d1a9f6e9",
   "metadata": {},
   "source": [
    "***\n",
    "# 4.1 Bio-mechanic Estimations for Bird 26\n",
    "### JX, 08/09/2022\n",
    "***\n",
    "    Bird26:\n",
    "    LS110395.9.28.2017PalmRagonesi.WAV\n",
    "    \n",
    "***"
   ]
  },
  {
   "cell_type": "code",
   "execution_count": 1,
   "id": "59cc6ba7",
   "metadata": {},
   "outputs": [],
   "source": [
    "indv = 'Bird26'"
   ]
  },
  {
   "cell_type": "code",
   "execution_count": 2,
   "id": "8fca7f57",
   "metadata": {},
   "outputs": [
    {
     "data": {
      "text/html": [
       "<div>\n",
       "<style scoped>\n",
       "    .dataframe tbody tr th:only-of-type {\n",
       "        vertical-align: middle;\n",
       "    }\n",
       "\n",
       "    .dataframe tbody tr th {\n",
       "        vertical-align: top;\n",
       "    }\n",
       "\n",
       "    .dataframe thead th {\n",
       "        text-align: right;\n",
       "    }\n",
       "</style>\n",
       "<table border=\"1\" class=\"dataframe\">\n",
       "  <thead>\n",
       "    <tr style=\"text-align: right;\">\n",
       "      <th></th>\n",
       "      <th>phrase_nb</th>\n",
       "      <th>phrase_strt</th>\n",
       "      <th>phrase_end</th>\n",
       "      <th>phrase_len</th>\n",
       "      <th>note_cnt</th>\n",
       "      <th>note_nb</th>\n",
       "      <th>note_strt</th>\n",
       "      <th>note_end</th>\n",
       "      <th>note_len</th>\n",
       "      <th>indv</th>\n",
       "      <th>indvi</th>\n",
       "      <th>key</th>\n",
       "      <th>audio</th>\n",
       "      <th>rate</th>\n",
       "      <th>spectrogram</th>\n",
       "      <th>umap</th>\n",
       "      <th>hdbscan_labels</th>\n",
       "      <th>recur_labels</th>\n",
       "      <th>recur_labels_id</th>\n",
       "      <th>lasso_labels</th>\n",
       "    </tr>\n",
       "  </thead>\n",
       "  <tbody>\n",
       "    <tr>\n",
       "      <th>0</th>\n",
       "      <td>0</td>\n",
       "      <td>2.530000</td>\n",
       "      <td>3.108940</td>\n",
       "      <td>0.578940</td>\n",
       "      <td>4</td>\n",
       "      <td>0</td>\n",
       "      <td>2.530000</td>\n",
       "      <td>2.565308</td>\n",
       "      <td>0.035308</td>\n",
       "      <td>Bird26</td>\n",
       "      <td>0</td>\n",
       "      <td>LS110395.9.28.2017PalmRagonesi_dn</td>\n",
       "      <td>[0.0, 1.046653124410034e-05, 2.781446748131873...</td>\n",
       "      <td>48000</td>\n",
       "      <td>[[0, 0, 0, 0, 0, 0, 0, 0, 0, 0, 0, 0, 0, 0, 0,...</td>\n",
       "      <td>[-7.5537066, 8.209083]</td>\n",
       "      <td>21</td>\n",
       "      <td>21|0|1.0|1.0|0.0|nan|nan|nan|nan</td>\n",
       "      <td>154</td>\n",
       "      <td>4</td>\n",
       "    </tr>\n",
       "    <tr>\n",
       "      <th>1</th>\n",
       "      <td>0</td>\n",
       "      <td>2.530000</td>\n",
       "      <td>3.108940</td>\n",
       "      <td>0.578940</td>\n",
       "      <td>4</td>\n",
       "      <td>1</td>\n",
       "      <td>2.582859</td>\n",
       "      <td>2.646042</td>\n",
       "      <td>0.063184</td>\n",
       "      <td>Bird26</td>\n",
       "      <td>0</td>\n",
       "      <td>LS110395.9.28.2017PalmRagonesi_dn</td>\n",
       "      <td>[-0.0, -5.34641467372343e-06, -1.1688967129128...</td>\n",
       "      <td>48000</td>\n",
       "      <td>[[0, 0, 0, 0, 0, 0, 0, 0, 0, 0, 0, 0, 0, 0, 0,...</td>\n",
       "      <td>[-0.6834063, 9.239816]</td>\n",
       "      <td>11</td>\n",
       "      <td>11|0|0.0|1.0|0.0|1.0|0.0|0.0|nan</td>\n",
       "      <td>14</td>\n",
       "      <td>2</td>\n",
       "    </tr>\n",
       "    <tr>\n",
       "      <th>2</th>\n",
       "      <td>0</td>\n",
       "      <td>2.530000</td>\n",
       "      <td>3.108940</td>\n",
       "      <td>0.578940</td>\n",
       "      <td>4</td>\n",
       "      <td>2</td>\n",
       "      <td>2.754858</td>\n",
       "      <td>2.877196</td>\n",
       "      <td>0.122338</td>\n",
       "      <td>Bird26</td>\n",
       "      <td>0</td>\n",
       "      <td>LS110395.9.28.2017PalmRagonesi_dn</td>\n",
       "      <td>[0.0, 2.4410663172602654e-05, 5.92200898084064...</td>\n",
       "      <td>48000</td>\n",
       "      <td>[[0, 0, 0, 0, 0, 0, 0, 0, 0, 0, 0, 0, 0, 0, 0,...</td>\n",
       "      <td>[-1.5902307, -12.39612]</td>\n",
       "      <td>0</td>\n",
       "      <td>0|0|0.0|0.0|1.0|0.0|nan|nan|nan</td>\n",
       "      <td>1</td>\n",
       "      <td>0</td>\n",
       "    </tr>\n",
       "    <tr>\n",
       "      <th>3</th>\n",
       "      <td>0</td>\n",
       "      <td>2.530000</td>\n",
       "      <td>3.108940</td>\n",
       "      <td>0.578940</td>\n",
       "      <td>4</td>\n",
       "      <td>3</td>\n",
       "      <td>2.942109</td>\n",
       "      <td>3.108940</td>\n",
       "      <td>0.166831</td>\n",
       "      <td>Bird26</td>\n",
       "      <td>0</td>\n",
       "      <td>LS110395.9.28.2017PalmRagonesi_dn</td>\n",
       "      <td>[-0.0, -0.00015404379157812003, -0.00030952889...</td>\n",
       "      <td>48000</td>\n",
       "      <td>[[0, 0, 0, 0, 0, 0, 0, 0, 0, 0, 0, 0, 0, 0, 0,...</td>\n",
       "      <td>[7.0395265, 3.0541244]</td>\n",
       "      <td>26</td>\n",
       "      <td>26|1|1.0|0.0|nan|nan|nan|nan|nan</td>\n",
       "      <td>206</td>\n",
       "      <td>19</td>\n",
       "    </tr>\n",
       "    <tr>\n",
       "      <th>4</th>\n",
       "      <td>1</td>\n",
       "      <td>7.660000</td>\n",
       "      <td>9.269842</td>\n",
       "      <td>1.609842</td>\n",
       "      <td>6</td>\n",
       "      <td>0</td>\n",
       "      <td>7.660000</td>\n",
       "      <td>7.802573</td>\n",
       "      <td>0.142573</td>\n",
       "      <td>Bird26</td>\n",
       "      <td>0</td>\n",
       "      <td>LS110395.9.28.2017PalmRagonesi_dn</td>\n",
       "      <td>[0.0, 5.444124866051962e-05, 0.000182190384940...</td>\n",
       "      <td>48000</td>\n",
       "      <td>[[0, 0, 0, 0, 0, 0, 0, 0, 0, 0, 0, 0, 0, 0, 0,...</td>\n",
       "      <td>[5.1442027, -3.2366111]</td>\n",
       "      <td>12</td>\n",
       "      <td>12|1|0.0|1.0|0.0|nan|nan|nan|nan</td>\n",
       "      <td>37</td>\n",
       "      <td>35</td>\n",
       "    </tr>\n",
       "    <tr>\n",
       "      <th>...</th>\n",
       "      <td>...</td>\n",
       "      <td>...</td>\n",
       "      <td>...</td>\n",
       "      <td>...</td>\n",
       "      <td>...</td>\n",
       "      <td>...</td>\n",
       "      <td>...</td>\n",
       "      <td>...</td>\n",
       "      <td>...</td>\n",
       "      <td>...</td>\n",
       "      <td>...</td>\n",
       "      <td>...</td>\n",
       "      <td>...</td>\n",
       "      <td>...</td>\n",
       "      <td>...</td>\n",
       "      <td>...</td>\n",
       "      <td>...</td>\n",
       "      <td>...</td>\n",
       "      <td>...</td>\n",
       "      <td>...</td>\n",
       "    </tr>\n",
       "    <tr>\n",
       "      <th>10861</th>\n",
       "      <td>1426</td>\n",
       "      <td>7451.938961</td>\n",
       "      <td>7454.270021</td>\n",
       "      <td>2.331060</td>\n",
       "      <td>11</td>\n",
       "      <td>6</td>\n",
       "      <td>7453.230000</td>\n",
       "      <td>7453.347846</td>\n",
       "      <td>0.117846</td>\n",
       "      <td>Bird26</td>\n",
       "      <td>0</td>\n",
       "      <td>LS110395.9.28.2017PalmRagonesi_dn</td>\n",
       "      <td>[0.0, 0.00020218813079315542, 0.00039304040322...</td>\n",
       "      <td>48000</td>\n",
       "      <td>[[0, 0, 0, 0, 0, 0, 0, 0, 0, 0, 0, 0, 0, 0, 0,...</td>\n",
       "      <td>[5.835227, 3.594297]</td>\n",
       "      <td>25</td>\n",
       "      <td>25|1|1.0|1.0|0.0|0.0|nan|nan|nan</td>\n",
       "      <td>195</td>\n",
       "      <td>17</td>\n",
       "    </tr>\n",
       "    <tr>\n",
       "      <th>10862</th>\n",
       "      <td>1426</td>\n",
       "      <td>7451.938961</td>\n",
       "      <td>7454.270021</td>\n",
       "      <td>2.331060</td>\n",
       "      <td>11</td>\n",
       "      <td>7</td>\n",
       "      <td>7453.430000</td>\n",
       "      <td>7453.582862</td>\n",
       "      <td>0.152862</td>\n",
       "      <td>Bird26</td>\n",
       "      <td>0</td>\n",
       "      <td>LS110395.9.28.2017PalmRagonesi_dn</td>\n",
       "      <td>[-0.0, -6.027892231941223e-05, -0.000147847971...</td>\n",
       "      <td>48000</td>\n",
       "      <td>[[0, 0, 0, 0, 0, 0, 0, 0, 0, 0, 0, 0, 0, 0, 0,...</td>\n",
       "      <td>[5.1574388, 3.9381824]</td>\n",
       "      <td>25</td>\n",
       "      <td>25|0|0.0|0.0|nan|nan|nan|nan|nan</td>\n",
       "      <td>188</td>\n",
       "      <td>11</td>\n",
       "    </tr>\n",
       "    <tr>\n",
       "      <th>10863</th>\n",
       "      <td>1426</td>\n",
       "      <td>7451.938961</td>\n",
       "      <td>7454.270021</td>\n",
       "      <td>2.331060</td>\n",
       "      <td>11</td>\n",
       "      <td>8</td>\n",
       "      <td>7453.582862</td>\n",
       "      <td>7453.644792</td>\n",
       "      <td>0.061930</td>\n",
       "      <td>Bird26</td>\n",
       "      <td>0</td>\n",
       "      <td>LS110395.9.28.2017PalmRagonesi_dn</td>\n",
       "      <td>[-0.0, -0.0007704722401279731, -0.002082758701...</td>\n",
       "      <td>48000</td>\n",
       "      <td>[[0, 0, 0, 0, 0, 0, 0, 0, 0, 0, 0, 0, 0, 0, 0,...</td>\n",
       "      <td>[-0.96411866, 1.086623]</td>\n",
       "      <td>19</td>\n",
       "      <td>19|0|0.0|1.0|1.0|0.0|nan|nan|nan</td>\n",
       "      <td>118</td>\n",
       "      <td>9</td>\n",
       "    </tr>\n",
       "    <tr>\n",
       "      <th>10864</th>\n",
       "      <td>1426</td>\n",
       "      <td>7451.938961</td>\n",
       "      <td>7454.270021</td>\n",
       "      <td>2.331060</td>\n",
       "      <td>11</td>\n",
       "      <td>9</td>\n",
       "      <td>7453.786119</td>\n",
       "      <td>7453.917918</td>\n",
       "      <td>0.131800</td>\n",
       "      <td>Bird26</td>\n",
       "      <td>0</td>\n",
       "      <td>LS110395.9.28.2017PalmRagonesi_dn</td>\n",
       "      <td>[-0.0, -2.3817842366836413e-06, -8.17539332897...</td>\n",
       "      <td>48000</td>\n",
       "      <td>[[0, 0, 0, 0, 0, 0, 0, 0, 0, 0, 0, 0, 0, 0, 0,...</td>\n",
       "      <td>[2.2781262, -6.882173]</td>\n",
       "      <td>9</td>\n",
       "      <td>9|0|0.0|1.0|0.0|nan|nan|nan|nan</td>\n",
       "      <td>234</td>\n",
       "      <td>27</td>\n",
       "    </tr>\n",
       "    <tr>\n",
       "      <th>10865</th>\n",
       "      <td>1426</td>\n",
       "      <td>7451.938961</td>\n",
       "      <td>7454.270021</td>\n",
       "      <td>2.331060</td>\n",
       "      <td>11</td>\n",
       "      <td>10</td>\n",
       "      <td>7454.046542</td>\n",
       "      <td>7454.270021</td>\n",
       "      <td>0.223479</td>\n",
       "      <td>Bird26</td>\n",
       "      <td>0</td>\n",
       "      <td>LS110395.9.28.2017PalmRagonesi_dn</td>\n",
       "      <td>[0.0, 0.0008279382682486668, 0.001595642342663...</td>\n",
       "      <td>48000</td>\n",
       "      <td>[[0, 0, 0, 0, 0, 0, 0, 0, 0, 0, 0, 0, 0, 0, 0,...</td>\n",
       "      <td>[-4.1325746, -10.875906]</td>\n",
       "      <td>6</td>\n",
       "      <td>6|1|2.0|1.0|0.0|nan|nan|nan|nan</td>\n",
       "      <td>227</td>\n",
       "      <td>23</td>\n",
       "    </tr>\n",
       "  </tbody>\n",
       "</table>\n",
       "<p>10866 rows × 20 columns</p>\n",
       "</div>"
      ],
      "text/plain": [
       "       phrase_nb  phrase_strt   phrase_end  phrase_len  note_cnt  note_nb  \\\n",
       "0              0     2.530000     3.108940    0.578940         4        0   \n",
       "1              0     2.530000     3.108940    0.578940         4        1   \n",
       "2              0     2.530000     3.108940    0.578940         4        2   \n",
       "3              0     2.530000     3.108940    0.578940         4        3   \n",
       "4              1     7.660000     9.269842    1.609842         6        0   \n",
       "...          ...          ...          ...         ...       ...      ...   \n",
       "10861       1426  7451.938961  7454.270021    2.331060        11        6   \n",
       "10862       1426  7451.938961  7454.270021    2.331060        11        7   \n",
       "10863       1426  7451.938961  7454.270021    2.331060        11        8   \n",
       "10864       1426  7451.938961  7454.270021    2.331060        11        9   \n",
       "10865       1426  7451.938961  7454.270021    2.331060        11       10   \n",
       "\n",
       "         note_strt     note_end  note_len    indv  indvi  \\\n",
       "0         2.530000     2.565308  0.035308  Bird26      0   \n",
       "1         2.582859     2.646042  0.063184  Bird26      0   \n",
       "2         2.754858     2.877196  0.122338  Bird26      0   \n",
       "3         2.942109     3.108940  0.166831  Bird26      0   \n",
       "4         7.660000     7.802573  0.142573  Bird26      0   \n",
       "...            ...          ...       ...     ...    ...   \n",
       "10861  7453.230000  7453.347846  0.117846  Bird26      0   \n",
       "10862  7453.430000  7453.582862  0.152862  Bird26      0   \n",
       "10863  7453.582862  7453.644792  0.061930  Bird26      0   \n",
       "10864  7453.786119  7453.917918  0.131800  Bird26      0   \n",
       "10865  7454.046542  7454.270021  0.223479  Bird26      0   \n",
       "\n",
       "                                     key  \\\n",
       "0      LS110395.9.28.2017PalmRagonesi_dn   \n",
       "1      LS110395.9.28.2017PalmRagonesi_dn   \n",
       "2      LS110395.9.28.2017PalmRagonesi_dn   \n",
       "3      LS110395.9.28.2017PalmRagonesi_dn   \n",
       "4      LS110395.9.28.2017PalmRagonesi_dn   \n",
       "...                                  ...   \n",
       "10861  LS110395.9.28.2017PalmRagonesi_dn   \n",
       "10862  LS110395.9.28.2017PalmRagonesi_dn   \n",
       "10863  LS110395.9.28.2017PalmRagonesi_dn   \n",
       "10864  LS110395.9.28.2017PalmRagonesi_dn   \n",
       "10865  LS110395.9.28.2017PalmRagonesi_dn   \n",
       "\n",
       "                                                   audio   rate  \\\n",
       "0      [0.0, 1.046653124410034e-05, 2.781446748131873...  48000   \n",
       "1      [-0.0, -5.34641467372343e-06, -1.1688967129128...  48000   \n",
       "2      [0.0, 2.4410663172602654e-05, 5.92200898084064...  48000   \n",
       "3      [-0.0, -0.00015404379157812003, -0.00030952889...  48000   \n",
       "4      [0.0, 5.444124866051962e-05, 0.000182190384940...  48000   \n",
       "...                                                  ...    ...   \n",
       "10861  [0.0, 0.00020218813079315542, 0.00039304040322...  48000   \n",
       "10862  [-0.0, -6.027892231941223e-05, -0.000147847971...  48000   \n",
       "10863  [-0.0, -0.0007704722401279731, -0.002082758701...  48000   \n",
       "10864  [-0.0, -2.3817842366836413e-06, -8.17539332897...  48000   \n",
       "10865  [0.0, 0.0008279382682486668, 0.001595642342663...  48000   \n",
       "\n",
       "                                             spectrogram  \\\n",
       "0      [[0, 0, 0, 0, 0, 0, 0, 0, 0, 0, 0, 0, 0, 0, 0,...   \n",
       "1      [[0, 0, 0, 0, 0, 0, 0, 0, 0, 0, 0, 0, 0, 0, 0,...   \n",
       "2      [[0, 0, 0, 0, 0, 0, 0, 0, 0, 0, 0, 0, 0, 0, 0,...   \n",
       "3      [[0, 0, 0, 0, 0, 0, 0, 0, 0, 0, 0, 0, 0, 0, 0,...   \n",
       "4      [[0, 0, 0, 0, 0, 0, 0, 0, 0, 0, 0, 0, 0, 0, 0,...   \n",
       "...                                                  ...   \n",
       "10861  [[0, 0, 0, 0, 0, 0, 0, 0, 0, 0, 0, 0, 0, 0, 0,...   \n",
       "10862  [[0, 0, 0, 0, 0, 0, 0, 0, 0, 0, 0, 0, 0, 0, 0,...   \n",
       "10863  [[0, 0, 0, 0, 0, 0, 0, 0, 0, 0, 0, 0, 0, 0, 0,...   \n",
       "10864  [[0, 0, 0, 0, 0, 0, 0, 0, 0, 0, 0, 0, 0, 0, 0,...   \n",
       "10865  [[0, 0, 0, 0, 0, 0, 0, 0, 0, 0, 0, 0, 0, 0, 0,...   \n",
       "\n",
       "                           umap  hdbscan_labels  \\\n",
       "0        [-7.5537066, 8.209083]              21   \n",
       "1        [-0.6834063, 9.239816]              11   \n",
       "2       [-1.5902307, -12.39612]               0   \n",
       "3        [7.0395265, 3.0541244]              26   \n",
       "4       [5.1442027, -3.2366111]              12   \n",
       "...                         ...             ...   \n",
       "10861      [5.835227, 3.594297]              25   \n",
       "10862    [5.1574388, 3.9381824]              25   \n",
       "10863   [-0.96411866, 1.086623]              19   \n",
       "10864    [2.2781262, -6.882173]               9   \n",
       "10865  [-4.1325746, -10.875906]               6   \n",
       "\n",
       "                           recur_labels  recur_labels_id  lasso_labels  \n",
       "0      21|0|1.0|1.0|0.0|nan|nan|nan|nan              154             4  \n",
       "1      11|0|0.0|1.0|0.0|1.0|0.0|0.0|nan               14             2  \n",
       "2       0|0|0.0|0.0|1.0|0.0|nan|nan|nan                1             0  \n",
       "3      26|1|1.0|0.0|nan|nan|nan|nan|nan              206            19  \n",
       "4      12|1|0.0|1.0|0.0|nan|nan|nan|nan               37            35  \n",
       "...                                 ...              ...           ...  \n",
       "10861  25|1|1.0|1.0|0.0|0.0|nan|nan|nan              195            17  \n",
       "10862  25|0|0.0|0.0|nan|nan|nan|nan|nan              188            11  \n",
       "10863  19|0|0.0|1.0|1.0|0.0|nan|nan|nan              118             9  \n",
       "10864   9|0|0.0|1.0|0.0|nan|nan|nan|nan              234            27  \n",
       "10865   6|1|2.0|1.0|0.0|nan|nan|nan|nan              227            23  \n",
       "\n",
       "[10866 rows x 20 columns]"
      ]
     },
     "execution_count": 2,
     "metadata": {},
     "output_type": "execute_result"
    }
   ],
   "source": [
    "## Load up Note Dataframe\n",
    "\n",
    "import pandas as pd\n",
    "from pathlib2 import Path\n",
    "\n",
    "from butcherbird.utils.paths import DATA_DIR\n",
    "\n",
    "SAVE_LOC = 'interim/fine_labels/butcherbird_note_df_'+indv+'_fine.pickle'\n",
    "SAVE_LOC = DATA_DIR / SAVE_LOC\n",
    "\n",
    "note_df = pd.read_pickle(SAVE_LOC)\n",
    "\n",
    "note_df"
   ]
  },
  {
   "cell_type": "markdown",
   "id": "380f05f4",
   "metadata": {},
   "source": [
    "## Relationship Between Pre/Post Gap and Note Length"
   ]
  },
  {
   "cell_type": "code",
   "execution_count": 3,
   "id": "a58e9775",
   "metadata": {},
   "outputs": [
    {
     "data": {
      "text/html": [
       "<div>\n",
       "<style scoped>\n",
       "    .dataframe tbody tr th:only-of-type {\n",
       "        vertical-align: middle;\n",
       "    }\n",
       "\n",
       "    .dataframe tbody tr th {\n",
       "        vertical-align: top;\n",
       "    }\n",
       "\n",
       "    .dataframe thead th {\n",
       "        text-align: right;\n",
       "    }\n",
       "</style>\n",
       "<table border=\"1\" class=\"dataframe\">\n",
       "  <thead>\n",
       "    <tr style=\"text-align: right;\">\n",
       "      <th></th>\n",
       "      <th>len</th>\n",
       "      <th>pregap</th>\n",
       "    </tr>\n",
       "  </thead>\n",
       "  <tbody>\n",
       "    <tr>\n",
       "      <th>1</th>\n",
       "      <td>0.063184</td>\n",
       "      <td>0.017551</td>\n",
       "    </tr>\n",
       "    <tr>\n",
       "      <th>2</th>\n",
       "      <td>0.122338</td>\n",
       "      <td>0.108816</td>\n",
       "    </tr>\n",
       "    <tr>\n",
       "      <th>3</th>\n",
       "      <td>0.166831</td>\n",
       "      <td>0.064912</td>\n",
       "    </tr>\n",
       "    <tr>\n",
       "      <th>4</th>\n",
       "      <td>0.142573</td>\n",
       "      <td>4.551060</td>\n",
       "    </tr>\n",
       "    <tr>\n",
       "      <th>5</th>\n",
       "      <td>0.183503</td>\n",
       "      <td>0.083238</td>\n",
       "    </tr>\n",
       "    <tr>\n",
       "      <th>...</th>\n",
       "      <td>...</td>\n",
       "      <td>...</td>\n",
       "    </tr>\n",
       "    <tr>\n",
       "      <th>10861</th>\n",
       "      <td>0.117846</td>\n",
       "      <td>0.010000</td>\n",
       "    </tr>\n",
       "    <tr>\n",
       "      <th>10862</th>\n",
       "      <td>0.152862</td>\n",
       "      <td>0.082154</td>\n",
       "    </tr>\n",
       "    <tr>\n",
       "      <th>10863</th>\n",
       "      <td>0.061930</td>\n",
       "      <td>0.000000</td>\n",
       "    </tr>\n",
       "    <tr>\n",
       "      <th>10864</th>\n",
       "      <td>0.131800</td>\n",
       "      <td>0.141327</td>\n",
       "    </tr>\n",
       "    <tr>\n",
       "      <th>10865</th>\n",
       "      <td>0.223479</td>\n",
       "      <td>0.128624</td>\n",
       "    </tr>\n",
       "  </tbody>\n",
       "</table>\n",
       "<p>10865 rows × 2 columns</p>\n",
       "</div>"
      ],
      "text/plain": [
       "            len    pregap\n",
       "1      0.063184  0.017551\n",
       "2      0.122338  0.108816\n",
       "3      0.166831  0.064912\n",
       "4      0.142573  4.551060\n",
       "5      0.183503  0.083238\n",
       "...         ...       ...\n",
       "10861  0.117846  0.010000\n",
       "10862  0.152862  0.082154\n",
       "10863  0.061930  0.000000\n",
       "10864  0.131800  0.141327\n",
       "10865  0.223479  0.128624\n",
       "\n",
       "[10865 rows x 2 columns]"
      ]
     },
     "execution_count": 3,
     "metadata": {},
     "output_type": "execute_result"
    }
   ],
   "source": [
    "note_lengths = note_df['note_len'][1:] ##do not count first note\n",
    "note_pres = note_df['note_strt'][1:].values-note_df['note_end'][:-1].values  ## minus previous note end from start\n",
    "prebiomech = pd.DataFrame({'len': note_lengths, \n",
    "                           'pregap': note_pres})\n",
    "prebiomech"
   ]
  },
  {
   "cell_type": "code",
   "execution_count": 4,
   "id": "7a8447d2",
   "metadata": {},
   "outputs": [],
   "source": [
    "import seaborn as sns\n",
    "import matplotlib.pyplot as plt\n",
    "from matplotlib.pyplot import figure\n",
    "from butcherbird.utils.paths import FIGURE_DIR"
   ]
  },
  {
   "cell_type": "code",
   "execution_count": 5,
   "id": "6a9d6a5d",
   "metadata": {},
   "outputs": [],
   "source": [
    "cleanprebiomech = prebiomech[prebiomech['pregap'] < 1]"
   ]
  },
  {
   "cell_type": "code",
   "execution_count": 6,
   "id": "cfc27e4a",
   "metadata": {},
   "outputs": [
    {
     "data": {
      "image/png": "[encoded data removed]",
      "text/plain": [
       "<Figure size 1200x900 with 1 Axes>"
      ]
     },
     "metadata": {
      "needs_background": "light"
     },
     "output_type": "display_data"
    }
   ],
   "source": [
    "figure(figsize=(4, 3), dpi = 300)\n",
    "plt.scatter(x = cleanprebiomech['len'], y = cleanprebiomech['pregap'], \n",
    "            marker = \",\", lw = 0, s = 1.5, alpha = 1, color = \"#C8247E\"\n",
    "           )\n",
    "plt.xlim([0, 0.5])\n",
    "plt.ylim([0, 0.5])\n",
    "#plt.savefig(FIGURE_DIR/'pregap.svg')\n",
    "plt.show()"
   ]
  },
  {
   "cell_type": "code",
   "execution_count": 7,
   "id": "b1295b2e",
   "metadata": {},
   "outputs": [
    {
     "data": {
      "text/html": [
       "<div>\n",
       "<style scoped>\n",
       "    .dataframe tbody tr th:only-of-type {\n",
       "        vertical-align: middle;\n",
       "    }\n",
       "\n",
       "    .dataframe tbody tr th {\n",
       "        vertical-align: top;\n",
       "    }\n",
       "\n",
       "    .dataframe thead th {\n",
       "        text-align: right;\n",
       "    }\n",
       "</style>\n",
       "<table border=\"1\" class=\"dataframe\">\n",
       "  <thead>\n",
       "    <tr style=\"text-align: right;\">\n",
       "      <th></th>\n",
       "      <th>len</th>\n",
       "      <th>postgap</th>\n",
       "    </tr>\n",
       "  </thead>\n",
       "  <tbody>\n",
       "    <tr>\n",
       "      <th>0</th>\n",
       "      <td>0.035308</td>\n",
       "      <td>0.017551</td>\n",
       "    </tr>\n",
       "    <tr>\n",
       "      <th>1</th>\n",
       "      <td>0.063184</td>\n",
       "      <td>0.108816</td>\n",
       "    </tr>\n",
       "    <tr>\n",
       "      <th>2</th>\n",
       "      <td>0.122338</td>\n",
       "      <td>0.064912</td>\n",
       "    </tr>\n",
       "    <tr>\n",
       "      <th>3</th>\n",
       "      <td>0.166831</td>\n",
       "      <td>4.551060</td>\n",
       "    </tr>\n",
       "    <tr>\n",
       "      <th>4</th>\n",
       "      <td>0.142573</td>\n",
       "      <td>0.083238</td>\n",
       "    </tr>\n",
       "    <tr>\n",
       "      <th>...</th>\n",
       "      <td>...</td>\n",
       "      <td>...</td>\n",
       "    </tr>\n",
       "    <tr>\n",
       "      <th>10860</th>\n",
       "      <td>0.420000</td>\n",
       "      <td>0.010000</td>\n",
       "    </tr>\n",
       "    <tr>\n",
       "      <th>10861</th>\n",
       "      <td>0.117846</td>\n",
       "      <td>0.082154</td>\n",
       "    </tr>\n",
       "    <tr>\n",
       "      <th>10862</th>\n",
       "      <td>0.152862</td>\n",
       "      <td>0.000000</td>\n",
       "    </tr>\n",
       "    <tr>\n",
       "      <th>10863</th>\n",
       "      <td>0.061930</td>\n",
       "      <td>0.141327</td>\n",
       "    </tr>\n",
       "    <tr>\n",
       "      <th>10864</th>\n",
       "      <td>0.131800</td>\n",
       "      <td>0.128624</td>\n",
       "    </tr>\n",
       "  </tbody>\n",
       "</table>\n",
       "<p>10865 rows × 2 columns</p>\n",
       "</div>"
      ],
      "text/plain": [
       "            len   postgap\n",
       "0      0.035308  0.017551\n",
       "1      0.063184  0.108816\n",
       "2      0.122338  0.064912\n",
       "3      0.166831  4.551060\n",
       "4      0.142573  0.083238\n",
       "...         ...       ...\n",
       "10860  0.420000  0.010000\n",
       "10861  0.117846  0.082154\n",
       "10862  0.152862  0.000000\n",
       "10863  0.061930  0.141327\n",
       "10864  0.131800  0.128624\n",
       "\n",
       "[10865 rows x 2 columns]"
      ]
     },
     "execution_count": 7,
     "metadata": {},
     "output_type": "execute_result"
    }
   ],
   "source": [
    "note_lengths = note_df['note_len'][:-1] ##do not count first note\n",
    "note_post = note_df['note_strt'][1:].values-note_df['note_end'][:-1].values  ## minus previous note end from start\n",
    "postbiomech = pd.DataFrame({'len': note_lengths, \n",
    "                           'postgap': note_post})\n",
    "postbiomech"
   ]
  },
  {
   "cell_type": "code",
   "execution_count": 8,
   "id": "854ffeb2",
   "metadata": {},
   "outputs": [
    {
     "data": {
      "text/html": [
       "<div>\n",
       "<style scoped>\n",
       "    .dataframe tbody tr th:only-of-type {\n",
       "        vertical-align: middle;\n",
       "    }\n",
       "\n",
       "    .dataframe tbody tr th {\n",
       "        vertical-align: top;\n",
       "    }\n",
       "\n",
       "    .dataframe thead th {\n",
       "        text-align: right;\n",
       "    }\n",
       "</style>\n",
       "<table border=\"1\" class=\"dataframe\">\n",
       "  <thead>\n",
       "    <tr style=\"text-align: right;\">\n",
       "      <th></th>\n",
       "      <th>len</th>\n",
       "      <th>postgap</th>\n",
       "    </tr>\n",
       "  </thead>\n",
       "  <tbody>\n",
       "    <tr>\n",
       "      <th>0</th>\n",
       "      <td>0.035308</td>\n",
       "      <td>0.017551</td>\n",
       "    </tr>\n",
       "    <tr>\n",
       "      <th>1</th>\n",
       "      <td>0.063184</td>\n",
       "      <td>0.108816</td>\n",
       "    </tr>\n",
       "    <tr>\n",
       "      <th>2</th>\n",
       "      <td>0.122338</td>\n",
       "      <td>0.064912</td>\n",
       "    </tr>\n",
       "    <tr>\n",
       "      <th>4</th>\n",
       "      <td>0.142573</td>\n",
       "      <td>0.083238</td>\n",
       "    </tr>\n",
       "    <tr>\n",
       "      <th>5</th>\n",
       "      <td>0.183503</td>\n",
       "      <td>0.120686</td>\n",
       "    </tr>\n",
       "    <tr>\n",
       "      <th>...</th>\n",
       "      <td>...</td>\n",
       "      <td>...</td>\n",
       "    </tr>\n",
       "    <tr>\n",
       "      <th>10860</th>\n",
       "      <td>0.420000</td>\n",
       "      <td>0.010000</td>\n",
       "    </tr>\n",
       "    <tr>\n",
       "      <th>10861</th>\n",
       "      <td>0.117846</td>\n",
       "      <td>0.082154</td>\n",
       "    </tr>\n",
       "    <tr>\n",
       "      <th>10862</th>\n",
       "      <td>0.152862</td>\n",
       "      <td>0.000000</td>\n",
       "    </tr>\n",
       "    <tr>\n",
       "      <th>10863</th>\n",
       "      <td>0.061930</td>\n",
       "      <td>0.141327</td>\n",
       "    </tr>\n",
       "    <tr>\n",
       "      <th>10864</th>\n",
       "      <td>0.131800</td>\n",
       "      <td>0.128624</td>\n",
       "    </tr>\n",
       "  </tbody>\n",
       "</table>\n",
       "<p>9440 rows × 2 columns</p>\n",
       "</div>"
      ],
      "text/plain": [
       "            len   postgap\n",
       "0      0.035308  0.017551\n",
       "1      0.063184  0.108816\n",
       "2      0.122338  0.064912\n",
       "4      0.142573  0.083238\n",
       "5      0.183503  0.120686\n",
       "...         ...       ...\n",
       "10860  0.420000  0.010000\n",
       "10861  0.117846  0.082154\n",
       "10862  0.152862  0.000000\n",
       "10863  0.061930  0.141327\n",
       "10864  0.131800  0.128624\n",
       "\n",
       "[9440 rows x 2 columns]"
      ]
     },
     "execution_count": 8,
     "metadata": {},
     "output_type": "execute_result"
    }
   ],
   "source": [
    "cleanpostbiomech = postbiomech[postbiomech['postgap'] < 1]\n",
    "cleanpostbiomech"
   ]
  },
  {
   "cell_type": "code",
   "execution_count": 9,
   "id": "e3d43d37",
   "metadata": {},
   "outputs": [
    {
     "data": {
      "image/png": "[encoded data removed]",
      "text/plain": [
       "<Figure size 1200x900 with 1 Axes>"
      ]
     },
     "metadata": {
      "needs_background": "light"
     },
     "output_type": "display_data"
    }
   ],
   "source": [
    "figure(figsize=(4, 3), dpi=300)\n",
    "plt.scatter(x = cleanpostbiomech['len'], y = cleanpostbiomech['postgap'], marker = \",\", lw = 0, s = 2, alpha = 1, color = '#0E2455')\n",
    "plt.xlim([0, 0.5])\n",
    "plt.ylim([0, 0.5])\n",
    "#plt.savefig(FIGURE_DIR/'postgap.svg')\n",
    "plt.show()"
   ]
  },
  {
   "cell_type": "markdown",
   "id": "4d06545d",
   "metadata": {},
   "source": [
    "## Heteroscedasticity test"
   ]
  },
  {
   "cell_type": "code",
   "execution_count": 10,
   "id": "0debf6c1",
   "metadata": {},
   "outputs": [],
   "source": [
    "from statsmodels.stats.diagnostic import het_breuschpagan\n",
    "from statsmodels.stats.diagnostic import het_white\n",
    "import pandas as pd\n",
    "import statsmodels.api as sm\n",
    "from statsmodels.formula.api import ols"
   ]
  },
  {
   "cell_type": "code",
   "execution_count": 11,
   "id": "dc2e708a",
   "metadata": {
    "scrolled": false
   },
   "outputs": [
    {
     "data": {
      "text/html": [
       "<div>\n",
       "<style scoped>\n",
       "    .dataframe tbody tr th:only-of-type {\n",
       "        vertical-align: middle;\n",
       "    }\n",
       "\n",
       "    .dataframe tbody tr th {\n",
       "        vertical-align: top;\n",
       "    }\n",
       "\n",
       "    .dataframe thead th {\n",
       "        text-align: right;\n",
       "    }\n",
       "</style>\n",
       "<table border=\"1\" class=\"dataframe\">\n",
       "  <thead>\n",
       "    <tr style=\"text-align: right;\">\n",
       "      <th></th>\n",
       "      <th>len</th>\n",
       "      <th>pregap</th>\n",
       "    </tr>\n",
       "  </thead>\n",
       "  <tbody>\n",
       "    <tr>\n",
       "      <th>1</th>\n",
       "      <td>0.063184</td>\n",
       "      <td>0.017551</td>\n",
       "    </tr>\n",
       "    <tr>\n",
       "      <th>2</th>\n",
       "      <td>0.122338</td>\n",
       "      <td>0.108816</td>\n",
       "    </tr>\n",
       "    <tr>\n",
       "      <th>3</th>\n",
       "      <td>0.166831</td>\n",
       "      <td>0.064912</td>\n",
       "    </tr>\n",
       "    <tr>\n",
       "      <th>5</th>\n",
       "      <td>0.183503</td>\n",
       "      <td>0.083238</td>\n",
       "    </tr>\n",
       "    <tr>\n",
       "      <th>6</th>\n",
       "      <td>0.264143</td>\n",
       "      <td>0.120686</td>\n",
       "    </tr>\n",
       "    <tr>\n",
       "      <th>...</th>\n",
       "      <td>...</td>\n",
       "      <td>...</td>\n",
       "    </tr>\n",
       "    <tr>\n",
       "      <th>10861</th>\n",
       "      <td>0.117846</td>\n",
       "      <td>0.010000</td>\n",
       "    </tr>\n",
       "    <tr>\n",
       "      <th>10862</th>\n",
       "      <td>0.152862</td>\n",
       "      <td>0.082154</td>\n",
       "    </tr>\n",
       "    <tr>\n",
       "      <th>10863</th>\n",
       "      <td>0.061930</td>\n",
       "      <td>0.000000</td>\n",
       "    </tr>\n",
       "    <tr>\n",
       "      <th>10864</th>\n",
       "      <td>0.131800</td>\n",
       "      <td>0.141327</td>\n",
       "    </tr>\n",
       "    <tr>\n",
       "      <th>10865</th>\n",
       "      <td>0.223479</td>\n",
       "      <td>0.128624</td>\n",
       "    </tr>\n",
       "  </tbody>\n",
       "</table>\n",
       "<p>9440 rows × 2 columns</p>\n",
       "</div>"
      ],
      "text/plain": [
       "            len    pregap\n",
       "1      0.063184  0.017551\n",
       "2      0.122338  0.108816\n",
       "3      0.166831  0.064912\n",
       "5      0.183503  0.083238\n",
       "6      0.264143  0.120686\n",
       "...         ...       ...\n",
       "10861  0.117846  0.010000\n",
       "10862  0.152862  0.082154\n",
       "10863  0.061930  0.000000\n",
       "10864  0.131800  0.141327\n",
       "10865  0.223479  0.128624\n",
       "\n",
       "[9440 rows x 2 columns]"
      ]
     },
     "execution_count": 11,
     "metadata": {},
     "output_type": "execute_result"
    }
   ],
   "source": [
    "cleanprebiomech"
   ]
  },
  {
   "cell_type": "code",
   "execution_count": 12,
   "id": "63bc60ef",
   "metadata": {},
   "outputs": [],
   "source": [
    "f ='pregap~len'\n",
    "premodel = ols(formula=f, data=cleanprebiomech).fit()"
   ]
  },
  {
   "cell_type": "code",
   "execution_count": 13,
   "id": "533d0533",
   "metadata": {},
   "outputs": [
    {
     "data": {
      "text/html": [
       "<table class=\"simpletable\">\n",
       "<caption>OLS Regression Results</caption>\n",
       "<tr>\n",
       "  <th>Dep. Variable:</th>         <td>pregap</td>      <th>  R-squared:         </th>  <td>   0.074</td> \n",
       "</tr>\n",
       "<tr>\n",
       "  <th>Model:</th>                   <td>OLS</td>       <th>  Adj. R-squared:    </th>  <td>   0.074</td> \n",
       "</tr>\n",
       "<tr>\n",
       "  <th>Method:</th>             <td>Least Squares</td>  <th>  F-statistic:       </th>  <td>   755.6</td> \n",
       "</tr>\n",
       "<tr>\n",
       "  <th>Date:</th>             <td>Wed, 10 Aug 2022</td> <th>  Prob (F-statistic):</th>  <td>4.46e-160</td>\n",
       "</tr>\n",
       "<tr>\n",
       "  <th>Time:</th>                 <td>17:50:07</td>     <th>  Log-Likelihood:    </th>  <td>  11423.</td> \n",
       "</tr>\n",
       "<tr>\n",
       "  <th>No. Observations:</th>      <td>  9440</td>      <th>  AIC:               </th> <td>-2.284e+04</td>\n",
       "</tr>\n",
       "<tr>\n",
       "  <th>Df Residuals:</th>          <td>  9438</td>      <th>  BIC:               </th> <td>-2.283e+04</td>\n",
       "</tr>\n",
       "<tr>\n",
       "  <th>Df Model:</th>              <td>     1</td>      <th>                     </th>      <td> </td>    \n",
       "</tr>\n",
       "<tr>\n",
       "  <th>Covariance Type:</th>      <td>nonrobust</td>    <th>                     </th>      <td> </td>    \n",
       "</tr>\n",
       "</table>\n",
       "<table class=\"simpletable\">\n",
       "<tr>\n",
       "      <td></td>         <th>coef</th>     <th>std err</th>      <th>t</th>      <th>P>|t|</th>  <th>[0.025</th>    <th>0.975]</th>  \n",
       "</tr>\n",
       "<tr>\n",
       "  <th>Intercept</th> <td>    0.0618</td> <td>    0.001</td> <td>   53.209</td> <td> 0.000</td> <td>    0.060</td> <td>    0.064</td>\n",
       "</tr>\n",
       "<tr>\n",
       "  <th>len</th>       <td>    0.1549</td> <td>    0.006</td> <td>   27.487</td> <td> 0.000</td> <td>    0.144</td> <td>    0.166</td>\n",
       "</tr>\n",
       "</table>\n",
       "<table class=\"simpletable\">\n",
       "<tr>\n",
       "  <th>Omnibus:</th>       <td>2173.081</td> <th>  Durbin-Watson:     </th> <td>   2.264</td>\n",
       "</tr>\n",
       "<tr>\n",
       "  <th>Prob(Omnibus):</th>  <td> 0.000</td>  <th>  Jarque-Bera (JB):  </th> <td>6770.920</td>\n",
       "</tr>\n",
       "<tr>\n",
       "  <th>Skew:</th>           <td> 1.176</td>  <th>  Prob(JB):          </th> <td>    0.00</td>\n",
       "</tr>\n",
       "<tr>\n",
       "  <th>Kurtosis:</th>       <td> 6.419</td>  <th>  Cond. No.          </th> <td>    7.78</td>\n",
       "</tr>\n",
       "</table><br/><br/>Notes:<br/>[1] Standard Errors assume that the covariance matrix of the errors is correctly specified."
      ],
      "text/plain": [
       "<class 'statsmodels.iolib.summary.Summary'>\n",
       "\"\"\"\n",
       "                            OLS Regression Results                            \n",
       "==============================================================================\n",
       "Dep. Variable:                 pregap   R-squared:                       0.074\n",
       "Model:                            OLS   Adj. R-squared:                  0.074\n",
       "Method:                 Least Squares   F-statistic:                     755.6\n",
       "Date:                Wed, 10 Aug 2022   Prob (F-statistic):          4.46e-160\n",
       "Time:                        17:50:07   Log-Likelihood:                 11423.\n",
       "No. Observations:                9440   AIC:                        -2.284e+04\n",
       "Df Residuals:                    9438   BIC:                        -2.283e+04\n",
       "Df Model:                           1                                         \n",
       "Covariance Type:            nonrobust                                         \n",
       "==============================================================================\n",
       "                 coef    std err          t      P>|t|      [0.025      0.975]\n",
       "------------------------------------------------------------------------------\n",
       "Intercept      0.0618      0.001     53.209      0.000       0.060       0.064\n",
       "len            0.1549      0.006     27.487      0.000       0.144       0.166\n",
       "==============================================================================\n",
       "Omnibus:                     2173.081   Durbin-Watson:                   2.264\n",
       "Prob(Omnibus):                  0.000   Jarque-Bera (JB):             6770.920\n",
       "Skew:                           1.176   Prob(JB):                         0.00\n",
       "Kurtosis:                       6.419   Cond. No.                         7.78\n",
       "==============================================================================\n",
       "\n",
       "Notes:\n",
       "[1] Standard Errors assume that the covariance matrix of the errors is correctly specified.\n",
       "\"\"\""
      ]
     },
     "execution_count": 13,
     "metadata": {},
     "output_type": "execute_result"
    }
   ],
   "source": [
    "premodel.summary()"
   ]
  },
  {
   "cell_type": "code",
   "execution_count": 14,
   "id": "649d4a23",
   "metadata": {},
   "outputs": [
    {
     "name": "stdout",
     "output_type": "stream",
     "text": [
      "{'LM Statistic': 115.01058978698978, 'LM-Test p-value': 1.0611279343120656e-25, 'F-Statistic': 58.196041200385274, 'F-Test p-value': 7.592268340148264e-26}\n"
     ]
    }
   ],
   "source": [
    "labels = ['LM Statistic', 'LM-Test p-value', 'F-Statistic', 'F-Test p-value']\n",
    "prewhite = het_white(premodel.resid, premodel.model.exog)\n",
    "print(dict(zip(labels, prewhite)))"
   ]
  },
  {
   "cell_type": "code",
   "execution_count": 15,
   "id": "20c7ba3d",
   "metadata": {
    "scrolled": false
   },
   "outputs": [
    {
     "data": {
      "text/html": [
       "<div>\n",
       "<style scoped>\n",
       "    .dataframe tbody tr th:only-of-type {\n",
       "        vertical-align: middle;\n",
       "    }\n",
       "\n",
       "    .dataframe tbody tr th {\n",
       "        vertical-align: top;\n",
       "    }\n",
       "\n",
       "    .dataframe thead th {\n",
       "        text-align: right;\n",
       "    }\n",
       "</style>\n",
       "<table border=\"1\" class=\"dataframe\">\n",
       "  <thead>\n",
       "    <tr style=\"text-align: right;\">\n",
       "      <th></th>\n",
       "      <th>len</th>\n",
       "      <th>postgap</th>\n",
       "    </tr>\n",
       "  </thead>\n",
       "  <tbody>\n",
       "    <tr>\n",
       "      <th>0</th>\n",
       "      <td>0.035308</td>\n",
       "      <td>0.017551</td>\n",
       "    </tr>\n",
       "    <tr>\n",
       "      <th>1</th>\n",
       "      <td>0.063184</td>\n",
       "      <td>0.108816</td>\n",
       "    </tr>\n",
       "    <tr>\n",
       "      <th>2</th>\n",
       "      <td>0.122338</td>\n",
       "      <td>0.064912</td>\n",
       "    </tr>\n",
       "    <tr>\n",
       "      <th>4</th>\n",
       "      <td>0.142573</td>\n",
       "      <td>0.083238</td>\n",
       "    </tr>\n",
       "    <tr>\n",
       "      <th>5</th>\n",
       "      <td>0.183503</td>\n",
       "      <td>0.120686</td>\n",
       "    </tr>\n",
       "    <tr>\n",
       "      <th>...</th>\n",
       "      <td>...</td>\n",
       "      <td>...</td>\n",
       "    </tr>\n",
       "    <tr>\n",
       "      <th>10860</th>\n",
       "      <td>0.420000</td>\n",
       "      <td>0.010000</td>\n",
       "    </tr>\n",
       "    <tr>\n",
       "      <th>10861</th>\n",
       "      <td>0.117846</td>\n",
       "      <td>0.082154</td>\n",
       "    </tr>\n",
       "    <tr>\n",
       "      <th>10862</th>\n",
       "      <td>0.152862</td>\n",
       "      <td>0.000000</td>\n",
       "    </tr>\n",
       "    <tr>\n",
       "      <th>10863</th>\n",
       "      <td>0.061930</td>\n",
       "      <td>0.141327</td>\n",
       "    </tr>\n",
       "    <tr>\n",
       "      <th>10864</th>\n",
       "      <td>0.131800</td>\n",
       "      <td>0.128624</td>\n",
       "    </tr>\n",
       "  </tbody>\n",
       "</table>\n",
       "<p>9440 rows × 2 columns</p>\n",
       "</div>"
      ],
      "text/plain": [
       "            len   postgap\n",
       "0      0.035308  0.017551\n",
       "1      0.063184  0.108816\n",
       "2      0.122338  0.064912\n",
       "4      0.142573  0.083238\n",
       "5      0.183503  0.120686\n",
       "...         ...       ...\n",
       "10860  0.420000  0.010000\n",
       "10861  0.117846  0.082154\n",
       "10862  0.152862  0.000000\n",
       "10863  0.061930  0.141327\n",
       "10864  0.131800  0.128624\n",
       "\n",
       "[9440 rows x 2 columns]"
      ]
     },
     "execution_count": 15,
     "metadata": {},
     "output_type": "execute_result"
    }
   ],
   "source": [
    "cleanpostbiomech"
   ]
  },
  {
   "cell_type": "code",
   "execution_count": 16,
   "id": "b33f68bf",
   "metadata": {},
   "outputs": [],
   "source": [
    "f ='postgap~len'\n",
    "postmodel = ols(formula=f, data=cleanpostbiomech).fit()"
   ]
  },
  {
   "cell_type": "code",
   "execution_count": 17,
   "id": "86ef0ab1",
   "metadata": {},
   "outputs": [
    {
     "data": {
      "text/html": [
       "<table class=\"simpletable\">\n",
       "<caption>OLS Regression Results</caption>\n",
       "<tr>\n",
       "  <th>Dep. Variable:</th>         <td>postgap</td>     <th>  R-squared:         </th>  <td>   0.012</td> \n",
       "</tr>\n",
       "<tr>\n",
       "  <th>Model:</th>                   <td>OLS</td>       <th>  Adj. R-squared:    </th>  <td>   0.012</td> \n",
       "</tr>\n",
       "<tr>\n",
       "  <th>Method:</th>             <td>Least Squares</td>  <th>  F-statistic:       </th>  <td>   118.2</td> \n",
       "</tr>\n",
       "<tr>\n",
       "  <th>Date:</th>             <td>Wed, 10 Aug 2022</td> <th>  Prob (F-statistic):</th>  <td>2.29e-27</td> \n",
       "</tr>\n",
       "<tr>\n",
       "  <th>Time:</th>                 <td>17:50:07</td>     <th>  Log-Likelihood:    </th>  <td>  11118.</td> \n",
       "</tr>\n",
       "<tr>\n",
       "  <th>No. Observations:</th>      <td>  9440</td>      <th>  AIC:               </th> <td>-2.223e+04</td>\n",
       "</tr>\n",
       "<tr>\n",
       "  <th>Df Residuals:</th>          <td>  9438</td>      <th>  BIC:               </th> <td>-2.222e+04</td>\n",
       "</tr>\n",
       "<tr>\n",
       "  <th>Df Model:</th>              <td>     1</td>      <th>                     </th>      <td> </td>    \n",
       "</tr>\n",
       "<tr>\n",
       "  <th>Covariance Type:</th>      <td>nonrobust</td>    <th>                     </th>      <td> </td>    \n",
       "</tr>\n",
       "</table>\n",
       "<table class=\"simpletable\">\n",
       "<tr>\n",
       "      <td></td>         <th>coef</th>     <th>std err</th>      <th>t</th>      <th>P>|t|</th>  <th>[0.025</th>    <th>0.975]</th>  \n",
       "</tr>\n",
       "<tr>\n",
       "  <th>Intercept</th> <td>    0.0748</td> <td>    0.001</td> <td>   57.043</td> <td> 0.000</td> <td>    0.072</td> <td>    0.077</td>\n",
       "</tr>\n",
       "<tr>\n",
       "  <th>len</th>       <td>    0.0881</td> <td>    0.008</td> <td>   10.871</td> <td> 0.000</td> <td>    0.072</td> <td>    0.104</td>\n",
       "</tr>\n",
       "</table>\n",
       "<table class=\"simpletable\">\n",
       "<tr>\n",
       "  <th>Omnibus:</th>       <td>2118.718</td> <th>  Durbin-Watson:     </th> <td>   2.253</td>\n",
       "</tr>\n",
       "<tr>\n",
       "  <th>Prob(Omnibus):</th>  <td> 0.000</td>  <th>  Jarque-Bera (JB):  </th> <td>5653.370</td>\n",
       "</tr>\n",
       "<tr>\n",
       "  <th>Skew:</th>           <td> 1.203</td>  <th>  Prob(JB):          </th> <td>    0.00</td>\n",
       "</tr>\n",
       "<tr>\n",
       "  <th>Kurtosis:</th>       <td> 5.929</td>  <th>  Cond. No.          </th> <td>    10.8</td>\n",
       "</tr>\n",
       "</table><br/><br/>Notes:<br/>[1] Standard Errors assume that the covariance matrix of the errors is correctly specified."
      ],
      "text/plain": [
       "<class 'statsmodels.iolib.summary.Summary'>\n",
       "\"\"\"\n",
       "                            OLS Regression Results                            \n",
       "==============================================================================\n",
       "Dep. Variable:                postgap   R-squared:                       0.012\n",
       "Model:                            OLS   Adj. R-squared:                  0.012\n",
       "Method:                 Least Squares   F-statistic:                     118.2\n",
       "Date:                Wed, 10 Aug 2022   Prob (F-statistic):           2.29e-27\n",
       "Time:                        17:50:07   Log-Likelihood:                 11118.\n",
       "No. Observations:                9440   AIC:                        -2.223e+04\n",
       "Df Residuals:                    9438   BIC:                        -2.222e+04\n",
       "Df Model:                           1                                         \n",
       "Covariance Type:            nonrobust                                         \n",
       "==============================================================================\n",
       "                 coef    std err          t      P>|t|      [0.025      0.975]\n",
       "------------------------------------------------------------------------------\n",
       "Intercept      0.0748      0.001     57.043      0.000       0.072       0.077\n",
       "len            0.0881      0.008     10.871      0.000       0.072       0.104\n",
       "==============================================================================\n",
       "Omnibus:                     2118.718   Durbin-Watson:                   2.253\n",
       "Prob(Omnibus):                  0.000   Jarque-Bera (JB):             5653.370\n",
       "Skew:                           1.203   Prob(JB):                         0.00\n",
       "Kurtosis:                       5.929   Cond. No.                         10.8\n",
       "==============================================================================\n",
       "\n",
       "Notes:\n",
       "[1] Standard Errors assume that the covariance matrix of the errors is correctly specified.\n",
       "\"\"\""
      ]
     },
     "execution_count": 17,
     "metadata": {},
     "output_type": "execute_result"
    }
   ],
   "source": [
    "postmodel.summary()"
   ]
  },
  {
   "cell_type": "code",
   "execution_count": 18,
   "id": "e4a75916",
   "metadata": {},
   "outputs": [
    {
     "name": "stdout",
     "output_type": "stream",
     "text": [
      "{'LM Statistic': 61.378197158255205, 'LM-Test p-value': 4.6977925247042206e-14, 'F-Statistic': 30.880126033387167, 'F-Test p-value': 4.291660530354395e-14}\n"
     ]
    }
   ],
   "source": [
    "labels = ['LM Statistic', 'LM-Test p-value', 'F-Statistic', 'F-Test p-value']\n",
    "postwhite = het_white(postmodel.resid, postmodel.model.exog)\n",
    "print(dict(zip(labels, postwhite)))"
   ]
  },
  {
   "cell_type": "markdown",
   "id": "339e85a5",
   "metadata": {},
   "source": [
    "## Ratio of Pre to Post as predicted by Note length"
   ]
  },
  {
   "cell_type": "code",
   "execution_count": 19,
   "id": "d643629b",
   "metadata": {},
   "outputs": [
    {
     "data": {
      "text/html": [
       "<div>\n",
       "<style scoped>\n",
       "    .dataframe tbody tr th:only-of-type {\n",
       "        vertical-align: middle;\n",
       "    }\n",
       "\n",
       "    .dataframe tbody tr th {\n",
       "        vertical-align: top;\n",
       "    }\n",
       "\n",
       "    .dataframe thead th {\n",
       "        text-align: right;\n",
       "    }\n",
       "</style>\n",
       "<table border=\"1\" class=\"dataframe\">\n",
       "  <thead>\n",
       "    <tr style=\"text-align: right;\">\n",
       "      <th></th>\n",
       "      <th>len</th>\n",
       "      <th>postgap</th>\n",
       "    </tr>\n",
       "  </thead>\n",
       "  <tbody>\n",
       "    <tr>\n",
       "      <th>1</th>\n",
       "      <td>0.063184</td>\n",
       "      <td>0.108816</td>\n",
       "    </tr>\n",
       "    <tr>\n",
       "      <th>2</th>\n",
       "      <td>0.122338</td>\n",
       "      <td>0.064912</td>\n",
       "    </tr>\n",
       "    <tr>\n",
       "      <th>3</th>\n",
       "      <td>0.166831</td>\n",
       "      <td>4.551060</td>\n",
       "    </tr>\n",
       "    <tr>\n",
       "      <th>4</th>\n",
       "      <td>0.142573</td>\n",
       "      <td>0.083238</td>\n",
       "    </tr>\n",
       "    <tr>\n",
       "      <th>5</th>\n",
       "      <td>0.183503</td>\n",
       "      <td>0.120686</td>\n",
       "    </tr>\n",
       "    <tr>\n",
       "      <th>...</th>\n",
       "      <td>...</td>\n",
       "      <td>...</td>\n",
       "    </tr>\n",
       "    <tr>\n",
       "      <th>10860</th>\n",
       "      <td>0.420000</td>\n",
       "      <td>0.010000</td>\n",
       "    </tr>\n",
       "    <tr>\n",
       "      <th>10861</th>\n",
       "      <td>0.117846</td>\n",
       "      <td>0.082154</td>\n",
       "    </tr>\n",
       "    <tr>\n",
       "      <th>10862</th>\n",
       "      <td>0.152862</td>\n",
       "      <td>0.000000</td>\n",
       "    </tr>\n",
       "    <tr>\n",
       "      <th>10863</th>\n",
       "      <td>0.061930</td>\n",
       "      <td>0.141327</td>\n",
       "    </tr>\n",
       "    <tr>\n",
       "      <th>10864</th>\n",
       "      <td>0.131800</td>\n",
       "      <td>0.128624</td>\n",
       "    </tr>\n",
       "  </tbody>\n",
       "</table>\n",
       "<p>10864 rows × 2 columns</p>\n",
       "</div>"
      ],
      "text/plain": [
       "            len   postgap\n",
       "1      0.063184  0.108816\n",
       "2      0.122338  0.064912\n",
       "3      0.166831  4.551060\n",
       "4      0.142573  0.083238\n",
       "5      0.183503  0.120686\n",
       "...         ...       ...\n",
       "10860  0.420000  0.010000\n",
       "10861  0.117846  0.082154\n",
       "10862  0.152862  0.000000\n",
       "10863  0.061930  0.141327\n",
       "10864  0.131800  0.128624\n",
       "\n",
       "[10864 rows x 2 columns]"
      ]
     },
     "execution_count": 19,
     "metadata": {},
     "output_type": "execute_result"
    }
   ],
   "source": [
    "postbiomech[1:]"
   ]
  },
  {
   "cell_type": "code",
   "execution_count": 20,
   "id": "b2bf6b0f",
   "metadata": {},
   "outputs": [
    {
     "data": {
      "text/html": [
       "<div>\n",
       "<style scoped>\n",
       "    .dataframe tbody tr th:only-of-type {\n",
       "        vertical-align: middle;\n",
       "    }\n",
       "\n",
       "    .dataframe tbody tr th {\n",
       "        vertical-align: top;\n",
       "    }\n",
       "\n",
       "    .dataframe thead th {\n",
       "        text-align: right;\n",
       "    }\n",
       "</style>\n",
       "<table border=\"1\" class=\"dataframe\">\n",
       "  <thead>\n",
       "    <tr style=\"text-align: right;\">\n",
       "      <th></th>\n",
       "      <th>len</th>\n",
       "      <th>pregap</th>\n",
       "    </tr>\n",
       "  </thead>\n",
       "  <tbody>\n",
       "    <tr>\n",
       "      <th>1</th>\n",
       "      <td>0.063184</td>\n",
       "      <td>0.017551</td>\n",
       "    </tr>\n",
       "    <tr>\n",
       "      <th>2</th>\n",
       "      <td>0.122338</td>\n",
       "      <td>0.108816</td>\n",
       "    </tr>\n",
       "    <tr>\n",
       "      <th>3</th>\n",
       "      <td>0.166831</td>\n",
       "      <td>0.064912</td>\n",
       "    </tr>\n",
       "    <tr>\n",
       "      <th>4</th>\n",
       "      <td>0.142573</td>\n",
       "      <td>4.551060</td>\n",
       "    </tr>\n",
       "    <tr>\n",
       "      <th>5</th>\n",
       "      <td>0.183503</td>\n",
       "      <td>0.083238</td>\n",
       "    </tr>\n",
       "    <tr>\n",
       "      <th>...</th>\n",
       "      <td>...</td>\n",
       "      <td>...</td>\n",
       "    </tr>\n",
       "    <tr>\n",
       "      <th>10860</th>\n",
       "      <td>0.420000</td>\n",
       "      <td>0.202439</td>\n",
       "    </tr>\n",
       "    <tr>\n",
       "      <th>10861</th>\n",
       "      <td>0.117846</td>\n",
       "      <td>0.010000</td>\n",
       "    </tr>\n",
       "    <tr>\n",
       "      <th>10862</th>\n",
       "      <td>0.152862</td>\n",
       "      <td>0.082154</td>\n",
       "    </tr>\n",
       "    <tr>\n",
       "      <th>10863</th>\n",
       "      <td>0.061930</td>\n",
       "      <td>0.000000</td>\n",
       "    </tr>\n",
       "    <tr>\n",
       "      <th>10864</th>\n",
       "      <td>0.131800</td>\n",
       "      <td>0.141327</td>\n",
       "    </tr>\n",
       "  </tbody>\n",
       "</table>\n",
       "<p>10864 rows × 2 columns</p>\n",
       "</div>"
      ],
      "text/plain": [
       "            len    pregap\n",
       "1      0.063184  0.017551\n",
       "2      0.122338  0.108816\n",
       "3      0.166831  0.064912\n",
       "4      0.142573  4.551060\n",
       "5      0.183503  0.083238\n",
       "...         ...       ...\n",
       "10860  0.420000  0.202439\n",
       "10861  0.117846  0.010000\n",
       "10862  0.152862  0.082154\n",
       "10863  0.061930  0.000000\n",
       "10864  0.131800  0.141327\n",
       "\n",
       "[10864 rows x 2 columns]"
      ]
     },
     "execution_count": 20,
     "metadata": {},
     "output_type": "execute_result"
    }
   ],
   "source": [
    "prebiomech[:-1]"
   ]
  },
  {
   "cell_type": "code",
   "execution_count": 21,
   "id": "4c293b7d",
   "metadata": {},
   "outputs": [
    {
     "name": "stderr",
     "output_type": "stream",
     "text": [
      "/tmp/ipykernel_26916/507738760.py:2: SettingWithCopyWarning: \n",
      "A value is trying to be set on a copy of a slice from a DataFrame.\n",
      "Try using .loc[row_indexer,col_indexer] = value instead\n",
      "\n",
      "See the caveats in the documentation: https://pandas.pydata.org/pandas-docs/stable/user_guide/indexing.html#returning-a-view-versus-a-copy\n",
      "  hybrid['postgap'] = postbiomech[1:]['postgap']\n"
     ]
    }
   ],
   "source": [
    "hybrid = prebiomech[:-1]\n",
    "hybrid['postgap'] = postbiomech[1:]['postgap']"
   ]
  },
  {
   "cell_type": "code",
   "execution_count": 22,
   "id": "d906f4d1",
   "metadata": {},
   "outputs": [],
   "source": [
    "hybrid_clean = hybrid\n",
    "hybrid_clean = hybrid_clean[hybrid_clean['postgap'] < 1]\n",
    "hybrid_clean = hybrid_clean[hybrid_clean['pregap'] < 1]\n",
    "hybrid_clean = hybrid_clean[hybrid_clean['postgap'] != 0]\n",
    "hybrid_clean = hybrid_clean[hybrid_clean['pregap'] != 0]"
   ]
  },
  {
   "cell_type": "code",
   "execution_count": 23,
   "id": "5fe96bd1",
   "metadata": {},
   "outputs": [
    {
     "data": {
      "text/html": [
       "<div>\n",
       "<style scoped>\n",
       "    .dataframe tbody tr th:only-of-type {\n",
       "        vertical-align: middle;\n",
       "    }\n",
       "\n",
       "    .dataframe tbody tr th {\n",
       "        vertical-align: top;\n",
       "    }\n",
       "\n",
       "    .dataframe thead th {\n",
       "        text-align: right;\n",
       "    }\n",
       "</style>\n",
       "<table border=\"1\" class=\"dataframe\">\n",
       "  <thead>\n",
       "    <tr style=\"text-align: right;\">\n",
       "      <th></th>\n",
       "      <th>len</th>\n",
       "      <th>pregap</th>\n",
       "      <th>postgap</th>\n",
       "    </tr>\n",
       "  </thead>\n",
       "  <tbody>\n",
       "    <tr>\n",
       "      <th>1</th>\n",
       "      <td>0.063184</td>\n",
       "      <td>0.017551</td>\n",
       "      <td>0.108816</td>\n",
       "    </tr>\n",
       "    <tr>\n",
       "      <th>2</th>\n",
       "      <td>0.122338</td>\n",
       "      <td>0.108816</td>\n",
       "      <td>0.064912</td>\n",
       "    </tr>\n",
       "    <tr>\n",
       "      <th>5</th>\n",
       "      <td>0.183503</td>\n",
       "      <td>0.083238</td>\n",
       "      <td>0.120686</td>\n",
       "    </tr>\n",
       "    <tr>\n",
       "      <th>6</th>\n",
       "      <td>0.264143</td>\n",
       "      <td>0.120686</td>\n",
       "      <td>0.105857</td>\n",
       "    </tr>\n",
       "    <tr>\n",
       "      <th>7</th>\n",
       "      <td>0.182846</td>\n",
       "      <td>0.105857</td>\n",
       "      <td>0.264135</td>\n",
       "    </tr>\n",
       "    <tr>\n",
       "      <th>...</th>\n",
       "      <td>...</td>\n",
       "      <td>...</td>\n",
       "      <td>...</td>\n",
       "    </tr>\n",
       "    <tr>\n",
       "      <th>10858</th>\n",
       "      <td>0.126234</td>\n",
       "      <td>0.070671</td>\n",
       "      <td>0.083766</td>\n",
       "    </tr>\n",
       "    <tr>\n",
       "      <th>10859</th>\n",
       "      <td>0.057561</td>\n",
       "      <td>0.083766</td>\n",
       "      <td>0.202439</td>\n",
       "    </tr>\n",
       "    <tr>\n",
       "      <th>10860</th>\n",
       "      <td>0.420000</td>\n",
       "      <td>0.202439</td>\n",
       "      <td>0.010000</td>\n",
       "    </tr>\n",
       "    <tr>\n",
       "      <th>10861</th>\n",
       "      <td>0.117846</td>\n",
       "      <td>0.010000</td>\n",
       "      <td>0.082154</td>\n",
       "    </tr>\n",
       "    <tr>\n",
       "      <th>10864</th>\n",
       "      <td>0.131800</td>\n",
       "      <td>0.141327</td>\n",
       "      <td>0.128624</td>\n",
       "    </tr>\n",
       "  </tbody>\n",
       "</table>\n",
       "<p>7490 rows × 3 columns</p>\n",
       "</div>"
      ],
      "text/plain": [
       "            len    pregap   postgap\n",
       "1      0.063184  0.017551  0.108816\n",
       "2      0.122338  0.108816  0.064912\n",
       "5      0.183503  0.083238  0.120686\n",
       "6      0.264143  0.120686  0.105857\n",
       "7      0.182846  0.105857  0.264135\n",
       "...         ...       ...       ...\n",
       "10858  0.126234  0.070671  0.083766\n",
       "10859  0.057561  0.083766  0.202439\n",
       "10860  0.420000  0.202439  0.010000\n",
       "10861  0.117846  0.010000  0.082154\n",
       "10864  0.131800  0.141327  0.128624\n",
       "\n",
       "[7490 rows x 3 columns]"
      ]
     },
     "execution_count": 23,
     "metadata": {},
     "output_type": "execute_result"
    }
   ],
   "source": [
    "hybrid_clean"
   ]
  },
  {
   "cell_type": "code",
   "execution_count": 24,
   "id": "316bf46c",
   "metadata": {
    "scrolled": true
   },
   "outputs": [],
   "source": [
    "hybrid_clean['ratio'] = hybrid_clean['pregap']/(hybrid_clean['pregap']+ hybrid_clean['postgap'])\n",
    "hybrid_clean['altratio'] = hybrid_clean['pregap']/(hybrid_clean['pregap']+ hybrid_clean['len'])"
   ]
  },
  {
   "cell_type": "markdown",
   "id": "c2cc0d2e",
   "metadata": {},
   "source": [
    "## find local minimum of len distribution"
   ]
  },
  {
   "cell_type": "code",
   "execution_count": 25,
   "id": "5def0ebc",
   "metadata": {},
   "outputs": [
    {
     "data": {
      "text/plain": [
       "(array([106., 640., 606., 559., 470., 313., 446., 522., 440., 406., 277.,\n",
       "         90.,  83., 153., 222., 271., 242., 287., 288., 253., 211., 166.,\n",
       "        116.,  91.,  47.,  20.,  17.,   3.,   1.,   9.,   2.,   5.,   8.,\n",
       "         10.,  12.,  10.,  14.,  14.,  13.,  14.,  12.,   8.,   3.,   2.,\n",
       "          2.,   3.,   0.,   0.,   0.,   1.,   0.,   0.,   0.,   0.,   1.,\n",
       "          0.,   0.,   0.,   0.,   0.,   0.,   0.,   0.,   0.,   0.,   0.,\n",
       "          0.,   0.,   0.,   0.,   0.,   0.,   0.,   0.,   0.,   0.,   0.,\n",
       "          0.,   0.,   0.,   0.,   0.,   0.,   0.,   0.,   0.,   0.,   0.,\n",
       "          0.,   0.,   0.,   0.,   0.,   0.,   0.,   0.,   0.,   0.,   0.,\n",
       "          1.]),\n",
       " array([0.0208096 , 0.0331166 , 0.04542361, 0.05773061, 0.07003762,\n",
       "        0.08234462, 0.09465162, 0.10695863, 0.11926563, 0.13157264,\n",
       "        0.14387964, 0.15618665, 0.16849365, 0.18080065, 0.19310766,\n",
       "        0.20541466, 0.21772167, 0.23002867, 0.24233568, 0.25464268,\n",
       "        0.26694968, 0.27925669, 0.29156369, 0.3038707 , 0.3161777 ,\n",
       "        0.32848471, 0.34079171, 0.35309871, 0.36540572, 0.37771272,\n",
       "        0.39001973, 0.40232673, 0.41463374, 0.42694074, 0.43924774,\n",
       "        0.45155475, 0.46386175, 0.47616876, 0.48847576, 0.50078276,\n",
       "        0.51308977, 0.52539677, 0.53770378, 0.55001078, 0.56231779,\n",
       "        0.57462479, 0.58693179, 0.5992388 , 0.6115458 , 0.62385281,\n",
       "        0.63615981, 0.64846682, 0.66077382, 0.67308082, 0.68538783,\n",
       "        0.69769483, 0.71000184, 0.72230884, 0.73461585, 0.74692285,\n",
       "        0.75922985, 0.77153686, 0.78384386, 0.79615087, 0.80845787,\n",
       "        0.82076488, 0.83307188, 0.84537888, 0.85768589, 0.86999289,\n",
       "        0.8822999 , 0.8946069 , 0.9069139 , 0.91922091, 0.93152791,\n",
       "        0.94383492, 0.95614192, 0.96844893, 0.98075593, 0.99306293,\n",
       "        1.00536994, 1.01767694, 1.02998395, 1.04229095, 1.05459796,\n",
       "        1.06690496, 1.07921196, 1.09151897, 1.10382597, 1.11613298,\n",
       "        1.12843998, 1.14074699, 1.15305399, 1.16536099, 1.177668  ,\n",
       "        1.189975  , 1.20228201, 1.21458901, 1.22689602, 1.23920302,\n",
       "        1.25151002]),\n",
       " <BarContainer object of 100 artists>)"
      ]
     },
     "execution_count": 25,
     "metadata": {},
     "output_type": "execute_result"
    },
    {
     "data": {
      "image/png": "[encoded data removed]",
      "text/plain": [
       "<Figure size 432x288 with 1 Axes>"
      ]
     },
     "metadata": {
      "needs_background": "light"
     },
     "output_type": "display_data"
    }
   ],
   "source": [
    "plt.hist(x = hybrid_clean['len'], bins = 100)"
   ]
  },
  {
   "cell_type": "code",
   "execution_count": 26,
   "id": "5c1bb659",
   "metadata": {},
   "outputs": [
    {
     "name": "stdout",
     "output_type": "stream",
     "text": [
      "Indices of minima: (array([ 5, 12, 16, 28, 30, 35, 38]),)\n",
      "Minima: [313  83 242   1   2  10  13]\n",
      "Indices of maxima: (array([ 1,  7, 15, 18, 29, 34, 39, 45, 49, 54]),)\n",
      "Maxima: [640 522 271 288   9  12  14   3   1   1]\n"
     ]
    }
   ],
   "source": [
    "import numpy as np\n",
    "from scipy.signal import argrelmin, argrelmax\n",
    "import matplotlib.pyplot as plt\n",
    "\n",
    "y = np.histogram(hybrid_clean['len'], bins = 100)[0]\n",
    "x = np.histogram(hybrid_clean['len'], bins = 100)[1]\n",
    "\n",
    "# find local minima and maxima\n",
    "min_idx = argrelmin(y)\n",
    "print(\"Indices of minima: {0}\".format(min_idx))\n",
    "print(\"Minima: {0}\".format(y[min_idx]))\n",
    "\n",
    "max_idx = argrelmax(y)\n",
    "print(\"Indices of maxima: {0}\".format(max_idx))\n",
    "print(\"Maxima: {0}\".format(y[max_idx]))"
   ]
  },
  {
   "cell_type": "code",
   "execution_count": 27,
   "id": "a289579e",
   "metadata": {},
   "outputs": [],
   "source": [
    "len_minimum = x[min_idx[0][-4]]\n",
    "len_minimum1 = x[min_idx[0][1]]"
   ]
  },
  {
   "cell_type": "code",
   "execution_count": 28,
   "id": "73b0acd6",
   "metadata": {},
   "outputs": [
    {
     "data": {
      "text/plain": [
       "array([0.08234462, 0.16849365, 0.21772167, 0.36540572, 0.39001973,\n",
       "       0.45155475, 0.48847576])"
      ]
     },
     "execution_count": 28,
     "metadata": {},
     "output_type": "execute_result"
    }
   ],
   "source": [
    "x[min_idx[0]]"
   ]
  },
  {
   "cell_type": "markdown",
   "id": "43b3bbdc",
   "metadata": {},
   "source": [
    "## Plot intergap ratio predicted by note length, minima represented by the dashed line. "
   ]
  },
  {
   "cell_type": "code",
   "execution_count": 29,
   "id": "d5dfaf44",
   "metadata": {},
   "outputs": [
    {
     "data": {
      "image/png": "[encoded data removed]",
      "text/plain": [
       "<Figure size 1200x900 with 1 Axes>"
      ]
     },
     "metadata": {
      "needs_background": "light"
     },
     "output_type": "display_data"
    }
   ],
   "source": [
    "figure(figsize=(4, 3), dpi=300)\n",
    "plt.scatter(x = hybrid_clean['len'], y = hybrid_clean['ratio'], marker = \",\", lw = 0, s = 2, alpha = 1, color = '#30376B')\n",
    "plt.xlim([0, 0.7])\n",
    "plt.ylim([0, 1])\n",
    "plt.axvline(x = x[min_idx[0][-4]], label = 'axvline - full height', linestyle='--', color = '#C8247E', alpha = 1)\n",
    "plt.savefig(FIGURE_DIR/'restraint'/indv/'intergapratio_cutoff_constrained.pdf')\n",
    "plt.show()"
   ]
  },
  {
   "cell_type": "markdown",
   "id": "4b03029e",
   "metadata": {},
   "source": [
    "## test correlation?"
   ]
  },
  {
   "cell_type": "code",
   "execution_count": 30,
   "id": "745a3f3c",
   "metadata": {},
   "outputs": [],
   "source": [
    "f = 'ratio~len'\n",
    "ratiomodel = ols(formula=f, data=hybrid_clean).fit()"
   ]
  },
  {
   "cell_type": "code",
   "execution_count": 31,
   "id": "b147a692",
   "metadata": {},
   "outputs": [
    {
     "data": {
      "text/html": [
       "<table class=\"simpletable\">\n",
       "<caption>OLS Regression Results</caption>\n",
       "<tr>\n",
       "  <th>Dep. Variable:</th>          <td>ratio</td>      <th>  R-squared:         </th> <td>   0.046</td>\n",
       "</tr>\n",
       "<tr>\n",
       "  <th>Model:</th>                   <td>OLS</td>       <th>  Adj. R-squared:    </th> <td>   0.046</td>\n",
       "</tr>\n",
       "<tr>\n",
       "  <th>Method:</th>             <td>Least Squares</td>  <th>  F-statistic:       </th> <td>   361.9</td>\n",
       "</tr>\n",
       "<tr>\n",
       "  <th>Date:</th>             <td>Wed, 10 Aug 2022</td> <th>  Prob (F-statistic):</th> <td>7.62e-79</td>\n",
       "</tr>\n",
       "<tr>\n",
       "  <th>Time:</th>                 <td>17:50:08</td>     <th>  Log-Likelihood:    </th> <td> -1476.2</td>\n",
       "</tr>\n",
       "<tr>\n",
       "  <th>No. Observations:</th>      <td>  7490</td>      <th>  AIC:               </th> <td>   2956.</td>\n",
       "</tr>\n",
       "<tr>\n",
       "  <th>Df Residuals:</th>          <td>  7488</td>      <th>  BIC:               </th> <td>   2970.</td>\n",
       "</tr>\n",
       "<tr>\n",
       "  <th>Df Model:</th>              <td>     1</td>      <th>                     </th>     <td> </td>   \n",
       "</tr>\n",
       "<tr>\n",
       "  <th>Covariance Type:</th>      <td>nonrobust</td>    <th>                     </th>     <td> </td>   \n",
       "</tr>\n",
       "</table>\n",
       "<table class=\"simpletable\">\n",
       "<tr>\n",
       "      <td></td>         <th>coef</th>     <th>std err</th>      <th>t</th>      <th>P>|t|</th>  <th>[0.025</th>    <th>0.975]</th>  \n",
       "</tr>\n",
       "<tr>\n",
       "  <th>Intercept</th> <td>    0.3660</td> <td>    0.006</td> <td>   58.294</td> <td> 0.000</td> <td>    0.354</td> <td>    0.378</td>\n",
       "</tr>\n",
       "<tr>\n",
       "  <th>len</th>       <td>    0.6833</td> <td>    0.036</td> <td>   19.024</td> <td> 0.000</td> <td>    0.613</td> <td>    0.754</td>\n",
       "</tr>\n",
       "</table>\n",
       "<table class=\"simpletable\">\n",
       "<tr>\n",
       "  <th>Omnibus:</th>       <td>743.698</td> <th>  Durbin-Watson:     </th> <td>   2.751</td>\n",
       "</tr>\n",
       "<tr>\n",
       "  <th>Prob(Omnibus):</th> <td> 0.000</td>  <th>  Jarque-Bera (JB):  </th> <td> 431.639</td>\n",
       "</tr>\n",
       "<tr>\n",
       "  <th>Skew:</th>          <td> 0.451</td>  <th>  Prob(JB):          </th> <td>1.87e-94</td>\n",
       "</tr>\n",
       "<tr>\n",
       "  <th>Kurtosis:</th>      <td> 2.245</td>  <th>  Cond. No.          </th> <td>    10.8</td>\n",
       "</tr>\n",
       "</table><br/><br/>Notes:<br/>[1] Standard Errors assume that the covariance matrix of the errors is correctly specified."
      ],
      "text/plain": [
       "<class 'statsmodels.iolib.summary.Summary'>\n",
       "\"\"\"\n",
       "                            OLS Regression Results                            \n",
       "==============================================================================\n",
       "Dep. Variable:                  ratio   R-squared:                       0.046\n",
       "Model:                            OLS   Adj. R-squared:                  0.046\n",
       "Method:                 Least Squares   F-statistic:                     361.9\n",
       "Date:                Wed, 10 Aug 2022   Prob (F-statistic):           7.62e-79\n",
       "Time:                        17:50:08   Log-Likelihood:                -1476.2\n",
       "No. Observations:                7490   AIC:                             2956.\n",
       "Df Residuals:                    7488   BIC:                             2970.\n",
       "Df Model:                           1                                         \n",
       "Covariance Type:            nonrobust                                         \n",
       "==============================================================================\n",
       "                 coef    std err          t      P>|t|      [0.025      0.975]\n",
       "------------------------------------------------------------------------------\n",
       "Intercept      0.3660      0.006     58.294      0.000       0.354       0.378\n",
       "len            0.6833      0.036     19.024      0.000       0.613       0.754\n",
       "==============================================================================\n",
       "Omnibus:                      743.698   Durbin-Watson:                   2.751\n",
       "Prob(Omnibus):                  0.000   Jarque-Bera (JB):              431.639\n",
       "Skew:                           0.451   Prob(JB):                     1.87e-94\n",
       "Kurtosis:                       2.245   Cond. No.                         10.8\n",
       "==============================================================================\n",
       "\n",
       "Notes:\n",
       "[1] Standard Errors assume that the covariance matrix of the errors is correctly specified.\n",
       "\"\"\""
      ]
     },
     "execution_count": 31,
     "metadata": {},
     "output_type": "execute_result"
    }
   ],
   "source": [
    "ratiomodel.summary()"
   ]
  },
  {
   "cell_type": "code",
   "execution_count": 32,
   "id": "9ac9c520",
   "metadata": {},
   "outputs": [],
   "source": [
    "filteredmodel = ols(formula=f, data = hybrid_clean[hybrid_clean['len']> len_minimum]).fit()"
   ]
  },
  {
   "cell_type": "code",
   "execution_count": 33,
   "id": "a4fa83a0",
   "metadata": {},
   "outputs": [
    {
     "data": {
      "text/html": [
       "<table class=\"simpletable\">\n",
       "<caption>OLS Regression Results</caption>\n",
       "<tr>\n",
       "  <th>Dep. Variable:</th>          <td>ratio</td>      <th>  R-squared:         </th> <td>   0.047</td>\n",
       "</tr>\n",
       "<tr>\n",
       "  <th>Model:</th>                   <td>OLS</td>       <th>  Adj. R-squared:    </th> <td>   0.040</td>\n",
       "</tr>\n",
       "<tr>\n",
       "  <th>Method:</th>             <td>Least Squares</td>  <th>  F-statistic:       </th> <td>   7.029</td>\n",
       "</tr>\n",
       "<tr>\n",
       "  <th>Date:</th>             <td>Wed, 10 Aug 2022</td> <th>  Prob (F-statistic):</th>  <td>0.00892</td>\n",
       "</tr>\n",
       "<tr>\n",
       "  <th>Time:</th>                 <td>17:50:08</td>     <th>  Log-Likelihood:    </th> <td>  113.41</td>\n",
       "</tr>\n",
       "<tr>\n",
       "  <th>No. Observations:</th>      <td>   145</td>      <th>  AIC:               </th> <td>  -222.8</td>\n",
       "</tr>\n",
       "<tr>\n",
       "  <th>Df Residuals:</th>          <td>   143</td>      <th>  BIC:               </th> <td>  -216.9</td>\n",
       "</tr>\n",
       "<tr>\n",
       "  <th>Df Model:</th>              <td>     1</td>      <th>                     </th>     <td> </td>   \n",
       "</tr>\n",
       "<tr>\n",
       "  <th>Covariance Type:</th>      <td>nonrobust</td>    <th>                     </th>     <td> </td>   \n",
       "</tr>\n",
       "</table>\n",
       "<table class=\"simpletable\">\n",
       "<tr>\n",
       "      <td></td>         <th>coef</th>     <th>std err</th>      <th>t</th>      <th>P>|t|</th>  <th>[0.025</th>    <th>0.975]</th>  \n",
       "</tr>\n",
       "<tr>\n",
       "  <th>Intercept</th> <td>    1.0520</td> <td>    0.055</td> <td>   19.235</td> <td> 0.000</td> <td>    0.944</td> <td>    1.160</td>\n",
       "</tr>\n",
       "<tr>\n",
       "  <th>len</th>       <td>   -0.2969</td> <td>    0.112</td> <td>   -2.651</td> <td> 0.009</td> <td>   -0.518</td> <td>   -0.076</td>\n",
       "</tr>\n",
       "</table>\n",
       "<table class=\"simpletable\">\n",
       "<tr>\n",
       "  <th>Omnibus:</th>       <td>187.058</td> <th>  Durbin-Watson:     </th> <td>   2.006</td>\n",
       "</tr>\n",
       "<tr>\n",
       "  <th>Prob(Omnibus):</th> <td> 0.000</td>  <th>  Jarque-Bera (JB):  </th> <td>6813.889</td>\n",
       "</tr>\n",
       "<tr>\n",
       "  <th>Skew:</th>          <td>-5.083</td>  <th>  Prob(JB):          </th> <td>    0.00</td>\n",
       "</tr>\n",
       "<tr>\n",
       "  <th>Kurtosis:</th>      <td>35.007</td>  <th>  Cond. No.          </th> <td>    14.9</td>\n",
       "</tr>\n",
       "</table><br/><br/>Notes:<br/>[1] Standard Errors assume that the covariance matrix of the errors is correctly specified."
      ],
      "text/plain": [
       "<class 'statsmodels.iolib.summary.Summary'>\n",
       "\"\"\"\n",
       "                            OLS Regression Results                            \n",
       "==============================================================================\n",
       "Dep. Variable:                  ratio   R-squared:                       0.047\n",
       "Model:                            OLS   Adj. R-squared:                  0.040\n",
       "Method:                 Least Squares   F-statistic:                     7.029\n",
       "Date:                Wed, 10 Aug 2022   Prob (F-statistic):            0.00892\n",
       "Time:                        17:50:08   Log-Likelihood:                 113.41\n",
       "No. Observations:                 145   AIC:                            -222.8\n",
       "Df Residuals:                     143   BIC:                            -216.9\n",
       "Df Model:                           1                                         \n",
       "Covariance Type:            nonrobust                                         \n",
       "==============================================================================\n",
       "                 coef    std err          t      P>|t|      [0.025      0.975]\n",
       "------------------------------------------------------------------------------\n",
       "Intercept      1.0520      0.055     19.235      0.000       0.944       1.160\n",
       "len           -0.2969      0.112     -2.651      0.009      -0.518      -0.076\n",
       "==============================================================================\n",
       "Omnibus:                      187.058   Durbin-Watson:                   2.006\n",
       "Prob(Omnibus):                  0.000   Jarque-Bera (JB):             6813.889\n",
       "Skew:                          -5.083   Prob(JB):                         0.00\n",
       "Kurtosis:                      35.007   Cond. No.                         14.9\n",
       "==============================================================================\n",
       "\n",
       "Notes:\n",
       "[1] Standard Errors assume that the covariance matrix of the errors is correctly specified.\n",
       "\"\"\""
      ]
     },
     "execution_count": 33,
     "metadata": {},
     "output_type": "execute_result"
    }
   ],
   "source": [
    "filteredmodel.summary()"
   ]
  },
  {
   "cell_type": "markdown",
   "id": "6cc30394",
   "metadata": {},
   "source": [
    "## test heteroscedasticity"
   ]
  },
  {
   "cell_type": "code",
   "execution_count": 34,
   "id": "a6ee73ab",
   "metadata": {},
   "outputs": [
    {
     "name": "stdout",
     "output_type": "stream",
     "text": [
      "{'LM Statistic': 61.378197158255205, 'LM-Test p-value': 4.6977925247042206e-14, 'F-Statistic': 30.880126033387167, 'F-Test p-value': 4.291660530354395e-14}\n"
     ]
    }
   ],
   "source": [
    "f = 'ratio~len'\n",
    "prop_model = ols(formula=f, data=hybrid_clean).fit()\n",
    "labels = ['LM Statistic', 'LM-Test p-value', 'F-Statistic', 'F-Test p-value']\n",
    "postwhite = het_white(postmodel.resid, postmodel.model.exog)\n",
    "print(dict(zip(labels, postwhite)))"
   ]
  },
  {
   "cell_type": "code",
   "execution_count": 35,
   "id": "4b7a0ea1",
   "metadata": {},
   "outputs": [
    {
     "data": {
      "image/png": "[encoded data removed]",
      "text/plain": [
       "<Figure size 1200x900 with 1 Axes>"
      ]
     },
     "metadata": {
      "needs_background": "light"
     },
     "output_type": "display_data"
    }
   ],
   "source": [
    "figure(figsize=(4, 3), dpi=300)\n",
    "plt.scatter(x = hybrid_clean['len'], y = hybrid_clean['ratio'], marker = \",\", lw = 0, s = 2, alpha = 1, color = '#30376B')\n",
    "plt.xlim([0, 0.7])\n",
    "plt.ylim([0, 1])\n",
    "for mini in x[min_idx[0]]:\n",
    "    plt.axvline(x = mini, label = 'axvline - full height', linestyle='--', color = '#C8247E', alpha = 1)\n",
    "plt.savefig(FIGURE_DIR/'restraint'/indv/'intergapratio_lines.pdf')\n",
    "plt.show()"
   ]
  },
  {
   "cell_type": "markdown",
   "id": "a68634ca",
   "metadata": {},
   "source": [
    "## output dyadic with len information"
   ]
  },
  {
   "cell_type": "code",
   "execution_count": 36,
   "id": "f80d1d14",
   "metadata": {},
   "outputs": [
    {
     "name": "stderr",
     "output_type": "stream",
     "text": [
      "/home/AD/j8xing/syntax_rhythm_pbb/butcherbird/rhythm.py:300: TqdmExperimentalWarning: Using `tqdm.autonotebook.tqdm` in notebook mode. Use `tqdm.tqdm` instead to force console mode (e.g. in jupyter console)\n",
      "  from tqdm.autonotebook import tqdm\n"
     ]
    }
   ],
   "source": [
    "import butcherbird.rhythm as rhythm"
   ]
  },
  {
   "cell_type": "code",
   "execution_count": 37,
   "id": "530bf614",
   "metadata": {},
   "outputs": [
    {
     "data": {
      "application/vnd.jupyter.widget-view+json": {
       "model_id": "c9d067624a9a4f26967c443d7e114132",
       "version_major": 2,
       "version_minor": 0
      },
      "text/plain": [
       "  0%|          | 0/1 [00:00<?, ?it/s]"
      ]
     },
     "metadata": {},
     "output_type": "display_data"
    },
    {
     "data": {
      "application/vnd.jupyter.widget-view+json": {
       "model_id": "d17fbfeb53984eb9be9e074607524c30",
       "version_major": 2,
       "version_minor": 0
      },
      "text/plain": [
       "  0%|          | 0/1427 [00:00<?, ?it/s]"
      ]
     },
     "metadata": {},
     "output_type": "display_data"
    }
   ],
   "source": [
    "dyadic = rhythm.construct_rhythm_df(note_df, 'lasso_labels')"
   ]
  },
  {
   "cell_type": "code",
   "execution_count": 38,
   "id": "90ae5ff4",
   "metadata": {},
   "outputs": [
    {
     "data": {
      "text/html": [
       "<div>\n",
       "<style scoped>\n",
       "    .dataframe tbody tr th:only-of-type {\n",
       "        vertical-align: middle;\n",
       "    }\n",
       "\n",
       "    .dataframe tbody tr th {\n",
       "        vertical-align: top;\n",
       "    }\n",
       "\n",
       "    .dataframe thead th {\n",
       "        text-align: right;\n",
       "    }\n",
       "</style>\n",
       "<table border=\"1\" class=\"dataframe\">\n",
       "  <thead>\n",
       "    <tr style=\"text-align: right;\">\n",
       "      <th></th>\n",
       "      <th>intervals1</th>\n",
       "      <th>intervals2</th>\n",
       "      <th>label1</th>\n",
       "      <th>label2</th>\n",
       "      <th>label3</th>\n",
       "      <th>len1</th>\n",
       "      <th>len2</th>\n",
       "      <th>len3</th>\n",
       "      <th>s_interval</th>\n",
       "      <th>l_interval</th>\n",
       "      <th>cycle_dur</th>\n",
       "      <th>ratio_roeske</th>\n",
       "      <th>ratio_custom</th>\n",
       "      <th>cycle_rank</th>\n",
       "    </tr>\n",
       "  </thead>\n",
       "  <tbody>\n",
       "    <tr>\n",
       "      <th>0</th>\n",
       "      <td>0.052859</td>\n",
       "      <td>0.172000</td>\n",
       "      <td>4</td>\n",
       "      <td>2</td>\n",
       "      <td>0</td>\n",
       "      <td>0.035308</td>\n",
       "      <td>0.063184</td>\n",
       "      <td>0.122338</td>\n",
       "      <td>0.052859</td>\n",
       "      <td>0.172000</td>\n",
       "      <td>0.224858</td>\n",
       "      <td>0.235075</td>\n",
       "      <td>0.307318</td>\n",
       "      <td>1</td>\n",
       "    </tr>\n",
       "    <tr>\n",
       "      <th>1</th>\n",
       "      <td>0.172000</td>\n",
       "      <td>0.187250</td>\n",
       "      <td>2</td>\n",
       "      <td>0</td>\n",
       "      <td>19</td>\n",
       "      <td>0.063184</td>\n",
       "      <td>0.122338</td>\n",
       "      <td>0.166831</td>\n",
       "      <td>0.172000</td>\n",
       "      <td>0.187250</td>\n",
       "      <td>0.359250</td>\n",
       "      <td>0.478775</td>\n",
       "      <td>0.918556</td>\n",
       "      <td>2</td>\n",
       "    </tr>\n",
       "    <tr>\n",
       "      <th>2</th>\n",
       "      <td>0.225811</td>\n",
       "      <td>0.304189</td>\n",
       "      <td>35</td>\n",
       "      <td>34</td>\n",
       "      <td>6</td>\n",
       "      <td>0.142573</td>\n",
       "      <td>0.183503</td>\n",
       "      <td>0.264143</td>\n",
       "      <td>0.225811</td>\n",
       "      <td>0.304189</td>\n",
       "      <td>0.530000</td>\n",
       "      <td>0.426059</td>\n",
       "      <td>0.742340</td>\n",
       "      <td>1</td>\n",
       "    </tr>\n",
       "    <tr>\n",
       "      <th>3</th>\n",
       "      <td>0.446981</td>\n",
       "      <td>0.165348</td>\n",
       "      <td>20</td>\n",
       "      <td>0</td>\n",
       "      <td>15</td>\n",
       "      <td>0.182846</td>\n",
       "      <td>0.084141</td>\n",
       "      <td>0.097513</td>\n",
       "      <td>0.165348</td>\n",
       "      <td>0.446981</td>\n",
       "      <td>0.612329</td>\n",
       "      <td>0.729969</td>\n",
       "      <td>0.369921</td>\n",
       "      <td>2</td>\n",
       "    </tr>\n",
       "    <tr>\n",
       "      <th>4</th>\n",
       "      <td>0.304189</td>\n",
       "      <td>0.370000</td>\n",
       "      <td>34</td>\n",
       "      <td>6</td>\n",
       "      <td>20</td>\n",
       "      <td>0.183503</td>\n",
       "      <td>0.264143</td>\n",
       "      <td>0.182846</td>\n",
       "      <td>0.304189</td>\n",
       "      <td>0.370000</td>\n",
       "      <td>0.674189</td>\n",
       "      <td>0.451192</td>\n",
       "      <td>0.822131</td>\n",
       "      <td>3</td>\n",
       "    </tr>\n",
       "    <tr>\n",
       "      <th>...</th>\n",
       "      <td>...</td>\n",
       "      <td>...</td>\n",
       "      <td>...</td>\n",
       "      <td>...</td>\n",
       "      <td>...</td>\n",
       "      <td>...</td>\n",
       "      <td>...</td>\n",
       "      <td>...</td>\n",
       "      <td>...</td>\n",
       "      <td>...</td>\n",
       "      <td>...</td>\n",
       "      <td>...</td>\n",
       "      <td>...</td>\n",
       "      <td>...</td>\n",
       "    </tr>\n",
       "    <tr>\n",
       "      <th>8007</th>\n",
       "      <td>0.180239</td>\n",
       "      <td>0.210000</td>\n",
       "      <td>0</td>\n",
       "      <td>19</td>\n",
       "      <td>2</td>\n",
       "      <td>0.109568</td>\n",
       "      <td>0.126234</td>\n",
       "      <td>0.057561</td>\n",
       "      <td>0.180239</td>\n",
       "      <td>0.210000</td>\n",
       "      <td>0.390239</td>\n",
       "      <td>0.461869</td>\n",
       "      <td>0.858282</td>\n",
       "      <td>5</td>\n",
       "    </tr>\n",
       "    <tr>\n",
       "      <th>8008</th>\n",
       "      <td>0.203257</td>\n",
       "      <td>0.260423</td>\n",
       "      <td>9</td>\n",
       "      <td>27</td>\n",
       "      <td>23</td>\n",
       "      <td>0.061930</td>\n",
       "      <td>0.131800</td>\n",
       "      <td>0.223479</td>\n",
       "      <td>0.203257</td>\n",
       "      <td>0.260423</td>\n",
       "      <td>0.463680</td>\n",
       "      <td>0.438356</td>\n",
       "      <td>0.780488</td>\n",
       "      <td>6</td>\n",
       "    </tr>\n",
       "    <tr>\n",
       "      <th>8009</th>\n",
       "      <td>0.210000</td>\n",
       "      <td>0.260000</td>\n",
       "      <td>19</td>\n",
       "      <td>2</td>\n",
       "      <td>25</td>\n",
       "      <td>0.126234</td>\n",
       "      <td>0.057561</td>\n",
       "      <td>0.420000</td>\n",
       "      <td>0.210000</td>\n",
       "      <td>0.260000</td>\n",
       "      <td>0.470000</td>\n",
       "      <td>0.446809</td>\n",
       "      <td>0.807692</td>\n",
       "      <td>7</td>\n",
       "    </tr>\n",
       "    <tr>\n",
       "      <th>8010</th>\n",
       "      <td>0.430000</td>\n",
       "      <td>0.200000</td>\n",
       "      <td>25</td>\n",
       "      <td>17</td>\n",
       "      <td>11</td>\n",
       "      <td>0.420000</td>\n",
       "      <td>0.117846</td>\n",
       "      <td>0.152862</td>\n",
       "      <td>0.200000</td>\n",
       "      <td>0.430000</td>\n",
       "      <td>0.630000</td>\n",
       "      <td>0.682540</td>\n",
       "      <td>0.465116</td>\n",
       "      <td>8</td>\n",
       "    </tr>\n",
       "    <tr>\n",
       "      <th>8011</th>\n",
       "      <td>0.260000</td>\n",
       "      <td>0.430000</td>\n",
       "      <td>2</td>\n",
       "      <td>25</td>\n",
       "      <td>17</td>\n",
       "      <td>0.057561</td>\n",
       "      <td>0.420000</td>\n",
       "      <td>0.117846</td>\n",
       "      <td>0.260000</td>\n",
       "      <td>0.430000</td>\n",
       "      <td>0.690000</td>\n",
       "      <td>0.376812</td>\n",
       "      <td>0.604651</td>\n",
       "      <td>9</td>\n",
       "    </tr>\n",
       "  </tbody>\n",
       "</table>\n",
       "<p>8012 rows × 14 columns</p>\n",
       "</div>"
      ],
      "text/plain": [
       "      intervals1  intervals2  label1  label2  label3      len1      len2  \\\n",
       "0       0.052859    0.172000       4       2       0  0.035308  0.063184   \n",
       "1       0.172000    0.187250       2       0      19  0.063184  0.122338   \n",
       "2       0.225811    0.304189      35      34       6  0.142573  0.183503   \n",
       "3       0.446981    0.165348      20       0      15  0.182846  0.084141   \n",
       "4       0.304189    0.370000      34       6      20  0.183503  0.264143   \n",
       "...          ...         ...     ...     ...     ...       ...       ...   \n",
       "8007    0.180239    0.210000       0      19       2  0.109568  0.126234   \n",
       "8008    0.203257    0.260423       9      27      23  0.061930  0.131800   \n",
       "8009    0.210000    0.260000      19       2      25  0.126234  0.057561   \n",
       "8010    0.430000    0.200000      25      17      11  0.420000  0.117846   \n",
       "8011    0.260000    0.430000       2      25      17  0.057561  0.420000   \n",
       "\n",
       "          len3  s_interval  l_interval  cycle_dur  ratio_roeske  ratio_custom  \\\n",
       "0     0.122338    0.052859    0.172000   0.224858      0.235075      0.307318   \n",
       "1     0.166831    0.172000    0.187250   0.359250      0.478775      0.918556   \n",
       "2     0.264143    0.225811    0.304189   0.530000      0.426059      0.742340   \n",
       "3     0.097513    0.165348    0.446981   0.612329      0.729969      0.369921   \n",
       "4     0.182846    0.304189    0.370000   0.674189      0.451192      0.822131   \n",
       "...        ...         ...         ...        ...           ...           ...   \n",
       "8007  0.057561    0.180239    0.210000   0.390239      0.461869      0.858282   \n",
       "8008  0.223479    0.203257    0.260423   0.463680      0.438356      0.780488   \n",
       "8009  0.420000    0.210000    0.260000   0.470000      0.446809      0.807692   \n",
       "8010  0.152862    0.200000    0.430000   0.630000      0.682540      0.465116   \n",
       "8011  0.117846    0.260000    0.430000   0.690000      0.376812      0.604651   \n",
       "\n",
       "      cycle_rank  \n",
       "0              1  \n",
       "1              2  \n",
       "2              1  \n",
       "3              2  \n",
       "4              3  \n",
       "...          ...  \n",
       "8007           5  \n",
       "8008           6  \n",
       "8009           7  \n",
       "8010           8  \n",
       "8011           9  \n",
       "\n",
       "[8012 rows x 14 columns]"
      ]
     },
     "execution_count": 38,
     "metadata": {},
     "output_type": "execute_result"
    }
   ],
   "source": [
    "dyadic"
   ]
  },
  {
   "cell_type": "code",
   "execution_count": 39,
   "id": "b6227785",
   "metadata": {},
   "outputs": [],
   "source": [
    "n = 1000"
   ]
  },
  {
   "cell_type": "markdown",
   "id": "919e2a53",
   "metadata": {},
   "source": [
    "## Calculate Uniform Rhythm\n",
    "> Uniform rhythm is calculated under the assumption that interval lengths are uniformly distributed between a minimum and maximum interval length.  "
   ]
  },
  {
   "cell_type": "code",
   "execution_count": 40,
   "id": "88974449",
   "metadata": {},
   "outputs": [],
   "source": [
    "import numpy as np\n",
    "import numpy.random as random"
   ]
  },
  {
   "cell_type": "code",
   "execution_count": 41,
   "id": "1acdacdc",
   "metadata": {},
   "outputs": [],
   "source": [
    "interval_min = np.min([dyadic['intervals1'].values, dyadic['intervals2']])\n",
    "interval_max = np.max([dyadic['intervals1'].values, dyadic['intervals2']])"
   ]
  },
  {
   "cell_type": "code",
   "execution_count": 42,
   "id": "816ef432",
   "metadata": {},
   "outputs": [],
   "source": [
    "interval1_uni = random.uniform(low = interval_min, high = interval_max, size = len(dyadic) * n)\n",
    "interval2_uni = random.uniform(low = interval_min, high = interval_max, size = len(dyadic) * n)\n",
    "uni_ratio = interval1_uni / (interval1_uni + interval2_uni)"
   ]
  },
  {
   "cell_type": "code",
   "execution_count": 43,
   "id": "74658e4e",
   "metadata": {},
   "outputs": [
    {
     "data": {
      "text/plain": [
       "<AxesSubplot:ylabel='Count'>"
      ]
     },
     "execution_count": 43,
     "metadata": {},
     "output_type": "execute_result"
    },
    {
     "data": {
      "image/png": "[encoded data removed]",
      "text/plain": [
       "<Figure size 432x288 with 1 Axes>"
      ]
     },
     "metadata": {
      "needs_background": "light"
     },
     "output_type": "display_data"
    }
   ],
   "source": [
    "sns.histplot(uni_ratio)"
   ]
  },
  {
   "cell_type": "markdown",
   "id": "7c1d3bd8",
   "metadata": {},
   "source": [
    "## Calculate Shuffled IOI Rhythm\n",
    "> Shuffled rhythm is calculated under the assumption that interval lengths are bootstrapped from the empirical distribution, but the consecutive order of intervals are shuffled. "
   ]
  },
  {
   "cell_type": "code",
   "execution_count": 44,
   "id": "b4e9e3c5",
   "metadata": {},
   "outputs": [],
   "source": [
    "df_sf = []\n",
    "for i in np.arange(0, n):\n",
    "    interval1_sf = dyadic['intervals1'].sample(frac = 1, replace = True).values\n",
    "    interval2_sf = dyadic['intervals2'].sample(frac = 1, replace = True).values\n",
    "    df_sf.append(interval1_sf / (interval1_sf + interval2_sf))"
   ]
  },
  {
   "cell_type": "code",
   "execution_count": 45,
   "id": "492b68d9",
   "metadata": {},
   "outputs": [],
   "source": [
    "sf_ratio = np.array(df_sf).flatten()"
   ]
  },
  {
   "cell_type": "code",
   "execution_count": 46,
   "id": "e475ed22",
   "metadata": {},
   "outputs": [
    {
     "data": {
      "text/plain": [
       "<AxesSubplot:ylabel='Count'>"
      ]
     },
     "execution_count": 46,
     "metadata": {},
     "output_type": "execute_result"
    },
    {
     "data": {
      "image/png": "[encoded data removed]",
      "text/plain": [
       "<Figure size 432x288 with 1 Axes>"
      ]
     },
     "metadata": {
      "needs_background": "light"
     },
     "output_type": "display_data"
    }
   ],
   "source": [
    "sns.histplot(sf_ratio)"
   ]
  },
  {
   "cell_type": "markdown",
   "id": "f4ef0b1f",
   "metadata": {},
   "source": [
    "## Calculate Shuffled Note + Gap\n",
    "> Shuffled Note + Gap rhythm is calculated under the assumption that note length and inter-note gaps are independently shuffled."
   ]
  },
  {
   "cell_type": "code",
   "execution_count": 47,
   "id": "98e19bef",
   "metadata": {},
   "outputs": [],
   "source": [
    "import numpy.random as random"
   ]
  },
  {
   "cell_type": "code",
   "execution_count": 48,
   "id": "e86b6c7d",
   "metadata": {},
   "outputs": [],
   "source": [
    "# find all gaps and their positions\n",
    "grand_gaps = []\n",
    "\n",
    "for phrase_nb in np.unique(note_df['phrase_nb']):\n",
    "    ## pull out each phrase\n",
    "    phrase = note_df[note_df['phrase_nb'] == phrase_nb]\n",
    "\n",
    "        ## find all internote gaps\n",
    "    gaps = phrase['note_strt'][1:].values - phrase['note_end'][:-1].values\n",
    "    grand_gaps.append(gaps)\n",
    "    \n",
    "grand_gaps = np.hstack(grand_gaps)\n",
    "grand_gaps = grand_gaps[grand_gaps < 10] ## gaps that are more than 10 seconds long are noise"
   ]
  },
  {
   "cell_type": "code",
   "execution_count": 49,
   "id": "619fa531",
   "metadata": {},
   "outputs": [],
   "source": [
    "df_lg = []\n",
    "\n",
    "for i in np.arange(0, n):\n",
    "    ## randomly shuffle gaps\n",
    "    random.shuffle(grand_gaps)\n",
    "    ## add to randomly shuffled lengths\n",
    "    shuffled_lg = grand_gaps + note_df['note_len'].sample(n = len(grand_gaps), replace = True).values\n",
    "    \n",
    "    shuffled_lg_i1 = shuffled_lg[:-1]\n",
    "    shuffled_lg_i2 = shuffled_lg[1:]\n",
    "    \n",
    "    df_lg.append(shuffled_lg_i1 / (shuffled_lg_i1 + shuffled_lg_i2))"
   ]
  },
  {
   "cell_type": "code",
   "execution_count": 50,
   "id": "f586fa7e",
   "metadata": {},
   "outputs": [],
   "source": [
    "lg_ratio = np.hstack(df_lg)"
   ]
  },
  {
   "cell_type": "code",
   "execution_count": 51,
   "id": "85ca084c",
   "metadata": {},
   "outputs": [
    {
     "data": {
      "text/plain": [
       "<AxesSubplot:ylabel='Count'>"
      ]
     },
     "execution_count": 51,
     "metadata": {},
     "output_type": "execute_result"
    },
    {
     "data": {
      "image/png": "[encoded data removed]",
      "text/plain": [
       "<Figure size 432x288 with 1 Axes>"
      ]
     },
     "metadata": {
      "needs_background": "light"
     },
     "output_type": "display_data"
    }
   ],
   "source": [
    "sns.histplot(lg_ratio)"
   ]
  },
  {
   "cell_type": "markdown",
   "id": "ccc2f5f7",
   "metadata": {},
   "source": [
    "## Output each dyadic below stratum, output its hopkins statistic, save a plot"
   ]
  },
  {
   "cell_type": "code",
   "execution_count": 52,
   "id": "0a47c834",
   "metadata": {},
   "outputs": [],
   "source": [
    "import butcherbird.rhythm\n",
    "from tqdm.autonotebook import tqdm"
   ]
  },
  {
   "cell_type": "code",
   "execution_count": null,
   "id": "8d353dfe",
   "metadata": {
    "scrolled": false
   },
   "outputs": [
    {
     "name": "stdout",
     "output_type": "stream",
     "text": [
      "Currently Processing below \n",
      "0.08234462043080412\n"
     ]
    },
    {
     "data": {
      "application/vnd.jupyter.widget-view+json": {
       "model_id": "9fcae83ab3f844e6952655bb0bbd22a7",
       "version_major": 2,
       "version_minor": 0
      },
      "text/plain": [
       "  0%|          | 0/100 [00:00<?, ?it/s]"
      ]
     },
     "metadata": {},
     "output_type": "display_data"
    },
    {
     "data": {
      "image/png": "[encoded data removed]",
      "text/plain": [
       "<Figure size 1200x900 with 1 Axes>"
      ]
     },
     "metadata": {
      "needs_background": "light"
     },
     "output_type": "display_data"
    },
    {
     "name": "stdout",
     "output_type": "stream",
     "text": [
      "Currently Processing below \n",
      "0.16849365015489526\n"
     ]
    },
    {
     "data": {
      "application/vnd.jupyter.widget-view+json": {
       "model_id": "e362cf5db31f42bba4c12011a96848ca",
       "version_major": 2,
       "version_minor": 0
      },
      "text/plain": [
       "  0%|          | 0/100 [00:00<?, ?it/s]"
      ]
     },
     "metadata": {},
     "output_type": "display_data"
    },
    {
     "data": {
      "image/png": "[encoded data removed]",
      "text/plain": [
       "<Figure size 1200x900 with 1 Axes>"
      ]
     },
     "metadata": {
      "needs_background": "light"
     },
     "output_type": "display_data"
    },
    {
     "name": "stdout",
     "output_type": "stream",
     "text": [
      "Currently Processing below \n",
      "0.21772166714009017\n"
     ]
    },
    {
     "data": {
      "application/vnd.jupyter.widget-view+json": {
       "model_id": "2de9526a577a42b497f963ba60c25468",
       "version_major": 2,
       "version_minor": 0
      },
      "text/plain": [
       "  0%|          | 0/100 [00:00<?, ?it/s]"
      ]
     },
     "metadata": {},
     "output_type": "display_data"
    },
    {
     "data": {
      "image/png": "[encoded data removed]",
      "text/plain": [
       "<Figure size 1200x900 with 1 Axes>"
      ]
     },
     "metadata": {
      "needs_background": "light"
     },
     "output_type": "display_data"
    },
    {
     "name": "stdout",
     "output_type": "stream",
     "text": [
      "Currently Processing below \n",
      "0.36540571809567496\n"
     ]
    },
    {
     "data": {
      "application/vnd.jupyter.widget-view+json": {
       "model_id": "edf89dd07b164662850ea94e8eedbba4",
       "version_major": 2,
       "version_minor": 0
      },
      "text/plain": [
       "  0%|          | 0/100 [00:00<?, ?it/s]"
      ]
     },
     "metadata": {},
     "output_type": "display_data"
    }
   ],
   "source": [
    "hopkins = []\n",
    "\n",
    "## for each local minimum\n",
    "for local_min in x[min_idx[0]]:\n",
    "    \n",
    "    print('Currently Processing below ')\n",
    "    print(local_min)\n",
    "    \n",
    "    filtered_dyadic = dyadic[dyadic['len1'] < local_min]\n",
    "    filtered_dyadic = filtered_dyadic[filtered_dyadic['len2'] < local_min]\n",
    "    filtered_dyadic = filtered_dyadic[filtered_dyadic['len3'] < local_min]\n",
    "    \n",
    "    ## Get Sampling Distribution of Hopkins Statistics\n",
    "    SDoH = []\n",
    "    for i in tqdm(range(0, 100)):\n",
    "        SDoH.append(butcherbird.rhythm.hopkins(filtered_dyadic[['ratio_roeske']]))\n",
    "    \n",
    "    hopkins.append(np.mean(SDoH))\n",
    "    \n",
    "    ## plot\n",
    "    figure(figsize = (4, 3), dpi = 300)\n",
    "\n",
    "    plt.rcParams['patch.edgecolor'] = 'none'\n",
    "\n",
    "    fig = sns.histplot(\n",
    "        x = filtered_dyadic['ratio_roeske'],\n",
    "        binwidth = 0.01,\n",
    "        stat = 'density',\n",
    "        color = '#A3E301',\n",
    "        fill = '#A3E301',\n",
    "        kde = True,\n",
    "    )\n",
    "\n",
    "    ## calculate uniform\n",
    "    interval_min = np.min([filtered_dyadic['intervals1'].values, filtered_dyadic['intervals2']])\n",
    "    interval_max = np.max([filtered_dyadic['intervals1'].values, filtered_dyadic['intervals2']])\n",
    "    interval1_uni = random.uniform(low = interval_min, high = interval_max, size = len(filtered_dyadic) * n)\n",
    "    interval2_uni = random.uniform(low = interval_min, high = interval_max, size = len(filtered_dyadic) * n)\n",
    "    uni_ratio = interval1_uni / (interval1_uni + interval2_uni)\n",
    "    \n",
    "    uni = sns.histplot(\n",
    "        x = uni_ratio,\n",
    "        stat = 'density',\n",
    "        alpha = 0,\n",
    "        color = '#FC6983',\n",
    "        kde = True,\n",
    "        line_kws = dict(linestyle = 'dashed')\n",
    "    )\n",
    "\n",
    "    '''## calculate shuffle\n",
    "    \n",
    "    df_sf = []\n",
    "    for i in np.arange(0, n):\n",
    "        interval1_sf = filtered_dyadic['intervals1'].sample(frac = 1, replace = True).values\n",
    "        interval2_sf = filtered_dyadic['intervals2'].sample(frac = 1, replace = True).values\n",
    "        df_sf.append(interval1_sf / (interval1_sf + interval2_sf))\n",
    "    \n",
    "    sf_ratio = np.array(df_sf).flatten()\n",
    "    \n",
    "    sf = sns.histplot(\n",
    "        x = sf_ratio,\n",
    "        stat = 'density',\n",
    "        alpha = 0,\n",
    "        color = '#1DB6AB',\n",
    "        kde = True,\n",
    "        line_kws = dict(linestyle = 'dashed')\n",
    "    )\n",
    "    \n",
    "    ## calculate len+gap\n",
    "    \n",
    "    # find all gaps and their positions\n",
    "    grand_gaps = []\n",
    "\n",
    "    filtered_note_df = note_df[note_df['note_len'] < local_min]\n",
    "    \n",
    "    for phrase_nb in np.unique(filtered_note_df['phrase_nb']):\n",
    "        ## pull out each phrase\n",
    "        phrase = filtered_note_df[filtered_note_df['phrase_nb'] == phrase_nb]\n",
    "\n",
    "            ## find all internote gaps\n",
    "        gaps = phrase['note_strt'][1:].values - phrase['note_end'][:-1].values\n",
    "        grand_gaps.append(gaps)\n",
    "\n",
    "    grand_gaps = np.hstack(grand_gaps)\n",
    "    grand_gaps = grand_gaps[grand_gaps < 10] ## gaps that are more than 10 seconds long are noise\n",
    "    \n",
    "    df_lg = []\n",
    "\n",
    "    for i in np.arange(0, n):\n",
    "        ## randomly shuffle gaps\n",
    "        random.shuffle(grand_gaps)\n",
    "        ## add to randomly shuffled lengths\n",
    "        shuffled_lg = grand_gaps + filtered_note_df['note_len'].sample(n = len(grand_gaps), replace = True).values\n",
    "\n",
    "        shuffled_lg_i1 = shuffled_lg[:-1]\n",
    "        shuffled_lg_i2 = shuffled_lg[1:]\n",
    "\n",
    "        df_lg.append(shuffled_lg_i1 / (shuffled_lg_i1 + shuffled_lg_i2))\n",
    "        \n",
    "    lg_ratio = np.hstack(df_lg)\n",
    "    \n",
    "    lg = sns.histplot(\n",
    "        x = lg_ratio,\n",
    "        stat = 'density',\n",
    "        alpha = 0,\n",
    "        color = '#15215B',\n",
    "        kde = True,\n",
    "        line_kws = dict(linestyle = 'dashed')\n",
    "    )'''\n",
    "\n",
    "    ax = plt.gca()\n",
    "    ax.set_xlim([0, 1])\n",
    "    plt.xticks(np.arange(0, 1.25, 0.25))\n",
    "\n",
    "    ax.set_title('rhythms containing lengths '+'<'+str(np.round(local_min, 3)) + ' seconds')\n",
    "    \n",
    "    \n",
    "    \n",
    "    # save\n",
    "    figname = 'fig1_' + 'categorical_rhythm_filtered' + indv + str(np.round(local_min, 3)) + '.pdf'\n",
    "    plt.savefig(FIGURE_DIR/'restraint'/indv/figname)\n",
    "    \n",
    "    plt.show()"
   ]
  },
  {
   "cell_type": "code",
   "execution_count": null,
   "id": "faec64f8",
   "metadata": {},
   "outputs": [],
   "source": [
    "hopkins"
   ]
  },
  {
   "cell_type": "code",
   "execution_count": null,
   "id": "f4f96a61",
   "metadata": {},
   "outputs": [],
   "source": [
    "## Special Treatment fo 0.365"
   ]
  },
  {
   "cell_type": "code",
   "execution_count": null,
   "id": "53886a08",
   "metadata": {},
   "outputs": [],
   "source": [
    "local_min = x[min_idx[0]][-4]\n",
    "local_min"
   ]
  },
  {
   "cell_type": "code",
   "execution_count": null,
   "id": "e5bbaf1e",
   "metadata": {},
   "outputs": [],
   "source": [
    "filtered_dyadic = dyadic[dyadic['len1'] < local_min]\n",
    "filtered_dyadic = filtered_dyadic[filtered_dyadic['len2'] < local_min]\n",
    "filtered_dyadic = filtered_dyadic[filtered_dyadic['len3'] < local_min]"
   ]
  },
  {
   "cell_type": "code",
   "execution_count": null,
   "id": "4e35b944",
   "metadata": {},
   "outputs": [],
   "source": [
    "dyadic"
   ]
  },
  {
   "cell_type": "code",
   "execution_count": null,
   "id": "d0c6e2aa",
   "metadata": {},
   "outputs": [],
   "source": [
    "filtered_dyadic"
   ]
  },
  {
   "cell_type": "code",
   "execution_count": null,
   "id": "8d52934b",
   "metadata": {},
   "outputs": [],
   "source": [
    "## what proportion of rhythm is taken out when taking out lengths > 0.365\n",
    "1 - len(filtered_dyadic)/len(dyadic)"
   ]
  },
  {
   "cell_type": "code",
   "execution_count": null,
   "id": "7df58a23",
   "metadata": {},
   "outputs": [],
   "source": [
    "len(note_df[note_df['note_len'] > local_min]) / len(note_df)"
   ]
  }
 ],
 "metadata": {
  "kernelspec": {
   "display_name": "pbb",
   "language": "python",
   "name": "pbb"
  },
  "language_info": {
   "codemirror_mode": {
    "name": "ipython",
    "version": 3
   },
   "file_extension": ".py",
   "mimetype": "text/x-python",
   "name": "python",
   "nbconvert_exporter": "python",
   "pygments_lexer": "ipython3",
   "version": "3.10.0"
  }
 },
 "nbformat": 4,
 "nbformat_minor": 5
}
