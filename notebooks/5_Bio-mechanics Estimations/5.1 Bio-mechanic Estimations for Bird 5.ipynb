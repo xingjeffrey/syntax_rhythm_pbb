{
 "cells": [
  {
   "cell_type": "markdown",
   "id": "d1a9f6e9",
   "metadata": {},
   "source": [
    "***\n",
    "# 4.1 Bio-mechanic Estimations for Bird 5\n",
    "### JX, 08/07/2022\n",
    "***\n",
    "    Bird5:\n",
    "    LS110131.10.9.2015GeoPool.aiff\n",
    "    LS110136.10.10.2015GeoGreens.aiff\n",
    "    LS110143.10.12.2015GeoGreens.aiff\n",
    "    LS110146A.10.13.2015GeoGreens.aiff\n",
    "***"
   ]
  },
  {
   "cell_type": "code",
   "execution_count": 1,
   "id": "59cc6ba7",
   "metadata": {},
   "outputs": [],
   "source": [
    "indv = 'Bird5'"
   ]
  },
  {
   "cell_type": "code",
   "execution_count": 2,
   "id": "8fca7f57",
   "metadata": {},
   "outputs": [
    {
     "data": {
      "text/html": [
       "<div>\n",
       "<style scoped>\n",
       "    .dataframe tbody tr th:only-of-type {\n",
       "        vertical-align: middle;\n",
       "    }\n",
       "\n",
       "    .dataframe tbody tr th {\n",
       "        vertical-align: top;\n",
       "    }\n",
       "\n",
       "    .dataframe thead th {\n",
       "        text-align: right;\n",
       "    }\n",
       "</style>\n",
       "<table border=\"1\" class=\"dataframe\">\n",
       "  <thead>\n",
       "    <tr style=\"text-align: right;\">\n",
       "      <th></th>\n",
       "      <th>phrase_nb</th>\n",
       "      <th>phrase_strt</th>\n",
       "      <th>phrase_end</th>\n",
       "      <th>phrase_len</th>\n",
       "      <th>note_cnt</th>\n",
       "      <th>note_nb</th>\n",
       "      <th>note_strt</th>\n",
       "      <th>note_end</th>\n",
       "      <th>note_len</th>\n",
       "      <th>indv</th>\n",
       "      <th>...</th>\n",
       "      <th>key</th>\n",
       "      <th>audio</th>\n",
       "      <th>rate</th>\n",
       "      <th>spectrogram</th>\n",
       "      <th>umap</th>\n",
       "      <th>hdbscan_labels</th>\n",
       "      <th>recur_labels</th>\n",
       "      <th>recur_labels_id</th>\n",
       "      <th>lasso_labels</th>\n",
       "      <th>seq_id</th>\n",
       "    </tr>\n",
       "  </thead>\n",
       "  <tbody>\n",
       "    <tr>\n",
       "      <th>0</th>\n",
       "      <td>0</td>\n",
       "      <td>513.780000</td>\n",
       "      <td>517.061923</td>\n",
       "      <td>3.281923</td>\n",
       "      <td>15</td>\n",
       "      <td>0</td>\n",
       "      <td>513.780000</td>\n",
       "      <td>513.905214</td>\n",
       "      <td>0.125214</td>\n",
       "      <td>Bird5</td>\n",
       "      <td>...</td>\n",
       "      <td>LS110143.10.12.2015GeoGreens_dn</td>\n",
       "      <td>[-0.0, -7.356902671940375e-05, -0.000162745769...</td>\n",
       "      <td>44100</td>\n",
       "      <td>[[0, 0, 0, 0, 0, 0, 0, 0, 0, 0, 0, 0, 0, 0, 0,...</td>\n",
       "      <td>[4.8774133, 15.248685]</td>\n",
       "      <td>16</td>\n",
       "      <td>16|1|0|nan|nan|nan|nan|nan|nan</td>\n",
       "      <td>87</td>\n",
       "      <td>42</td>\n",
       "      <td>0</td>\n",
       "    </tr>\n",
       "    <tr>\n",
       "      <th>1</th>\n",
       "      <td>0</td>\n",
       "      <td>513.780000</td>\n",
       "      <td>517.061923</td>\n",
       "      <td>3.281923</td>\n",
       "      <td>15</td>\n",
       "      <td>1</td>\n",
       "      <td>513.917747</td>\n",
       "      <td>513.980936</td>\n",
       "      <td>0.063188</td>\n",
       "      <td>Bird5</td>\n",
       "      <td>...</td>\n",
       "      <td>LS110143.10.12.2015GeoGreens_dn</td>\n",
       "      <td>[0.0, 0.0014728324725323874, 0.002769917049663...</td>\n",
       "      <td>44100</td>\n",
       "      <td>[[0, 0, 0, 0, 0, 0, 0, 0, 0, 0, 0, 0, 0, 0, 0,...</td>\n",
       "      <td>[6.9320498, 10.134182]</td>\n",
       "      <td>13</td>\n",
       "      <td>13|1|0|1.0|0.0|1.0|0.0|nan|nan</td>\n",
       "      <td>45</td>\n",
       "      <td>52</td>\n",
       "      <td>0</td>\n",
       "    </tr>\n",
       "    <tr>\n",
       "      <th>2</th>\n",
       "      <td>0</td>\n",
       "      <td>513.780000</td>\n",
       "      <td>517.061923</td>\n",
       "      <td>3.281923</td>\n",
       "      <td>15</td>\n",
       "      <td>2</td>\n",
       "      <td>514.170000</td>\n",
       "      <td>514.480698</td>\n",
       "      <td>0.310698</td>\n",
       "      <td>Bird5</td>\n",
       "      <td>...</td>\n",
       "      <td>LS110143.10.12.2015GeoGreens_dn</td>\n",
       "      <td>[0.0, 4.4531726447127805e-05, 4.62385657049665...</td>\n",
       "      <td>44100</td>\n",
       "      <td>[[0, 0, 0, 0, 0, 0, 0, 0, 0, 0, 0, 0, 0, 0, 0,...</td>\n",
       "      <td>[8.438871, 21.151648]</td>\n",
       "      <td>5</td>\n",
       "      <td>5|2|0|0.0|nan|nan|nan|nan|nan</td>\n",
       "      <td>143</td>\n",
       "      <td>3</td>\n",
       "      <td>0</td>\n",
       "    </tr>\n",
       "    <tr>\n",
       "      <th>3</th>\n",
       "      <td>0</td>\n",
       "      <td>513.780000</td>\n",
       "      <td>517.061923</td>\n",
       "      <td>3.281923</td>\n",
       "      <td>15</td>\n",
       "      <td>3</td>\n",
       "      <td>514.620783</td>\n",
       "      <td>515.310000</td>\n",
       "      <td>0.689217</td>\n",
       "      <td>Bird5</td>\n",
       "      <td>...</td>\n",
       "      <td>LS110143.10.12.2015GeoGreens_dn</td>\n",
       "      <td>[-0.0, -3.2631556531601904e-06, -7.44037823939...</td>\n",
       "      <td>44100</td>\n",
       "      <td>[[0, 0, 0, 0, 0, 0, 0, 0, 0, 0, 0, 0, 0, 0, 0,...</td>\n",
       "      <td>[19.637224, -5.1326833]</td>\n",
       "      <td>7</td>\n",
       "      <td>7|0|1|0.0|nan|nan|nan|nan|nan</td>\n",
       "      <td>151</td>\n",
       "      <td>20</td>\n",
       "      <td>0</td>\n",
       "    </tr>\n",
       "    <tr>\n",
       "      <th>4</th>\n",
       "      <td>0</td>\n",
       "      <td>513.780000</td>\n",
       "      <td>517.061923</td>\n",
       "      <td>3.281923</td>\n",
       "      <td>15</td>\n",
       "      <td>4</td>\n",
       "      <td>515.355217</td>\n",
       "      <td>515.660180</td>\n",
       "      <td>0.304964</td>\n",
       "      <td>Bird5</td>\n",
       "      <td>...</td>\n",
       "      <td>LS110143.10.12.2015GeoGreens_dn</td>\n",
       "      <td>[-0.0, -2.958346783314775e-05, -7.119856074752...</td>\n",
       "      <td>44100</td>\n",
       "      <td>[[0, 0, 0, 0, 0, 0, 0, 0, 0, 0, 0, 0, 0, 0, 0,...</td>\n",
       "      <td>[9.055997, -1.52321]</td>\n",
       "      <td>12</td>\n",
       "      <td>12|1|0|nan|nan|nan|nan|nan|nan</td>\n",
       "      <td>38</td>\n",
       "      <td>14</td>\n",
       "      <td>0</td>\n",
       "    </tr>\n",
       "    <tr>\n",
       "      <th>...</th>\n",
       "      <td>...</td>\n",
       "      <td>...</td>\n",
       "      <td>...</td>\n",
       "      <td>...</td>\n",
       "      <td>...</td>\n",
       "      <td>...</td>\n",
       "      <td>...</td>\n",
       "      <td>...</td>\n",
       "      <td>...</td>\n",
       "      <td>...</td>\n",
       "      <td>...</td>\n",
       "      <td>...</td>\n",
       "      <td>...</td>\n",
       "      <td>...</td>\n",
       "      <td>...</td>\n",
       "      <td>...</td>\n",
       "      <td>...</td>\n",
       "      <td>...</td>\n",
       "      <td>...</td>\n",
       "      <td>...</td>\n",
       "      <td>...</td>\n",
       "    </tr>\n",
       "    <tr>\n",
       "      <th>17325</th>\n",
       "      <td>488</td>\n",
       "      <td>3955.500491</td>\n",
       "      <td>3957.771268</td>\n",
       "      <td>2.270777</td>\n",
       "      <td>16</td>\n",
       "      <td>11</td>\n",
       "      <td>3956.827269</td>\n",
       "      <td>3956.984287</td>\n",
       "      <td>0.157018</td>\n",
       "      <td>Bird5</td>\n",
       "      <td>...</td>\n",
       "      <td>LS110146A.10.13.2015GeoGreens_dn</td>\n",
       "      <td>[-0.0, -0.0003734800289541283, -0.000744419409...</td>\n",
       "      <td>44100</td>\n",
       "      <td>[[0, 0, 0, 0, 0, 0, 0, 0, 0, 0, 0, 0, 0, 0, 0,...</td>\n",
       "      <td>[5.5191817, -9.9033375]</td>\n",
       "      <td>8</td>\n",
       "      <td>8|1|0|nan|nan|nan|nan|nan|nan</td>\n",
       "      <td>161</td>\n",
       "      <td>4</td>\n",
       "      <td>1770</td>\n",
       "    </tr>\n",
       "    <tr>\n",
       "      <th>17326</th>\n",
       "      <td>488</td>\n",
       "      <td>3955.500491</td>\n",
       "      <td>3957.771268</td>\n",
       "      <td>2.270777</td>\n",
       "      <td>16</td>\n",
       "      <td>12</td>\n",
       "      <td>3957.129954</td>\n",
       "      <td>3957.413722</td>\n",
       "      <td>0.283767</td>\n",
       "      <td>Bird5</td>\n",
       "      <td>...</td>\n",
       "      <td>LS110146A.10.13.2015GeoGreens_dn</td>\n",
       "      <td>[-0.0, -5.999877314464557e-06, -1.294964036885...</td>\n",
       "      <td>44100</td>\n",
       "      <td>[[0, 0, 0, 0, 0, 0, 0, 0, 0, 0, 0, 0, 0, 0, 0,...</td>\n",
       "      <td>[17.48298, -3.0183713]</td>\n",
       "      <td>15</td>\n",
       "      <td>15|1|0|nan|nan|nan|nan|nan|nan</td>\n",
       "      <td>81</td>\n",
       "      <td>23</td>\n",
       "      <td>1770</td>\n",
       "    </tr>\n",
       "    <tr>\n",
       "      <th>17327</th>\n",
       "      <td>488</td>\n",
       "      <td>3955.500491</td>\n",
       "      <td>3957.771268</td>\n",
       "      <td>2.270777</td>\n",
       "      <td>16</td>\n",
       "      <td>13</td>\n",
       "      <td>3957.530000</td>\n",
       "      <td>3957.576257</td>\n",
       "      <td>0.046257</td>\n",
       "      <td>Bird5</td>\n",
       "      <td>...</td>\n",
       "      <td>LS110146A.10.13.2015GeoGreens_dn</td>\n",
       "      <td>[-0.0, -0.00020799144552458053, -0.00033384171...</td>\n",
       "      <td>44100</td>\n",
       "      <td>[[0, 0, 0, 0, 0, 0, 0, 0, 0, 0, 0, 0, 0, 0, 0,...</td>\n",
       "      <td>[4.470899, -3.3807]</td>\n",
       "      <td>4</td>\n",
       "      <td>4|1|1|0.0|1.0|0.0|nan|nan|nan</td>\n",
       "      <td>138</td>\n",
       "      <td>63</td>\n",
       "      <td>1770</td>\n",
       "    </tr>\n",
       "    <tr>\n",
       "      <th>17328</th>\n",
       "      <td>488</td>\n",
       "      <td>3955.500491</td>\n",
       "      <td>3957.771268</td>\n",
       "      <td>2.270777</td>\n",
       "      <td>16</td>\n",
       "      <td>14</td>\n",
       "      <td>3957.585716</td>\n",
       "      <td>3957.644361</td>\n",
       "      <td>0.058645</td>\n",
       "      <td>Bird5</td>\n",
       "      <td>...</td>\n",
       "      <td>LS110146A.10.13.2015GeoGreens_dn</td>\n",
       "      <td>[0.0, 0.0007728977791414965, 0.000127507273682...</td>\n",
       "      <td>44100</td>\n",
       "      <td>[[0, 0, 0, 0, 0, 0, 0, 0, 0, 0, 0, 0, 0, 0, 0,...</td>\n",
       "      <td>[4.4345427, -3.3523924]</td>\n",
       "      <td>4</td>\n",
       "      <td>4|1|1|0.0|1.0|0.0|nan|nan|nan</td>\n",
       "      <td>138</td>\n",
       "      <td>63</td>\n",
       "      <td>1770</td>\n",
       "    </tr>\n",
       "    <tr>\n",
       "      <th>17329</th>\n",
       "      <td>488</td>\n",
       "      <td>3955.500491</td>\n",
       "      <td>3957.771268</td>\n",
       "      <td>2.270777</td>\n",
       "      <td>16</td>\n",
       "      <td>15</td>\n",
       "      <td>3957.652874</td>\n",
       "      <td>3957.771268</td>\n",
       "      <td>0.118394</td>\n",
       "      <td>Bird5</td>\n",
       "      <td>...</td>\n",
       "      <td>LS110146A.10.13.2015GeoGreens_dn</td>\n",
       "      <td>[0.0, 0.00011858547843942706, -0.0002786145864...</td>\n",
       "      <td>44100</td>\n",
       "      <td>[[0, 0, 0, 0, 0, 0, 0, 0, 0, 0, 0, 0, 0, 0, 0,...</td>\n",
       "      <td>[4.437637, 13.322912]</td>\n",
       "      <td>17</td>\n",
       "      <td>17|0|1|0.0|nan|nan|nan|nan|nan</td>\n",
       "      <td>89</td>\n",
       "      <td>43</td>\n",
       "      <td>1770</td>\n",
       "    </tr>\n",
       "  </tbody>\n",
       "</table>\n",
       "<p>17330 rows × 21 columns</p>\n",
       "</div>"
      ],
      "text/plain": [
       "       phrase_nb  phrase_strt   phrase_end  phrase_len  note_cnt  note_nb  \\\n",
       "0              0   513.780000   517.061923    3.281923        15        0   \n",
       "1              0   513.780000   517.061923    3.281923        15        1   \n",
       "2              0   513.780000   517.061923    3.281923        15        2   \n",
       "3              0   513.780000   517.061923    3.281923        15        3   \n",
       "4              0   513.780000   517.061923    3.281923        15        4   \n",
       "...          ...          ...          ...         ...       ...      ...   \n",
       "17325        488  3955.500491  3957.771268    2.270777        16       11   \n",
       "17326        488  3955.500491  3957.771268    2.270777        16       12   \n",
       "17327        488  3955.500491  3957.771268    2.270777        16       13   \n",
       "17328        488  3955.500491  3957.771268    2.270777        16       14   \n",
       "17329        488  3955.500491  3957.771268    2.270777        16       15   \n",
       "\n",
       "         note_strt     note_end  note_len   indv  ...  \\\n",
       "0       513.780000   513.905214  0.125214  Bird5  ...   \n",
       "1       513.917747   513.980936  0.063188  Bird5  ...   \n",
       "2       514.170000   514.480698  0.310698  Bird5  ...   \n",
       "3       514.620783   515.310000  0.689217  Bird5  ...   \n",
       "4       515.355217   515.660180  0.304964  Bird5  ...   \n",
       "...            ...          ...       ...    ...  ...   \n",
       "17325  3956.827269  3956.984287  0.157018  Bird5  ...   \n",
       "17326  3957.129954  3957.413722  0.283767  Bird5  ...   \n",
       "17327  3957.530000  3957.576257  0.046257  Bird5  ...   \n",
       "17328  3957.585716  3957.644361  0.058645  Bird5  ...   \n",
       "17329  3957.652874  3957.771268  0.118394  Bird5  ...   \n",
       "\n",
       "                                    key  \\\n",
       "0       LS110143.10.12.2015GeoGreens_dn   \n",
       "1       LS110143.10.12.2015GeoGreens_dn   \n",
       "2       LS110143.10.12.2015GeoGreens_dn   \n",
       "3       LS110143.10.12.2015GeoGreens_dn   \n",
       "4       LS110143.10.12.2015GeoGreens_dn   \n",
       "...                                 ...   \n",
       "17325  LS110146A.10.13.2015GeoGreens_dn   \n",
       "17326  LS110146A.10.13.2015GeoGreens_dn   \n",
       "17327  LS110146A.10.13.2015GeoGreens_dn   \n",
       "17328  LS110146A.10.13.2015GeoGreens_dn   \n",
       "17329  LS110146A.10.13.2015GeoGreens_dn   \n",
       "\n",
       "                                                   audio   rate  \\\n",
       "0      [-0.0, -7.356902671940375e-05, -0.000162745769...  44100   \n",
       "1      [0.0, 0.0014728324725323874, 0.002769917049663...  44100   \n",
       "2      [0.0, 4.4531726447127805e-05, 4.62385657049665...  44100   \n",
       "3      [-0.0, -3.2631556531601904e-06, -7.44037823939...  44100   \n",
       "4      [-0.0, -2.958346783314775e-05, -7.119856074752...  44100   \n",
       "...                                                  ...    ...   \n",
       "17325  [-0.0, -0.0003734800289541283, -0.000744419409...  44100   \n",
       "17326  [-0.0, -5.999877314464557e-06, -1.294964036885...  44100   \n",
       "17327  [-0.0, -0.00020799144552458053, -0.00033384171...  44100   \n",
       "17328  [0.0, 0.0007728977791414965, 0.000127507273682...  44100   \n",
       "17329  [0.0, 0.00011858547843942706, -0.0002786145864...  44100   \n",
       "\n",
       "                                             spectrogram  \\\n",
       "0      [[0, 0, 0, 0, 0, 0, 0, 0, 0, 0, 0, 0, 0, 0, 0,...   \n",
       "1      [[0, 0, 0, 0, 0, 0, 0, 0, 0, 0, 0, 0, 0, 0, 0,...   \n",
       "2      [[0, 0, 0, 0, 0, 0, 0, 0, 0, 0, 0, 0, 0, 0, 0,...   \n",
       "3      [[0, 0, 0, 0, 0, 0, 0, 0, 0, 0, 0, 0, 0, 0, 0,...   \n",
       "4      [[0, 0, 0, 0, 0, 0, 0, 0, 0, 0, 0, 0, 0, 0, 0,...   \n",
       "...                                                  ...   \n",
       "17325  [[0, 0, 0, 0, 0, 0, 0, 0, 0, 0, 0, 0, 0, 0, 0,...   \n",
       "17326  [[0, 0, 0, 0, 0, 0, 0, 0, 0, 0, 0, 0, 0, 0, 0,...   \n",
       "17327  [[0, 0, 0, 0, 0, 0, 0, 0, 0, 0, 0, 0, 0, 0, 0,...   \n",
       "17328  [[0, 0, 0, 0, 0, 0, 0, 0, 0, 0, 0, 0, 0, 0, 0,...   \n",
       "17329  [[0, 0, 0, 0, 0, 0, 0, 0, 0, 0, 0, 0, 0, 0, 0,...   \n",
       "\n",
       "                          umap hdbscan_labels                    recur_labels  \\\n",
       "0       [4.8774133, 15.248685]             16  16|1|0|nan|nan|nan|nan|nan|nan   \n",
       "1       [6.9320498, 10.134182]             13  13|1|0|1.0|0.0|1.0|0.0|nan|nan   \n",
       "2        [8.438871, 21.151648]              5   5|2|0|0.0|nan|nan|nan|nan|nan   \n",
       "3      [19.637224, -5.1326833]              7   7|0|1|0.0|nan|nan|nan|nan|nan   \n",
       "4         [9.055997, -1.52321]             12  12|1|0|nan|nan|nan|nan|nan|nan   \n",
       "...                        ...            ...                             ...   \n",
       "17325  [5.5191817, -9.9033375]              8   8|1|0|nan|nan|nan|nan|nan|nan   \n",
       "17326   [17.48298, -3.0183713]             15  15|1|0|nan|nan|nan|nan|nan|nan   \n",
       "17327      [4.470899, -3.3807]              4   4|1|1|0.0|1.0|0.0|nan|nan|nan   \n",
       "17328  [4.4345427, -3.3523924]              4   4|1|1|0.0|1.0|0.0|nan|nan|nan   \n",
       "17329    [4.437637, 13.322912]             17  17|0|1|0.0|nan|nan|nan|nan|nan   \n",
       "\n",
       "      recur_labels_id  lasso_labels  seq_id  \n",
       "0                  87            42       0  \n",
       "1                  45            52       0  \n",
       "2                 143             3       0  \n",
       "3                 151            20       0  \n",
       "4                  38            14       0  \n",
       "...               ...           ...     ...  \n",
       "17325             161             4    1770  \n",
       "17326              81            23    1770  \n",
       "17327             138            63    1770  \n",
       "17328             138            63    1770  \n",
       "17329              89            43    1770  \n",
       "\n",
       "[17330 rows x 21 columns]"
      ]
     },
     "execution_count": 2,
     "metadata": {},
     "output_type": "execute_result"
    }
   ],
   "source": [
    "## Load up Note Dataframe\n",
    "\n",
    "import pandas as pd\n",
    "from pathlib2 import Path\n",
    "\n",
    "from butcherbird.utils.paths import DATA_DIR\n",
    "\n",
    "SAVE_LOC = 'interim/fine_labels/butcherbird_note_df_'+indv+'_fine.pickle'\n",
    "SAVE_LOC = DATA_DIR / SAVE_LOC\n",
    "\n",
    "note_df = pd.read_pickle(SAVE_LOC)\n",
    "\n",
    "note_df"
   ]
  },
  {
   "cell_type": "markdown",
   "id": "380f05f4",
   "metadata": {},
   "source": [
    "## Relationship Between Pre/Post Gap and Note Length"
   ]
  },
  {
   "cell_type": "code",
   "execution_count": 3,
   "id": "a58e9775",
   "metadata": {},
   "outputs": [
    {
     "data": {
      "text/html": [
       "<div>\n",
       "<style scoped>\n",
       "    .dataframe tbody tr th:only-of-type {\n",
       "        vertical-align: middle;\n",
       "    }\n",
       "\n",
       "    .dataframe tbody tr th {\n",
       "        vertical-align: top;\n",
       "    }\n",
       "\n",
       "    .dataframe thead th {\n",
       "        text-align: right;\n",
       "    }\n",
       "</style>\n",
       "<table border=\"1\" class=\"dataframe\">\n",
       "  <thead>\n",
       "    <tr style=\"text-align: right;\">\n",
       "      <th></th>\n",
       "      <th>len</th>\n",
       "      <th>pregap</th>\n",
       "    </tr>\n",
       "  </thead>\n",
       "  <tbody>\n",
       "    <tr>\n",
       "      <th>1</th>\n",
       "      <td>0.063188</td>\n",
       "      <td>0.012533</td>\n",
       "    </tr>\n",
       "    <tr>\n",
       "      <th>2</th>\n",
       "      <td>0.310698</td>\n",
       "      <td>0.189064</td>\n",
       "    </tr>\n",
       "    <tr>\n",
       "      <th>3</th>\n",
       "      <td>0.689217</td>\n",
       "      <td>0.140085</td>\n",
       "    </tr>\n",
       "    <tr>\n",
       "      <th>4</th>\n",
       "      <td>0.304964</td>\n",
       "      <td>0.045217</td>\n",
       "    </tr>\n",
       "    <tr>\n",
       "      <th>5</th>\n",
       "      <td>0.043540</td>\n",
       "      <td>0.232055</td>\n",
       "    </tr>\n",
       "    <tr>\n",
       "      <th>...</th>\n",
       "      <td>...</td>\n",
       "      <td>...</td>\n",
       "    </tr>\n",
       "    <tr>\n",
       "      <th>17325</th>\n",
       "      <td>0.157018</td>\n",
       "      <td>0.009474</td>\n",
       "    </tr>\n",
       "    <tr>\n",
       "      <th>17326</th>\n",
       "      <td>0.283767</td>\n",
       "      <td>0.145667</td>\n",
       "    </tr>\n",
       "    <tr>\n",
       "      <th>17327</th>\n",
       "      <td>0.046257</td>\n",
       "      <td>0.116278</td>\n",
       "    </tr>\n",
       "    <tr>\n",
       "      <th>17328</th>\n",
       "      <td>0.058645</td>\n",
       "      <td>0.009459</td>\n",
       "    </tr>\n",
       "    <tr>\n",
       "      <th>17329</th>\n",
       "      <td>0.118394</td>\n",
       "      <td>0.008513</td>\n",
       "    </tr>\n",
       "  </tbody>\n",
       "</table>\n",
       "<p>17329 rows × 2 columns</p>\n",
       "</div>"
      ],
      "text/plain": [
       "            len    pregap\n",
       "1      0.063188  0.012533\n",
       "2      0.310698  0.189064\n",
       "3      0.689217  0.140085\n",
       "4      0.304964  0.045217\n",
       "5      0.043540  0.232055\n",
       "...         ...       ...\n",
       "17325  0.157018  0.009474\n",
       "17326  0.283767  0.145667\n",
       "17327  0.046257  0.116278\n",
       "17328  0.058645  0.009459\n",
       "17329  0.118394  0.008513\n",
       "\n",
       "[17329 rows x 2 columns]"
      ]
     },
     "execution_count": 3,
     "metadata": {},
     "output_type": "execute_result"
    }
   ],
   "source": [
    "note_lengths = note_df['note_len'][1:] ##do not count first note\n",
    "note_pres = note_df['note_strt'][1:].values-note_df['note_end'][:-1].values  ## minus previous note end from start\n",
    "prebiomech = pd.DataFrame({'len': note_lengths, \n",
    "                           'pregap': note_pres})\n",
    "prebiomech"
   ]
  },
  {
   "cell_type": "code",
   "execution_count": 4,
   "id": "7a8447d2",
   "metadata": {},
   "outputs": [],
   "source": [
    "import seaborn as sns\n",
    "import matplotlib.pyplot as plt\n",
    "from matplotlib.pyplot import figure\n",
    "from butcherbird.utils.paths import FIGURE_DIR"
   ]
  },
  {
   "cell_type": "code",
   "execution_count": 5,
   "id": "6a9d6a5d",
   "metadata": {},
   "outputs": [],
   "source": [
    "cleanprebiomech = prebiomech[prebiomech['pregap'] < 1]"
   ]
  },
  {
   "cell_type": "code",
   "execution_count": 6,
   "id": "cfc27e4a",
   "metadata": {},
   "outputs": [
    {
     "data": {
      "image/png": "[encoded data removed]",
      "text/plain": [
       "<Figure size 1200x900 with 1 Axes>"
      ]
     },
     "metadata": {
      "needs_background": "light"
     },
     "output_type": "display_data"
    }
   ],
   "source": [
    "figure(figsize=(4, 3), dpi = 300)\n",
    "plt.scatter(x = cleanprebiomech['len'], y = cleanprebiomech['pregap'], \n",
    "            marker = \",\", lw = 0, s = 1.5, alpha = 1, color = \"#C8247E\"\n",
    "           )\n",
    "plt.xlim([0, 0.5])\n",
    "plt.ylim([0, 0.5])\n",
    "#plt.savefig(FIGURE_DIR/'pregap.svg')\n",
    "plt.show()"
   ]
  },
  {
   "cell_type": "code",
   "execution_count": 7,
   "id": "b1295b2e",
   "metadata": {},
   "outputs": [
    {
     "data": {
      "text/html": [
       "<div>\n",
       "<style scoped>\n",
       "    .dataframe tbody tr th:only-of-type {\n",
       "        vertical-align: middle;\n",
       "    }\n",
       "\n",
       "    .dataframe tbody tr th {\n",
       "        vertical-align: top;\n",
       "    }\n",
       "\n",
       "    .dataframe thead th {\n",
       "        text-align: right;\n",
       "    }\n",
       "</style>\n",
       "<table border=\"1\" class=\"dataframe\">\n",
       "  <thead>\n",
       "    <tr style=\"text-align: right;\">\n",
       "      <th></th>\n",
       "      <th>len</th>\n",
       "      <th>postgap</th>\n",
       "    </tr>\n",
       "  </thead>\n",
       "  <tbody>\n",
       "    <tr>\n",
       "      <th>0</th>\n",
       "      <td>0.125214</td>\n",
       "      <td>0.012533</td>\n",
       "    </tr>\n",
       "    <tr>\n",
       "      <th>1</th>\n",
       "      <td>0.063188</td>\n",
       "      <td>0.189064</td>\n",
       "    </tr>\n",
       "    <tr>\n",
       "      <th>2</th>\n",
       "      <td>0.310698</td>\n",
       "      <td>0.140085</td>\n",
       "    </tr>\n",
       "    <tr>\n",
       "      <th>3</th>\n",
       "      <td>0.689217</td>\n",
       "      <td>0.045217</td>\n",
       "    </tr>\n",
       "    <tr>\n",
       "      <th>4</th>\n",
       "      <td>0.304964</td>\n",
       "      <td>0.232055</td>\n",
       "    </tr>\n",
       "    <tr>\n",
       "      <th>...</th>\n",
       "      <td>...</td>\n",
       "      <td>...</td>\n",
       "    </tr>\n",
       "    <tr>\n",
       "      <th>17324</th>\n",
       "      <td>0.032160</td>\n",
       "      <td>0.009474</td>\n",
       "    </tr>\n",
       "    <tr>\n",
       "      <th>17325</th>\n",
       "      <td>0.157018</td>\n",
       "      <td>0.145667</td>\n",
       "    </tr>\n",
       "    <tr>\n",
       "      <th>17326</th>\n",
       "      <td>0.283767</td>\n",
       "      <td>0.116278</td>\n",
       "    </tr>\n",
       "    <tr>\n",
       "      <th>17327</th>\n",
       "      <td>0.046257</td>\n",
       "      <td>0.009459</td>\n",
       "    </tr>\n",
       "    <tr>\n",
       "      <th>17328</th>\n",
       "      <td>0.058645</td>\n",
       "      <td>0.008513</td>\n",
       "    </tr>\n",
       "  </tbody>\n",
       "</table>\n",
       "<p>17329 rows × 2 columns</p>\n",
       "</div>"
      ],
      "text/plain": [
       "            len   postgap\n",
       "0      0.125214  0.012533\n",
       "1      0.063188  0.189064\n",
       "2      0.310698  0.140085\n",
       "3      0.689217  0.045217\n",
       "4      0.304964  0.232055\n",
       "...         ...       ...\n",
       "17324  0.032160  0.009474\n",
       "17325  0.157018  0.145667\n",
       "17326  0.283767  0.116278\n",
       "17327  0.046257  0.009459\n",
       "17328  0.058645  0.008513\n",
       "\n",
       "[17329 rows x 2 columns]"
      ]
     },
     "execution_count": 7,
     "metadata": {},
     "output_type": "execute_result"
    }
   ],
   "source": [
    "note_lengths = note_df['note_len'][:-1] ##do not count first note\n",
    "note_post = note_df['note_strt'][1:].values-note_df['note_end'][:-1].values  ## minus previous note end from start\n",
    "postbiomech = pd.DataFrame({'len': note_lengths, \n",
    "                           'postgap': note_post})\n",
    "postbiomech"
   ]
  },
  {
   "cell_type": "code",
   "execution_count": 8,
   "id": "854ffeb2",
   "metadata": {},
   "outputs": [
    {
     "data": {
      "text/html": [
       "<div>\n",
       "<style scoped>\n",
       "    .dataframe tbody tr th:only-of-type {\n",
       "        vertical-align: middle;\n",
       "    }\n",
       "\n",
       "    .dataframe tbody tr th {\n",
       "        vertical-align: top;\n",
       "    }\n",
       "\n",
       "    .dataframe thead th {\n",
       "        text-align: right;\n",
       "    }\n",
       "</style>\n",
       "<table border=\"1\" class=\"dataframe\">\n",
       "  <thead>\n",
       "    <tr style=\"text-align: right;\">\n",
       "      <th></th>\n",
       "      <th>len</th>\n",
       "      <th>postgap</th>\n",
       "    </tr>\n",
       "  </thead>\n",
       "  <tbody>\n",
       "    <tr>\n",
       "      <th>0</th>\n",
       "      <td>0.125214</td>\n",
       "      <td>0.012533</td>\n",
       "    </tr>\n",
       "    <tr>\n",
       "      <th>1</th>\n",
       "      <td>0.063188</td>\n",
       "      <td>0.189064</td>\n",
       "    </tr>\n",
       "    <tr>\n",
       "      <th>2</th>\n",
       "      <td>0.310698</td>\n",
       "      <td>0.140085</td>\n",
       "    </tr>\n",
       "    <tr>\n",
       "      <th>3</th>\n",
       "      <td>0.689217</td>\n",
       "      <td>0.045217</td>\n",
       "    </tr>\n",
       "    <tr>\n",
       "      <th>4</th>\n",
       "      <td>0.304964</td>\n",
       "      <td>0.232055</td>\n",
       "    </tr>\n",
       "    <tr>\n",
       "      <th>...</th>\n",
       "      <td>...</td>\n",
       "      <td>...</td>\n",
       "    </tr>\n",
       "    <tr>\n",
       "      <th>17324</th>\n",
       "      <td>0.032160</td>\n",
       "      <td>0.009474</td>\n",
       "    </tr>\n",
       "    <tr>\n",
       "      <th>17325</th>\n",
       "      <td>0.157018</td>\n",
       "      <td>0.145667</td>\n",
       "    </tr>\n",
       "    <tr>\n",
       "      <th>17326</th>\n",
       "      <td>0.283767</td>\n",
       "      <td>0.116278</td>\n",
       "    </tr>\n",
       "    <tr>\n",
       "      <th>17327</th>\n",
       "      <td>0.046257</td>\n",
       "      <td>0.009459</td>\n",
       "    </tr>\n",
       "    <tr>\n",
       "      <th>17328</th>\n",
       "      <td>0.058645</td>\n",
       "      <td>0.008513</td>\n",
       "    </tr>\n",
       "  </tbody>\n",
       "</table>\n",
       "<p>15565 rows × 2 columns</p>\n",
       "</div>"
      ],
      "text/plain": [
       "            len   postgap\n",
       "0      0.125214  0.012533\n",
       "1      0.063188  0.189064\n",
       "2      0.310698  0.140085\n",
       "3      0.689217  0.045217\n",
       "4      0.304964  0.232055\n",
       "...         ...       ...\n",
       "17324  0.032160  0.009474\n",
       "17325  0.157018  0.145667\n",
       "17326  0.283767  0.116278\n",
       "17327  0.046257  0.009459\n",
       "17328  0.058645  0.008513\n",
       "\n",
       "[15565 rows x 2 columns]"
      ]
     },
     "execution_count": 8,
     "metadata": {},
     "output_type": "execute_result"
    }
   ],
   "source": [
    "cleanpostbiomech = postbiomech[postbiomech['postgap'] < 1]\n",
    "cleanpostbiomech"
   ]
  },
  {
   "cell_type": "code",
   "execution_count": 9,
   "id": "e3d43d37",
   "metadata": {},
   "outputs": [
    {
     "data": {
      "image/png": "[encoded data removed]",
      "text/plain": [
       "<Figure size 1200x900 with 1 Axes>"
      ]
     },
     "metadata": {
      "needs_background": "light"
     },
     "output_type": "display_data"
    }
   ],
   "source": [
    "figure(figsize=(4, 3), dpi=300)\n",
    "plt.scatter(x = cleanpostbiomech['len'], y = cleanpostbiomech['postgap'], marker = \",\", lw = 0, s = 2, alpha = 1, color = '#0E2455')\n",
    "plt.xlim([0, 0.5])\n",
    "plt.ylim([0, 0.5])\n",
    "#plt.savefig(FIGURE_DIR/'postgap.svg')\n",
    "plt.show()"
   ]
  },
  {
   "cell_type": "markdown",
   "id": "4d06545d",
   "metadata": {},
   "source": [
    "## Heteroscedasticity test"
   ]
  },
  {
   "cell_type": "code",
   "execution_count": 10,
   "id": "0debf6c1",
   "metadata": {},
   "outputs": [],
   "source": [
    "from statsmodels.stats.diagnostic import het_breuschpagan\n",
    "from statsmodels.stats.diagnostic import het_white\n",
    "import pandas as pd\n",
    "import statsmodels.api as sm\n",
    "from statsmodels.formula.api import ols"
   ]
  },
  {
   "cell_type": "code",
   "execution_count": 11,
   "id": "dc2e708a",
   "metadata": {
    "scrolled": false
   },
   "outputs": [
    {
     "data": {
      "text/html": [
       "<div>\n",
       "<style scoped>\n",
       "    .dataframe tbody tr th:only-of-type {\n",
       "        vertical-align: middle;\n",
       "    }\n",
       "\n",
       "    .dataframe tbody tr th {\n",
       "        vertical-align: top;\n",
       "    }\n",
       "\n",
       "    .dataframe thead th {\n",
       "        text-align: right;\n",
       "    }\n",
       "</style>\n",
       "<table border=\"1\" class=\"dataframe\">\n",
       "  <thead>\n",
       "    <tr style=\"text-align: right;\">\n",
       "      <th></th>\n",
       "      <th>len</th>\n",
       "      <th>pregap</th>\n",
       "    </tr>\n",
       "  </thead>\n",
       "  <tbody>\n",
       "    <tr>\n",
       "      <th>1</th>\n",
       "      <td>0.063188</td>\n",
       "      <td>0.012533</td>\n",
       "    </tr>\n",
       "    <tr>\n",
       "      <th>2</th>\n",
       "      <td>0.310698</td>\n",
       "      <td>0.189064</td>\n",
       "    </tr>\n",
       "    <tr>\n",
       "      <th>3</th>\n",
       "      <td>0.689217</td>\n",
       "      <td>0.140085</td>\n",
       "    </tr>\n",
       "    <tr>\n",
       "      <th>4</th>\n",
       "      <td>0.304964</td>\n",
       "      <td>0.045217</td>\n",
       "    </tr>\n",
       "    <tr>\n",
       "      <th>5</th>\n",
       "      <td>0.043540</td>\n",
       "      <td>0.232055</td>\n",
       "    </tr>\n",
       "    <tr>\n",
       "      <th>...</th>\n",
       "      <td>...</td>\n",
       "      <td>...</td>\n",
       "    </tr>\n",
       "    <tr>\n",
       "      <th>17325</th>\n",
       "      <td>0.157018</td>\n",
       "      <td>0.009474</td>\n",
       "    </tr>\n",
       "    <tr>\n",
       "      <th>17326</th>\n",
       "      <td>0.283767</td>\n",
       "      <td>0.145667</td>\n",
       "    </tr>\n",
       "    <tr>\n",
       "      <th>17327</th>\n",
       "      <td>0.046257</td>\n",
       "      <td>0.116278</td>\n",
       "    </tr>\n",
       "    <tr>\n",
       "      <th>17328</th>\n",
       "      <td>0.058645</td>\n",
       "      <td>0.009459</td>\n",
       "    </tr>\n",
       "    <tr>\n",
       "      <th>17329</th>\n",
       "      <td>0.118394</td>\n",
       "      <td>0.008513</td>\n",
       "    </tr>\n",
       "  </tbody>\n",
       "</table>\n",
       "<p>15565 rows × 2 columns</p>\n",
       "</div>"
      ],
      "text/plain": [
       "            len    pregap\n",
       "1      0.063188  0.012533\n",
       "2      0.310698  0.189064\n",
       "3      0.689217  0.140085\n",
       "4      0.304964  0.045217\n",
       "5      0.043540  0.232055\n",
       "...         ...       ...\n",
       "17325  0.157018  0.009474\n",
       "17326  0.283767  0.145667\n",
       "17327  0.046257  0.116278\n",
       "17328  0.058645  0.009459\n",
       "17329  0.118394  0.008513\n",
       "\n",
       "[15565 rows x 2 columns]"
      ]
     },
     "execution_count": 11,
     "metadata": {},
     "output_type": "execute_result"
    }
   ],
   "source": [
    "cleanprebiomech"
   ]
  },
  {
   "cell_type": "code",
   "execution_count": 12,
   "id": "63bc60ef",
   "metadata": {},
   "outputs": [],
   "source": [
    "f ='pregap~len'\n",
    "premodel = ols(formula=f, data=cleanprebiomech).fit()"
   ]
  },
  {
   "cell_type": "code",
   "execution_count": 13,
   "id": "533d0533",
   "metadata": {},
   "outputs": [
    {
     "data": {
      "text/html": [
       "<table class=\"simpletable\">\n",
       "<caption>OLS Regression Results</caption>\n",
       "<tr>\n",
       "  <th>Dep. Variable:</th>         <td>pregap</td>      <th>  R-squared:         </th> <td>   0.000</td> \n",
       "</tr>\n",
       "<tr>\n",
       "  <th>Model:</th>                   <td>OLS</td>       <th>  Adj. R-squared:    </th> <td>  -0.000</td> \n",
       "</tr>\n",
       "<tr>\n",
       "  <th>Method:</th>             <td>Least Squares</td>  <th>  F-statistic:       </th> <td> 0.06960</td> \n",
       "</tr>\n",
       "<tr>\n",
       "  <th>Date:</th>             <td>Wed, 10 Aug 2022</td> <th>  Prob (F-statistic):</th>  <td> 0.792</td>  \n",
       "</tr>\n",
       "<tr>\n",
       "  <th>Time:</th>                 <td>17:49:59</td>     <th>  Log-Likelihood:    </th> <td> -78293.</td> \n",
       "</tr>\n",
       "<tr>\n",
       "  <th>No. Observations:</th>      <td> 15565</td>      <th>  AIC:               </th> <td>1.566e+05</td>\n",
       "</tr>\n",
       "<tr>\n",
       "  <th>Df Residuals:</th>          <td> 15563</td>      <th>  BIC:               </th> <td>1.566e+05</td>\n",
       "</tr>\n",
       "<tr>\n",
       "  <th>Df Model:</th>              <td>     1</td>      <th>                     </th>     <td> </td>    \n",
       "</tr>\n",
       "<tr>\n",
       "  <th>Covariance Type:</th>      <td>nonrobust</td>    <th>                     </th>     <td> </td>    \n",
       "</tr>\n",
       "</table>\n",
       "<table class=\"simpletable\">\n",
       "<tr>\n",
       "      <td></td>         <th>coef</th>     <th>std err</th>      <th>t</th>      <th>P>|t|</th>  <th>[0.025</th>    <th>0.975]</th>  \n",
       "</tr>\n",
       "<tr>\n",
       "  <th>Intercept</th> <td>   -0.5225</td> <td>    0.455</td> <td>   -1.148</td> <td> 0.251</td> <td>   -1.415</td> <td>    0.370</td>\n",
       "</tr>\n",
       "<tr>\n",
       "  <th>len</th>       <td>    0.7841</td> <td>    2.972</td> <td>    0.264</td> <td> 0.792</td> <td>   -5.042</td> <td>    6.610</td>\n",
       "</tr>\n",
       "</table>\n",
       "<table class=\"simpletable\">\n",
       "<tr>\n",
       "  <th>Omnibus:</th>       <td>56483.720</td> <th>  Durbin-Watson:     </th>    <td>   2.000</td>    \n",
       "</tr>\n",
       "<tr>\n",
       "  <th>Prob(Omnibus):</th>  <td> 0.000</td>   <th>  Jarque-Bera (JB):  </th> <td>22476386189.614</td>\n",
       "</tr>\n",
       "<tr>\n",
       "  <th>Skew:</th>           <td>-75.755</td>  <th>  Prob(JB):          </th>    <td>    0.00</td>    \n",
       "</tr>\n",
       "<tr>\n",
       "  <th>Kurtosis:</th>      <td>5888.054</td>  <th>  Cond. No.          </th>    <td>    10.2</td>    \n",
       "</tr>\n",
       "</table><br/><br/>Notes:<br/>[1] Standard Errors assume that the covariance matrix of the errors is correctly specified."
      ],
      "text/plain": [
       "<class 'statsmodels.iolib.summary.Summary'>\n",
       "\"\"\"\n",
       "                            OLS Regression Results                            \n",
       "==============================================================================\n",
       "Dep. Variable:                 pregap   R-squared:                       0.000\n",
       "Model:                            OLS   Adj. R-squared:                 -0.000\n",
       "Method:                 Least Squares   F-statistic:                   0.06960\n",
       "Date:                Wed, 10 Aug 2022   Prob (F-statistic):              0.792\n",
       "Time:                        17:49:59   Log-Likelihood:                -78293.\n",
       "No. Observations:               15565   AIC:                         1.566e+05\n",
       "Df Residuals:                   15563   BIC:                         1.566e+05\n",
       "Df Model:                           1                                         \n",
       "Covariance Type:            nonrobust                                         \n",
       "==============================================================================\n",
       "                 coef    std err          t      P>|t|      [0.025      0.975]\n",
       "------------------------------------------------------------------------------\n",
       "Intercept     -0.5225      0.455     -1.148      0.251      -1.415       0.370\n",
       "len            0.7841      2.972      0.264      0.792      -5.042       6.610\n",
       "==============================================================================\n",
       "Omnibus:                    56483.720   Durbin-Watson:                   2.000\n",
       "Prob(Omnibus):                  0.000   Jarque-Bera (JB):      22476386189.614\n",
       "Skew:                         -75.755   Prob(JB):                         0.00\n",
       "Kurtosis:                    5888.054   Cond. No.                         10.2\n",
       "==============================================================================\n",
       "\n",
       "Notes:\n",
       "[1] Standard Errors assume that the covariance matrix of the errors is correctly specified.\n",
       "\"\"\""
      ]
     },
     "execution_count": 13,
     "metadata": {},
     "output_type": "execute_result"
    }
   ],
   "source": [
    "premodel.summary()"
   ]
  },
  {
   "cell_type": "code",
   "execution_count": 14,
   "id": "649d4a23",
   "metadata": {},
   "outputs": [
    {
     "name": "stdout",
     "output_type": "stream",
     "text": [
      "{'LM Statistic': 0.6706221658714628, 'LM-Test p-value': 0.7151155914895886, 'F-Statistic': 0.3352608998415191, 'F-Test p-value': 0.7151566443098322}\n"
     ]
    }
   ],
   "source": [
    "labels = ['LM Statistic', 'LM-Test p-value', 'F-Statistic', 'F-Test p-value']\n",
    "prewhite = het_white(premodel.resid, premodel.model.exog)\n",
    "print(dict(zip(labels, prewhite)))"
   ]
  },
  {
   "cell_type": "code",
   "execution_count": 15,
   "id": "20c7ba3d",
   "metadata": {
    "scrolled": false
   },
   "outputs": [
    {
     "data": {
      "text/html": [
       "<div>\n",
       "<style scoped>\n",
       "    .dataframe tbody tr th:only-of-type {\n",
       "        vertical-align: middle;\n",
       "    }\n",
       "\n",
       "    .dataframe tbody tr th {\n",
       "        vertical-align: top;\n",
       "    }\n",
       "\n",
       "    .dataframe thead th {\n",
       "        text-align: right;\n",
       "    }\n",
       "</style>\n",
       "<table border=\"1\" class=\"dataframe\">\n",
       "  <thead>\n",
       "    <tr style=\"text-align: right;\">\n",
       "      <th></th>\n",
       "      <th>len</th>\n",
       "      <th>postgap</th>\n",
       "    </tr>\n",
       "  </thead>\n",
       "  <tbody>\n",
       "    <tr>\n",
       "      <th>0</th>\n",
       "      <td>0.125214</td>\n",
       "      <td>0.012533</td>\n",
       "    </tr>\n",
       "    <tr>\n",
       "      <th>1</th>\n",
       "      <td>0.063188</td>\n",
       "      <td>0.189064</td>\n",
       "    </tr>\n",
       "    <tr>\n",
       "      <th>2</th>\n",
       "      <td>0.310698</td>\n",
       "      <td>0.140085</td>\n",
       "    </tr>\n",
       "    <tr>\n",
       "      <th>3</th>\n",
       "      <td>0.689217</td>\n",
       "      <td>0.045217</td>\n",
       "    </tr>\n",
       "    <tr>\n",
       "      <th>4</th>\n",
       "      <td>0.304964</td>\n",
       "      <td>0.232055</td>\n",
       "    </tr>\n",
       "    <tr>\n",
       "      <th>...</th>\n",
       "      <td>...</td>\n",
       "      <td>...</td>\n",
       "    </tr>\n",
       "    <tr>\n",
       "      <th>17324</th>\n",
       "      <td>0.032160</td>\n",
       "      <td>0.009474</td>\n",
       "    </tr>\n",
       "    <tr>\n",
       "      <th>17325</th>\n",
       "      <td>0.157018</td>\n",
       "      <td>0.145667</td>\n",
       "    </tr>\n",
       "    <tr>\n",
       "      <th>17326</th>\n",
       "      <td>0.283767</td>\n",
       "      <td>0.116278</td>\n",
       "    </tr>\n",
       "    <tr>\n",
       "      <th>17327</th>\n",
       "      <td>0.046257</td>\n",
       "      <td>0.009459</td>\n",
       "    </tr>\n",
       "    <tr>\n",
       "      <th>17328</th>\n",
       "      <td>0.058645</td>\n",
       "      <td>0.008513</td>\n",
       "    </tr>\n",
       "  </tbody>\n",
       "</table>\n",
       "<p>15565 rows × 2 columns</p>\n",
       "</div>"
      ],
      "text/plain": [
       "            len   postgap\n",
       "0      0.125214  0.012533\n",
       "1      0.063188  0.189064\n",
       "2      0.310698  0.140085\n",
       "3      0.689217  0.045217\n",
       "4      0.304964  0.232055\n",
       "...         ...       ...\n",
       "17324  0.032160  0.009474\n",
       "17325  0.157018  0.145667\n",
       "17326  0.283767  0.116278\n",
       "17327  0.046257  0.009459\n",
       "17328  0.058645  0.008513\n",
       "\n",
       "[15565 rows x 2 columns]"
      ]
     },
     "execution_count": 15,
     "metadata": {},
     "output_type": "execute_result"
    }
   ],
   "source": [
    "cleanpostbiomech"
   ]
  },
  {
   "cell_type": "code",
   "execution_count": 16,
   "id": "b33f68bf",
   "metadata": {},
   "outputs": [],
   "source": [
    "f ='postgap~len'\n",
    "postmodel = ols(formula=f, data=cleanpostbiomech).fit()"
   ]
  },
  {
   "cell_type": "code",
   "execution_count": 17,
   "id": "86ef0ab1",
   "metadata": {},
   "outputs": [
    {
     "data": {
      "text/html": [
       "<table class=\"simpletable\">\n",
       "<caption>OLS Regression Results</caption>\n",
       "<tr>\n",
       "  <th>Dep. Variable:</th>         <td>postgap</td>     <th>  R-squared:         </th> <td>   0.000</td> \n",
       "</tr>\n",
       "<tr>\n",
       "  <th>Model:</th>                   <td>OLS</td>       <th>  Adj. R-squared:    </th> <td>  -0.000</td> \n",
       "</tr>\n",
       "<tr>\n",
       "  <th>Method:</th>             <td>Least Squares</td>  <th>  F-statistic:       </th> <td>  0.1688</td> \n",
       "</tr>\n",
       "<tr>\n",
       "  <th>Date:</th>             <td>Wed, 10 Aug 2022</td> <th>  Prob (F-statistic):</th>  <td> 0.681</td>  \n",
       "</tr>\n",
       "<tr>\n",
       "  <th>Time:</th>                 <td>17:49:59</td>     <th>  Log-Likelihood:    </th> <td> -78293.</td> \n",
       "</tr>\n",
       "<tr>\n",
       "  <th>No. Observations:</th>      <td> 15565</td>      <th>  AIC:               </th> <td>1.566e+05</td>\n",
       "</tr>\n",
       "<tr>\n",
       "  <th>Df Residuals:</th>          <td> 15563</td>      <th>  BIC:               </th> <td>1.566e+05</td>\n",
       "</tr>\n",
       "<tr>\n",
       "  <th>Df Model:</th>              <td>     1</td>      <th>                     </th>     <td> </td>    \n",
       "</tr>\n",
       "<tr>\n",
       "  <th>Covariance Type:</th>      <td>nonrobust</td>    <th>                     </th>     <td> </td>    \n",
       "</tr>\n",
       "</table>\n",
       "<table class=\"simpletable\">\n",
       "<tr>\n",
       "      <td></td>         <th>coef</th>     <th>std err</th>      <th>t</th>      <th>P>|t|</th>  <th>[0.025</th>    <th>0.975]</th>  \n",
       "</tr>\n",
       "<tr>\n",
       "  <th>Intercept</th> <td>   -0.2801</td> <td>    0.473</td> <td>   -0.592</td> <td> 0.554</td> <td>   -1.207</td> <td>    0.647</td>\n",
       "</tr>\n",
       "<tr>\n",
       "  <th>len</th>       <td>   -1.3777</td> <td>    3.353</td> <td>   -0.411</td> <td> 0.681</td> <td>   -7.950</td> <td>    5.195</td>\n",
       "</tr>\n",
       "</table>\n",
       "<table class=\"simpletable\">\n",
       "<tr>\n",
       "  <th>Omnibus:</th>       <td>56483.117</td> <th>  Durbin-Watson:     </th>    <td>   2.000</td>    \n",
       "</tr>\n",
       "<tr>\n",
       "  <th>Prob(Omnibus):</th>  <td> 0.000</td>   <th>  Jarque-Bera (JB):  </th> <td>22474349550.386</td>\n",
       "</tr>\n",
       "<tr>\n",
       "  <th>Skew:</th>           <td>-75.752</td>  <th>  Prob(JB):          </th>    <td>    0.00</td>    \n",
       "</tr>\n",
       "<tr>\n",
       "  <th>Kurtosis:</th>      <td>5887.787</td>  <th>  Cond. No.          </th>    <td>    11.4</td>    \n",
       "</tr>\n",
       "</table><br/><br/>Notes:<br/>[1] Standard Errors assume that the covariance matrix of the errors is correctly specified."
      ],
      "text/plain": [
       "<class 'statsmodels.iolib.summary.Summary'>\n",
       "\"\"\"\n",
       "                            OLS Regression Results                            \n",
       "==============================================================================\n",
       "Dep. Variable:                postgap   R-squared:                       0.000\n",
       "Model:                            OLS   Adj. R-squared:                 -0.000\n",
       "Method:                 Least Squares   F-statistic:                    0.1688\n",
       "Date:                Wed, 10 Aug 2022   Prob (F-statistic):              0.681\n",
       "Time:                        17:49:59   Log-Likelihood:                -78293.\n",
       "No. Observations:               15565   AIC:                         1.566e+05\n",
       "Df Residuals:                   15563   BIC:                         1.566e+05\n",
       "Df Model:                           1                                         \n",
       "Covariance Type:            nonrobust                                         \n",
       "==============================================================================\n",
       "                 coef    std err          t      P>|t|      [0.025      0.975]\n",
       "------------------------------------------------------------------------------\n",
       "Intercept     -0.2801      0.473     -0.592      0.554      -1.207       0.647\n",
       "len           -1.3777      3.353     -0.411      0.681      -7.950       5.195\n",
       "==============================================================================\n",
       "Omnibus:                    56483.117   Durbin-Watson:                   2.000\n",
       "Prob(Omnibus):                  0.000   Jarque-Bera (JB):      22474349550.386\n",
       "Skew:                         -75.752   Prob(JB):                         0.00\n",
       "Kurtosis:                    5887.787   Cond. No.                         11.4\n",
       "==============================================================================\n",
       "\n",
       "Notes:\n",
       "[1] Standard Errors assume that the covariance matrix of the errors is correctly specified.\n",
       "\"\"\""
      ]
     },
     "execution_count": 17,
     "metadata": {},
     "output_type": "execute_result"
    }
   ],
   "source": [
    "postmodel.summary()"
   ]
  },
  {
   "cell_type": "code",
   "execution_count": 18,
   "id": "e4a75916",
   "metadata": {},
   "outputs": [
    {
     "name": "stdout",
     "output_type": "stream",
     "text": [
      "{'LM Statistic': 0.9793699315449361, 'LM-Test p-value': 0.6128194228709989, 'F-Statistic': 0.48962139144322553, 'F-Test p-value': 0.6128678243171608}\n"
     ]
    }
   ],
   "source": [
    "labels = ['LM Statistic', 'LM-Test p-value', 'F-Statistic', 'F-Test p-value']\n",
    "postwhite = het_white(postmodel.resid, postmodel.model.exog)\n",
    "print(dict(zip(labels, postwhite)))"
   ]
  },
  {
   "cell_type": "markdown",
   "id": "339e85a5",
   "metadata": {},
   "source": [
    "## Ratio of Pre to Post as predicted by Note length"
   ]
  },
  {
   "cell_type": "code",
   "execution_count": 19,
   "id": "d643629b",
   "metadata": {},
   "outputs": [
    {
     "data": {
      "text/html": [
       "<div>\n",
       "<style scoped>\n",
       "    .dataframe tbody tr th:only-of-type {\n",
       "        vertical-align: middle;\n",
       "    }\n",
       "\n",
       "    .dataframe tbody tr th {\n",
       "        vertical-align: top;\n",
       "    }\n",
       "\n",
       "    .dataframe thead th {\n",
       "        text-align: right;\n",
       "    }\n",
       "</style>\n",
       "<table border=\"1\" class=\"dataframe\">\n",
       "  <thead>\n",
       "    <tr style=\"text-align: right;\">\n",
       "      <th></th>\n",
       "      <th>len</th>\n",
       "      <th>postgap</th>\n",
       "    </tr>\n",
       "  </thead>\n",
       "  <tbody>\n",
       "    <tr>\n",
       "      <th>1</th>\n",
       "      <td>0.063188</td>\n",
       "      <td>0.189064</td>\n",
       "    </tr>\n",
       "    <tr>\n",
       "      <th>2</th>\n",
       "      <td>0.310698</td>\n",
       "      <td>0.140085</td>\n",
       "    </tr>\n",
       "    <tr>\n",
       "      <th>3</th>\n",
       "      <td>0.689217</td>\n",
       "      <td>0.045217</td>\n",
       "    </tr>\n",
       "    <tr>\n",
       "      <th>4</th>\n",
       "      <td>0.304964</td>\n",
       "      <td>0.232055</td>\n",
       "    </tr>\n",
       "    <tr>\n",
       "      <th>5</th>\n",
       "      <td>0.043540</td>\n",
       "      <td>0.001893</td>\n",
       "    </tr>\n",
       "    <tr>\n",
       "      <th>...</th>\n",
       "      <td>...</td>\n",
       "      <td>...</td>\n",
       "    </tr>\n",
       "    <tr>\n",
       "      <th>17324</th>\n",
       "      <td>0.032160</td>\n",
       "      <td>0.009474</td>\n",
       "    </tr>\n",
       "    <tr>\n",
       "      <th>17325</th>\n",
       "      <td>0.157018</td>\n",
       "      <td>0.145667</td>\n",
       "    </tr>\n",
       "    <tr>\n",
       "      <th>17326</th>\n",
       "      <td>0.283767</td>\n",
       "      <td>0.116278</td>\n",
       "    </tr>\n",
       "    <tr>\n",
       "      <th>17327</th>\n",
       "      <td>0.046257</td>\n",
       "      <td>0.009459</td>\n",
       "    </tr>\n",
       "    <tr>\n",
       "      <th>17328</th>\n",
       "      <td>0.058645</td>\n",
       "      <td>0.008513</td>\n",
       "    </tr>\n",
       "  </tbody>\n",
       "</table>\n",
       "<p>17328 rows × 2 columns</p>\n",
       "</div>"
      ],
      "text/plain": [
       "            len   postgap\n",
       "1      0.063188  0.189064\n",
       "2      0.310698  0.140085\n",
       "3      0.689217  0.045217\n",
       "4      0.304964  0.232055\n",
       "5      0.043540  0.001893\n",
       "...         ...       ...\n",
       "17324  0.032160  0.009474\n",
       "17325  0.157018  0.145667\n",
       "17326  0.283767  0.116278\n",
       "17327  0.046257  0.009459\n",
       "17328  0.058645  0.008513\n",
       "\n",
       "[17328 rows x 2 columns]"
      ]
     },
     "execution_count": 19,
     "metadata": {},
     "output_type": "execute_result"
    }
   ],
   "source": [
    "postbiomech[1:]"
   ]
  },
  {
   "cell_type": "code",
   "execution_count": 20,
   "id": "b2bf6b0f",
   "metadata": {},
   "outputs": [
    {
     "data": {
      "text/html": [
       "<div>\n",
       "<style scoped>\n",
       "    .dataframe tbody tr th:only-of-type {\n",
       "        vertical-align: middle;\n",
       "    }\n",
       "\n",
       "    .dataframe tbody tr th {\n",
       "        vertical-align: top;\n",
       "    }\n",
       "\n",
       "    .dataframe thead th {\n",
       "        text-align: right;\n",
       "    }\n",
       "</style>\n",
       "<table border=\"1\" class=\"dataframe\">\n",
       "  <thead>\n",
       "    <tr style=\"text-align: right;\">\n",
       "      <th></th>\n",
       "      <th>len</th>\n",
       "      <th>pregap</th>\n",
       "    </tr>\n",
       "  </thead>\n",
       "  <tbody>\n",
       "    <tr>\n",
       "      <th>1</th>\n",
       "      <td>0.063188</td>\n",
       "      <td>0.012533</td>\n",
       "    </tr>\n",
       "    <tr>\n",
       "      <th>2</th>\n",
       "      <td>0.310698</td>\n",
       "      <td>0.189064</td>\n",
       "    </tr>\n",
       "    <tr>\n",
       "      <th>3</th>\n",
       "      <td>0.689217</td>\n",
       "      <td>0.140085</td>\n",
       "    </tr>\n",
       "    <tr>\n",
       "      <th>4</th>\n",
       "      <td>0.304964</td>\n",
       "      <td>0.045217</td>\n",
       "    </tr>\n",
       "    <tr>\n",
       "      <th>5</th>\n",
       "      <td>0.043540</td>\n",
       "      <td>0.232055</td>\n",
       "    </tr>\n",
       "    <tr>\n",
       "      <th>...</th>\n",
       "      <td>...</td>\n",
       "      <td>...</td>\n",
       "    </tr>\n",
       "    <tr>\n",
       "      <th>17324</th>\n",
       "      <td>0.032160</td>\n",
       "      <td>0.005675</td>\n",
       "    </tr>\n",
       "    <tr>\n",
       "      <th>17325</th>\n",
       "      <td>0.157018</td>\n",
       "      <td>0.009474</td>\n",
       "    </tr>\n",
       "    <tr>\n",
       "      <th>17326</th>\n",
       "      <td>0.283767</td>\n",
       "      <td>0.145667</td>\n",
       "    </tr>\n",
       "    <tr>\n",
       "      <th>17327</th>\n",
       "      <td>0.046257</td>\n",
       "      <td>0.116278</td>\n",
       "    </tr>\n",
       "    <tr>\n",
       "      <th>17328</th>\n",
       "      <td>0.058645</td>\n",
       "      <td>0.009459</td>\n",
       "    </tr>\n",
       "  </tbody>\n",
       "</table>\n",
       "<p>17328 rows × 2 columns</p>\n",
       "</div>"
      ],
      "text/plain": [
       "            len    pregap\n",
       "1      0.063188  0.012533\n",
       "2      0.310698  0.189064\n",
       "3      0.689217  0.140085\n",
       "4      0.304964  0.045217\n",
       "5      0.043540  0.232055\n",
       "...         ...       ...\n",
       "17324  0.032160  0.005675\n",
       "17325  0.157018  0.009474\n",
       "17326  0.283767  0.145667\n",
       "17327  0.046257  0.116278\n",
       "17328  0.058645  0.009459\n",
       "\n",
       "[17328 rows x 2 columns]"
      ]
     },
     "execution_count": 20,
     "metadata": {},
     "output_type": "execute_result"
    }
   ],
   "source": [
    "prebiomech[:-1]"
   ]
  },
  {
   "cell_type": "code",
   "execution_count": 21,
   "id": "4c293b7d",
   "metadata": {},
   "outputs": [
    {
     "name": "stderr",
     "output_type": "stream",
     "text": [
      "/tmp/ipykernel_26792/507738760.py:2: SettingWithCopyWarning: \n",
      "A value is trying to be set on a copy of a slice from a DataFrame.\n",
      "Try using .loc[row_indexer,col_indexer] = value instead\n",
      "\n",
      "See the caveats in the documentation: https://pandas.pydata.org/pandas-docs/stable/user_guide/indexing.html#returning-a-view-versus-a-copy\n",
      "  hybrid['postgap'] = postbiomech[1:]['postgap']\n"
     ]
    }
   ],
   "source": [
    "hybrid = prebiomech[:-1]\n",
    "hybrid['postgap'] = postbiomech[1:]['postgap']"
   ]
  },
  {
   "cell_type": "code",
   "execution_count": 22,
   "id": "d906f4d1",
   "metadata": {},
   "outputs": [],
   "source": [
    "hybrid_clean = hybrid\n",
    "hybrid_clean = hybrid_clean[hybrid_clean['postgap'] < 1]\n",
    "hybrid_clean = hybrid_clean[hybrid_clean['pregap'] < 1]\n",
    "hybrid_clean = hybrid_clean[hybrid_clean['postgap'] != 0]\n",
    "hybrid_clean = hybrid_clean[hybrid_clean['pregap'] != 0]"
   ]
  },
  {
   "cell_type": "code",
   "execution_count": 23,
   "id": "5fe96bd1",
   "metadata": {},
   "outputs": [
    {
     "data": {
      "text/html": [
       "<div>\n",
       "<style scoped>\n",
       "    .dataframe tbody tr th:only-of-type {\n",
       "        vertical-align: middle;\n",
       "    }\n",
       "\n",
       "    .dataframe tbody tr th {\n",
       "        vertical-align: top;\n",
       "    }\n",
       "\n",
       "    .dataframe thead th {\n",
       "        text-align: right;\n",
       "    }\n",
       "</style>\n",
       "<table border=\"1\" class=\"dataframe\">\n",
       "  <thead>\n",
       "    <tr style=\"text-align: right;\">\n",
       "      <th></th>\n",
       "      <th>len</th>\n",
       "      <th>pregap</th>\n",
       "      <th>postgap</th>\n",
       "    </tr>\n",
       "  </thead>\n",
       "  <tbody>\n",
       "    <tr>\n",
       "      <th>1</th>\n",
       "      <td>0.063188</td>\n",
       "      <td>0.012533</td>\n",
       "      <td>0.189064</td>\n",
       "    </tr>\n",
       "    <tr>\n",
       "      <th>2</th>\n",
       "      <td>0.310698</td>\n",
       "      <td>0.189064</td>\n",
       "      <td>0.140085</td>\n",
       "    </tr>\n",
       "    <tr>\n",
       "      <th>3</th>\n",
       "      <td>0.689217</td>\n",
       "      <td>0.140085</td>\n",
       "      <td>0.045217</td>\n",
       "    </tr>\n",
       "    <tr>\n",
       "      <th>4</th>\n",
       "      <td>0.304964</td>\n",
       "      <td>0.045217</td>\n",
       "      <td>0.232055</td>\n",
       "    </tr>\n",
       "    <tr>\n",
       "      <th>5</th>\n",
       "      <td>0.043540</td>\n",
       "      <td>0.232055</td>\n",
       "      <td>0.001893</td>\n",
       "    </tr>\n",
       "    <tr>\n",
       "      <th>...</th>\n",
       "      <td>...</td>\n",
       "      <td>...</td>\n",
       "      <td>...</td>\n",
       "    </tr>\n",
       "    <tr>\n",
       "      <th>17324</th>\n",
       "      <td>0.032160</td>\n",
       "      <td>0.005675</td>\n",
       "      <td>0.009474</td>\n",
       "    </tr>\n",
       "    <tr>\n",
       "      <th>17325</th>\n",
       "      <td>0.157018</td>\n",
       "      <td>0.009474</td>\n",
       "      <td>0.145667</td>\n",
       "    </tr>\n",
       "    <tr>\n",
       "      <th>17326</th>\n",
       "      <td>0.283767</td>\n",
       "      <td>0.145667</td>\n",
       "      <td>0.116278</td>\n",
       "    </tr>\n",
       "    <tr>\n",
       "      <th>17327</th>\n",
       "      <td>0.046257</td>\n",
       "      <td>0.116278</td>\n",
       "      <td>0.009459</td>\n",
       "    </tr>\n",
       "    <tr>\n",
       "      <th>17328</th>\n",
       "      <td>0.058645</td>\n",
       "      <td>0.009459</td>\n",
       "      <td>0.008513</td>\n",
       "    </tr>\n",
       "  </tbody>\n",
       "</table>\n",
       "<p>13729 rows × 3 columns</p>\n",
       "</div>"
      ],
      "text/plain": [
       "            len    pregap   postgap\n",
       "1      0.063188  0.012533  0.189064\n",
       "2      0.310698  0.189064  0.140085\n",
       "3      0.689217  0.140085  0.045217\n",
       "4      0.304964  0.045217  0.232055\n",
       "5      0.043540  0.232055  0.001893\n",
       "...         ...       ...       ...\n",
       "17324  0.032160  0.005675  0.009474\n",
       "17325  0.157018  0.009474  0.145667\n",
       "17326  0.283767  0.145667  0.116278\n",
       "17327  0.046257  0.116278  0.009459\n",
       "17328  0.058645  0.009459  0.008513\n",
       "\n",
       "[13729 rows x 3 columns]"
      ]
     },
     "execution_count": 23,
     "metadata": {},
     "output_type": "execute_result"
    }
   ],
   "source": [
    "hybrid_clean"
   ]
  },
  {
   "cell_type": "code",
   "execution_count": 24,
   "id": "316bf46c",
   "metadata": {
    "scrolled": true
   },
   "outputs": [],
   "source": [
    "hybrid_clean['ratio'] = hybrid_clean['pregap']/(hybrid_clean['pregap']+ hybrid_clean['postgap'])\n",
    "hybrid_clean['altratio'] = hybrid_clean['pregap']/(hybrid_clean['pregap']+ hybrid_clean['len'])"
   ]
  },
  {
   "cell_type": "markdown",
   "id": "c2cc0d2e",
   "metadata": {},
   "source": [
    "## find local minimum of len distribution"
   ]
  },
  {
   "cell_type": "code",
   "execution_count": 25,
   "id": "5def0ebc",
   "metadata": {},
   "outputs": [
    {
     "data": {
      "text/plain": [
       "(array([3510., 3344., 1994., 1900., 1112.,  606.,  250.,  207.,  210.,\n",
       "         193.,  139.,   68.,   48.,   41.,   33.,   22.,   20.,   13.,\n",
       "          12.,    7.]),\n",
       " array([0.00856704, 0.04271294, 0.07685884, 0.11100475, 0.14515065,\n",
       "        0.17929655, 0.21344245, 0.24758835, 0.28173425, 0.31588015,\n",
       "        0.35002605, 0.38417195, 0.41831785, 0.45246375, 0.48660965,\n",
       "        0.52075555, 0.55490145, 0.58904735, 0.62319325, 0.65733915,\n",
       "        0.69148506]),\n",
       " <BarContainer object of 20 artists>)"
      ]
     },
     "execution_count": 25,
     "metadata": {},
     "output_type": "execute_result"
    },
    {
     "data": {
      "image/png": "[encoded data removed]",
      "text/plain": [
       "<Figure size 432x288 with 1 Axes>"
      ]
     },
     "metadata": {
      "needs_background": "light"
     },
     "output_type": "display_data"
    }
   ],
   "source": [
    "plt.hist(x = hybrid_clean['len'], bins = 20)"
   ]
  },
  {
   "cell_type": "code",
   "execution_count": 26,
   "id": "5c1bb659",
   "metadata": {},
   "outputs": [
    {
     "name": "stdout",
     "output_type": "stream",
     "text": [
      "Indices of minima: (array([ 8, 16, 18, 21]),)\n",
      "Minima: [164  30  17   9]\n",
      "Indices of maxima: (array([ 1,  9, 17, 19, 22]),)\n",
      "Maxima: [3797  169   37   21   13]\n"
     ]
    }
   ],
   "source": [
    "import numpy as np\n",
    "from scipy.signal import argrelmin, argrelmax\n",
    "import matplotlib.pyplot as plt\n",
    "\n",
    "y = np.histogram(hybrid_clean['len'], bins = 25)[0]\n",
    "x = np.histogram(hybrid_clean['len'], bins = 25)[1]\n",
    "\n",
    "# find local minima and maxima\n",
    "min_idx = argrelmin(y)\n",
    "print(\"Indices of minima: {0}\".format(min_idx))\n",
    "print(\"Minima: {0}\".format(y[min_idx]))\n",
    "\n",
    "max_idx = argrelmax(y)\n",
    "print(\"Indices of maxima: {0}\".format(max_idx))\n",
    "print(\"Maxima: {0}\".format(y[max_idx]))"
   ]
  },
  {
   "cell_type": "code",
   "execution_count": 27,
   "id": "a289579e",
   "metadata": {},
   "outputs": [],
   "source": [
    "len_minimum = x[min_idx[0][-4]]\n",
    "len_minimum1 = x[min_idx[0][1]]"
   ]
  },
  {
   "cell_type": "code",
   "execution_count": 28,
   "id": "73b0acd6",
   "metadata": {},
   "outputs": [
    {
     "data": {
      "text/plain": [
       "array([0.22710081, 0.44563457, 0.50026801, 0.58221817])"
      ]
     },
     "execution_count": 28,
     "metadata": {},
     "output_type": "execute_result"
    }
   ],
   "source": [
    "x[min_idx[0]]"
   ]
  },
  {
   "cell_type": "markdown",
   "id": "43b3bbdc",
   "metadata": {},
   "source": [
    "## Plot intergap ratio predicted by note length, minima represented by the dashed line. "
   ]
  },
  {
   "cell_type": "code",
   "execution_count": 29,
   "id": "d5dfaf44",
   "metadata": {},
   "outputs": [
    {
     "data": {
      "image/png": "[encoded data removed]",
      "text/plain": [
       "<Figure size 1200x900 with 1 Axes>"
      ]
     },
     "metadata": {
      "needs_background": "light"
     },
     "output_type": "display_data"
    }
   ],
   "source": [
    "figure(figsize=(4, 3), dpi=300)\n",
    "plt.scatter(x = hybrid_clean['len'], y = hybrid_clean['ratio'], marker = \",\", lw = 0, s = 2, alpha = 1, color = '#30376B')\n",
    "plt.xlim([0, 0.7])\n",
    "plt.ylim([0, 1])\n",
    "plt.axvline(x = x[min_idx[0][-2]], label = 'axvline - full height', linestyle='--', color = '#C8247E', alpha = 1)\n",
    "plt.savefig(FIGURE_DIR/'restraint'/indv/'intergapratio_cutoff_constrained.pdf')\n",
    "plt.show()"
   ]
  },
  {
   "cell_type": "markdown",
   "id": "4b03029e",
   "metadata": {},
   "source": [
    "## test correlation?"
   ]
  },
  {
   "cell_type": "code",
   "execution_count": 30,
   "id": "745a3f3c",
   "metadata": {},
   "outputs": [],
   "source": [
    "f = 'ratio~len'\n",
    "ratiomodel = ols(formula=f, data=hybrid_clean).fit()"
   ]
  },
  {
   "cell_type": "code",
   "execution_count": 31,
   "id": "b147a692",
   "metadata": {},
   "outputs": [
    {
     "data": {
      "text/html": [
       "<table class=\"simpletable\">\n",
       "<caption>OLS Regression Results</caption>\n",
       "<tr>\n",
       "  <th>Dep. Variable:</th>          <td>ratio</td>      <th>  R-squared:         </th> <td>   0.002</td> \n",
       "</tr>\n",
       "<tr>\n",
       "  <th>Model:</th>                   <td>OLS</td>       <th>  Adj. R-squared:    </th> <td>   0.002</td> \n",
       "</tr>\n",
       "<tr>\n",
       "  <th>Method:</th>             <td>Least Squares</td>  <th>  F-statistic:       </th> <td>   26.60</td> \n",
       "</tr>\n",
       "<tr>\n",
       "  <th>Date:</th>             <td>Wed, 10 Aug 2022</td> <th>  Prob (F-statistic):</th> <td>2.54e-07</td> \n",
       "</tr>\n",
       "<tr>\n",
       "  <th>Time:</th>                 <td>17:50:01</td>     <th>  Log-Likelihood:    </th> <td> -5241.2</td> \n",
       "</tr>\n",
       "<tr>\n",
       "  <th>No. Observations:</th>      <td> 13729</td>      <th>  AIC:               </th> <td>1.049e+04</td>\n",
       "</tr>\n",
       "<tr>\n",
       "  <th>Df Residuals:</th>          <td> 13727</td>      <th>  BIC:               </th> <td>1.050e+04</td>\n",
       "</tr>\n",
       "<tr>\n",
       "  <th>Df Model:</th>              <td>     1</td>      <th>                     </th>     <td> </td>    \n",
       "</tr>\n",
       "<tr>\n",
       "  <th>Covariance Type:</th>      <td>nonrobust</td>    <th>                     </th>     <td> </td>    \n",
       "</tr>\n",
       "</table>\n",
       "<table class=\"simpletable\">\n",
       "<tr>\n",
       "      <td></td>         <th>coef</th>     <th>std err</th>      <th>t</th>      <th>P>|t|</th>  <th>[0.025</th>    <th>0.975]</th>  \n",
       "</tr>\n",
       "<tr>\n",
       "  <th>Intercept</th> <td>    0.5314</td> <td>    0.005</td> <td>  114.235</td> <td> 0.000</td> <td>    0.522</td> <td>    0.541</td>\n",
       "</tr>\n",
       "<tr>\n",
       "  <th>len</th>       <td>   -0.1725</td> <td>    0.033</td> <td>   -5.158</td> <td> 0.000</td> <td>   -0.238</td> <td>   -0.107</td>\n",
       "</tr>\n",
       "</table>\n",
       "<table class=\"simpletable\">\n",
       "<tr>\n",
       "  <th>Omnibus:</th>       <td>73696.955</td> <th>  Durbin-Watson:     </th> <td>   3.034</td> \n",
       "</tr>\n",
       "<tr>\n",
       "  <th>Prob(Omnibus):</th>  <td> 0.000</td>   <th>  Jarque-Bera (JB):  </th> <td>1407.572</td> \n",
       "</tr>\n",
       "<tr>\n",
       "  <th>Skew:</th>           <td>-0.107</td>   <th>  Prob(JB):          </th> <td>2.24e-306</td>\n",
       "</tr>\n",
       "<tr>\n",
       "  <th>Kurtosis:</th>       <td> 1.446</td>   <th>  Cond. No.          </th> <td>    11.2</td> \n",
       "</tr>\n",
       "</table><br/><br/>Notes:<br/>[1] Standard Errors assume that the covariance matrix of the errors is correctly specified."
      ],
      "text/plain": [
       "<class 'statsmodels.iolib.summary.Summary'>\n",
       "\"\"\"\n",
       "                            OLS Regression Results                            \n",
       "==============================================================================\n",
       "Dep. Variable:                  ratio   R-squared:                       0.002\n",
       "Model:                            OLS   Adj. R-squared:                  0.002\n",
       "Method:                 Least Squares   F-statistic:                     26.60\n",
       "Date:                Wed, 10 Aug 2022   Prob (F-statistic):           2.54e-07\n",
       "Time:                        17:50:01   Log-Likelihood:                -5241.2\n",
       "No. Observations:               13729   AIC:                         1.049e+04\n",
       "Df Residuals:                   13727   BIC:                         1.050e+04\n",
       "Df Model:                           1                                         \n",
       "Covariance Type:            nonrobust                                         \n",
       "==============================================================================\n",
       "                 coef    std err          t      P>|t|      [0.025      0.975]\n",
       "------------------------------------------------------------------------------\n",
       "Intercept      0.5314      0.005    114.235      0.000       0.522       0.541\n",
       "len           -0.1725      0.033     -5.158      0.000      -0.238      -0.107\n",
       "==============================================================================\n",
       "Omnibus:                    73696.955   Durbin-Watson:                   3.034\n",
       "Prob(Omnibus):                  0.000   Jarque-Bera (JB):             1407.572\n",
       "Skew:                          -0.107   Prob(JB):                    2.24e-306\n",
       "Kurtosis:                       1.446   Cond. No.                         11.2\n",
       "==============================================================================\n",
       "\n",
       "Notes:\n",
       "[1] Standard Errors assume that the covariance matrix of the errors is correctly specified.\n",
       "\"\"\""
      ]
     },
     "execution_count": 31,
     "metadata": {},
     "output_type": "execute_result"
    }
   ],
   "source": [
    "ratiomodel.summary()"
   ]
  },
  {
   "cell_type": "code",
   "execution_count": 32,
   "id": "9ac9c520",
   "metadata": {},
   "outputs": [],
   "source": [
    "filteredmodel = ols(formula=f, data = hybrid_clean[hybrid_clean['len']> len_minimum]).fit()"
   ]
  },
  {
   "cell_type": "code",
   "execution_count": 33,
   "id": "a4fa83a0",
   "metadata": {},
   "outputs": [
    {
     "data": {
      "text/html": [
       "<table class=\"simpletable\">\n",
       "<caption>OLS Regression Results</caption>\n",
       "<tr>\n",
       "  <th>Dep. Variable:</th>          <td>ratio</td>      <th>  R-squared:         </th> <td>   0.000</td>\n",
       "</tr>\n",
       "<tr>\n",
       "  <th>Model:</th>                   <td>OLS</td>       <th>  Adj. R-squared:    </th> <td>  -0.001</td>\n",
       "</tr>\n",
       "<tr>\n",
       "  <th>Method:</th>             <td>Least Squares</td>  <th>  F-statistic:       </th> <td>  0.3035</td>\n",
       "</tr>\n",
       "<tr>\n",
       "  <th>Date:</th>             <td>Wed, 10 Aug 2022</td> <th>  Prob (F-statistic):</th>  <td> 0.582</td> \n",
       "</tr>\n",
       "<tr>\n",
       "  <th>Time:</th>                 <td>17:50:01</td>     <th>  Log-Likelihood:    </th> <td>  414.71</td>\n",
       "</tr>\n",
       "<tr>\n",
       "  <th>No. Observations:</th>      <td>  1139</td>      <th>  AIC:               </th> <td>  -825.4</td>\n",
       "</tr>\n",
       "<tr>\n",
       "  <th>Df Residuals:</th>          <td>  1137</td>      <th>  BIC:               </th> <td>  -815.3</td>\n",
       "</tr>\n",
       "<tr>\n",
       "  <th>Df Model:</th>              <td>     1</td>      <th>                     </th>     <td> </td>   \n",
       "</tr>\n",
       "<tr>\n",
       "  <th>Covariance Type:</th>      <td>nonrobust</td>    <th>                     </th>     <td> </td>   \n",
       "</tr>\n",
       "</table>\n",
       "<table class=\"simpletable\">\n",
       "<tr>\n",
       "      <td></td>         <th>coef</th>     <th>std err</th>      <th>t</th>      <th>P>|t|</th>  <th>[0.025</th>    <th>0.975]</th>  \n",
       "</tr>\n",
       "<tr>\n",
       "  <th>Intercept</th> <td>    0.5322</td> <td>    0.019</td> <td>   28.311</td> <td> 0.000</td> <td>    0.495</td> <td>    0.569</td>\n",
       "</tr>\n",
       "<tr>\n",
       "  <th>len</th>       <td>    0.0291</td> <td>    0.053</td> <td>    0.551</td> <td> 0.582</td> <td>   -0.075</td> <td>    0.133</td>\n",
       "</tr>\n",
       "</table>\n",
       "<table class=\"simpletable\">\n",
       "<tr>\n",
       "  <th>Omnibus:</th>       <td>125.284</td> <th>  Durbin-Watson:     </th> <td>   2.038</td>\n",
       "</tr>\n",
       "<tr>\n",
       "  <th>Prob(Omnibus):</th> <td> 0.000</td>  <th>  Jarque-Bera (JB):  </th> <td> 231.677</td>\n",
       "</tr>\n",
       "<tr>\n",
       "  <th>Skew:</th>          <td>-0.706</td>  <th>  Prob(JB):          </th> <td>4.92e-51</td>\n",
       "</tr>\n",
       "<tr>\n",
       "  <th>Kurtosis:</th>      <td> 4.700</td>  <th>  Cond. No.          </th> <td>    11.9</td>\n",
       "</tr>\n",
       "</table><br/><br/>Notes:<br/>[1] Standard Errors assume that the covariance matrix of the errors is correctly specified."
      ],
      "text/plain": [
       "<class 'statsmodels.iolib.summary.Summary'>\n",
       "\"\"\"\n",
       "                            OLS Regression Results                            \n",
       "==============================================================================\n",
       "Dep. Variable:                  ratio   R-squared:                       0.000\n",
       "Model:                            OLS   Adj. R-squared:                 -0.001\n",
       "Method:                 Least Squares   F-statistic:                    0.3035\n",
       "Date:                Wed, 10 Aug 2022   Prob (F-statistic):              0.582\n",
       "Time:                        17:50:01   Log-Likelihood:                 414.71\n",
       "No. Observations:                1139   AIC:                            -825.4\n",
       "Df Residuals:                    1137   BIC:                            -815.3\n",
       "Df Model:                           1                                         \n",
       "Covariance Type:            nonrobust                                         \n",
       "==============================================================================\n",
       "                 coef    std err          t      P>|t|      [0.025      0.975]\n",
       "------------------------------------------------------------------------------\n",
       "Intercept      0.5322      0.019     28.311      0.000       0.495       0.569\n",
       "len            0.0291      0.053      0.551      0.582      -0.075       0.133\n",
       "==============================================================================\n",
       "Omnibus:                      125.284   Durbin-Watson:                   2.038\n",
       "Prob(Omnibus):                  0.000   Jarque-Bera (JB):              231.677\n",
       "Skew:                          -0.706   Prob(JB):                     4.92e-51\n",
       "Kurtosis:                       4.700   Cond. No.                         11.9\n",
       "==============================================================================\n",
       "\n",
       "Notes:\n",
       "[1] Standard Errors assume that the covariance matrix of the errors is correctly specified.\n",
       "\"\"\""
      ]
     },
     "execution_count": 33,
     "metadata": {},
     "output_type": "execute_result"
    }
   ],
   "source": [
    "filteredmodel.summary()"
   ]
  },
  {
   "cell_type": "markdown",
   "id": "6cc30394",
   "metadata": {},
   "source": [
    "## test heteroscedasticity"
   ]
  },
  {
   "cell_type": "code",
   "execution_count": 34,
   "id": "a6ee73ab",
   "metadata": {},
   "outputs": [
    {
     "name": "stdout",
     "output_type": "stream",
     "text": [
      "{'LM Statistic': 0.9793699315449361, 'LM-Test p-value': 0.6128194228709989, 'F-Statistic': 0.48962139144322553, 'F-Test p-value': 0.6128678243171608}\n"
     ]
    }
   ],
   "source": [
    "f = 'ratio~len'\n",
    "prop_model = ols(formula=f, data=hybrid_clean).fit()\n",
    "labels = ['LM Statistic', 'LM-Test p-value', 'F-Statistic', 'F-Test p-value']\n",
    "postwhite = het_white(postmodel.resid, postmodel.model.exog)\n",
    "print(dict(zip(labels, postwhite)))"
   ]
  },
  {
   "cell_type": "code",
   "execution_count": 35,
   "id": "4b7a0ea1",
   "metadata": {},
   "outputs": [
    {
     "data": {
      "image/png": "[encoded data removed]",
      "text/plain": [
       "<Figure size 1200x900 with 1 Axes>"
      ]
     },
     "metadata": {
      "needs_background": "light"
     },
     "output_type": "display_data"
    }
   ],
   "source": [
    "figure(figsize=(4, 3), dpi=300)\n",
    "plt.scatter(x = hybrid_clean['len'], y = hybrid_clean['ratio'], marker = \",\", lw = 0, s = 2, alpha = 1, color = '#30376B')\n",
    "plt.xlim([0, 0.7])\n",
    "plt.ylim([0, 1])\n",
    "for mini in x[min_idx[0]]:\n",
    "    plt.axvline(x = mini, label = 'axvline - full height', linestyle='--', color = '#C8247E', alpha = 1)\n",
    "plt.savefig(FIGURE_DIR/'restraint'/indv/'intergapratio_lines.pdf')\n",
    "plt.show()"
   ]
  },
  {
   "cell_type": "markdown",
   "id": "a68634ca",
   "metadata": {},
   "source": [
    "## output dyadic with len information"
   ]
  },
  {
   "cell_type": "code",
   "execution_count": 36,
   "id": "f80d1d14",
   "metadata": {},
   "outputs": [
    {
     "name": "stderr",
     "output_type": "stream",
     "text": [
      "/home/AD/j8xing/syntax_rhythm_pbb/butcherbird/rhythm.py:300: TqdmExperimentalWarning: Using `tqdm.autonotebook.tqdm` in notebook mode. Use `tqdm.tqdm` instead to force console mode (e.g. in jupyter console)\n",
      "  from tqdm.autonotebook import tqdm\n"
     ]
    }
   ],
   "source": [
    "import butcherbird.rhythm as rhythm"
   ]
  },
  {
   "cell_type": "code",
   "execution_count": 37,
   "id": "530bf614",
   "metadata": {},
   "outputs": [
    {
     "data": {
      "application/vnd.jupyter.widget-view+json": {
       "model_id": "1ac08a57024345cca8a4e8b02f7c8d07",
       "version_major": 2,
       "version_minor": 0
      },
      "text/plain": [
       "  0%|          | 0/4 [00:00<?, ?it/s]"
      ]
     },
     "metadata": {},
     "output_type": "display_data"
    },
    {
     "data": {
      "application/vnd.jupyter.widget-view+json": {
       "model_id": "3929f76a9cc84d6090215d7c5168af13",
       "version_major": 2,
       "version_minor": 0
      },
      "text/plain": [
       "  0%|          | 0/489 [00:00<?, ?it/s]"
      ]
     },
     "metadata": {},
     "output_type": "display_data"
    },
    {
     "data": {
      "application/vnd.jupyter.widget-view+json": {
       "model_id": "1ceaa8e543044fdea2fb8c4ee98331bc",
       "version_major": 2,
       "version_minor": 0
      },
      "text/plain": [
       "  0%|          | 0/489 [00:00<?, ?it/s]"
      ]
     },
     "metadata": {},
     "output_type": "display_data"
    },
    {
     "data": {
      "application/vnd.jupyter.widget-view+json": {
       "model_id": "f4b79d4ab5954975a7f0840d57f05c34",
       "version_major": 2,
       "version_minor": 0
      },
      "text/plain": [
       "  0%|          | 0/489 [00:00<?, ?it/s]"
      ]
     },
     "metadata": {},
     "output_type": "display_data"
    },
    {
     "data": {
      "application/vnd.jupyter.widget-view+json": {
       "model_id": "9317f91f97ec47e2b3c6724a42950afe",
       "version_major": 2,
       "version_minor": 0
      },
      "text/plain": [
       "  0%|          | 0/489 [00:00<?, ?it/s]"
      ]
     },
     "metadata": {},
     "output_type": "display_data"
    }
   ],
   "source": [
    "dyadic = rhythm.construct_rhythm_df(note_df, 'lasso_labels')"
   ]
  },
  {
   "cell_type": "code",
   "execution_count": 38,
   "id": "90ae5ff4",
   "metadata": {},
   "outputs": [
    {
     "data": {
      "text/html": [
       "<div>\n",
       "<style scoped>\n",
       "    .dataframe tbody tr th:only-of-type {\n",
       "        vertical-align: middle;\n",
       "    }\n",
       "\n",
       "    .dataframe tbody tr th {\n",
       "        vertical-align: top;\n",
       "    }\n",
       "\n",
       "    .dataframe thead th {\n",
       "        text-align: right;\n",
       "    }\n",
       "</style>\n",
       "<table border=\"1\" class=\"dataframe\">\n",
       "  <thead>\n",
       "    <tr style=\"text-align: right;\">\n",
       "      <th></th>\n",
       "      <th>intervals1</th>\n",
       "      <th>intervals2</th>\n",
       "      <th>label1</th>\n",
       "      <th>label2</th>\n",
       "      <th>label3</th>\n",
       "      <th>len1</th>\n",
       "      <th>len2</th>\n",
       "      <th>len3</th>\n",
       "      <th>s_interval</th>\n",
       "      <th>l_interval</th>\n",
       "      <th>cycle_dur</th>\n",
       "      <th>ratio_roeske</th>\n",
       "      <th>ratio_custom</th>\n",
       "      <th>cycle_rank</th>\n",
       "    </tr>\n",
       "  </thead>\n",
       "  <tbody>\n",
       "    <tr>\n",
       "      <th>0</th>\n",
       "      <td>0.047763</td>\n",
       "      <td>0.124941</td>\n",
       "      <td>13</td>\n",
       "      <td>6</td>\n",
       "      <td>55</td>\n",
       "      <td>0.036404</td>\n",
       "      <td>0.056791</td>\n",
       "      <td>0.048030</td>\n",
       "      <td>0.047763</td>\n",
       "      <td>0.124941</td>\n",
       "      <td>0.172703</td>\n",
       "      <td>0.276559</td>\n",
       "      <td>0.382283</td>\n",
       "      <td>1</td>\n",
       "    </tr>\n",
       "    <tr>\n",
       "      <th>1</th>\n",
       "      <td>0.124941</td>\n",
       "      <td>0.053709</td>\n",
       "      <td>6</td>\n",
       "      <td>55</td>\n",
       "      <td>46</td>\n",
       "      <td>0.056791</td>\n",
       "      <td>0.048030</td>\n",
       "      <td>0.124237</td>\n",
       "      <td>0.053709</td>\n",
       "      <td>0.124941</td>\n",
       "      <td>0.178649</td>\n",
       "      <td>0.699363</td>\n",
       "      <td>0.429873</td>\n",
       "      <td>2</td>\n",
       "    </tr>\n",
       "    <tr>\n",
       "      <th>2</th>\n",
       "      <td>0.053709</td>\n",
       "      <td>0.192387</td>\n",
       "      <td>55</td>\n",
       "      <td>46</td>\n",
       "      <td>40</td>\n",
       "      <td>0.048030</td>\n",
       "      <td>0.124237</td>\n",
       "      <td>0.208234</td>\n",
       "      <td>0.053709</td>\n",
       "      <td>0.192387</td>\n",
       "      <td>0.246095</td>\n",
       "      <td>0.218243</td>\n",
       "      <td>0.279171</td>\n",
       "      <td>3</td>\n",
       "    </tr>\n",
       "    <tr>\n",
       "      <th>3</th>\n",
       "      <td>0.142577</td>\n",
       "      <td>0.114876</td>\n",
       "      <td>13</td>\n",
       "      <td>6</td>\n",
       "      <td>23</td>\n",
       "      <td>0.068149</td>\n",
       "      <td>0.055474</td>\n",
       "      <td>0.151443</td>\n",
       "      <td>0.114876</td>\n",
       "      <td>0.142577</td>\n",
       "      <td>0.257453</td>\n",
       "      <td>0.553798</td>\n",
       "      <td>0.805713</td>\n",
       "      <td>4</td>\n",
       "    </tr>\n",
       "    <tr>\n",
       "      <th>4</th>\n",
       "      <td>0.255124</td>\n",
       "      <td>0.047763</td>\n",
       "      <td>23</td>\n",
       "      <td>13</td>\n",
       "      <td>6</td>\n",
       "      <td>0.151443</td>\n",
       "      <td>0.036404</td>\n",
       "      <td>0.056791</td>\n",
       "      <td>0.047763</td>\n",
       "      <td>0.255124</td>\n",
       "      <td>0.302886</td>\n",
       "      <td>0.842308</td>\n",
       "      <td>0.187214</td>\n",
       "      <td>5</td>\n",
       "    </tr>\n",
       "    <tr>\n",
       "      <th>...</th>\n",
       "      <td>...</td>\n",
       "      <td>...</td>\n",
       "      <td>...</td>\n",
       "      <td>...</td>\n",
       "      <td>...</td>\n",
       "      <td>...</td>\n",
       "      <td>...</td>\n",
       "      <td>...</td>\n",
       "      <td>...</td>\n",
       "      <td>...</td>\n",
       "      <td>...</td>\n",
       "      <td>...</td>\n",
       "      <td>...</td>\n",
       "      <td>...</td>\n",
       "    </tr>\n",
       "    <tr>\n",
       "      <th>13784</th>\n",
       "      <td>0.041634</td>\n",
       "      <td>0.302685</td>\n",
       "      <td>8</td>\n",
       "      <td>4</td>\n",
       "      <td>23</td>\n",
       "      <td>0.032160</td>\n",
       "      <td>0.157018</td>\n",
       "      <td>0.283767</td>\n",
       "      <td>0.041634</td>\n",
       "      <td>0.302685</td>\n",
       "      <td>0.344319</td>\n",
       "      <td>0.120918</td>\n",
       "      <td>0.137550</td>\n",
       "      <td>10</td>\n",
       "    </tr>\n",
       "    <tr>\n",
       "      <th>13785</th>\n",
       "      <td>0.065266</td>\n",
       "      <td>0.279984</td>\n",
       "      <td>55</td>\n",
       "      <td>23</td>\n",
       "      <td>49</td>\n",
       "      <td>0.036890</td>\n",
       "      <td>0.140938</td>\n",
       "      <td>0.036890</td>\n",
       "      <td>0.065266</td>\n",
       "      <td>0.279984</td>\n",
       "      <td>0.345250</td>\n",
       "      <td>0.189041</td>\n",
       "      <td>0.233108</td>\n",
       "      <td>11</td>\n",
       "    </tr>\n",
       "    <tr>\n",
       "      <th>13786</th>\n",
       "      <td>0.177827</td>\n",
       "      <td>0.251607</td>\n",
       "      <td>51</td>\n",
       "      <td>40</td>\n",
       "      <td>8</td>\n",
       "      <td>0.117290</td>\n",
       "      <td>0.217555</td>\n",
       "      <td>0.032160</td>\n",
       "      <td>0.177827</td>\n",
       "      <td>0.251607</td>\n",
       "      <td>0.429434</td>\n",
       "      <td>0.414097</td>\n",
       "      <td>0.706767</td>\n",
       "      <td>12</td>\n",
       "    </tr>\n",
       "    <tr>\n",
       "      <th>13787</th>\n",
       "      <td>0.400046</td>\n",
       "      <td>0.055716</td>\n",
       "      <td>23</td>\n",
       "      <td>63</td>\n",
       "      <td>63</td>\n",
       "      <td>0.283767</td>\n",
       "      <td>0.046257</td>\n",
       "      <td>0.058645</td>\n",
       "      <td>0.055716</td>\n",
       "      <td>0.400046</td>\n",
       "      <td>0.455762</td>\n",
       "      <td>0.877752</td>\n",
       "      <td>0.139274</td>\n",
       "      <td>13</td>\n",
       "    </tr>\n",
       "    <tr>\n",
       "      <th>13788</th>\n",
       "      <td>0.302685</td>\n",
       "      <td>0.400046</td>\n",
       "      <td>4</td>\n",
       "      <td>23</td>\n",
       "      <td>63</td>\n",
       "      <td>0.157018</td>\n",
       "      <td>0.283767</td>\n",
       "      <td>0.046257</td>\n",
       "      <td>0.302685</td>\n",
       "      <td>0.400046</td>\n",
       "      <td>0.702731</td>\n",
       "      <td>0.430727</td>\n",
       "      <td>0.756626</td>\n",
       "      <td>14</td>\n",
       "    </tr>\n",
       "  </tbody>\n",
       "</table>\n",
       "<p>13789 rows × 14 columns</p>\n",
       "</div>"
      ],
      "text/plain": [
       "       intervals1  intervals2  label1  label2  label3      len1      len2  \\\n",
       "0        0.047763    0.124941      13       6      55  0.036404  0.056791   \n",
       "1        0.124941    0.053709       6      55      46  0.056791  0.048030   \n",
       "2        0.053709    0.192387      55      46      40  0.048030  0.124237   \n",
       "3        0.142577    0.114876      13       6      23  0.068149  0.055474   \n",
       "4        0.255124    0.047763      23      13       6  0.151443  0.036404   \n",
       "...           ...         ...     ...     ...     ...       ...       ...   \n",
       "13784    0.041634    0.302685       8       4      23  0.032160  0.157018   \n",
       "13785    0.065266    0.279984      55      23      49  0.036890  0.140938   \n",
       "13786    0.177827    0.251607      51      40       8  0.117290  0.217555   \n",
       "13787    0.400046    0.055716      23      63      63  0.283767  0.046257   \n",
       "13788    0.302685    0.400046       4      23      63  0.157018  0.283767   \n",
       "\n",
       "           len3  s_interval  l_interval  cycle_dur  ratio_roeske  \\\n",
       "0      0.048030    0.047763    0.124941   0.172703      0.276559   \n",
       "1      0.124237    0.053709    0.124941   0.178649      0.699363   \n",
       "2      0.208234    0.053709    0.192387   0.246095      0.218243   \n",
       "3      0.151443    0.114876    0.142577   0.257453      0.553798   \n",
       "4      0.056791    0.047763    0.255124   0.302886      0.842308   \n",
       "...         ...         ...         ...        ...           ...   \n",
       "13784  0.283767    0.041634    0.302685   0.344319      0.120918   \n",
       "13785  0.036890    0.065266    0.279984   0.345250      0.189041   \n",
       "13786  0.032160    0.177827    0.251607   0.429434      0.414097   \n",
       "13787  0.058645    0.055716    0.400046   0.455762      0.877752   \n",
       "13788  0.046257    0.302685    0.400046   0.702731      0.430727   \n",
       "\n",
       "       ratio_custom  cycle_rank  \n",
       "0          0.382283           1  \n",
       "1          0.429873           2  \n",
       "2          0.279171           3  \n",
       "3          0.805713           4  \n",
       "4          0.187214           5  \n",
       "...             ...         ...  \n",
       "13784      0.137550          10  \n",
       "13785      0.233108          11  \n",
       "13786      0.706767          12  \n",
       "13787      0.139274          13  \n",
       "13788      0.756626          14  \n",
       "\n",
       "[13789 rows x 14 columns]"
      ]
     },
     "execution_count": 38,
     "metadata": {},
     "output_type": "execute_result"
    }
   ],
   "source": [
    "dyadic"
   ]
  },
  {
   "cell_type": "code",
   "execution_count": 39,
   "id": "b6227785",
   "metadata": {},
   "outputs": [],
   "source": [
    "n = 1000"
   ]
  },
  {
   "cell_type": "markdown",
   "id": "919e2a53",
   "metadata": {},
   "source": [
    "## Calculate Uniform Rhythm\n",
    "> Uniform rhythm is calculated under the assumption that interval lengths are uniformly distributed between a minimum and maximum interval length.  "
   ]
  },
  {
   "cell_type": "code",
   "execution_count": 40,
   "id": "88974449",
   "metadata": {},
   "outputs": [],
   "source": [
    "import numpy as np\n",
    "import numpy.random as random"
   ]
  },
  {
   "cell_type": "code",
   "execution_count": 41,
   "id": "1acdacdc",
   "metadata": {},
   "outputs": [],
   "source": [
    "interval_min = np.min([dyadic['intervals1'].values, dyadic['intervals2']])\n",
    "interval_max = np.max([dyadic['intervals1'].values, dyadic['intervals2']])"
   ]
  },
  {
   "cell_type": "code",
   "execution_count": 42,
   "id": "816ef432",
   "metadata": {},
   "outputs": [],
   "source": [
    "interval1_uni = random.uniform(low = interval_min, high = interval_max, size = len(dyadic) * n)\n",
    "interval2_uni = random.uniform(low = interval_min, high = interval_max, size = len(dyadic) * n)\n",
    "uni_ratio = interval1_uni / (interval1_uni + interval2_uni)"
   ]
  },
  {
   "cell_type": "code",
   "execution_count": 43,
   "id": "74658e4e",
   "metadata": {},
   "outputs": [
    {
     "data": {
      "text/plain": [
       "<AxesSubplot:ylabel='Count'>"
      ]
     },
     "execution_count": 43,
     "metadata": {},
     "output_type": "execute_result"
    },
    {
     "data": {
      "image/png": "[encoded data removed]",
      "text/plain": [
       "<Figure size 432x288 with 1 Axes>"
      ]
     },
     "metadata": {
      "needs_background": "light"
     },
     "output_type": "display_data"
    }
   ],
   "source": [
    "sns.histplot(uni_ratio)"
   ]
  },
  {
   "cell_type": "markdown",
   "id": "7c1d3bd8",
   "metadata": {},
   "source": [
    "## Calculate Shuffled IOI Rhythm\n",
    "> Shuffled rhythm is calculated under the assumption that interval lengths are bootstrapped from the empirical distribution, but the consecutive order of intervals are shuffled. "
   ]
  },
  {
   "cell_type": "code",
   "execution_count": 44,
   "id": "b4e9e3c5",
   "metadata": {},
   "outputs": [],
   "source": [
    "df_sf = []\n",
    "for i in np.arange(0, n):\n",
    "    interval1_sf = dyadic['intervals1'].sample(frac = 1, replace = True).values\n",
    "    interval2_sf = dyadic['intervals2'].sample(frac = 1, replace = True).values\n",
    "    df_sf.append(interval1_sf / (interval1_sf + interval2_sf))"
   ]
  },
  {
   "cell_type": "code",
   "execution_count": 45,
   "id": "492b68d9",
   "metadata": {},
   "outputs": [],
   "source": [
    "sf_ratio = np.array(df_sf).flatten()"
   ]
  },
  {
   "cell_type": "code",
   "execution_count": 46,
   "id": "e475ed22",
   "metadata": {},
   "outputs": [
    {
     "data": {
      "text/plain": [
       "<AxesSubplot:ylabel='Count'>"
      ]
     },
     "execution_count": 46,
     "metadata": {},
     "output_type": "execute_result"
    },
    {
     "data": {
      "image/png": "[encoded data removed]",
      "text/plain": [
       "<Figure size 432x288 with 1 Axes>"
      ]
     },
     "metadata": {
      "needs_background": "light"
     },
     "output_type": "display_data"
    }
   ],
   "source": [
    "sns.histplot(sf_ratio)"
   ]
  },
  {
   "cell_type": "markdown",
   "id": "f4ef0b1f",
   "metadata": {},
   "source": [
    "## Calculate Shuffled Note + Gap\n",
    "> Shuffled Note + Gap rhythm is calculated under the assumption that note length and inter-note gaps are independently shuffled."
   ]
  },
  {
   "cell_type": "code",
   "execution_count": 47,
   "id": "98e19bef",
   "metadata": {},
   "outputs": [],
   "source": [
    "import numpy.random as random"
   ]
  },
  {
   "cell_type": "code",
   "execution_count": 48,
   "id": "e86b6c7d",
   "metadata": {},
   "outputs": [],
   "source": [
    "# find all gaps and their positions\n",
    "grand_gaps = []\n",
    "\n",
    "for phrase_nb in np.unique(note_df['phrase_nb']):\n",
    "    ## pull out each phrase\n",
    "    phrase = note_df[note_df['phrase_nb'] == phrase_nb]\n",
    "\n",
    "        ## find all internote gaps\n",
    "    gaps = phrase['note_strt'][1:].values - phrase['note_end'][:-1].values\n",
    "    grand_gaps.append(gaps)\n",
    "    \n",
    "grand_gaps = np.hstack(grand_gaps)\n",
    "grand_gaps = grand_gaps[grand_gaps < 10]## gaps that are more than 10 seconds long are noise\n",
    "grand_gaps = grand_gaps[grand_gaps > 0]## gaps shouldn't be negative"
   ]
  },
  {
   "cell_type": "code",
   "execution_count": 49,
   "id": "619fa531",
   "metadata": {},
   "outputs": [],
   "source": [
    "df_lg = []\n",
    "\n",
    "for i in np.arange(0, n):\n",
    "    ## randomly shuffle gaps\n",
    "    random.shuffle(grand_gaps)\n",
    "    ## add to randomly shuffled lengths\n",
    "    shuffled_lg = grand_gaps + note_df['note_len'].sample(n = len(grand_gaps), replace = True).values\n",
    "    \n",
    "    shuffled_lg_i1 = shuffled_lg[:-1]\n",
    "    shuffled_lg_i2 = shuffled_lg[1:]\n",
    "    \n",
    "    df_lg.append(shuffled_lg_i1 / (shuffled_lg_i1 + shuffled_lg_i2))"
   ]
  },
  {
   "cell_type": "code",
   "execution_count": 50,
   "id": "f586fa7e",
   "metadata": {},
   "outputs": [],
   "source": [
    "lg_ratio = np.hstack(df_lg)"
   ]
  },
  {
   "cell_type": "code",
   "execution_count": 51,
   "id": "85ca084c",
   "metadata": {},
   "outputs": [
    {
     "data": {
      "text/plain": [
       "<AxesSubplot:ylabel='Count'>"
      ]
     },
     "execution_count": 51,
     "metadata": {},
     "output_type": "execute_result"
    },
    {
     "data": {
      "image/png": "[encoded data removed]",
      "text/plain": [
       "<Figure size 432x288 with 1 Axes>"
      ]
     },
     "metadata": {
      "needs_background": "light"
     },
     "output_type": "display_data"
    }
   ],
   "source": [
    "sns.histplot(lg_ratio)"
   ]
  },
  {
   "cell_type": "markdown",
   "id": "ccc2f5f7",
   "metadata": {},
   "source": [
    "## Output each dyadic below stratum, output its hopkins statistic, save a plot"
   ]
  },
  {
   "cell_type": "code",
   "execution_count": 52,
   "id": "0a47c834",
   "metadata": {},
   "outputs": [],
   "source": [
    "import butcherbird.rhythm\n",
    "from tqdm.autonotebook import tqdm"
   ]
  },
  {
   "cell_type": "code",
   "execution_count": null,
   "id": "8d353dfe",
   "metadata": {
    "scrolled": false
   },
   "outputs": [
    {
     "name": "stdout",
     "output_type": "stream",
     "text": [
      "Currently Processing below \n",
      "0.22710080727616513\n"
     ]
    },
    {
     "data": {
      "application/vnd.jupyter.widget-view+json": {
       "model_id": "26e3edbd61914227a7fdeb4cf14bf39f",
       "version_major": 2,
       "version_minor": 0
      },
      "text/plain": [
       "  0%|          | 0/100 [00:00<?, ?it/s]"
      ]
     },
     "metadata": {},
     "output_type": "display_data"
    }
   ],
   "source": [
    "hopkins = []\n",
    "\n",
    "## for each local minimum\n",
    "for local_min in x[min_idx[0]]:\n",
    "    \n",
    "    print('Currently Processing below ')\n",
    "    print(local_min)\n",
    "    \n",
    "    filtered_dyadic = dyadic[dyadic['len1'] < local_min]\n",
    "    filtered_dyadic = filtered_dyadic[filtered_dyadic['len2'] < local_min]\n",
    "    filtered_dyadic = filtered_dyadic[filtered_dyadic['len3'] < local_min]\n",
    "    \n",
    "    ## Get Sampling Distribution of Hopkins Statistics\n",
    "    SDoH = []\n",
    "    for i in tqdm(range(0, 100)):\n",
    "        SDoH.append(butcherbird.rhythm.hopkins(filtered_dyadic[['ratio_roeske']]))\n",
    "    \n",
    "    hopkins.append(np.mean(SDoH))\n",
    "    \n",
    "    ## plot\n",
    "    figure(figsize = (4, 3), dpi = 300)\n",
    "\n",
    "    plt.rcParams['patch.edgecolor'] = 'none'\n",
    "\n",
    "    fig = sns.histplot(\n",
    "        x = filtered_dyadic['ratio_roeske'],\n",
    "        binwidth = 0.01,\n",
    "        stat = 'density',\n",
    "        color = '#A3E301',\n",
    "        fill = '#A3E301',\n",
    "        kde = True,\n",
    "    )\n",
    "\n",
    "    ## calculate uniform\n",
    "    interval_min = np.min([filtered_dyadic['intervals1'].values, filtered_dyadic['intervals2']])\n",
    "    interval_max = np.max([filtered_dyadic['intervals1'].values, filtered_dyadic['intervals2']])\n",
    "    interval1_uni = random.uniform(low = interval_min, high = interval_max, size = len(filtered_dyadic) * n)\n",
    "    interval2_uni = random.uniform(low = interval_min, high = interval_max, size = len(filtered_dyadic) * n)\n",
    "    uni_ratio = interval1_uni / (interval1_uni + interval2_uni)\n",
    "    \n",
    "    uni = sns.histplot(\n",
    "        x = uni_ratio,\n",
    "        stat = 'density',\n",
    "        alpha = 0,\n",
    "        color = '#FC6983',\n",
    "        kde = True,\n",
    "        line_kws = dict(linestyle = 'dashed')\n",
    "    )\n",
    "\n",
    "    '''## calculate shuffle\n",
    "    \n",
    "    df_sf = []\n",
    "    for i in np.arange(0, n):\n",
    "        interval1_sf = filtered_dyadic['intervals1'].sample(frac = 1, replace = True).values\n",
    "        interval2_sf = filtered_dyadic['intervals2'].sample(frac = 1, replace = True).values\n",
    "        df_sf.append(interval1_sf / (interval1_sf + interval2_sf))\n",
    "    \n",
    "    sf_ratio = np.array(df_sf).flatten()\n",
    "    \n",
    "    sf = sns.histplot(\n",
    "        x = sf_ratio,\n",
    "        stat = 'density',\n",
    "        alpha = 0,\n",
    "        color = '#1DB6AB',\n",
    "        kde = True,\n",
    "        line_kws = dict(linestyle = 'dashed')\n",
    "    )\n",
    "    \n",
    "    ## calculate len+gap\n",
    "    \n",
    "    # find all gaps and their positions\n",
    "    grand_gaps = []\n",
    "\n",
    "    filtered_note_df = note_df[note_df['note_len'] < local_min]\n",
    "    \n",
    "    for phrase_nb in np.unique(filtered_note_df['phrase_nb']):\n",
    "        ## pull out each phrase\n",
    "        phrase = filtered_note_df[filtered_note_df['phrase_nb'] == phrase_nb]\n",
    "\n",
    "            ## find all internote gaps\n",
    "        gaps = phrase['note_strt'][1:].values - phrase['note_end'][:-1].values\n",
    "        grand_gaps.append(gaps)\n",
    "\n",
    "    grand_gaps = np.hstack(grand_gaps)\n",
    "    grand_gaps = grand_gaps[grand_gaps < 10] ## gaps that are more than 10 seconds long are noise\n",
    "    \n",
    "    df_lg = []\n",
    "\n",
    "    for i in np.arange(0, n):\n",
    "        ## randomly shuffle gaps\n",
    "        random.shuffle(grand_gaps)\n",
    "        ## add to randomly shuffled lengths\n",
    "        shuffled_lg = grand_gaps + filtered_note_df['note_len'].sample(n = len(grand_gaps), replace = True).values\n",
    "\n",
    "        shuffled_lg_i1 = shuffled_lg[:-1]\n",
    "        shuffled_lg_i2 = shuffled_lg[1:]\n",
    "\n",
    "        df_lg.append(shuffled_lg_i1 / (shuffled_lg_i1 + shuffled_lg_i2))\n",
    "        \n",
    "    lg_ratio = np.hstack(df_lg)\n",
    "    \n",
    "    lg = sns.histplot(\n",
    "        x = lg_ratio,\n",
    "        stat = 'density',\n",
    "        alpha = 0,\n",
    "        color = '#15215B',\n",
    "        kde = True,\n",
    "        line_kws = dict(linestyle = 'dashed')\n",
    "    )'''\n",
    "\n",
    "    ax = plt.gca()\n",
    "    ax.set_xlim([0, 1])\n",
    "    plt.xticks(np.arange(0, 1.25, 0.25))\n",
    "\n",
    "    ax.set_title('rhythms containing lengths '+'<'+str(np.round(local_min, 3)) + ' seconds')\n",
    "    \n",
    "    \n",
    "    \n",
    "    # save\n",
    "    figname = 'fig1_' + 'categorical_rhythm_filtered' + indv + str(np.round(local_min, 3)) + '.pdf'\n",
    "    plt.savefig(FIGURE_DIR/'restraint'/indv/figname)\n",
    "    \n",
    "    plt.show()"
   ]
  },
  {
   "cell_type": "code",
   "execution_count": null,
   "id": "f4f96a61",
   "metadata": {},
   "outputs": [],
   "source": [
    "## Special Treatment fo 0.500"
   ]
  },
  {
   "cell_type": "code",
   "execution_count": null,
   "id": "6f208e85",
   "metadata": {},
   "outputs": [],
   "source": [
    "hopkins"
   ]
  },
  {
   "cell_type": "code",
   "execution_count": null,
   "id": "53886a08",
   "metadata": {},
   "outputs": [],
   "source": [
    "local_min = x[min_idx[0]][-2]\n",
    "local_min"
   ]
  },
  {
   "cell_type": "code",
   "execution_count": null,
   "id": "e5bbaf1e",
   "metadata": {},
   "outputs": [],
   "source": [
    "filtered_dyadic = dyadic[dyadic['len1'] < local_min]\n",
    "filtered_dyadic = filtered_dyadic[filtered_dyadic['len2'] < local_min]\n",
    "filtered_dyadic = filtered_dyadic[filtered_dyadic['len3'] < local_min]"
   ]
  },
  {
   "cell_type": "code",
   "execution_count": null,
   "id": "4e35b944",
   "metadata": {},
   "outputs": [],
   "source": [
    "dyadic"
   ]
  },
  {
   "cell_type": "code",
   "execution_count": null,
   "id": "d0c6e2aa",
   "metadata": {},
   "outputs": [],
   "source": [
    "filtered_dyadic"
   ]
  },
  {
   "cell_type": "code",
   "execution_count": null,
   "id": "8d52934b",
   "metadata": {},
   "outputs": [],
   "source": [
    "## what proportion of rhythm is taken out when taking out lengths > 0.365\n",
    "1 - len(filtered_dyadic)/len(dyadic)"
   ]
  },
  {
   "cell_type": "code",
   "execution_count": null,
   "id": "7df58a23",
   "metadata": {},
   "outputs": [],
   "source": [
    "len(note_df[note_df['note_len'] > local_min]) / len(note_df)"
   ]
  }
 ],
 "metadata": {
  "kernelspec": {
   "display_name": "pbb",
   "language": "python",
   "name": "pbb"
  },
  "language_info": {
   "codemirror_mode": {
    "name": "ipython",
    "version": 3
   },
   "file_extension": ".py",
   "mimetype": "text/x-python",
   "name": "python",
   "nbconvert_exporter": "python",
   "pygments_lexer": "ipython3",
   "version": "3.10.0"
  }
 },
 "nbformat": 4,
 "nbformat_minor": 5
}
