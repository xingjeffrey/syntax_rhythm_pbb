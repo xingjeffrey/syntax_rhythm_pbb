{
 "cells": [
  {
   "cell_type": "markdown",
   "id": "9549e7c0",
   "metadata": {},
   "source": [
    "***\n",
    "# 2.1 Phrase rhythm for Bird 26\n",
    "### JX, 03/08/2022\n",
    "***\n",
    "    Bird26:\n",
    "    LS110395.9.28.2017PalmRagonesi.WAV\n",
    "    \n",
    "***"
   ]
  },
  {
   "cell_type": "markdown",
   "id": "fffff910",
   "metadata": {},
   "source": [
    "## Specify Locations"
   ]
  },
  {
   "cell_type": "code",
   "execution_count": 1,
   "id": "a3db957d",
   "metadata": {},
   "outputs": [],
   "source": [
    "from butcherbird.utils.paths import DATA_DIR"
   ]
  },
  {
   "cell_type": "code",
   "execution_count": 2,
   "id": "73b17a57",
   "metadata": {},
   "outputs": [],
   "source": [
    "indv = \"Bird26\""
   ]
  },
  {
   "cell_type": "code",
   "execution_count": 3,
   "id": "153564ba",
   "metadata": {},
   "outputs": [],
   "source": [
    "SAVE_LOC = 'interim/fine_labels/butcherbird_note_df_'+indv+'_fine.pickle'\n",
    "SAVE_LOC = DATA_DIR / SAVE_LOC"
   ]
  },
  {
   "cell_type": "markdown",
   "id": "62d55cab",
   "metadata": {},
   "source": [
    "## Load in Data"
   ]
  },
  {
   "cell_type": "code",
   "execution_count": 4,
   "id": "08a3a7e1",
   "metadata": {},
   "outputs": [],
   "source": [
    "import pandas as pd"
   ]
  },
  {
   "cell_type": "code",
   "execution_count": 5,
   "id": "4ffd65d8",
   "metadata": {},
   "outputs": [],
   "source": [
    "indv_df = pd.read_pickle(SAVE_LOC)"
   ]
  },
  {
   "cell_type": "code",
   "execution_count": 6,
   "id": "a0030a8e",
   "metadata": {},
   "outputs": [
    {
     "data": {
      "text/html": [
       "<div>\n",
       "<style scoped>\n",
       "    .dataframe tbody tr th:only-of-type {\n",
       "        vertical-align: middle;\n",
       "    }\n",
       "\n",
       "    .dataframe tbody tr th {\n",
       "        vertical-align: top;\n",
       "    }\n",
       "\n",
       "    .dataframe thead th {\n",
       "        text-align: right;\n",
       "    }\n",
       "</style>\n",
       "<table border=\"1\" class=\"dataframe\">\n",
       "  <thead>\n",
       "    <tr style=\"text-align: right;\">\n",
       "      <th></th>\n",
       "      <th>phrase_nb</th>\n",
       "      <th>phrase_strt</th>\n",
       "      <th>phrase_end</th>\n",
       "      <th>phrase_len</th>\n",
       "      <th>note_cnt</th>\n",
       "      <th>note_nb</th>\n",
       "      <th>note_strt</th>\n",
       "      <th>note_end</th>\n",
       "      <th>note_len</th>\n",
       "      <th>indv</th>\n",
       "      <th>indvi</th>\n",
       "      <th>key</th>\n",
       "      <th>audio</th>\n",
       "      <th>rate</th>\n",
       "      <th>spectrogram</th>\n",
       "      <th>umap</th>\n",
       "      <th>hdbscan_labels</th>\n",
       "      <th>recur_labels</th>\n",
       "      <th>recur_labels_id</th>\n",
       "      <th>lasso_labels</th>\n",
       "    </tr>\n",
       "  </thead>\n",
       "  <tbody>\n",
       "    <tr>\n",
       "      <th>0</th>\n",
       "      <td>0</td>\n",
       "      <td>2.530000</td>\n",
       "      <td>3.108940</td>\n",
       "      <td>0.578940</td>\n",
       "      <td>4</td>\n",
       "      <td>0</td>\n",
       "      <td>2.530000</td>\n",
       "      <td>2.565308</td>\n",
       "      <td>0.035308</td>\n",
       "      <td>Bird26</td>\n",
       "      <td>0</td>\n",
       "      <td>LS110395.9.28.2017PalmRagonesi_dn</td>\n",
       "      <td>[0.0, 1.046653124410034e-05, 2.781446748131873...</td>\n",
       "      <td>48000</td>\n",
       "      <td>[[0, 0, 0, 0, 0, 0, 0, 0, 0, 0, 0, 0, 0, 0, 0,...</td>\n",
       "      <td>[-7.5537066, 8.209083]</td>\n",
       "      <td>21</td>\n",
       "      <td>21|0|1.0|1.0|0.0|nan|nan|nan|nan</td>\n",
       "      <td>154</td>\n",
       "      <td>4</td>\n",
       "    </tr>\n",
       "    <tr>\n",
       "      <th>1</th>\n",
       "      <td>0</td>\n",
       "      <td>2.530000</td>\n",
       "      <td>3.108940</td>\n",
       "      <td>0.578940</td>\n",
       "      <td>4</td>\n",
       "      <td>1</td>\n",
       "      <td>2.582859</td>\n",
       "      <td>2.646042</td>\n",
       "      <td>0.063184</td>\n",
       "      <td>Bird26</td>\n",
       "      <td>0</td>\n",
       "      <td>LS110395.9.28.2017PalmRagonesi_dn</td>\n",
       "      <td>[-0.0, -5.34641467372343e-06, -1.1688967129128...</td>\n",
       "      <td>48000</td>\n",
       "      <td>[[0, 0, 0, 0, 0, 0, 0, 0, 0, 0, 0, 0, 0, 0, 0,...</td>\n",
       "      <td>[-0.6834063, 9.239816]</td>\n",
       "      <td>11</td>\n",
       "      <td>11|0|0.0|1.0|0.0|1.0|0.0|0.0|nan</td>\n",
       "      <td>14</td>\n",
       "      <td>2</td>\n",
       "    </tr>\n",
       "    <tr>\n",
       "      <th>2</th>\n",
       "      <td>0</td>\n",
       "      <td>2.530000</td>\n",
       "      <td>3.108940</td>\n",
       "      <td>0.578940</td>\n",
       "      <td>4</td>\n",
       "      <td>2</td>\n",
       "      <td>2.754858</td>\n",
       "      <td>2.877196</td>\n",
       "      <td>0.122338</td>\n",
       "      <td>Bird26</td>\n",
       "      <td>0</td>\n",
       "      <td>LS110395.9.28.2017PalmRagonesi_dn</td>\n",
       "      <td>[0.0, 2.4410663172602654e-05, 5.92200898084064...</td>\n",
       "      <td>48000</td>\n",
       "      <td>[[0, 0, 0, 0, 0, 0, 0, 0, 0, 0, 0, 0, 0, 0, 0,...</td>\n",
       "      <td>[-1.5902307, -12.39612]</td>\n",
       "      <td>0</td>\n",
       "      <td>0|0|0.0|0.0|1.0|0.0|nan|nan|nan</td>\n",
       "      <td>1</td>\n",
       "      <td>0</td>\n",
       "    </tr>\n",
       "    <tr>\n",
       "      <th>3</th>\n",
       "      <td>0</td>\n",
       "      <td>2.530000</td>\n",
       "      <td>3.108940</td>\n",
       "      <td>0.578940</td>\n",
       "      <td>4</td>\n",
       "      <td>3</td>\n",
       "      <td>2.942109</td>\n",
       "      <td>3.108940</td>\n",
       "      <td>0.166831</td>\n",
       "      <td>Bird26</td>\n",
       "      <td>0</td>\n",
       "      <td>LS110395.9.28.2017PalmRagonesi_dn</td>\n",
       "      <td>[-0.0, -0.00015404379157812003, -0.00030952889...</td>\n",
       "      <td>48000</td>\n",
       "      <td>[[0, 0, 0, 0, 0, 0, 0, 0, 0, 0, 0, 0, 0, 0, 0,...</td>\n",
       "      <td>[7.0395265, 3.0541244]</td>\n",
       "      <td>26</td>\n",
       "      <td>26|1|1.0|0.0|nan|nan|nan|nan|nan</td>\n",
       "      <td>206</td>\n",
       "      <td>19</td>\n",
       "    </tr>\n",
       "    <tr>\n",
       "      <th>4</th>\n",
       "      <td>1</td>\n",
       "      <td>7.660000</td>\n",
       "      <td>9.269842</td>\n",
       "      <td>1.609842</td>\n",
       "      <td>6</td>\n",
       "      <td>0</td>\n",
       "      <td>7.660000</td>\n",
       "      <td>7.802573</td>\n",
       "      <td>0.142573</td>\n",
       "      <td>Bird26</td>\n",
       "      <td>0</td>\n",
       "      <td>LS110395.9.28.2017PalmRagonesi_dn</td>\n",
       "      <td>[0.0, 5.444124866051962e-05, 0.000182190384940...</td>\n",
       "      <td>48000</td>\n",
       "      <td>[[0, 0, 0, 0, 0, 0, 0, 0, 0, 0, 0, 0, 0, 0, 0,...</td>\n",
       "      <td>[5.1442027, -3.2366111]</td>\n",
       "      <td>12</td>\n",
       "      <td>12|1|0.0|1.0|0.0|nan|nan|nan|nan</td>\n",
       "      <td>37</td>\n",
       "      <td>35</td>\n",
       "    </tr>\n",
       "    <tr>\n",
       "      <th>...</th>\n",
       "      <td>...</td>\n",
       "      <td>...</td>\n",
       "      <td>...</td>\n",
       "      <td>...</td>\n",
       "      <td>...</td>\n",
       "      <td>...</td>\n",
       "      <td>...</td>\n",
       "      <td>...</td>\n",
       "      <td>...</td>\n",
       "      <td>...</td>\n",
       "      <td>...</td>\n",
       "      <td>...</td>\n",
       "      <td>...</td>\n",
       "      <td>...</td>\n",
       "      <td>...</td>\n",
       "      <td>...</td>\n",
       "      <td>...</td>\n",
       "      <td>...</td>\n",
       "      <td>...</td>\n",
       "      <td>...</td>\n",
       "    </tr>\n",
       "    <tr>\n",
       "      <th>10861</th>\n",
       "      <td>1426</td>\n",
       "      <td>7451.938961</td>\n",
       "      <td>7454.270021</td>\n",
       "      <td>2.331060</td>\n",
       "      <td>11</td>\n",
       "      <td>6</td>\n",
       "      <td>7453.230000</td>\n",
       "      <td>7453.347846</td>\n",
       "      <td>0.117846</td>\n",
       "      <td>Bird26</td>\n",
       "      <td>0</td>\n",
       "      <td>LS110395.9.28.2017PalmRagonesi_dn</td>\n",
       "      <td>[0.0, 0.00020218813079315542, 0.00039304040322...</td>\n",
       "      <td>48000</td>\n",
       "      <td>[[0, 0, 0, 0, 0, 0, 0, 0, 0, 0, 0, 0, 0, 0, 0,...</td>\n",
       "      <td>[5.835227, 3.594297]</td>\n",
       "      <td>25</td>\n",
       "      <td>25|1|1.0|1.0|0.0|0.0|nan|nan|nan</td>\n",
       "      <td>195</td>\n",
       "      <td>17</td>\n",
       "    </tr>\n",
       "    <tr>\n",
       "      <th>10862</th>\n",
       "      <td>1426</td>\n",
       "      <td>7451.938961</td>\n",
       "      <td>7454.270021</td>\n",
       "      <td>2.331060</td>\n",
       "      <td>11</td>\n",
       "      <td>7</td>\n",
       "      <td>7453.430000</td>\n",
       "      <td>7453.582862</td>\n",
       "      <td>0.152862</td>\n",
       "      <td>Bird26</td>\n",
       "      <td>0</td>\n",
       "      <td>LS110395.9.28.2017PalmRagonesi_dn</td>\n",
       "      <td>[-0.0, -6.027892231941223e-05, -0.000147847971...</td>\n",
       "      <td>48000</td>\n",
       "      <td>[[0, 0, 0, 0, 0, 0, 0, 0, 0, 0, 0, 0, 0, 0, 0,...</td>\n",
       "      <td>[5.1574388, 3.9381824]</td>\n",
       "      <td>25</td>\n",
       "      <td>25|0|0.0|0.0|nan|nan|nan|nan|nan</td>\n",
       "      <td>188</td>\n",
       "      <td>11</td>\n",
       "    </tr>\n",
       "    <tr>\n",
       "      <th>10863</th>\n",
       "      <td>1426</td>\n",
       "      <td>7451.938961</td>\n",
       "      <td>7454.270021</td>\n",
       "      <td>2.331060</td>\n",
       "      <td>11</td>\n",
       "      <td>8</td>\n",
       "      <td>7453.582862</td>\n",
       "      <td>7453.644792</td>\n",
       "      <td>0.061930</td>\n",
       "      <td>Bird26</td>\n",
       "      <td>0</td>\n",
       "      <td>LS110395.9.28.2017PalmRagonesi_dn</td>\n",
       "      <td>[-0.0, -0.0007704722401279731, -0.002082758701...</td>\n",
       "      <td>48000</td>\n",
       "      <td>[[0, 0, 0, 0, 0, 0, 0, 0, 0, 0, 0, 0, 0, 0, 0,...</td>\n",
       "      <td>[-0.96411866, 1.086623]</td>\n",
       "      <td>19</td>\n",
       "      <td>19|0|0.0|1.0|1.0|0.0|nan|nan|nan</td>\n",
       "      <td>118</td>\n",
       "      <td>9</td>\n",
       "    </tr>\n",
       "    <tr>\n",
       "      <th>10864</th>\n",
       "      <td>1426</td>\n",
       "      <td>7451.938961</td>\n",
       "      <td>7454.270021</td>\n",
       "      <td>2.331060</td>\n",
       "      <td>11</td>\n",
       "      <td>9</td>\n",
       "      <td>7453.786119</td>\n",
       "      <td>7453.917918</td>\n",
       "      <td>0.131800</td>\n",
       "      <td>Bird26</td>\n",
       "      <td>0</td>\n",
       "      <td>LS110395.9.28.2017PalmRagonesi_dn</td>\n",
       "      <td>[-0.0, -2.3817842366836413e-06, -8.17539332897...</td>\n",
       "      <td>48000</td>\n",
       "      <td>[[0, 0, 0, 0, 0, 0, 0, 0, 0, 0, 0, 0, 0, 0, 0,...</td>\n",
       "      <td>[2.2781262, -6.882173]</td>\n",
       "      <td>9</td>\n",
       "      <td>9|0|0.0|1.0|0.0|nan|nan|nan|nan</td>\n",
       "      <td>234</td>\n",
       "      <td>27</td>\n",
       "    </tr>\n",
       "    <tr>\n",
       "      <th>10865</th>\n",
       "      <td>1426</td>\n",
       "      <td>7451.938961</td>\n",
       "      <td>7454.270021</td>\n",
       "      <td>2.331060</td>\n",
       "      <td>11</td>\n",
       "      <td>10</td>\n",
       "      <td>7454.046542</td>\n",
       "      <td>7454.270021</td>\n",
       "      <td>0.223479</td>\n",
       "      <td>Bird26</td>\n",
       "      <td>0</td>\n",
       "      <td>LS110395.9.28.2017PalmRagonesi_dn</td>\n",
       "      <td>[0.0, 0.0008279382682486668, 0.001595642342663...</td>\n",
       "      <td>48000</td>\n",
       "      <td>[[0, 0, 0, 0, 0, 0, 0, 0, 0, 0, 0, 0, 0, 0, 0,...</td>\n",
       "      <td>[-4.1325746, -10.875906]</td>\n",
       "      <td>6</td>\n",
       "      <td>6|1|2.0|1.0|0.0|nan|nan|nan|nan</td>\n",
       "      <td>227</td>\n",
       "      <td>23</td>\n",
       "    </tr>\n",
       "  </tbody>\n",
       "</table>\n",
       "<p>10866 rows × 20 columns</p>\n",
       "</div>"
      ],
      "text/plain": [
       "       phrase_nb  phrase_strt   phrase_end  phrase_len  note_cnt  note_nb  \\\n",
       "0              0     2.530000     3.108940    0.578940         4        0   \n",
       "1              0     2.530000     3.108940    0.578940         4        1   \n",
       "2              0     2.530000     3.108940    0.578940         4        2   \n",
       "3              0     2.530000     3.108940    0.578940         4        3   \n",
       "4              1     7.660000     9.269842    1.609842         6        0   \n",
       "...          ...          ...          ...         ...       ...      ...   \n",
       "10861       1426  7451.938961  7454.270021    2.331060        11        6   \n",
       "10862       1426  7451.938961  7454.270021    2.331060        11        7   \n",
       "10863       1426  7451.938961  7454.270021    2.331060        11        8   \n",
       "10864       1426  7451.938961  7454.270021    2.331060        11        9   \n",
       "10865       1426  7451.938961  7454.270021    2.331060        11       10   \n",
       "\n",
       "         note_strt     note_end  note_len    indv  indvi  \\\n",
       "0         2.530000     2.565308  0.035308  Bird26      0   \n",
       "1         2.582859     2.646042  0.063184  Bird26      0   \n",
       "2         2.754858     2.877196  0.122338  Bird26      0   \n",
       "3         2.942109     3.108940  0.166831  Bird26      0   \n",
       "4         7.660000     7.802573  0.142573  Bird26      0   \n",
       "...            ...          ...       ...     ...    ...   \n",
       "10861  7453.230000  7453.347846  0.117846  Bird26      0   \n",
       "10862  7453.430000  7453.582862  0.152862  Bird26      0   \n",
       "10863  7453.582862  7453.644792  0.061930  Bird26      0   \n",
       "10864  7453.786119  7453.917918  0.131800  Bird26      0   \n",
       "10865  7454.046542  7454.270021  0.223479  Bird26      0   \n",
       "\n",
       "                                     key  \\\n",
       "0      LS110395.9.28.2017PalmRagonesi_dn   \n",
       "1      LS110395.9.28.2017PalmRagonesi_dn   \n",
       "2      LS110395.9.28.2017PalmRagonesi_dn   \n",
       "3      LS110395.9.28.2017PalmRagonesi_dn   \n",
       "4      LS110395.9.28.2017PalmRagonesi_dn   \n",
       "...                                  ...   \n",
       "10861  LS110395.9.28.2017PalmRagonesi_dn   \n",
       "10862  LS110395.9.28.2017PalmRagonesi_dn   \n",
       "10863  LS110395.9.28.2017PalmRagonesi_dn   \n",
       "10864  LS110395.9.28.2017PalmRagonesi_dn   \n",
       "10865  LS110395.9.28.2017PalmRagonesi_dn   \n",
       "\n",
       "                                                   audio   rate  \\\n",
       "0      [0.0, 1.046653124410034e-05, 2.781446748131873...  48000   \n",
       "1      [-0.0, -5.34641467372343e-06, -1.1688967129128...  48000   \n",
       "2      [0.0, 2.4410663172602654e-05, 5.92200898084064...  48000   \n",
       "3      [-0.0, -0.00015404379157812003, -0.00030952889...  48000   \n",
       "4      [0.0, 5.444124866051962e-05, 0.000182190384940...  48000   \n",
       "...                                                  ...    ...   \n",
       "10861  [0.0, 0.00020218813079315542, 0.00039304040322...  48000   \n",
       "10862  [-0.0, -6.027892231941223e-05, -0.000147847971...  48000   \n",
       "10863  [-0.0, -0.0007704722401279731, -0.002082758701...  48000   \n",
       "10864  [-0.0, -2.3817842366836413e-06, -8.17539332897...  48000   \n",
       "10865  [0.0, 0.0008279382682486668, 0.001595642342663...  48000   \n",
       "\n",
       "                                             spectrogram  \\\n",
       "0      [[0, 0, 0, 0, 0, 0, 0, 0, 0, 0, 0, 0, 0, 0, 0,...   \n",
       "1      [[0, 0, 0, 0, 0, 0, 0, 0, 0, 0, 0, 0, 0, 0, 0,...   \n",
       "2      [[0, 0, 0, 0, 0, 0, 0, 0, 0, 0, 0, 0, 0, 0, 0,...   \n",
       "3      [[0, 0, 0, 0, 0, 0, 0, 0, 0, 0, 0, 0, 0, 0, 0,...   \n",
       "4      [[0, 0, 0, 0, 0, 0, 0, 0, 0, 0, 0, 0, 0, 0, 0,...   \n",
       "...                                                  ...   \n",
       "10861  [[0, 0, 0, 0, 0, 0, 0, 0, 0, 0, 0, 0, 0, 0, 0,...   \n",
       "10862  [[0, 0, 0, 0, 0, 0, 0, 0, 0, 0, 0, 0, 0, 0, 0,...   \n",
       "10863  [[0, 0, 0, 0, 0, 0, 0, 0, 0, 0, 0, 0, 0, 0, 0,...   \n",
       "10864  [[0, 0, 0, 0, 0, 0, 0, 0, 0, 0, 0, 0, 0, 0, 0,...   \n",
       "10865  [[0, 0, 0, 0, 0, 0, 0, 0, 0, 0, 0, 0, 0, 0, 0,...   \n",
       "\n",
       "                           umap  hdbscan_labels  \\\n",
       "0        [-7.5537066, 8.209083]              21   \n",
       "1        [-0.6834063, 9.239816]              11   \n",
       "2       [-1.5902307, -12.39612]               0   \n",
       "3        [7.0395265, 3.0541244]              26   \n",
       "4       [5.1442027, -3.2366111]              12   \n",
       "...                         ...             ...   \n",
       "10861      [5.835227, 3.594297]              25   \n",
       "10862    [5.1574388, 3.9381824]              25   \n",
       "10863   [-0.96411866, 1.086623]              19   \n",
       "10864    [2.2781262, -6.882173]               9   \n",
       "10865  [-4.1325746, -10.875906]               6   \n",
       "\n",
       "                           recur_labels  recur_labels_id  lasso_labels  \n",
       "0      21|0|1.0|1.0|0.0|nan|nan|nan|nan              154             4  \n",
       "1      11|0|0.0|1.0|0.0|1.0|0.0|0.0|nan               14             2  \n",
       "2       0|0|0.0|0.0|1.0|0.0|nan|nan|nan                1             0  \n",
       "3      26|1|1.0|0.0|nan|nan|nan|nan|nan              206            19  \n",
       "4      12|1|0.0|1.0|0.0|nan|nan|nan|nan               37            35  \n",
       "...                                 ...              ...           ...  \n",
       "10861  25|1|1.0|1.0|0.0|0.0|nan|nan|nan              195            17  \n",
       "10862  25|0|0.0|0.0|nan|nan|nan|nan|nan              188            11  \n",
       "10863  19|0|0.0|1.0|1.0|0.0|nan|nan|nan              118             9  \n",
       "10864   9|0|0.0|1.0|0.0|nan|nan|nan|nan              234            27  \n",
       "10865   6|1|2.0|1.0|0.0|nan|nan|nan|nan              227            23  \n",
       "\n",
       "[10866 rows x 20 columns]"
      ]
     },
     "execution_count": 6,
     "metadata": {},
     "output_type": "execute_result"
    }
   ],
   "source": [
    "indv_df"
   ]
  },
  {
   "cell_type": "markdown",
   "id": "01b5df5b",
   "metadata": {},
   "source": [
    "## Leave only phrase"
   ]
  },
  {
   "cell_type": "code",
   "execution_count": 7,
   "id": "17d4bc9b",
   "metadata": {},
   "outputs": [],
   "source": [
    "indv_df = indv_df.drop_duplicates(subset = 'phrase_strt').reset_index()"
   ]
  },
  {
   "cell_type": "markdown",
   "id": "7bde13c5",
   "metadata": {},
   "source": [
    "## Calculate Empirical Rhythm"
   ]
  },
  {
   "cell_type": "code",
   "execution_count": 8,
   "id": "7e5736b7",
   "metadata": {
    "scrolled": true
   },
   "outputs": [
    {
     "name": "stderr",
     "output_type": "stream",
     "text": [
      "/home/AD/j8xing/syntax_rhythm_pbb/butcherbird/rhythm.py:153: TqdmExperimentalWarning: Using `tqdm.autonotebook.tqdm` in notebook mode. Use `tqdm.tqdm` instead to force console mode (e.g. in jupyter console)\n",
      "  from tqdm.autonotebook import tqdm\n"
     ]
    }
   ],
   "source": [
    "import butcherbird.rhythm as rhythm\n",
    "import seaborn as sns"
   ]
  },
  {
   "cell_type": "code",
   "execution_count": 9,
   "id": "a2e29cdc",
   "metadata": {
    "scrolled": true
   },
   "outputs": [],
   "source": [
    "dyadic = rhythm.construct_rhythm_df(\n",
    "    onsets = indv_df['phrase_strt'], \n",
    "    syntactic_units = indv_df['hdbscan_labels'], \n",
    "    expected_interval_range = [0, 10]\n",
    ")"
   ]
  },
  {
   "cell_type": "code",
   "execution_count": 10,
   "id": "8db7d7df",
   "metadata": {
    "scrolled": false
   },
   "outputs": [
    {
     "data": {
      "text/html": [
       "<div>\n",
       "<style scoped>\n",
       "    .dataframe tbody tr th:only-of-type {\n",
       "        vertical-align: middle;\n",
       "    }\n",
       "\n",
       "    .dataframe tbody tr th {\n",
       "        vertical-align: top;\n",
       "    }\n",
       "\n",
       "    .dataframe thead th {\n",
       "        text-align: right;\n",
       "    }\n",
       "</style>\n",
       "<table border=\"1\" class=\"dataframe\">\n",
       "  <thead>\n",
       "    <tr style=\"text-align: right;\">\n",
       "      <th></th>\n",
       "      <th>intervals1</th>\n",
       "      <th>intervals2</th>\n",
       "      <th>label1</th>\n",
       "      <th>label2</th>\n",
       "      <th>label3</th>\n",
       "      <th>s_interval</th>\n",
       "      <th>l_interval</th>\n",
       "      <th>cycle_dur</th>\n",
       "      <th>ratio_roeske</th>\n",
       "      <th>ratio_custom</th>\n",
       "      <th>cycle_rank</th>\n",
       "    </tr>\n",
       "  </thead>\n",
       "  <tbody>\n",
       "    <tr>\n",
       "      <th>156</th>\n",
       "      <td>3.191896</td>\n",
       "      <td>2.328124</td>\n",
       "      <td>11</td>\n",
       "      <td>21</td>\n",
       "      <td>12</td>\n",
       "      <td>2.328124</td>\n",
       "      <td>3.191896</td>\n",
       "      <td>5.520021</td>\n",
       "      <td>0.578240</td>\n",
       "      <td>0.729386</td>\n",
       "      <td>1</td>\n",
       "    </tr>\n",
       "    <tr>\n",
       "      <th>1413</th>\n",
       "      <td>2.795612</td>\n",
       "      <td>3.055645</td>\n",
       "      <td>21</td>\n",
       "      <td>16</td>\n",
       "      <td>21</td>\n",
       "      <td>2.795612</td>\n",
       "      <td>3.055645</td>\n",
       "      <td>5.851258</td>\n",
       "      <td>0.477780</td>\n",
       "      <td>0.914901</td>\n",
       "      <td>2</td>\n",
       "    </tr>\n",
       "    <tr>\n",
       "      <th>157</th>\n",
       "      <td>2.328124</td>\n",
       "      <td>3.717135</td>\n",
       "      <td>21</td>\n",
       "      <td>12</td>\n",
       "      <td>17</td>\n",
       "      <td>2.328124</td>\n",
       "      <td>3.717135</td>\n",
       "      <td>6.045259</td>\n",
       "      <td>0.385116</td>\n",
       "      <td>0.626322</td>\n",
       "      <td>3</td>\n",
       "    </tr>\n",
       "    <tr>\n",
       "      <th>115</th>\n",
       "      <td>2.318322</td>\n",
       "      <td>3.791678</td>\n",
       "      <td>23</td>\n",
       "      <td>17</td>\n",
       "      <td>14</td>\n",
       "      <td>2.318322</td>\n",
       "      <td>3.791678</td>\n",
       "      <td>6.110000</td>\n",
       "      <td>0.379431</td>\n",
       "      <td>0.611424</td>\n",
       "      <td>4</td>\n",
       "    </tr>\n",
       "    <tr>\n",
       "      <th>62</th>\n",
       "      <td>2.658531</td>\n",
       "      <td>3.615368</td>\n",
       "      <td>10</td>\n",
       "      <td>11</td>\n",
       "      <td>21</td>\n",
       "      <td>2.658531</td>\n",
       "      <td>3.615368</td>\n",
       "      <td>6.273898</td>\n",
       "      <td>0.423745</td>\n",
       "      <td>0.735342</td>\n",
       "      <td>5</td>\n",
       "    </tr>\n",
       "    <tr>\n",
       "      <th>...</th>\n",
       "      <td>...</td>\n",
       "      <td>...</td>\n",
       "      <td>...</td>\n",
       "      <td>...</td>\n",
       "      <td>...</td>\n",
       "      <td>...</td>\n",
       "      <td>...</td>\n",
       "      <td>...</td>\n",
       "      <td>...</td>\n",
       "      <td>...</td>\n",
       "      <td>...</td>\n",
       "    </tr>\n",
       "    <tr>\n",
       "      <th>936</th>\n",
       "      <td>7.690398</td>\n",
       "      <td>8.935473</td>\n",
       "      <td>21</td>\n",
       "      <td>21</td>\n",
       "      <td>10</td>\n",
       "      <td>7.690398</td>\n",
       "      <td>8.935473</td>\n",
       "      <td>16.625871</td>\n",
       "      <td>0.462556</td>\n",
       "      <td>0.860659</td>\n",
       "      <td>1381</td>\n",
       "    </tr>\n",
       "    <tr>\n",
       "      <th>622</th>\n",
       "      <td>9.597179</td>\n",
       "      <td>7.223252</td>\n",
       "      <td>13</td>\n",
       "      <td>21</td>\n",
       "      <td>17</td>\n",
       "      <td>7.223252</td>\n",
       "      <td>9.597179</td>\n",
       "      <td>16.820431</td>\n",
       "      <td>0.570567</td>\n",
       "      <td>0.752643</td>\n",
       "      <td>1382</td>\n",
       "    </tr>\n",
       "    <tr>\n",
       "      <th>618</th>\n",
       "      <td>8.387184</td>\n",
       "      <td>8.685683</td>\n",
       "      <td>17</td>\n",
       "      <td>11</td>\n",
       "      <td>17</td>\n",
       "      <td>8.387184</td>\n",
       "      <td>8.685683</td>\n",
       "      <td>17.072866</td>\n",
       "      <td>0.491258</td>\n",
       "      <td>0.965633</td>\n",
       "      <td>1383</td>\n",
       "    </tr>\n",
       "    <tr>\n",
       "      <th>725</th>\n",
       "      <td>7.269391</td>\n",
       "      <td>9.852125</td>\n",
       "      <td>16</td>\n",
       "      <td>21</td>\n",
       "      <td>17</td>\n",
       "      <td>7.269391</td>\n",
       "      <td>9.852125</td>\n",
       "      <td>17.121517</td>\n",
       "      <td>0.424576</td>\n",
       "      <td>0.737850</td>\n",
       "      <td>1384</td>\n",
       "    </tr>\n",
       "    <tr>\n",
       "      <th>1239</th>\n",
       "      <td>9.767054</td>\n",
       "      <td>7.714656</td>\n",
       "      <td>10</td>\n",
       "      <td>17</td>\n",
       "      <td>10</td>\n",
       "      <td>7.714656</td>\n",
       "      <td>9.767054</td>\n",
       "      <td>17.481711</td>\n",
       "      <td>0.558701</td>\n",
       "      <td>0.789865</td>\n",
       "      <td>1385</td>\n",
       "    </tr>\n",
       "  </tbody>\n",
       "</table>\n",
       "<p>1385 rows × 11 columns</p>\n",
       "</div>"
      ],
      "text/plain": [
       "      intervals1  intervals2  label1  label2  label3  s_interval  l_interval  \\\n",
       "156     3.191896    2.328124      11      21      12    2.328124    3.191896   \n",
       "1413    2.795612    3.055645      21      16      21    2.795612    3.055645   \n",
       "157     2.328124    3.717135      21      12      17    2.328124    3.717135   \n",
       "115     2.318322    3.791678      23      17      14    2.318322    3.791678   \n",
       "62      2.658531    3.615368      10      11      21    2.658531    3.615368   \n",
       "...          ...         ...     ...     ...     ...         ...         ...   \n",
       "936     7.690398    8.935473      21      21      10    7.690398    8.935473   \n",
       "622     9.597179    7.223252      13      21      17    7.223252    9.597179   \n",
       "618     8.387184    8.685683      17      11      17    8.387184    8.685683   \n",
       "725     7.269391    9.852125      16      21      17    7.269391    9.852125   \n",
       "1239    9.767054    7.714656      10      17      10    7.714656    9.767054   \n",
       "\n",
       "      cycle_dur  ratio_roeske  ratio_custom  cycle_rank  \n",
       "156    5.520021      0.578240      0.729386           1  \n",
       "1413   5.851258      0.477780      0.914901           2  \n",
       "157    6.045259      0.385116      0.626322           3  \n",
       "115    6.110000      0.379431      0.611424           4  \n",
       "62     6.273898      0.423745      0.735342           5  \n",
       "...         ...           ...           ...         ...  \n",
       "936   16.625871      0.462556      0.860659        1381  \n",
       "622   16.820431      0.570567      0.752643        1382  \n",
       "618   17.072866      0.491258      0.965633        1383  \n",
       "725   17.121517      0.424576      0.737850        1384  \n",
       "1239  17.481711      0.558701      0.789865        1385  \n",
       "\n",
       "[1385 rows x 11 columns]"
      ]
     },
     "execution_count": 10,
     "metadata": {},
     "output_type": "execute_result"
    }
   ],
   "source": [
    "dyadic"
   ]
  },
  {
   "cell_type": "code",
   "execution_count": 11,
   "id": "d1e0c16a",
   "metadata": {},
   "outputs": [
    {
     "data": {
      "text/plain": [
       "<AxesSubplot:xlabel='ratio_roeske', ylabel='Count'>"
      ]
     },
     "execution_count": 11,
     "metadata": {},
     "output_type": "execute_result"
    },
    {
     "data": {
      "image/png": "[encoded data removed]",
      "text/plain": [
       "<Figure size 432x288 with 1 Axes>"
      ]
     },
     "metadata": {
      "needs_background": "light"
     },
     "output_type": "display_data"
    }
   ],
   "source": [
    "sns.histplot(dyadic['ratio_roeske'])"
   ]
  },
  {
   "cell_type": "code",
   "execution_count": 12,
   "id": "cdbecdb1",
   "metadata": {},
   "outputs": [
    {
     "data": {
      "text/plain": [
       "<AxesSubplot:xlabel='intervals1', ylabel='Count'>"
      ]
     },
     "execution_count": 12,
     "metadata": {},
     "output_type": "execute_result"
    },
    {
     "data": {
      "image/png": "[encoded data removed]",
      "text/plain": [
       "<Figure size 432x288 with 1 Axes>"
      ]
     },
     "metadata": {
      "needs_background": "light"
     },
     "output_type": "display_data"
    }
   ],
   "source": [
    "sns.histplot(dyadic['intervals1'])"
   ]
  },
  {
   "cell_type": "markdown",
   "id": "919e2a53",
   "metadata": {},
   "source": [
    "## Calculate Uniform Rhythm\n",
    "> Uniform rhythm is calculated under the assumption that interval lengths are uniformly distributed between a minimum and maximum interval length.  "
   ]
  },
  {
   "cell_type": "code",
   "execution_count": 13,
   "id": "b60124e1",
   "metadata": {},
   "outputs": [],
   "source": [
    "n = 1000"
   ]
  },
  {
   "cell_type": "code",
   "execution_count": 14,
   "id": "88974449",
   "metadata": {},
   "outputs": [],
   "source": [
    "import numpy as np\n",
    "import numpy.random as random"
   ]
  },
  {
   "cell_type": "code",
   "execution_count": 15,
   "id": "1acdacdc",
   "metadata": {},
   "outputs": [],
   "source": [
    "interval_min = np.min([dyadic['intervals1'].values, dyadic['intervals2']])\n",
    "interval_max = np.max([dyadic['intervals1'].values, dyadic['intervals2']])"
   ]
  },
  {
   "cell_type": "code",
   "execution_count": 16,
   "id": "816ef432",
   "metadata": {},
   "outputs": [],
   "source": [
    "interval1_uni = random.uniform(low = interval_min, high = interval_max, size = len(dyadic) * n)\n",
    "interval2_uni = random.uniform(low = interval_min, high = interval_max, size = len(dyadic) * n)\n",
    "uni_ratio = interval1_uni / (interval1_uni + interval2_uni)"
   ]
  },
  {
   "cell_type": "code",
   "execution_count": 17,
   "id": "74658e4e",
   "metadata": {},
   "outputs": [
    {
     "data": {
      "text/plain": [
       "<AxesSubplot:ylabel='Count'>"
      ]
     },
     "execution_count": 17,
     "metadata": {},
     "output_type": "execute_result"
    },
    {
     "data": {
      "image/png": "[encoded data removed]",
      "text/plain": [
       "<Figure size 432x288 with 1 Axes>"
      ]
     },
     "metadata": {
      "needs_background": "light"
     },
     "output_type": "display_data"
    }
   ],
   "source": [
    "sns.histplot(uni_ratio)"
   ]
  },
  {
   "cell_type": "markdown",
   "id": "d224676f",
   "metadata": {},
   "source": [
    "## Calculate Shuffled Rhythm\n",
    "> Shuffled rhythm is calculated under the assumption that interval lengths are bootstrapped from the empirical distribution, but the consecutive order of intervals are shuffled. "
   ]
  },
  {
   "cell_type": "code",
   "execution_count": 18,
   "id": "bbf68abf",
   "metadata": {},
   "outputs": [],
   "source": [
    "interval1_sf = dyadic['intervals1'].sample(frac = n, replace = True).values\n",
    "interval2_sf = dyadic['intervals2'].sample(frac = n, replace = True).values\n",
    "sf_ratio = interval1_sf / (interval1_sf + interval2_sf)"
   ]
  },
  {
   "cell_type": "code",
   "execution_count": 19,
   "id": "10743e69",
   "metadata": {},
   "outputs": [
    {
     "data": {
      "text/plain": [
       "<AxesSubplot:ylabel='Count'>"
      ]
     },
     "execution_count": 19,
     "metadata": {},
     "output_type": "execute_result"
    },
    {
     "data": {
      "image/png": "[encoded data removed]",
      "text/plain": [
       "<Figure size 432x288 with 1 Axes>"
      ]
     },
     "metadata": {
      "needs_background": "light"
     },
     "output_type": "display_data"
    }
   ],
   "source": [
    "sns.histplot(sf_ratio)"
   ]
  },
  {
   "cell_type": "markdown",
   "id": "f4ef0b1f",
   "metadata": {},
   "source": [
    "## Calculate Shuffled Phrase + Gap\n",
    "> Shuffled Note + Gap rhythm is calculated under the assumption that note length and inter-note gaps are independently shuffled."
   ]
  },
  {
   "cell_type": "code",
   "execution_count": 20,
   "id": "98e19bef",
   "metadata": {},
   "outputs": [],
   "source": [
    "import numpy.random as random"
   ]
  },
  {
   "cell_type": "code",
   "execution_count": 21,
   "id": "e86b6c7d",
   "metadata": {},
   "outputs": [],
   "source": [
    "# find all gaps and their positions\n",
    "grand_gaps = indv_df['phrase_strt'][1:].values - indv_df['phrase_end'][:-1].values\n",
    "    \n",
    "grand_gaps = np.hstack(grand_gaps)\n",
    "grand_gaps = grand_gaps[grand_gaps < 10] ## gaps that are more than 10 seconds long are noise\n",
    "grand_gaps = grand_gaps[grand_gaps > 0] ## gaps shouldn't be negative"
   ]
  },
  {
   "cell_type": "code",
   "execution_count": 22,
   "id": "619fa531",
   "metadata": {},
   "outputs": [],
   "source": [
    "df_lg = []\n",
    "\n",
    "for i in np.arange(0, n):\n",
    "    ## randomly shuffle gaps\n",
    "    random.shuffle(grand_gaps)\n",
    "    ## add to randomly shuffled lengths\n",
    "    shuffled_lg = grand_gaps + indv_df['phrase_len'].sample(n = len(grand_gaps), replace = True).values\n",
    "    \n",
    "    shuffled_lg_i1 = shuffled_lg[:-1]\n",
    "    shuffled_lg_i2 = shuffled_lg[1:]\n",
    "    \n",
    "    df_lg.append(shuffled_lg_i1 / (shuffled_lg_i1 + shuffled_lg_i2))"
   ]
  },
  {
   "cell_type": "code",
   "execution_count": 23,
   "id": "f586fa7e",
   "metadata": {},
   "outputs": [],
   "source": [
    "lg_ratio = np.hstack(df_lg)"
   ]
  },
  {
   "cell_type": "code",
   "execution_count": 24,
   "id": "85ca084c",
   "metadata": {},
   "outputs": [
    {
     "data": {
      "text/plain": [
       "<AxesSubplot:ylabel='Count'>"
      ]
     },
     "execution_count": 24,
     "metadata": {},
     "output_type": "execute_result"
    },
    {
     "data": {
      "image/png": "[encoded data removed]",
      "text/plain": [
       "<Figure size 432x288 with 1 Axes>"
      ]
     },
     "metadata": {
      "needs_background": "light"
     },
     "output_type": "display_data"
    }
   ],
   "source": [
    "sns.histplot(lg_ratio)"
   ]
  },
  {
   "cell_type": "markdown",
   "id": "8267c8eb",
   "metadata": {},
   "source": [
    "## Draw Figure"
   ]
  },
  {
   "cell_type": "code",
   "execution_count": 25,
   "id": "9134a980",
   "metadata": {},
   "outputs": [],
   "source": [
    "import matplotlib.pyplot as plt\n",
    "from matplotlib.pyplot import figure\n",
    "from butcherbird.utils.paths import FIGURE_DIR"
   ]
  },
  {
   "cell_type": "code",
   "execution_count": 26,
   "id": "3073c4d8",
   "metadata": {
    "scrolled": false
   },
   "outputs": [
    {
     "data": {
      "image/png": "[encoded data removed]",
      "text/plain": [
       "<Figure size 2400x1800 with 1 Axes>"
      ]
     },
     "metadata": {
      "needs_background": "light"
     },
     "output_type": "display_data"
    }
   ],
   "source": [
    "figure(figsize = (8, 6), dpi = 300)\n",
    "\n",
    "plt.rcParams['patch.edgecolor'] = 'none'\n",
    "\n",
    "fig = sns.histplot(\n",
    "    x = dyadic['ratio_roeske'],\n",
    "    binwidth = 0.01,\n",
    "    stat=\"density\",\n",
    "    color = '#6D6C9E',\n",
    "    fill = '#6D6C9E',\n",
    "    kde = True\n",
    ")\n",
    "\n",
    "uni = sns.histplot(\n",
    "    x = uni_ratio,\n",
    "    stat=\"density\",\n",
    "    alpha = 0,\n",
    "    color = '#FC6983',\n",
    "    kde = True,\n",
    "    line_kws = dict(linestyle = 'dashed')\n",
    ")\n",
    "\n",
    "sf = sns.histplot(\n",
    "    x = sf_ratio,\n",
    "    stat = 'density',\n",
    "    alpha = 0,\n",
    "    kde = True,\n",
    "    color = '#1DB6AB',\n",
    "    line_kws = dict(linestyle = 'dashed')\n",
    ")\n",
    "\n",
    "lg = sns.histplot(\n",
    "    x = lg_ratio,\n",
    "    stat = 'density',\n",
    "    alpha = 0,\n",
    "    kde = True,\n",
    "    color = '#15215B',\n",
    "    line_kws = dict(linestyle = 'dashed')\n",
    ")\n",
    "\n",
    "ax = plt.gca()\n",
    "ax.set_xlim([0, 1])\n",
    "plt.xticks(np.arange(0, 1.25, 0.25))\n",
    "\n",
    "# save\n",
    "figname = 'phrase_rhythm_' + indv + '.svg'\n",
    "plt.savefig(FIGURE_DIR/'categorical_rhythm'/figname)"
   ]
  },
  {
   "cell_type": "markdown",
   "id": "e40ac186",
   "metadata": {},
   "source": [
    "## Do some statistics"
   ]
  },
  {
   "cell_type": "code",
   "execution_count": 27,
   "id": "b98380ac",
   "metadata": {},
   "outputs": [],
   "source": [
    "import scipy"
   ]
  },
  {
   "cell_type": "code",
   "execution_count": 28,
   "id": "7d552280",
   "metadata": {},
   "outputs": [],
   "source": [
    "ks = scipy.stats.ks_2samp(dyadic['ratio_roeske'], sf_ratio)"
   ]
  },
  {
   "cell_type": "code",
   "execution_count": 29,
   "id": "fcca5422",
   "metadata": {},
   "outputs": [
    {
     "data": {
      "text/plain": [
       "1385"
      ]
     },
     "execution_count": 29,
     "metadata": {},
     "output_type": "execute_result"
    }
   ],
   "source": [
    "len(dyadic['ratio_roeske'])"
   ]
  },
  {
   "cell_type": "code",
   "execution_count": 30,
   "id": "eea5f0a6",
   "metadata": {},
   "outputs": [
    {
     "data": {
      "text/plain": [
       "1385000"
      ]
     },
     "execution_count": 30,
     "metadata": {},
     "output_type": "execute_result"
    }
   ],
   "source": [
    "len(sf_ratio)"
   ]
  },
  {
   "cell_type": "code",
   "execution_count": 31,
   "id": "92b1dc08",
   "metadata": {},
   "outputs": [
    {
     "data": {
      "text/plain": [
       "KstestResult(statistic=0.05041516245487365, pvalue=0.001697278428987941)"
      ]
     },
     "execution_count": 31,
     "metadata": {},
     "output_type": "execute_result"
    }
   ],
   "source": [
    "ks"
   ]
  },
  {
   "cell_type": "code",
   "execution_count": 32,
   "id": "4bbcc800",
   "metadata": {},
   "outputs": [],
   "source": [
    "kslg = scipy.stats.ks_2samp(dyadic['ratio_roeske'], lg_ratio)"
   ]
  },
  {
   "cell_type": "code",
   "execution_count": 33,
   "id": "4d188af6",
   "metadata": {},
   "outputs": [
    {
     "data": {
      "text/plain": [
       "1410000"
      ]
     },
     "execution_count": 33,
     "metadata": {},
     "output_type": "execute_result"
    }
   ],
   "source": [
    "len(lg_ratio)"
   ]
  },
  {
   "cell_type": "code",
   "execution_count": 34,
   "id": "5e45df72",
   "metadata": {},
   "outputs": [
    {
     "data": {
      "text/plain": [
       "KstestResult(statistic=0.053493358424866244, pvalue=0.0006981641841978208)"
      ]
     },
     "execution_count": 34,
     "metadata": {},
     "output_type": "execute_result"
    }
   ],
   "source": [
    "kslg"
   ]
  },
  {
   "cell_type": "markdown",
   "id": "9aca36e4",
   "metadata": {},
   "source": [
    "## Timescale Estimation"
   ]
  },
  {
   "cell_type": "code",
   "execution_count": 35,
   "id": "95cfadf2",
   "metadata": {},
   "outputs": [],
   "source": [
    "import numpy as np\n",
    "import scipy.stats\n",
    "\n",
    "## a standard calculation for confidence interval\n",
    "def mean_confidence_interval(data, confidence=0.95):\n",
    "    a = 1.0 * np.array(data)\n",
    "    n = len(a)\n",
    "    m, se = np.mean(a), scipy.stats.sem(a)\n",
    "    h = se * scipy.stats.t.ppf((1 + confidence) / 2., n-1)\n",
    "    return m, m-h, m+h"
   ]
  },
  {
   "cell_type": "code",
   "execution_count": 36,
   "id": "238426c0",
   "metadata": {},
   "outputs": [
    {
     "data": {
      "text/html": [
       "<div>\n",
       "<style scoped>\n",
       "    .dataframe tbody tr th:only-of-type {\n",
       "        vertical-align: middle;\n",
       "    }\n",
       "\n",
       "    .dataframe tbody tr th {\n",
       "        vertical-align: top;\n",
       "    }\n",
       "\n",
       "    .dataframe thead th {\n",
       "        text-align: right;\n",
       "    }\n",
       "</style>\n",
       "<table border=\"1\" class=\"dataframe\">\n",
       "  <thead>\n",
       "    <tr style=\"text-align: right;\">\n",
       "      <th></th>\n",
       "      <th>intervals1</th>\n",
       "      <th>intervals2</th>\n",
       "      <th>label1</th>\n",
       "      <th>label2</th>\n",
       "      <th>label3</th>\n",
       "      <th>s_interval</th>\n",
       "      <th>l_interval</th>\n",
       "      <th>cycle_dur</th>\n",
       "      <th>ratio_roeske</th>\n",
       "      <th>ratio_custom</th>\n",
       "      <th>cycle_rank</th>\n",
       "    </tr>\n",
       "  </thead>\n",
       "  <tbody>\n",
       "    <tr>\n",
       "      <th>0</th>\n",
       "      <td>5.130000</td>\n",
       "      <td>5.561386</td>\n",
       "      <td>21</td>\n",
       "      <td>12</td>\n",
       "      <td>21</td>\n",
       "      <td>5.130000</td>\n",
       "      <td>5.561386</td>\n",
       "      <td>10.691386</td>\n",
       "      <td>0.479826</td>\n",
       "      <td>0.922432</td>\n",
       "      <td>972</td>\n",
       "    </tr>\n",
       "    <tr>\n",
       "      <th>1</th>\n",
       "      <td>5.561386</td>\n",
       "      <td>6.478614</td>\n",
       "      <td>12</td>\n",
       "      <td>21</td>\n",
       "      <td>12</td>\n",
       "      <td>5.561386</td>\n",
       "      <td>6.478614</td>\n",
       "      <td>12.040000</td>\n",
       "      <td>0.461909</td>\n",
       "      <td>0.858422</td>\n",
       "      <td>1225</td>\n",
       "    </tr>\n",
       "    <tr>\n",
       "      <th>2</th>\n",
       "      <td>6.478614</td>\n",
       "      <td>4.543164</td>\n",
       "      <td>21</td>\n",
       "      <td>12</td>\n",
       "      <td>17</td>\n",
       "      <td>4.543164</td>\n",
       "      <td>6.478614</td>\n",
       "      <td>11.021778</td>\n",
       "      <td>0.587801</td>\n",
       "      <td>0.701256</td>\n",
       "      <td>1064</td>\n",
       "    </tr>\n",
       "    <tr>\n",
       "      <th>3</th>\n",
       "      <td>4.543164</td>\n",
       "      <td>5.819602</td>\n",
       "      <td>12</td>\n",
       "      <td>17</td>\n",
       "      <td>10</td>\n",
       "      <td>4.543164</td>\n",
       "      <td>5.819602</td>\n",
       "      <td>10.362766</td>\n",
       "      <td>0.438412</td>\n",
       "      <td>0.780666</td>\n",
       "      <td>875</td>\n",
       "    </tr>\n",
       "    <tr>\n",
       "      <th>4</th>\n",
       "      <td>5.819602</td>\n",
       "      <td>6.558344</td>\n",
       "      <td>17</td>\n",
       "      <td>10</td>\n",
       "      <td>10</td>\n",
       "      <td>5.819602</td>\n",
       "      <td>6.558344</td>\n",
       "      <td>12.377946</td>\n",
       "      <td>0.470159</td>\n",
       "      <td>0.887358</td>\n",
       "      <td>1260</td>\n",
       "    </tr>\n",
       "    <tr>\n",
       "      <th>...</th>\n",
       "      <td>...</td>\n",
       "      <td>...</td>\n",
       "      <td>...</td>\n",
       "      <td>...</td>\n",
       "      <td>...</td>\n",
       "      <td>...</td>\n",
       "      <td>...</td>\n",
       "      <td>...</td>\n",
       "      <td>...</td>\n",
       "      <td>...</td>\n",
       "      <td>...</td>\n",
       "    </tr>\n",
       "    <tr>\n",
       "      <th>1420</th>\n",
       "      <td>3.961331</td>\n",
       "      <td>5.081841</td>\n",
       "      <td>21</td>\n",
       "      <td>21</td>\n",
       "      <td>17</td>\n",
       "      <td>3.961331</td>\n",
       "      <td>5.081841</td>\n",
       "      <td>9.043172</td>\n",
       "      <td>0.438047</td>\n",
       "      <td>0.779507</td>\n",
       "      <td>354</td>\n",
       "    </tr>\n",
       "    <tr>\n",
       "      <th>1421</th>\n",
       "      <td>5.081841</td>\n",
       "      <td>3.661225</td>\n",
       "      <td>21</td>\n",
       "      <td>17</td>\n",
       "      <td>21</td>\n",
       "      <td>3.661225</td>\n",
       "      <td>5.081841</td>\n",
       "      <td>8.743066</td>\n",
       "      <td>0.581242</td>\n",
       "      <td>0.720453</td>\n",
       "      <td>253</td>\n",
       "    </tr>\n",
       "    <tr>\n",
       "      <th>1422</th>\n",
       "      <td>3.661225</td>\n",
       "      <td>3.798296</td>\n",
       "      <td>17</td>\n",
       "      <td>21</td>\n",
       "      <td>17</td>\n",
       "      <td>3.661225</td>\n",
       "      <td>3.798296</td>\n",
       "      <td>7.459522</td>\n",
       "      <td>0.490812</td>\n",
       "      <td>0.963912</td>\n",
       "      <td>43</td>\n",
       "    </tr>\n",
       "    <tr>\n",
       "      <th>1423</th>\n",
       "      <td>3.798296</td>\n",
       "      <td>3.616675</td>\n",
       "      <td>21</td>\n",
       "      <td>17</td>\n",
       "      <td>23</td>\n",
       "      <td>3.616675</td>\n",
       "      <td>3.798296</td>\n",
       "      <td>7.414971</td>\n",
       "      <td>0.512247</td>\n",
       "      <td>0.952183</td>\n",
       "      <td>40</td>\n",
       "    </tr>\n",
       "    <tr>\n",
       "      <th>1424</th>\n",
       "      <td>3.616675</td>\n",
       "      <td>3.632765</td>\n",
       "      <td>17</td>\n",
       "      <td>23</td>\n",
       "      <td>21</td>\n",
       "      <td>3.616675</td>\n",
       "      <td>3.632765</td>\n",
       "      <td>7.249439</td>\n",
       "      <td>0.498890</td>\n",
       "      <td>0.995571</td>\n",
       "      <td>32</td>\n",
       "    </tr>\n",
       "  </tbody>\n",
       "</table>\n",
       "<p>1385 rows × 11 columns</p>\n",
       "</div>"
      ],
      "text/plain": [
       "      intervals1  intervals2  label1  label2  label3  s_interval  l_interval  \\\n",
       "0       5.130000    5.561386      21      12      21    5.130000    5.561386   \n",
       "1       5.561386    6.478614      12      21      12    5.561386    6.478614   \n",
       "2       6.478614    4.543164      21      12      17    4.543164    6.478614   \n",
       "3       4.543164    5.819602      12      17      10    4.543164    5.819602   \n",
       "4       5.819602    6.558344      17      10      10    5.819602    6.558344   \n",
       "...          ...         ...     ...     ...     ...         ...         ...   \n",
       "1420    3.961331    5.081841      21      21      17    3.961331    5.081841   \n",
       "1421    5.081841    3.661225      21      17      21    3.661225    5.081841   \n",
       "1422    3.661225    3.798296      17      21      17    3.661225    3.798296   \n",
       "1423    3.798296    3.616675      21      17      23    3.616675    3.798296   \n",
       "1424    3.616675    3.632765      17      23      21    3.616675    3.632765   \n",
       "\n",
       "      cycle_dur  ratio_roeske  ratio_custom  cycle_rank  \n",
       "0     10.691386      0.479826      0.922432         972  \n",
       "1     12.040000      0.461909      0.858422        1225  \n",
       "2     11.021778      0.587801      0.701256        1064  \n",
       "3     10.362766      0.438412      0.780666         875  \n",
       "4     12.377946      0.470159      0.887358        1260  \n",
       "...         ...           ...           ...         ...  \n",
       "1420   9.043172      0.438047      0.779507         354  \n",
       "1421   8.743066      0.581242      0.720453         253  \n",
       "1422   7.459522      0.490812      0.963912          43  \n",
       "1423   7.414971      0.512247      0.952183          40  \n",
       "1424   7.249439      0.498890      0.995571          32  \n",
       "\n",
       "[1385 rows x 11 columns]"
      ]
     },
     "execution_count": 36,
     "metadata": {},
     "output_type": "execute_result"
    }
   ],
   "source": [
    "sequential_phrase = dyadic.sort_index()\n",
    "sequential_phrase"
   ]
  },
  {
   "cell_type": "code",
   "execution_count": 37,
   "id": "4fb56008",
   "metadata": {},
   "outputs": [],
   "source": [
    "p_IOI = list(sequential_phrase['intervals1'].values)\n",
    "p_IOI.append(sequential_phrase['intervals2'].values[-1])"
   ]
  },
  {
   "cell_type": "code",
   "execution_count": 38,
   "id": "f38e02f6",
   "metadata": {},
   "outputs": [
    {
     "data": {
      "text/plain": [
       "(5.04752333470787, 4.992407931197886, 5.102638738217855)"
      ]
     },
     "execution_count": 38,
     "metadata": {},
     "output_type": "execute_result"
    }
   ],
   "source": [
    "mean_confidence_interval(p_IOI, confidence=0.95)"
   ]
  }
 ],
 "metadata": {
  "kernelspec": {
   "display_name": "pbb",
   "language": "python",
   "name": "pbb"
  },
  "language_info": {
   "codemirror_mode": {
    "name": "ipython",
    "version": 3
   },
   "file_extension": ".py",
   "mimetype": "text/x-python",
   "name": "python",
   "nbconvert_exporter": "python",
   "pygments_lexer": "ipython3",
   "version": "3.10.0"
  }
 },
 "nbformat": 4,
 "nbformat_minor": 5
}
