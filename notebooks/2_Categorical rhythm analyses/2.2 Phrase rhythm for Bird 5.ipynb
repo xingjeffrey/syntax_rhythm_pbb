{
 "cells": [
  {
   "cell_type": "markdown",
   "id": "9549e7c0",
   "metadata": {},
   "source": [
    "***\n",
    "# 2.1 Phrase rhythm for Bird 5\n",
    "### JX, 03/08/2022\n",
    "***\n",
    "    Bird5:\n",
    "    LS110131.10.9.2015GeoPool.aiff\n",
    "    LS110136.10.10.2015GeoGreens.aiff\n",
    "    LS110143.10.12.2015GeoGreens.aiff\n",
    "    LS110146A.10.13.2015GeoGreens.aiff\n",
    "    \n",
    "***"
   ]
  },
  {
   "cell_type": "markdown",
   "id": "fffff910",
   "metadata": {},
   "source": [
    "## Specify Locations"
   ]
  },
  {
   "cell_type": "code",
   "execution_count": 1,
   "id": "a3db957d",
   "metadata": {},
   "outputs": [],
   "source": [
    "from butcherbird.utils.paths import DATA_DIR"
   ]
  },
  {
   "cell_type": "code",
   "execution_count": 2,
   "id": "73b17a57",
   "metadata": {},
   "outputs": [],
   "source": [
    "indv = \"Bird5\""
   ]
  },
  {
   "cell_type": "code",
   "execution_count": 3,
   "id": "153564ba",
   "metadata": {},
   "outputs": [],
   "source": [
    "SAVE_LOC = 'interim/fine_labels/butcherbird_note_df_'+indv+'_fine.pickle'\n",
    "SAVE_LOC = DATA_DIR / SAVE_LOC"
   ]
  },
  {
   "cell_type": "markdown",
   "id": "62d55cab",
   "metadata": {},
   "source": [
    "## Load in Data"
   ]
  },
  {
   "cell_type": "code",
   "execution_count": 4,
   "id": "08a3a7e1",
   "metadata": {},
   "outputs": [],
   "source": [
    "import pandas as pd"
   ]
  },
  {
   "cell_type": "code",
   "execution_count": 5,
   "id": "4ffd65d8",
   "metadata": {},
   "outputs": [],
   "source": [
    "indv_df = pd.read_pickle(SAVE_LOC)"
   ]
  },
  {
   "cell_type": "code",
   "execution_count": 6,
   "id": "a0030a8e",
   "metadata": {},
   "outputs": [
    {
     "data": {
      "text/html": [
       "<div>\n",
       "<style scoped>\n",
       "    .dataframe tbody tr th:only-of-type {\n",
       "        vertical-align: middle;\n",
       "    }\n",
       "\n",
       "    .dataframe tbody tr th {\n",
       "        vertical-align: top;\n",
       "    }\n",
       "\n",
       "    .dataframe thead th {\n",
       "        text-align: right;\n",
       "    }\n",
       "</style>\n",
       "<table border=\"1\" class=\"dataframe\">\n",
       "  <thead>\n",
       "    <tr style=\"text-align: right;\">\n",
       "      <th></th>\n",
       "      <th>phrase_nb</th>\n",
       "      <th>phrase_strt</th>\n",
       "      <th>phrase_end</th>\n",
       "      <th>phrase_len</th>\n",
       "      <th>note_cnt</th>\n",
       "      <th>note_nb</th>\n",
       "      <th>note_strt</th>\n",
       "      <th>note_end</th>\n",
       "      <th>note_len</th>\n",
       "      <th>indv</th>\n",
       "      <th>...</th>\n",
       "      <th>key</th>\n",
       "      <th>audio</th>\n",
       "      <th>rate</th>\n",
       "      <th>spectrogram</th>\n",
       "      <th>umap</th>\n",
       "      <th>hdbscan_labels</th>\n",
       "      <th>recur_labels</th>\n",
       "      <th>recur_labels_id</th>\n",
       "      <th>lasso_labels</th>\n",
       "      <th>seq_id</th>\n",
       "    </tr>\n",
       "  </thead>\n",
       "  <tbody>\n",
       "    <tr>\n",
       "      <th>0</th>\n",
       "      <td>0</td>\n",
       "      <td>513.780000</td>\n",
       "      <td>517.061923</td>\n",
       "      <td>3.281923</td>\n",
       "      <td>15</td>\n",
       "      <td>0</td>\n",
       "      <td>513.780000</td>\n",
       "      <td>513.905214</td>\n",
       "      <td>0.125214</td>\n",
       "      <td>Bird5</td>\n",
       "      <td>...</td>\n",
       "      <td>LS110143.10.12.2015GeoGreens_dn</td>\n",
       "      <td>[-0.0, -7.356902671940375e-05, -0.000162745769...</td>\n",
       "      <td>44100</td>\n",
       "      <td>[[0, 0, 0, 0, 0, 0, 0, 0, 0, 0, 0, 0, 0, 0, 0,...</td>\n",
       "      <td>[4.8774133, 15.248685]</td>\n",
       "      <td>16</td>\n",
       "      <td>16|1|0|nan|nan|nan|nan|nan|nan</td>\n",
       "      <td>87</td>\n",
       "      <td>42</td>\n",
       "      <td>0</td>\n",
       "    </tr>\n",
       "    <tr>\n",
       "      <th>1</th>\n",
       "      <td>0</td>\n",
       "      <td>513.780000</td>\n",
       "      <td>517.061923</td>\n",
       "      <td>3.281923</td>\n",
       "      <td>15</td>\n",
       "      <td>1</td>\n",
       "      <td>513.917747</td>\n",
       "      <td>513.980936</td>\n",
       "      <td>0.063188</td>\n",
       "      <td>Bird5</td>\n",
       "      <td>...</td>\n",
       "      <td>LS110143.10.12.2015GeoGreens_dn</td>\n",
       "      <td>[0.0, 0.0014728324725323874, 0.002769917049663...</td>\n",
       "      <td>44100</td>\n",
       "      <td>[[0, 0, 0, 0, 0, 0, 0, 0, 0, 0, 0, 0, 0, 0, 0,...</td>\n",
       "      <td>[6.9320498, 10.134182]</td>\n",
       "      <td>13</td>\n",
       "      <td>13|1|0|1.0|0.0|1.0|0.0|nan|nan</td>\n",
       "      <td>45</td>\n",
       "      <td>52</td>\n",
       "      <td>0</td>\n",
       "    </tr>\n",
       "    <tr>\n",
       "      <th>2</th>\n",
       "      <td>0</td>\n",
       "      <td>513.780000</td>\n",
       "      <td>517.061923</td>\n",
       "      <td>3.281923</td>\n",
       "      <td>15</td>\n",
       "      <td>2</td>\n",
       "      <td>514.170000</td>\n",
       "      <td>514.480698</td>\n",
       "      <td>0.310698</td>\n",
       "      <td>Bird5</td>\n",
       "      <td>...</td>\n",
       "      <td>LS110143.10.12.2015GeoGreens_dn</td>\n",
       "      <td>[0.0, 4.4531726447127805e-05, 4.62385657049665...</td>\n",
       "      <td>44100</td>\n",
       "      <td>[[0, 0, 0, 0, 0, 0, 0, 0, 0, 0, 0, 0, 0, 0, 0,...</td>\n",
       "      <td>[8.438871, 21.151648]</td>\n",
       "      <td>5</td>\n",
       "      <td>5|2|0|0.0|nan|nan|nan|nan|nan</td>\n",
       "      <td>143</td>\n",
       "      <td>3</td>\n",
       "      <td>0</td>\n",
       "    </tr>\n",
       "    <tr>\n",
       "      <th>3</th>\n",
       "      <td>0</td>\n",
       "      <td>513.780000</td>\n",
       "      <td>517.061923</td>\n",
       "      <td>3.281923</td>\n",
       "      <td>15</td>\n",
       "      <td>3</td>\n",
       "      <td>514.620783</td>\n",
       "      <td>515.310000</td>\n",
       "      <td>0.689217</td>\n",
       "      <td>Bird5</td>\n",
       "      <td>...</td>\n",
       "      <td>LS110143.10.12.2015GeoGreens_dn</td>\n",
       "      <td>[-0.0, -3.2631556531601904e-06, -7.44037823939...</td>\n",
       "      <td>44100</td>\n",
       "      <td>[[0, 0, 0, 0, 0, 0, 0, 0, 0, 0, 0, 0, 0, 0, 0,...</td>\n",
       "      <td>[19.637224, -5.1326833]</td>\n",
       "      <td>7</td>\n",
       "      <td>7|0|1|0.0|nan|nan|nan|nan|nan</td>\n",
       "      <td>151</td>\n",
       "      <td>20</td>\n",
       "      <td>0</td>\n",
       "    </tr>\n",
       "    <tr>\n",
       "      <th>4</th>\n",
       "      <td>0</td>\n",
       "      <td>513.780000</td>\n",
       "      <td>517.061923</td>\n",
       "      <td>3.281923</td>\n",
       "      <td>15</td>\n",
       "      <td>4</td>\n",
       "      <td>515.355217</td>\n",
       "      <td>515.660180</td>\n",
       "      <td>0.304964</td>\n",
       "      <td>Bird5</td>\n",
       "      <td>...</td>\n",
       "      <td>LS110143.10.12.2015GeoGreens_dn</td>\n",
       "      <td>[-0.0, -2.958346783314775e-05, -7.119856074752...</td>\n",
       "      <td>44100</td>\n",
       "      <td>[[0, 0, 0, 0, 0, 0, 0, 0, 0, 0, 0, 0, 0, 0, 0,...</td>\n",
       "      <td>[9.055997, -1.52321]</td>\n",
       "      <td>12</td>\n",
       "      <td>12|1|0|nan|nan|nan|nan|nan|nan</td>\n",
       "      <td>38</td>\n",
       "      <td>14</td>\n",
       "      <td>0</td>\n",
       "    </tr>\n",
       "    <tr>\n",
       "      <th>...</th>\n",
       "      <td>...</td>\n",
       "      <td>...</td>\n",
       "      <td>...</td>\n",
       "      <td>...</td>\n",
       "      <td>...</td>\n",
       "      <td>...</td>\n",
       "      <td>...</td>\n",
       "      <td>...</td>\n",
       "      <td>...</td>\n",
       "      <td>...</td>\n",
       "      <td>...</td>\n",
       "      <td>...</td>\n",
       "      <td>...</td>\n",
       "      <td>...</td>\n",
       "      <td>...</td>\n",
       "      <td>...</td>\n",
       "      <td>...</td>\n",
       "      <td>...</td>\n",
       "      <td>...</td>\n",
       "      <td>...</td>\n",
       "      <td>...</td>\n",
       "    </tr>\n",
       "    <tr>\n",
       "      <th>17325</th>\n",
       "      <td>488</td>\n",
       "      <td>3955.500491</td>\n",
       "      <td>3957.771268</td>\n",
       "      <td>2.270777</td>\n",
       "      <td>16</td>\n",
       "      <td>11</td>\n",
       "      <td>3956.827269</td>\n",
       "      <td>3956.984287</td>\n",
       "      <td>0.157018</td>\n",
       "      <td>Bird5</td>\n",
       "      <td>...</td>\n",
       "      <td>LS110146A.10.13.2015GeoGreens_dn</td>\n",
       "      <td>[-0.0, -0.0003734800289541283, -0.000744419409...</td>\n",
       "      <td>44100</td>\n",
       "      <td>[[0, 0, 0, 0, 0, 0, 0, 0, 0, 0, 0, 0, 0, 0, 0,...</td>\n",
       "      <td>[5.5191817, -9.9033375]</td>\n",
       "      <td>8</td>\n",
       "      <td>8|1|0|nan|nan|nan|nan|nan|nan</td>\n",
       "      <td>161</td>\n",
       "      <td>4</td>\n",
       "      <td>1770</td>\n",
       "    </tr>\n",
       "    <tr>\n",
       "      <th>17326</th>\n",
       "      <td>488</td>\n",
       "      <td>3955.500491</td>\n",
       "      <td>3957.771268</td>\n",
       "      <td>2.270777</td>\n",
       "      <td>16</td>\n",
       "      <td>12</td>\n",
       "      <td>3957.129954</td>\n",
       "      <td>3957.413722</td>\n",
       "      <td>0.283767</td>\n",
       "      <td>Bird5</td>\n",
       "      <td>...</td>\n",
       "      <td>LS110146A.10.13.2015GeoGreens_dn</td>\n",
       "      <td>[-0.0, -5.999877314464557e-06, -1.294964036885...</td>\n",
       "      <td>44100</td>\n",
       "      <td>[[0, 0, 0, 0, 0, 0, 0, 0, 0, 0, 0, 0, 0, 0, 0,...</td>\n",
       "      <td>[17.48298, -3.0183713]</td>\n",
       "      <td>15</td>\n",
       "      <td>15|1|0|nan|nan|nan|nan|nan|nan</td>\n",
       "      <td>81</td>\n",
       "      <td>23</td>\n",
       "      <td>1770</td>\n",
       "    </tr>\n",
       "    <tr>\n",
       "      <th>17327</th>\n",
       "      <td>488</td>\n",
       "      <td>3955.500491</td>\n",
       "      <td>3957.771268</td>\n",
       "      <td>2.270777</td>\n",
       "      <td>16</td>\n",
       "      <td>13</td>\n",
       "      <td>3957.530000</td>\n",
       "      <td>3957.576257</td>\n",
       "      <td>0.046257</td>\n",
       "      <td>Bird5</td>\n",
       "      <td>...</td>\n",
       "      <td>LS110146A.10.13.2015GeoGreens_dn</td>\n",
       "      <td>[-0.0, -0.00020799144552458053, -0.00033384171...</td>\n",
       "      <td>44100</td>\n",
       "      <td>[[0, 0, 0, 0, 0, 0, 0, 0, 0, 0, 0, 0, 0, 0, 0,...</td>\n",
       "      <td>[4.470899, -3.3807]</td>\n",
       "      <td>4</td>\n",
       "      <td>4|1|1|0.0|1.0|0.0|nan|nan|nan</td>\n",
       "      <td>138</td>\n",
       "      <td>63</td>\n",
       "      <td>1770</td>\n",
       "    </tr>\n",
       "    <tr>\n",
       "      <th>17328</th>\n",
       "      <td>488</td>\n",
       "      <td>3955.500491</td>\n",
       "      <td>3957.771268</td>\n",
       "      <td>2.270777</td>\n",
       "      <td>16</td>\n",
       "      <td>14</td>\n",
       "      <td>3957.585716</td>\n",
       "      <td>3957.644361</td>\n",
       "      <td>0.058645</td>\n",
       "      <td>Bird5</td>\n",
       "      <td>...</td>\n",
       "      <td>LS110146A.10.13.2015GeoGreens_dn</td>\n",
       "      <td>[0.0, 0.0007728977791414965, 0.000127507273682...</td>\n",
       "      <td>44100</td>\n",
       "      <td>[[0, 0, 0, 0, 0, 0, 0, 0, 0, 0, 0, 0, 0, 0, 0,...</td>\n",
       "      <td>[4.4345427, -3.3523924]</td>\n",
       "      <td>4</td>\n",
       "      <td>4|1|1|0.0|1.0|0.0|nan|nan|nan</td>\n",
       "      <td>138</td>\n",
       "      <td>63</td>\n",
       "      <td>1770</td>\n",
       "    </tr>\n",
       "    <tr>\n",
       "      <th>17329</th>\n",
       "      <td>488</td>\n",
       "      <td>3955.500491</td>\n",
       "      <td>3957.771268</td>\n",
       "      <td>2.270777</td>\n",
       "      <td>16</td>\n",
       "      <td>15</td>\n",
       "      <td>3957.652874</td>\n",
       "      <td>3957.771268</td>\n",
       "      <td>0.118394</td>\n",
       "      <td>Bird5</td>\n",
       "      <td>...</td>\n",
       "      <td>LS110146A.10.13.2015GeoGreens_dn</td>\n",
       "      <td>[0.0, 0.00011858547843942706, -0.0002786145864...</td>\n",
       "      <td>44100</td>\n",
       "      <td>[[0, 0, 0, 0, 0, 0, 0, 0, 0, 0, 0, 0, 0, 0, 0,...</td>\n",
       "      <td>[4.437637, 13.322912]</td>\n",
       "      <td>17</td>\n",
       "      <td>17|0|1|0.0|nan|nan|nan|nan|nan</td>\n",
       "      <td>89</td>\n",
       "      <td>43</td>\n",
       "      <td>1770</td>\n",
       "    </tr>\n",
       "  </tbody>\n",
       "</table>\n",
       "<p>17330 rows × 21 columns</p>\n",
       "</div>"
      ],
      "text/plain": [
       "       phrase_nb  phrase_strt   phrase_end  phrase_len  note_cnt  note_nb  \\\n",
       "0              0   513.780000   517.061923    3.281923        15        0   \n",
       "1              0   513.780000   517.061923    3.281923        15        1   \n",
       "2              0   513.780000   517.061923    3.281923        15        2   \n",
       "3              0   513.780000   517.061923    3.281923        15        3   \n",
       "4              0   513.780000   517.061923    3.281923        15        4   \n",
       "...          ...          ...          ...         ...       ...      ...   \n",
       "17325        488  3955.500491  3957.771268    2.270777        16       11   \n",
       "17326        488  3955.500491  3957.771268    2.270777        16       12   \n",
       "17327        488  3955.500491  3957.771268    2.270777        16       13   \n",
       "17328        488  3955.500491  3957.771268    2.270777        16       14   \n",
       "17329        488  3955.500491  3957.771268    2.270777        16       15   \n",
       "\n",
       "         note_strt     note_end  note_len   indv  ...  \\\n",
       "0       513.780000   513.905214  0.125214  Bird5  ...   \n",
       "1       513.917747   513.980936  0.063188  Bird5  ...   \n",
       "2       514.170000   514.480698  0.310698  Bird5  ...   \n",
       "3       514.620783   515.310000  0.689217  Bird5  ...   \n",
       "4       515.355217   515.660180  0.304964  Bird5  ...   \n",
       "...            ...          ...       ...    ...  ...   \n",
       "17325  3956.827269  3956.984287  0.157018  Bird5  ...   \n",
       "17326  3957.129954  3957.413722  0.283767  Bird5  ...   \n",
       "17327  3957.530000  3957.576257  0.046257  Bird5  ...   \n",
       "17328  3957.585716  3957.644361  0.058645  Bird5  ...   \n",
       "17329  3957.652874  3957.771268  0.118394  Bird5  ...   \n",
       "\n",
       "                                    key  \\\n",
       "0       LS110143.10.12.2015GeoGreens_dn   \n",
       "1       LS110143.10.12.2015GeoGreens_dn   \n",
       "2       LS110143.10.12.2015GeoGreens_dn   \n",
       "3       LS110143.10.12.2015GeoGreens_dn   \n",
       "4       LS110143.10.12.2015GeoGreens_dn   \n",
       "...                                 ...   \n",
       "17325  LS110146A.10.13.2015GeoGreens_dn   \n",
       "17326  LS110146A.10.13.2015GeoGreens_dn   \n",
       "17327  LS110146A.10.13.2015GeoGreens_dn   \n",
       "17328  LS110146A.10.13.2015GeoGreens_dn   \n",
       "17329  LS110146A.10.13.2015GeoGreens_dn   \n",
       "\n",
       "                                                   audio   rate  \\\n",
       "0      [-0.0, -7.356902671940375e-05, -0.000162745769...  44100   \n",
       "1      [0.0, 0.0014728324725323874, 0.002769917049663...  44100   \n",
       "2      [0.0, 4.4531726447127805e-05, 4.62385657049665...  44100   \n",
       "3      [-0.0, -3.2631556531601904e-06, -7.44037823939...  44100   \n",
       "4      [-0.0, -2.958346783314775e-05, -7.119856074752...  44100   \n",
       "...                                                  ...    ...   \n",
       "17325  [-0.0, -0.0003734800289541283, -0.000744419409...  44100   \n",
       "17326  [-0.0, -5.999877314464557e-06, -1.294964036885...  44100   \n",
       "17327  [-0.0, -0.00020799144552458053, -0.00033384171...  44100   \n",
       "17328  [0.0, 0.0007728977791414965, 0.000127507273682...  44100   \n",
       "17329  [0.0, 0.00011858547843942706, -0.0002786145864...  44100   \n",
       "\n",
       "                                             spectrogram  \\\n",
       "0      [[0, 0, 0, 0, 0, 0, 0, 0, 0, 0, 0, 0, 0, 0, 0,...   \n",
       "1      [[0, 0, 0, 0, 0, 0, 0, 0, 0, 0, 0, 0, 0, 0, 0,...   \n",
       "2      [[0, 0, 0, 0, 0, 0, 0, 0, 0, 0, 0, 0, 0, 0, 0,...   \n",
       "3      [[0, 0, 0, 0, 0, 0, 0, 0, 0, 0, 0, 0, 0, 0, 0,...   \n",
       "4      [[0, 0, 0, 0, 0, 0, 0, 0, 0, 0, 0, 0, 0, 0, 0,...   \n",
       "...                                                  ...   \n",
       "17325  [[0, 0, 0, 0, 0, 0, 0, 0, 0, 0, 0, 0, 0, 0, 0,...   \n",
       "17326  [[0, 0, 0, 0, 0, 0, 0, 0, 0, 0, 0, 0, 0, 0, 0,...   \n",
       "17327  [[0, 0, 0, 0, 0, 0, 0, 0, 0, 0, 0, 0, 0, 0, 0,...   \n",
       "17328  [[0, 0, 0, 0, 0, 0, 0, 0, 0, 0, 0, 0, 0, 0, 0,...   \n",
       "17329  [[0, 0, 0, 0, 0, 0, 0, 0, 0, 0, 0, 0, 0, 0, 0,...   \n",
       "\n",
       "                          umap hdbscan_labels                    recur_labels  \\\n",
       "0       [4.8774133, 15.248685]             16  16|1|0|nan|nan|nan|nan|nan|nan   \n",
       "1       [6.9320498, 10.134182]             13  13|1|0|1.0|0.0|1.0|0.0|nan|nan   \n",
       "2        [8.438871, 21.151648]              5   5|2|0|0.0|nan|nan|nan|nan|nan   \n",
       "3      [19.637224, -5.1326833]              7   7|0|1|0.0|nan|nan|nan|nan|nan   \n",
       "4         [9.055997, -1.52321]             12  12|1|0|nan|nan|nan|nan|nan|nan   \n",
       "...                        ...            ...                             ...   \n",
       "17325  [5.5191817, -9.9033375]              8   8|1|0|nan|nan|nan|nan|nan|nan   \n",
       "17326   [17.48298, -3.0183713]             15  15|1|0|nan|nan|nan|nan|nan|nan   \n",
       "17327      [4.470899, -3.3807]              4   4|1|1|0.0|1.0|0.0|nan|nan|nan   \n",
       "17328  [4.4345427, -3.3523924]              4   4|1|1|0.0|1.0|0.0|nan|nan|nan   \n",
       "17329    [4.437637, 13.322912]             17  17|0|1|0.0|nan|nan|nan|nan|nan   \n",
       "\n",
       "      recur_labels_id  lasso_labels  seq_id  \n",
       "0                  87            42       0  \n",
       "1                  45            52       0  \n",
       "2                 143             3       0  \n",
       "3                 151            20       0  \n",
       "4                  38            14       0  \n",
       "...               ...           ...     ...  \n",
       "17325             161             4    1770  \n",
       "17326              81            23    1770  \n",
       "17327             138            63    1770  \n",
       "17328             138            63    1770  \n",
       "17329              89            43    1770  \n",
       "\n",
       "[17330 rows x 21 columns]"
      ]
     },
     "execution_count": 6,
     "metadata": {},
     "output_type": "execute_result"
    }
   ],
   "source": [
    "indv_df"
   ]
  },
  {
   "cell_type": "markdown",
   "id": "01b5df5b",
   "metadata": {},
   "source": [
    "## Leave only phrase"
   ]
  },
  {
   "cell_type": "code",
   "execution_count": 7,
   "id": "17d4bc9b",
   "metadata": {},
   "outputs": [],
   "source": [
    "indv_df = indv_df.drop_duplicates(subset = 'phrase_strt').reset_index()"
   ]
  },
  {
   "cell_type": "markdown",
   "id": "7bde13c5",
   "metadata": {},
   "source": [
    "## Calculate Empirical Rhythm"
   ]
  },
  {
   "cell_type": "code",
   "execution_count": 8,
   "id": "7e5736b7",
   "metadata": {
    "scrolled": true
   },
   "outputs": [
    {
     "name": "stderr",
     "output_type": "stream",
     "text": [
      "/home/AD/j8xing/syntax_rhythm_pbb/butcherbird/rhythm.py:153: TqdmExperimentalWarning: Using `tqdm.autonotebook.tqdm` in notebook mode. Use `tqdm.tqdm` instead to force console mode (e.g. in jupyter console)\n",
      "  from tqdm.autonotebook import tqdm\n"
     ]
    }
   ],
   "source": [
    "import butcherbird.rhythm as rhythm\n",
    "import seaborn as sns"
   ]
  },
  {
   "cell_type": "code",
   "execution_count": 9,
   "id": "a2e29cdc",
   "metadata": {
    "scrolled": true
   },
   "outputs": [],
   "source": [
    "dyadic = rhythm.construct_rhythm_df(\n",
    "    onsets = indv_df['phrase_strt'], \n",
    "    syntactic_units = indv_df['hdbscan_labels'], \n",
    "    expected_interval_range = [0, 10]\n",
    ")"
   ]
  },
  {
   "cell_type": "code",
   "execution_count": 10,
   "id": "8db7d7df",
   "metadata": {
    "scrolled": false
   },
   "outputs": [
    {
     "data": {
      "text/html": [
       "<div>\n",
       "<style scoped>\n",
       "    .dataframe tbody tr th:only-of-type {\n",
       "        vertical-align: middle;\n",
       "    }\n",
       "\n",
       "    .dataframe tbody tr th {\n",
       "        vertical-align: top;\n",
       "    }\n",
       "\n",
       "    .dataframe thead th {\n",
       "        text-align: right;\n",
       "    }\n",
       "</style>\n",
       "<table border=\"1\" class=\"dataframe\">\n",
       "  <thead>\n",
       "    <tr style=\"text-align: right;\">\n",
       "      <th></th>\n",
       "      <th>intervals1</th>\n",
       "      <th>intervals2</th>\n",
       "      <th>label1</th>\n",
       "      <th>label2</th>\n",
       "      <th>label3</th>\n",
       "      <th>s_interval</th>\n",
       "      <th>l_interval</th>\n",
       "      <th>cycle_dur</th>\n",
       "      <th>ratio_roeske</th>\n",
       "      <th>ratio_custom</th>\n",
       "      <th>cycle_rank</th>\n",
       "    </tr>\n",
       "  </thead>\n",
       "  <tbody>\n",
       "    <tr>\n",
       "      <th>610</th>\n",
       "      <td>2.236893</td>\n",
       "      <td>3.368277</td>\n",
       "      <td>9</td>\n",
       "      <td>9</td>\n",
       "      <td>8</td>\n",
       "      <td>2.236893</td>\n",
       "      <td>3.368277</td>\n",
       "      <td>5.605170</td>\n",
       "      <td>0.399077</td>\n",
       "      <td>0.664106</td>\n",
       "      <td>1</td>\n",
       "    </tr>\n",
       "    <tr>\n",
       "      <th>565</th>\n",
       "      <td>3.070000</td>\n",
       "      <td>3.300000</td>\n",
       "      <td>10</td>\n",
       "      <td>15</td>\n",
       "      <td>8</td>\n",
       "      <td>3.070000</td>\n",
       "      <td>3.300000</td>\n",
       "      <td>6.370000</td>\n",
       "      <td>0.481947</td>\n",
       "      <td>0.930303</td>\n",
       "      <td>2</td>\n",
       "    </tr>\n",
       "    <tr>\n",
       "      <th>609</th>\n",
       "      <td>4.134830</td>\n",
       "      <td>2.236893</td>\n",
       "      <td>3</td>\n",
       "      <td>9</td>\n",
       "      <td>9</td>\n",
       "      <td>2.236893</td>\n",
       "      <td>4.134830</td>\n",
       "      <td>6.371723</td>\n",
       "      <td>0.648934</td>\n",
       "      <td>0.540988</td>\n",
       "      <td>3</td>\n",
       "    </tr>\n",
       "    <tr>\n",
       "      <th>557</th>\n",
       "      <td>3.485528</td>\n",
       "      <td>3.200281</td>\n",
       "      <td>17</td>\n",
       "      <td>8</td>\n",
       "      <td>9</td>\n",
       "      <td>3.200281</td>\n",
       "      <td>3.485528</td>\n",
       "      <td>6.685809</td>\n",
       "      <td>0.521332</td>\n",
       "      <td>0.918162</td>\n",
       "      <td>4</td>\n",
       "    </tr>\n",
       "    <tr>\n",
       "      <th>558</th>\n",
       "      <td>3.200281</td>\n",
       "      <td>3.519503</td>\n",
       "      <td>8</td>\n",
       "      <td>9</td>\n",
       "      <td>4</td>\n",
       "      <td>3.200281</td>\n",
       "      <td>3.519503</td>\n",
       "      <td>6.719784</td>\n",
       "      <td>0.476248</td>\n",
       "      <td>0.909299</td>\n",
       "      <td>5</td>\n",
       "    </tr>\n",
       "    <tr>\n",
       "      <th>...</th>\n",
       "      <td>...</td>\n",
       "      <td>...</td>\n",
       "      <td>...</td>\n",
       "      <td>...</td>\n",
       "      <td>...</td>\n",
       "      <td>...</td>\n",
       "      <td>...</td>\n",
       "      <td>...</td>\n",
       "      <td>...</td>\n",
       "      <td>...</td>\n",
       "      <td>...</td>\n",
       "    </tr>\n",
       "    <tr>\n",
       "      <th>1358</th>\n",
       "      <td>9.100000</td>\n",
       "      <td>9.570000</td>\n",
       "      <td>8</td>\n",
       "      <td>8</td>\n",
       "      <td>15</td>\n",
       "      <td>9.100000</td>\n",
       "      <td>9.570000</td>\n",
       "      <td>18.670000</td>\n",
       "      <td>0.487413</td>\n",
       "      <td>0.950888</td>\n",
       "      <td>1603</td>\n",
       "    </tr>\n",
       "    <tr>\n",
       "      <th>1291</th>\n",
       "      <td>9.810000</td>\n",
       "      <td>8.940000</td>\n",
       "      <td>8</td>\n",
       "      <td>3</td>\n",
       "      <td>15</td>\n",
       "      <td>8.940000</td>\n",
       "      <td>9.810000</td>\n",
       "      <td>18.750000</td>\n",
       "      <td>0.523200</td>\n",
       "      <td>0.911315</td>\n",
       "      <td>1604</td>\n",
       "    </tr>\n",
       "    <tr>\n",
       "      <th>855</th>\n",
       "      <td>9.450000</td>\n",
       "      <td>9.400000</td>\n",
       "      <td>9</td>\n",
       "      <td>10</td>\n",
       "      <td>8</td>\n",
       "      <td>9.400000</td>\n",
       "      <td>9.450000</td>\n",
       "      <td>18.850000</td>\n",
       "      <td>0.501326</td>\n",
       "      <td>0.994709</td>\n",
       "      <td>1605</td>\n",
       "    </tr>\n",
       "    <tr>\n",
       "      <th>1339</th>\n",
       "      <td>9.290000</td>\n",
       "      <td>9.610000</td>\n",
       "      <td>17</td>\n",
       "      <td>15</td>\n",
       "      <td>14</td>\n",
       "      <td>9.290000</td>\n",
       "      <td>9.610000</td>\n",
       "      <td>18.900000</td>\n",
       "      <td>0.491534</td>\n",
       "      <td>0.966701</td>\n",
       "      <td>1606</td>\n",
       "    </tr>\n",
       "    <tr>\n",
       "      <th>891</th>\n",
       "      <td>9.386364</td>\n",
       "      <td>9.613636</td>\n",
       "      <td>8</td>\n",
       "      <td>9</td>\n",
       "      <td>10</td>\n",
       "      <td>9.386364</td>\n",
       "      <td>9.613636</td>\n",
       "      <td>19.000000</td>\n",
       "      <td>0.494019</td>\n",
       "      <td>0.976359</td>\n",
       "      <td>1607</td>\n",
       "    </tr>\n",
       "  </tbody>\n",
       "</table>\n",
       "<p>1607 rows × 11 columns</p>\n",
       "</div>"
      ],
      "text/plain": [
       "      intervals1  intervals2  label1  label2  label3  s_interval  l_interval  \\\n",
       "610     2.236893    3.368277       9       9       8    2.236893    3.368277   \n",
       "565     3.070000    3.300000      10      15       8    3.070000    3.300000   \n",
       "609     4.134830    2.236893       3       9       9    2.236893    4.134830   \n",
       "557     3.485528    3.200281      17       8       9    3.200281    3.485528   \n",
       "558     3.200281    3.519503       8       9       4    3.200281    3.519503   \n",
       "...          ...         ...     ...     ...     ...         ...         ...   \n",
       "1358    9.100000    9.570000       8       8      15    9.100000    9.570000   \n",
       "1291    9.810000    8.940000       8       3      15    8.940000    9.810000   \n",
       "855     9.450000    9.400000       9      10       8    9.400000    9.450000   \n",
       "1339    9.290000    9.610000      17      15      14    9.290000    9.610000   \n",
       "891     9.386364    9.613636       8       9      10    9.386364    9.613636   \n",
       "\n",
       "      cycle_dur  ratio_roeske  ratio_custom  cycle_rank  \n",
       "610    5.605170      0.399077      0.664106           1  \n",
       "565    6.370000      0.481947      0.930303           2  \n",
       "609    6.371723      0.648934      0.540988           3  \n",
       "557    6.685809      0.521332      0.918162           4  \n",
       "558    6.719784      0.476248      0.909299           5  \n",
       "...         ...           ...           ...         ...  \n",
       "1358  18.670000      0.487413      0.950888        1603  \n",
       "1291  18.750000      0.523200      0.911315        1604  \n",
       "855   18.850000      0.501326      0.994709        1605  \n",
       "1339  18.900000      0.491534      0.966701        1606  \n",
       "891   19.000000      0.494019      0.976359        1607  \n",
       "\n",
       "[1607 rows x 11 columns]"
      ]
     },
     "execution_count": 10,
     "metadata": {},
     "output_type": "execute_result"
    }
   ],
   "source": [
    "dyadic"
   ]
  },
  {
   "cell_type": "code",
   "execution_count": 11,
   "id": "d1e0c16a",
   "metadata": {},
   "outputs": [
    {
     "data": {
      "text/plain": [
       "<AxesSubplot:xlabel='ratio_roeske', ylabel='Count'>"
      ]
     },
     "execution_count": 11,
     "metadata": {},
     "output_type": "execute_result"
    },
    {
     "data": {
      "image/png": "[encoded data removed]",
      "text/plain": [
       "<Figure size 432x288 with 1 Axes>"
      ]
     },
     "metadata": {
      "needs_background": "light"
     },
     "output_type": "display_data"
    }
   ],
   "source": [
    "sns.histplot(dyadic['ratio_roeske'])"
   ]
  },
  {
   "cell_type": "code",
   "execution_count": 12,
   "id": "cdbecdb1",
   "metadata": {},
   "outputs": [
    {
     "data": {
      "text/plain": [
       "<AxesSubplot:xlabel='intervals1', ylabel='Count'>"
      ]
     },
     "execution_count": 12,
     "metadata": {},
     "output_type": "execute_result"
    },
    {
     "data": {
      "image/png": "[encoded data removed]",
      "text/plain": [
       "<Figure size 432x288 with 1 Axes>"
      ]
     },
     "metadata": {
      "needs_background": "light"
     },
     "output_type": "display_data"
    }
   ],
   "source": [
    "sns.histplot(dyadic['intervals1'])"
   ]
  },
  {
   "cell_type": "markdown",
   "id": "919e2a53",
   "metadata": {},
   "source": [
    "## Calculate Uniform Rhythm\n",
    "> Uniform rhythm is calculated under the assumption that interval lengths are uniformly distributed between a minimum and maximum interval length.  "
   ]
  },
  {
   "cell_type": "code",
   "execution_count": 13,
   "id": "b60124e1",
   "metadata": {},
   "outputs": [],
   "source": [
    "n = 1000"
   ]
  },
  {
   "cell_type": "code",
   "execution_count": 14,
   "id": "88974449",
   "metadata": {},
   "outputs": [],
   "source": [
    "import numpy as np\n",
    "import numpy.random as random"
   ]
  },
  {
   "cell_type": "code",
   "execution_count": 15,
   "id": "1acdacdc",
   "metadata": {},
   "outputs": [],
   "source": [
    "interval_min = np.min([dyadic['intervals1'].values, dyadic['intervals2']])\n",
    "interval_max = np.max([dyadic['intervals1'].values, dyadic['intervals2']])"
   ]
  },
  {
   "cell_type": "code",
   "execution_count": 16,
   "id": "816ef432",
   "metadata": {},
   "outputs": [],
   "source": [
    "interval1_uni = random.uniform(low = interval_min, high = interval_max, size = len(dyadic) * n)\n",
    "interval2_uni = random.uniform(low = interval_min, high = interval_max, size = len(dyadic) * n)\n",
    "uni_ratio = interval1_uni / (interval1_uni + interval2_uni)"
   ]
  },
  {
   "cell_type": "code",
   "execution_count": 17,
   "id": "74658e4e",
   "metadata": {},
   "outputs": [
    {
     "data": {
      "text/plain": [
       "<AxesSubplot:ylabel='Count'>"
      ]
     },
     "execution_count": 17,
     "metadata": {},
     "output_type": "execute_result"
    },
    {
     "data": {
      "image/png": "[encoded data removed]",
      "text/plain": [
       "<Figure size 432x288 with 1 Axes>"
      ]
     },
     "metadata": {
      "needs_background": "light"
     },
     "output_type": "display_data"
    }
   ],
   "source": [
    "sns.histplot(uni_ratio)"
   ]
  },
  {
   "cell_type": "markdown",
   "id": "d224676f",
   "metadata": {},
   "source": [
    "## Calculate Shuffled Rhythm\n",
    "> Shuffled rhythm is calculated under the assumption that interval lengths are bootstrapped from the empirical distribution, but the consecutive order of intervals are shuffled. "
   ]
  },
  {
   "cell_type": "code",
   "execution_count": 18,
   "id": "bbf68abf",
   "metadata": {},
   "outputs": [],
   "source": [
    "interval1_sf = dyadic['intervals1'].sample(frac = n, replace = True).values\n",
    "interval2_sf = dyadic['intervals2'].sample(frac = n, replace = True).values\n",
    "sf_ratio = interval1_sf / (interval1_sf + interval2_sf)"
   ]
  },
  {
   "cell_type": "code",
   "execution_count": 19,
   "id": "10743e69",
   "metadata": {},
   "outputs": [
    {
     "data": {
      "text/plain": [
       "<AxesSubplot:ylabel='Count'>"
      ]
     },
     "execution_count": 19,
     "metadata": {},
     "output_type": "execute_result"
    },
    {
     "data": {
      "image/png": "[encoded data removed]",
      "text/plain": [
       "<Figure size 432x288 with 1 Axes>"
      ]
     },
     "metadata": {
      "needs_background": "light"
     },
     "output_type": "display_data"
    }
   ],
   "source": [
    "sns.histplot(sf_ratio)"
   ]
  },
  {
   "cell_type": "markdown",
   "id": "f4ef0b1f",
   "metadata": {},
   "source": [
    "## Calculate Shuffled Phrase + Gap\n",
    "> Shuffled Note + Gap rhythm is calculated under the assumption that note length and inter-note gaps are independently shuffled."
   ]
  },
  {
   "cell_type": "code",
   "execution_count": 20,
   "id": "98e19bef",
   "metadata": {},
   "outputs": [],
   "source": [
    "import numpy.random as random"
   ]
  },
  {
   "cell_type": "code",
   "execution_count": 21,
   "id": "e86b6c7d",
   "metadata": {},
   "outputs": [],
   "source": [
    "# find all gaps and their positions\n",
    "grand_gaps = indv_df['phrase_strt'][1:].values - indv_df['phrase_end'][:-1].values\n",
    "    \n",
    "grand_gaps = np.hstack(grand_gaps)\n",
    "grand_gaps = grand_gaps[grand_gaps < 10] ## gaps that are more than 10 seconds long are noise\n",
    "grand_gaps = grand_gaps[grand_gaps > 0] ## gaps shouldn't be negative"
   ]
  },
  {
   "cell_type": "code",
   "execution_count": 22,
   "id": "619fa531",
   "metadata": {},
   "outputs": [],
   "source": [
    "df_lg = []\n",
    "\n",
    "for i in np.arange(0, n):\n",
    "    ## randomly shuffle gaps\n",
    "    random.shuffle(grand_gaps)\n",
    "    ## add to randomly shuffled lengths\n",
    "    shuffled_lg = grand_gaps + indv_df['phrase_len'].sample(n = len(grand_gaps), replace = True).values\n",
    "    \n",
    "    shuffled_lg_i1 = shuffled_lg[:-1]\n",
    "    shuffled_lg_i2 = shuffled_lg[1:]\n",
    "    \n",
    "    df_lg.append(shuffled_lg_i1 / (shuffled_lg_i1 + shuffled_lg_i2))"
   ]
  },
  {
   "cell_type": "code",
   "execution_count": 23,
   "id": "f586fa7e",
   "metadata": {},
   "outputs": [],
   "source": [
    "lg_ratio = np.hstack(df_lg)"
   ]
  },
  {
   "cell_type": "code",
   "execution_count": 24,
   "id": "85ca084c",
   "metadata": {},
   "outputs": [
    {
     "data": {
      "text/plain": [
       "<AxesSubplot:ylabel='Count'>"
      ]
     },
     "execution_count": 24,
     "metadata": {},
     "output_type": "execute_result"
    },
    {
     "data": {
      "image/png": "[encoded data removed]",
      "text/plain": [
       "<Figure size 432x288 with 1 Axes>"
      ]
     },
     "metadata": {
      "needs_background": "light"
     },
     "output_type": "display_data"
    }
   ],
   "source": [
    "sns.histplot(lg_ratio)"
   ]
  },
  {
   "cell_type": "markdown",
   "id": "8267c8eb",
   "metadata": {},
   "source": [
    "## Draw Figure"
   ]
  },
  {
   "cell_type": "code",
   "execution_count": 25,
   "id": "9134a980",
   "metadata": {},
   "outputs": [],
   "source": [
    "import matplotlib.pyplot as plt\n",
    "from matplotlib.pyplot import figure\n",
    "from butcherbird.utils.paths import FIGURE_DIR"
   ]
  },
  {
   "cell_type": "code",
   "execution_count": 26,
   "id": "3073c4d8",
   "metadata": {
    "scrolled": false
   },
   "outputs": [
    {
     "data": {
      "image/png": "[encoded data removed]",
      "text/plain": [
       "<Figure size 2400x1800 with 1 Axes>"
      ]
     },
     "metadata": {
      "needs_background": "light"
     },
     "output_type": "display_data"
    }
   ],
   "source": [
    "figure(figsize = (8, 6), dpi = 300)\n",
    "\n",
    "plt.rcParams['patch.edgecolor'] = 'none'\n",
    "\n",
    "fig = sns.histplot(\n",
    "    x = dyadic['ratio_roeske'],\n",
    "    binwidth = 0.01,\n",
    "    stat=\"density\",\n",
    "    color = '#6D6C9E',\n",
    "    fill = '#6D6C9E',\n",
    "    kde = True\n",
    ")\n",
    "\n",
    "uni = sns.histplot(\n",
    "    x = uni_ratio,\n",
    "    stat=\"density\",\n",
    "    alpha = 0,\n",
    "    color = '#FC6983',\n",
    "    kde = True,\n",
    "    line_kws = dict(linestyle = 'dashed')\n",
    ")\n",
    "\n",
    "sf = sns.histplot(\n",
    "    x = sf_ratio,\n",
    "    stat = 'density',\n",
    "    alpha = 0,\n",
    "    kde = True,\n",
    "    color = '#1DB6AB',\n",
    "    line_kws = dict(linestyle = 'dashed')\n",
    ")\n",
    "\n",
    "lg = sns.histplot(\n",
    "    x = lg_ratio,\n",
    "    stat = 'density',\n",
    "    alpha = 0,\n",
    "    kde = True,\n",
    "    color = '#15215B',\n",
    "    line_kws = dict(linestyle = 'dashed')\n",
    ")\n",
    "\n",
    "ax = plt.gca()\n",
    "ax.set_xlim([0, 1])\n",
    "plt.xticks(np.arange(0, 1.25, 0.25))\n",
    "\n",
    "# save\n",
    "figname = 'phrase_rhythm_' + indv + '.svg'\n",
    "plt.savefig(FIGURE_DIR/'categorical_rhythm'/figname)"
   ]
  },
  {
   "cell_type": "markdown",
   "id": "e40ac186",
   "metadata": {},
   "source": [
    "## Do some statistics"
   ]
  },
  {
   "cell_type": "code",
   "execution_count": 27,
   "id": "b98380ac",
   "metadata": {},
   "outputs": [],
   "source": [
    "import scipy"
   ]
  },
  {
   "cell_type": "code",
   "execution_count": 28,
   "id": "7d552280",
   "metadata": {},
   "outputs": [],
   "source": [
    "ks = scipy.stats.ks_2samp(dyadic['ratio_roeske'], sf_ratio)"
   ]
  },
  {
   "cell_type": "code",
   "execution_count": 29,
   "id": "fcca5422",
   "metadata": {},
   "outputs": [
    {
     "data": {
      "text/plain": [
       "1607"
      ]
     },
     "execution_count": 29,
     "metadata": {},
     "output_type": "execute_result"
    }
   ],
   "source": [
    "len(dyadic['ratio_roeske'])"
   ]
  },
  {
   "cell_type": "code",
   "execution_count": 30,
   "id": "eea5f0a6",
   "metadata": {},
   "outputs": [
    {
     "data": {
      "text/plain": [
       "1607000"
      ]
     },
     "execution_count": 30,
     "metadata": {},
     "output_type": "execute_result"
    }
   ],
   "source": [
    "len(sf_ratio)"
   ]
  },
  {
   "cell_type": "code",
   "execution_count": 31,
   "id": "92b1dc08",
   "metadata": {},
   "outputs": [
    {
     "data": {
      "text/plain": [
       "KstestResult(statistic=0.11047853142501556, pvalue=1.61928329983161e-17)"
      ]
     },
     "execution_count": 31,
     "metadata": {},
     "output_type": "execute_result"
    }
   ],
   "source": [
    "ks"
   ]
  },
  {
   "cell_type": "code",
   "execution_count": 36,
   "id": "4bbcc800",
   "metadata": {},
   "outputs": [],
   "source": [
    "kslg = scipy.stats.ks_2samp(dyadic['ratio_roeske'], lg_ratio)"
   ]
  },
  {
   "cell_type": "code",
   "execution_count": 37,
   "id": "4d188af6",
   "metadata": {},
   "outputs": [
    {
     "data": {
      "text/plain": [
       "1688000"
      ]
     },
     "execution_count": 37,
     "metadata": {},
     "output_type": "execute_result"
    }
   ],
   "source": [
    "len(lg_ratio)"
   ]
  },
  {
   "cell_type": "code",
   "execution_count": 38,
   "id": "5e45df72",
   "metadata": {},
   "outputs": [
    {
     "data": {
      "text/plain": [
       "KstestResult(statistic=0.1258447483904836, pvalue=1.2916513273803469e-22)"
      ]
     },
     "execution_count": 38,
     "metadata": {},
     "output_type": "execute_result"
    }
   ],
   "source": [
    "kslg"
   ]
  },
  {
   "cell_type": "markdown",
   "id": "9aca36e4",
   "metadata": {},
   "source": [
    "## Timescale Estimation"
   ]
  },
  {
   "cell_type": "code",
   "execution_count": 32,
   "id": "95cfadf2",
   "metadata": {},
   "outputs": [],
   "source": [
    "import numpy as np\n",
    "import scipy.stats\n",
    "\n",
    "## a standard calculation for confidence interval\n",
    "def mean_confidence_interval(data, confidence=0.95):\n",
    "    a = 1.0 * np.array(data)\n",
    "    n = len(a)\n",
    "    m, se = np.mean(a), scipy.stats.sem(a)\n",
    "    h = se * scipy.stats.t.ppf((1 + confidence) / 2., n-1)\n",
    "    return m, m-h, m+h"
   ]
  },
  {
   "cell_type": "code",
   "execution_count": 33,
   "id": "238426c0",
   "metadata": {},
   "outputs": [
    {
     "data": {
      "text/html": [
       "<div>\n",
       "<style scoped>\n",
       "    .dataframe tbody tr th:only-of-type {\n",
       "        vertical-align: middle;\n",
       "    }\n",
       "\n",
       "    .dataframe tbody tr th {\n",
       "        vertical-align: top;\n",
       "    }\n",
       "\n",
       "    .dataframe thead th {\n",
       "        text-align: right;\n",
       "    }\n",
       "</style>\n",
       "<table border=\"1\" class=\"dataframe\">\n",
       "  <thead>\n",
       "    <tr style=\"text-align: right;\">\n",
       "      <th></th>\n",
       "      <th>intervals1</th>\n",
       "      <th>intervals2</th>\n",
       "      <th>label1</th>\n",
       "      <th>label2</th>\n",
       "      <th>label3</th>\n",
       "      <th>s_interval</th>\n",
       "      <th>l_interval</th>\n",
       "      <th>cycle_dur</th>\n",
       "      <th>ratio_roeske</th>\n",
       "      <th>ratio_custom</th>\n",
       "      <th>cycle_rank</th>\n",
       "    </tr>\n",
       "  </thead>\n",
       "  <tbody>\n",
       "    <tr>\n",
       "      <th>12</th>\n",
       "      <td>7.454046</td>\n",
       "      <td>8.990000</td>\n",
       "      <td>9</td>\n",
       "      <td>8</td>\n",
       "      <td>15</td>\n",
       "      <td>7.454046</td>\n",
       "      <td>8.990000</td>\n",
       "      <td>16.444046</td>\n",
       "      <td>0.453298</td>\n",
       "      <td>0.829149</td>\n",
       "      <td>1508</td>\n",
       "    </tr>\n",
       "    <tr>\n",
       "      <th>13</th>\n",
       "      <td>8.990000</td>\n",
       "      <td>8.700000</td>\n",
       "      <td>8</td>\n",
       "      <td>15</td>\n",
       "      <td>15</td>\n",
       "      <td>8.700000</td>\n",
       "      <td>8.990000</td>\n",
       "      <td>17.690000</td>\n",
       "      <td>0.508197</td>\n",
       "      <td>0.967742</td>\n",
       "      <td>1575</td>\n",
       "    </tr>\n",
       "    <tr>\n",
       "      <th>14</th>\n",
       "      <td>8.700000</td>\n",
       "      <td>8.480000</td>\n",
       "      <td>15</td>\n",
       "      <td>15</td>\n",
       "      <td>10</td>\n",
       "      <td>8.480000</td>\n",
       "      <td>8.700000</td>\n",
       "      <td>17.180000</td>\n",
       "      <td>0.506403</td>\n",
       "      <td>0.974713</td>\n",
       "      <td>1554</td>\n",
       "    </tr>\n",
       "    <tr>\n",
       "      <th>15</th>\n",
       "      <td>8.480000</td>\n",
       "      <td>9.920000</td>\n",
       "      <td>15</td>\n",
       "      <td>10</td>\n",
       "      <td>10</td>\n",
       "      <td>8.480000</td>\n",
       "      <td>9.920000</td>\n",
       "      <td>18.400000</td>\n",
       "      <td>0.460870</td>\n",
       "      <td>0.854839</td>\n",
       "      <td>1598</td>\n",
       "    </tr>\n",
       "    <tr>\n",
       "      <th>16</th>\n",
       "      <td>9.920000</td>\n",
       "      <td>8.630000</td>\n",
       "      <td>10</td>\n",
       "      <td>10</td>\n",
       "      <td>8</td>\n",
       "      <td>8.630000</td>\n",
       "      <td>9.920000</td>\n",
       "      <td>18.550000</td>\n",
       "      <td>0.534771</td>\n",
       "      <td>0.869960</td>\n",
       "      <td>1600</td>\n",
       "    </tr>\n",
       "    <tr>\n",
       "      <th>...</th>\n",
       "      <td>...</td>\n",
       "      <td>...</td>\n",
       "      <td>...</td>\n",
       "      <td>...</td>\n",
       "      <td>...</td>\n",
       "      <td>...</td>\n",
       "      <td>...</td>\n",
       "      <td>...</td>\n",
       "      <td>...</td>\n",
       "      <td>...</td>\n",
       "      <td>...</td>\n",
       "    </tr>\n",
       "    <tr>\n",
       "      <th>1763</th>\n",
       "      <td>5.525083</td>\n",
       "      <td>4.584286</td>\n",
       "      <td>10</td>\n",
       "      <td>9</td>\n",
       "      <td>8</td>\n",
       "      <td>4.584286</td>\n",
       "      <td>5.525083</td>\n",
       "      <td>10.109369</td>\n",
       "      <td>0.546531</td>\n",
       "      <td>0.829723</td>\n",
       "      <td>589</td>\n",
       "    </tr>\n",
       "    <tr>\n",
       "      <th>1764</th>\n",
       "      <td>4.584286</td>\n",
       "      <td>5.392600</td>\n",
       "      <td>9</td>\n",
       "      <td>8</td>\n",
       "      <td>10</td>\n",
       "      <td>4.584286</td>\n",
       "      <td>5.392600</td>\n",
       "      <td>9.976886</td>\n",
       "      <td>0.459491</td>\n",
       "      <td>0.850107</td>\n",
       "      <td>551</td>\n",
       "    </tr>\n",
       "    <tr>\n",
       "      <th>1765</th>\n",
       "      <td>5.392600</td>\n",
       "      <td>4.953114</td>\n",
       "      <td>8</td>\n",
       "      <td>10</td>\n",
       "      <td>4</td>\n",
       "      <td>4.953114</td>\n",
       "      <td>5.392600</td>\n",
       "      <td>10.345714</td>\n",
       "      <td>0.521240</td>\n",
       "      <td>0.918502</td>\n",
       "      <td>655</td>\n",
       "    </tr>\n",
       "    <tr>\n",
       "      <th>1766</th>\n",
       "      <td>4.953114</td>\n",
       "      <td>4.830000</td>\n",
       "      <td>10</td>\n",
       "      <td>4</td>\n",
       "      <td>8</td>\n",
       "      <td>4.830000</td>\n",
       "      <td>4.953114</td>\n",
       "      <td>9.783114</td>\n",
       "      <td>0.506292</td>\n",
       "      <td>0.975144</td>\n",
       "      <td>488</td>\n",
       "    </tr>\n",
       "    <tr>\n",
       "      <th>1767</th>\n",
       "      <td>4.830000</td>\n",
       "      <td>5.410491</td>\n",
       "      <td>4</td>\n",
       "      <td>8</td>\n",
       "      <td>9</td>\n",
       "      <td>4.830000</td>\n",
       "      <td>5.410491</td>\n",
       "      <td>10.240491</td>\n",
       "      <td>0.471657</td>\n",
       "      <td>0.892710</td>\n",
       "      <td>628</td>\n",
       "    </tr>\n",
       "  </tbody>\n",
       "</table>\n",
       "<p>1607 rows × 11 columns</p>\n",
       "</div>"
      ],
      "text/plain": [
       "      intervals1  intervals2  label1  label2  label3  s_interval  l_interval  \\\n",
       "12      7.454046    8.990000       9       8      15    7.454046    8.990000   \n",
       "13      8.990000    8.700000       8      15      15    8.700000    8.990000   \n",
       "14      8.700000    8.480000      15      15      10    8.480000    8.700000   \n",
       "15      8.480000    9.920000      15      10      10    8.480000    9.920000   \n",
       "16      9.920000    8.630000      10      10       8    8.630000    9.920000   \n",
       "...          ...         ...     ...     ...     ...         ...         ...   \n",
       "1763    5.525083    4.584286      10       9       8    4.584286    5.525083   \n",
       "1764    4.584286    5.392600       9       8      10    4.584286    5.392600   \n",
       "1765    5.392600    4.953114       8      10       4    4.953114    5.392600   \n",
       "1766    4.953114    4.830000      10       4       8    4.830000    4.953114   \n",
       "1767    4.830000    5.410491       4       8       9    4.830000    5.410491   \n",
       "\n",
       "      cycle_dur  ratio_roeske  ratio_custom  cycle_rank  \n",
       "12    16.444046      0.453298      0.829149        1508  \n",
       "13    17.690000      0.508197      0.967742        1575  \n",
       "14    17.180000      0.506403      0.974713        1554  \n",
       "15    18.400000      0.460870      0.854839        1598  \n",
       "16    18.550000      0.534771      0.869960        1600  \n",
       "...         ...           ...           ...         ...  \n",
       "1763  10.109369      0.546531      0.829723         589  \n",
       "1764   9.976886      0.459491      0.850107         551  \n",
       "1765  10.345714      0.521240      0.918502         655  \n",
       "1766   9.783114      0.506292      0.975144         488  \n",
       "1767  10.240491      0.471657      0.892710         628  \n",
       "\n",
       "[1607 rows x 11 columns]"
      ]
     },
     "execution_count": 33,
     "metadata": {},
     "output_type": "execute_result"
    }
   ],
   "source": [
    "sequential_phrase = dyadic.sort_index()\n",
    "sequential_phrase"
   ]
  },
  {
   "cell_type": "code",
   "execution_count": 34,
   "id": "4fb56008",
   "metadata": {},
   "outputs": [],
   "source": [
    "p_IOI = list(sequential_phrase['intervals1'].values)\n",
    "p_IOI.append(sequential_phrase['intervals2'].values[-1])"
   ]
  },
  {
   "cell_type": "code",
   "execution_count": 35,
   "id": "f38e02f6",
   "metadata": {},
   "outputs": [
    {
     "data": {
      "text/plain": [
       "(5.7097019766925685, 5.636709605996371, 5.782694347388766)"
      ]
     },
     "execution_count": 35,
     "metadata": {},
     "output_type": "execute_result"
    }
   ],
   "source": [
    "mean_confidence_interval(p_IOI, confidence=0.95)"
   ]
  }
 ],
 "metadata": {
  "kernelspec": {
   "display_name": "pbb",
   "language": "python",
   "name": "pbb"
  },
  "language_info": {
   "codemirror_mode": {
    "name": "ipython",
    "version": 3
   },
   "file_extension": ".py",
   "mimetype": "text/x-python",
   "name": "python",
   "nbconvert_exporter": "python",
   "pygments_lexer": "ipython3",
   "version": "3.10.0"
  }
 },
 "nbformat": 4,
 "nbformat_minor": 5
}
