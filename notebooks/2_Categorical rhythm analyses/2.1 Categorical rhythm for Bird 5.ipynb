{
 "cells": [
  {
   "cell_type": "markdown",
   "id": "01607931",
   "metadata": {},
   "source": [
    "***\n",
    "# 2.1 Categorical rhythm for Bird 5\n",
    "### JX, 03/08/2022\n",
    "***\n",
    "    Bird5:\n",
    "    LS110131.10.9.2015GeoPool.aiff\n",
    "    LS110136.10.10.2015GeoGreens.aiff\n",
    "    LS110143.10.12.2015GeoGreens.aiff\n",
    "    LS110146A.10.13.2015GeoGreens.aiff\n",
    "    \n",
    "***"
   ]
  },
  {
   "cell_type": "markdown",
   "id": "aa770fa7",
   "metadata": {},
   "source": [
    "## Specify Locations"
   ]
  },
  {
   "cell_type": "code",
   "execution_count": 1,
   "id": "30590551",
   "metadata": {},
   "outputs": [],
   "source": [
    "from butcherbird.utils.paths import DATA_DIR"
   ]
  },
  {
   "cell_type": "code",
   "execution_count": 2,
   "id": "d4375558",
   "metadata": {},
   "outputs": [],
   "source": [
    "indv = \"Bird5\""
   ]
  },
  {
   "cell_type": "code",
   "execution_count": 3,
   "id": "153564ba",
   "metadata": {},
   "outputs": [],
   "source": [
    "SAVE_LOC = DATA_DIR/'interim/raw_spectrogram/butcherbird_note_df.pickle'"
   ]
  },
  {
   "cell_type": "markdown",
   "id": "1dbc2310",
   "metadata": {},
   "source": [
    "## Load in Data"
   ]
  },
  {
   "cell_type": "code",
   "execution_count": 4,
   "id": "247a2acc",
   "metadata": {},
   "outputs": [],
   "source": [
    "import pandas as pd"
   ]
  },
  {
   "cell_type": "code",
   "execution_count": 5,
   "id": "4ffd65d8",
   "metadata": {},
   "outputs": [],
   "source": [
    "note_df = pd.read_pickle(SAVE_LOC)"
   ]
  },
  {
   "cell_type": "code",
   "execution_count": 6,
   "id": "478a4eaf",
   "metadata": {},
   "outputs": [],
   "source": [
    "indv_df = note_df[note_df['indv'] == indv].reset_index()"
   ]
  },
  {
   "cell_type": "code",
   "execution_count": 7,
   "id": "4def7083",
   "metadata": {},
   "outputs": [
    {
     "data": {
      "text/html": [
       "<div>\n",
       "<style scoped>\n",
       "    .dataframe tbody tr th:only-of-type {\n",
       "        vertical-align: middle;\n",
       "    }\n",
       "\n",
       "    .dataframe tbody tr th {\n",
       "        vertical-align: top;\n",
       "    }\n",
       "\n",
       "    .dataframe thead th {\n",
       "        text-align: right;\n",
       "    }\n",
       "</style>\n",
       "<table border=\"1\" class=\"dataframe\">\n",
       "  <thead>\n",
       "    <tr style=\"text-align: right;\">\n",
       "      <th></th>\n",
       "      <th>index</th>\n",
       "      <th>phrase_nb</th>\n",
       "      <th>phrase_strt</th>\n",
       "      <th>phrase_end</th>\n",
       "      <th>phrase_len</th>\n",
       "      <th>note_cnt</th>\n",
       "      <th>note_nb</th>\n",
       "      <th>note_strt</th>\n",
       "      <th>note_end</th>\n",
       "      <th>note_len</th>\n",
       "      <th>indv</th>\n",
       "      <th>indvi</th>\n",
       "      <th>key</th>\n",
       "      <th>audio</th>\n",
       "      <th>rate</th>\n",
       "      <th>spectrogram</th>\n",
       "    </tr>\n",
       "  </thead>\n",
       "  <tbody>\n",
       "    <tr>\n",
       "      <th>0</th>\n",
       "      <td>0</td>\n",
       "      <td>0</td>\n",
       "      <td>513.78</td>\n",
       "      <td>517.061923</td>\n",
       "      <td>3.281923</td>\n",
       "      <td>15</td>\n",
       "      <td>0</td>\n",
       "      <td>513.780000</td>\n",
       "      <td>513.905214</td>\n",
       "      <td>0.125214</td>\n",
       "      <td>Bird5</td>\n",
       "      <td>0</td>\n",
       "      <td>LS110143.10.12.2015GeoGreens_dn</td>\n",
       "      <td>[-0.0, -7.356902671940375e-05, -0.000162745769...</td>\n",
       "      <td>44100</td>\n",
       "      <td>[[0, 0, 0, 0, 0, 0, 0, 0, 0, 0, 0, 0, 0, 0, 0,...</td>\n",
       "    </tr>\n",
       "    <tr>\n",
       "      <th>1</th>\n",
       "      <td>1</td>\n",
       "      <td>0</td>\n",
       "      <td>513.78</td>\n",
       "      <td>517.061923</td>\n",
       "      <td>3.281923</td>\n",
       "      <td>15</td>\n",
       "      <td>1</td>\n",
       "      <td>513.917747</td>\n",
       "      <td>513.980936</td>\n",
       "      <td>0.063188</td>\n",
       "      <td>Bird5</td>\n",
       "      <td>0</td>\n",
       "      <td>LS110143.10.12.2015GeoGreens_dn</td>\n",
       "      <td>[0.0, 0.0014728324725323874, 0.002769917049663...</td>\n",
       "      <td>44100</td>\n",
       "      <td>[[0, 0, 0, 0, 0, 0, 0, 0, 0, 0, 0, 0, 0, 0, 0,...</td>\n",
       "    </tr>\n",
       "    <tr>\n",
       "      <th>2</th>\n",
       "      <td>2</td>\n",
       "      <td>0</td>\n",
       "      <td>513.78</td>\n",
       "      <td>517.061923</td>\n",
       "      <td>3.281923</td>\n",
       "      <td>15</td>\n",
       "      <td>2</td>\n",
       "      <td>514.170000</td>\n",
       "      <td>514.480698</td>\n",
       "      <td>0.310698</td>\n",
       "      <td>Bird5</td>\n",
       "      <td>0</td>\n",
       "      <td>LS110143.10.12.2015GeoGreens_dn</td>\n",
       "      <td>[0.0, 4.4531726447127805e-05, 4.62385657049665...</td>\n",
       "      <td>44100</td>\n",
       "      <td>[[0, 0, 0, 0, 0, 0, 0, 0, 0, 0, 0, 0, 0, 0, 0,...</td>\n",
       "    </tr>\n",
       "    <tr>\n",
       "      <th>3</th>\n",
       "      <td>3</td>\n",
       "      <td>0</td>\n",
       "      <td>513.78</td>\n",
       "      <td>517.061923</td>\n",
       "      <td>3.281923</td>\n",
       "      <td>15</td>\n",
       "      <td>3</td>\n",
       "      <td>514.620783</td>\n",
       "      <td>515.310000</td>\n",
       "      <td>0.689217</td>\n",
       "      <td>Bird5</td>\n",
       "      <td>0</td>\n",
       "      <td>LS110143.10.12.2015GeoGreens_dn</td>\n",
       "      <td>[-0.0, -3.2631556531601904e-06, -7.44037823939...</td>\n",
       "      <td>44100</td>\n",
       "      <td>[[0, 0, 0, 0, 0, 0, 0, 0, 0, 0, 0, 0, 0, 0, 0,...</td>\n",
       "    </tr>\n",
       "    <tr>\n",
       "      <th>4</th>\n",
       "      <td>4</td>\n",
       "      <td>0</td>\n",
       "      <td>513.78</td>\n",
       "      <td>517.061923</td>\n",
       "      <td>3.281923</td>\n",
       "      <td>15</td>\n",
       "      <td>4</td>\n",
       "      <td>515.355217</td>\n",
       "      <td>515.660180</td>\n",
       "      <td>0.304964</td>\n",
       "      <td>Bird5</td>\n",
       "      <td>0</td>\n",
       "      <td>LS110143.10.12.2015GeoGreens_dn</td>\n",
       "      <td>[-0.0, -2.958346783314775e-05, -7.119856074752...</td>\n",
       "      <td>44100</td>\n",
       "      <td>[[0, 0, 0, 0, 0, 0, 0, 0, 0, 0, 0, 0, 0, 0, 0,...</td>\n",
       "    </tr>\n",
       "  </tbody>\n",
       "</table>\n",
       "</div>"
      ],
      "text/plain": [
       "   index  phrase_nb  phrase_strt  phrase_end  phrase_len  note_cnt  note_nb  \\\n",
       "0      0          0       513.78  517.061923    3.281923        15        0   \n",
       "1      1          0       513.78  517.061923    3.281923        15        1   \n",
       "2      2          0       513.78  517.061923    3.281923        15        2   \n",
       "3      3          0       513.78  517.061923    3.281923        15        3   \n",
       "4      4          0       513.78  517.061923    3.281923        15        4   \n",
       "\n",
       "    note_strt    note_end  note_len   indv  indvi  \\\n",
       "0  513.780000  513.905214  0.125214  Bird5      0   \n",
       "1  513.917747  513.980936  0.063188  Bird5      0   \n",
       "2  514.170000  514.480698  0.310698  Bird5      0   \n",
       "3  514.620783  515.310000  0.689217  Bird5      0   \n",
       "4  515.355217  515.660180  0.304964  Bird5      0   \n",
       "\n",
       "                               key  \\\n",
       "0  LS110143.10.12.2015GeoGreens_dn   \n",
       "1  LS110143.10.12.2015GeoGreens_dn   \n",
       "2  LS110143.10.12.2015GeoGreens_dn   \n",
       "3  LS110143.10.12.2015GeoGreens_dn   \n",
       "4  LS110143.10.12.2015GeoGreens_dn   \n",
       "\n",
       "                                               audio   rate  \\\n",
       "0  [-0.0, -7.356902671940375e-05, -0.000162745769...  44100   \n",
       "1  [0.0, 0.0014728324725323874, 0.002769917049663...  44100   \n",
       "2  [0.0, 4.4531726447127805e-05, 4.62385657049665...  44100   \n",
       "3  [-0.0, -3.2631556531601904e-06, -7.44037823939...  44100   \n",
       "4  [-0.0, -2.958346783314775e-05, -7.119856074752...  44100   \n",
       "\n",
       "                                         spectrogram  \n",
       "0  [[0, 0, 0, 0, 0, 0, 0, 0, 0, 0, 0, 0, 0, 0, 0,...  \n",
       "1  [[0, 0, 0, 0, 0, 0, 0, 0, 0, 0, 0, 0, 0, 0, 0,...  \n",
       "2  [[0, 0, 0, 0, 0, 0, 0, 0, 0, 0, 0, 0, 0, 0, 0,...  \n",
       "3  [[0, 0, 0, 0, 0, 0, 0, 0, 0, 0, 0, 0, 0, 0, 0,...  \n",
       "4  [[0, 0, 0, 0, 0, 0, 0, 0, 0, 0, 0, 0, 0, 0, 0,...  "
      ]
     },
     "execution_count": 7,
     "metadata": {},
     "output_type": "execute_result"
    }
   ],
   "source": [
    "indv_df.head()"
   ]
  },
  {
   "cell_type": "markdown",
   "id": "0ef649c5",
   "metadata": {},
   "source": [
    "## Calculate Empirical Rhythm"
   ]
  },
  {
   "cell_type": "code",
   "execution_count": 8,
   "id": "c3a3cfed",
   "metadata": {},
   "outputs": [
    {
     "name": "stderr",
     "output_type": "stream",
     "text": [
      "/home/AD/j8xing/syntax_rhythm_pbb/butcherbird/rhythm.py:163: TqdmExperimentalWarning: Using `tqdm.autonotebook.tqdm` in notebook mode. Use `tqdm.tqdm` instead to force console mode (e.g. in jupyter console)\n",
      "  from tqdm.autonotebook import tqdm\n"
     ]
    }
   ],
   "source": [
    "import butcherbird.rhythm as rhythm\n",
    "import seaborn as sns"
   ]
  },
  {
   "cell_type": "code",
   "execution_count": 9,
   "id": "a2e29cdc",
   "metadata": {},
   "outputs": [
    {
     "data": {
      "application/vnd.jupyter.widget-view+json": {
       "model_id": "28a4231f6d7c4caeb939ceea7059f701",
       "version_major": 2,
       "version_minor": 0
      },
      "text/plain": [
       "  0%|          | 0/4 [00:00<?, ?it/s]"
      ]
     },
     "metadata": {},
     "output_type": "display_data"
    },
    {
     "data": {
      "application/vnd.jupyter.widget-view+json": {
       "model_id": "52779006d18a4598959470e297e7f5ec",
       "version_major": 2,
       "version_minor": 0
      },
      "text/plain": [
       "  0%|          | 0/489 [00:00<?, ?it/s]"
      ]
     },
     "metadata": {},
     "output_type": "display_data"
    },
    {
     "data": {
      "application/vnd.jupyter.widget-view+json": {
       "model_id": "284e0cce5b1d431db2f3d15d0060a1dc",
       "version_major": 2,
       "version_minor": 0
      },
      "text/plain": [
       "  0%|          | 0/489 [00:00<?, ?it/s]"
      ]
     },
     "metadata": {},
     "output_type": "display_data"
    },
    {
     "data": {
      "application/vnd.jupyter.widget-view+json": {
       "model_id": "98dfa556fdff4f76a10d4e3c13724e85",
       "version_major": 2,
       "version_minor": 0
      },
      "text/plain": [
       "  0%|          | 0/489 [00:00<?, ?it/s]"
      ]
     },
     "metadata": {},
     "output_type": "display_data"
    },
    {
     "data": {
      "application/vnd.jupyter.widget-view+json": {
       "model_id": "6c680b898ac3416faa68043b0338809f",
       "version_major": 2,
       "version_minor": 0
      },
      "text/plain": [
       "  0%|          | 0/489 [00:00<?, ?it/s]"
      ]
     },
     "metadata": {},
     "output_type": "display_data"
    }
   ],
   "source": [
    "dyadic = rhythm.construct_rhythm_df(indv_df,'indv')"
   ]
  },
  {
   "cell_type": "code",
   "execution_count": 10,
   "id": "8db7d7df",
   "metadata": {
    "scrolled": false
   },
   "outputs": [
    {
     "data": {
      "text/html": [
       "<div>\n",
       "<style scoped>\n",
       "    .dataframe tbody tr th:only-of-type {\n",
       "        vertical-align: middle;\n",
       "    }\n",
       "\n",
       "    .dataframe tbody tr th {\n",
       "        vertical-align: top;\n",
       "    }\n",
       "\n",
       "    .dataframe thead th {\n",
       "        text-align: right;\n",
       "    }\n",
       "</style>\n",
       "<table border=\"1\" class=\"dataframe\">\n",
       "  <thead>\n",
       "    <tr style=\"text-align: right;\">\n",
       "      <th></th>\n",
       "      <th>intervals1</th>\n",
       "      <th>intervals2</th>\n",
       "      <th>label1</th>\n",
       "      <th>label2</th>\n",
       "      <th>label3</th>\n",
       "      <th>s_interval</th>\n",
       "      <th>l_interval</th>\n",
       "      <th>cycle_dur</th>\n",
       "      <th>ratio_roeske</th>\n",
       "      <th>ratio_custom</th>\n",
       "      <th>cycle_rank</th>\n",
       "    </tr>\n",
       "  </thead>\n",
       "  <tbody>\n",
       "    <tr>\n",
       "      <th>0</th>\n",
       "      <td>0.047763</td>\n",
       "      <td>0.124941</td>\n",
       "      <td>Bird5</td>\n",
       "      <td>Bird5</td>\n",
       "      <td>Bird5</td>\n",
       "      <td>0.047763</td>\n",
       "      <td>0.124941</td>\n",
       "      <td>0.172703</td>\n",
       "      <td>0.276559</td>\n",
       "      <td>0.382283</td>\n",
       "      <td>1</td>\n",
       "    </tr>\n",
       "    <tr>\n",
       "      <th>1</th>\n",
       "      <td>0.124941</td>\n",
       "      <td>0.053709</td>\n",
       "      <td>Bird5</td>\n",
       "      <td>Bird5</td>\n",
       "      <td>Bird5</td>\n",
       "      <td>0.053709</td>\n",
       "      <td>0.124941</td>\n",
       "      <td>0.178649</td>\n",
       "      <td>0.699363</td>\n",
       "      <td>0.429873</td>\n",
       "      <td>2</td>\n",
       "    </tr>\n",
       "    <tr>\n",
       "      <th>2</th>\n",
       "      <td>0.053709</td>\n",
       "      <td>0.192387</td>\n",
       "      <td>Bird5</td>\n",
       "      <td>Bird5</td>\n",
       "      <td>Bird5</td>\n",
       "      <td>0.053709</td>\n",
       "      <td>0.192387</td>\n",
       "      <td>0.246095</td>\n",
       "      <td>0.218243</td>\n",
       "      <td>0.279171</td>\n",
       "      <td>3</td>\n",
       "    </tr>\n",
       "    <tr>\n",
       "      <th>3</th>\n",
       "      <td>0.142577</td>\n",
       "      <td>0.114876</td>\n",
       "      <td>Bird5</td>\n",
       "      <td>Bird5</td>\n",
       "      <td>Bird5</td>\n",
       "      <td>0.114876</td>\n",
       "      <td>0.142577</td>\n",
       "      <td>0.257453</td>\n",
       "      <td>0.553798</td>\n",
       "      <td>0.805713</td>\n",
       "      <td>4</td>\n",
       "    </tr>\n",
       "    <tr>\n",
       "      <th>4</th>\n",
       "      <td>0.255124</td>\n",
       "      <td>0.047763</td>\n",
       "      <td>Bird5</td>\n",
       "      <td>Bird5</td>\n",
       "      <td>Bird5</td>\n",
       "      <td>0.047763</td>\n",
       "      <td>0.255124</td>\n",
       "      <td>0.302886</td>\n",
       "      <td>0.842308</td>\n",
       "      <td>0.187214</td>\n",
       "      <td>5</td>\n",
       "    </tr>\n",
       "  </tbody>\n",
       "</table>\n",
       "</div>"
      ],
      "text/plain": [
       "   intervals1  intervals2 label1 label2 label3  s_interval  l_interval  \\\n",
       "0    0.047763    0.124941  Bird5  Bird5  Bird5    0.047763    0.124941   \n",
       "1    0.124941    0.053709  Bird5  Bird5  Bird5    0.053709    0.124941   \n",
       "2    0.053709    0.192387  Bird5  Bird5  Bird5    0.053709    0.192387   \n",
       "3    0.142577    0.114876  Bird5  Bird5  Bird5    0.114876    0.142577   \n",
       "4    0.255124    0.047763  Bird5  Bird5  Bird5    0.047763    0.255124   \n",
       "\n",
       "   cycle_dur  ratio_roeske  ratio_custom  cycle_rank  \n",
       "0   0.172703      0.276559      0.382283           1  \n",
       "1   0.178649      0.699363      0.429873           2  \n",
       "2   0.246095      0.218243      0.279171           3  \n",
       "3   0.257453      0.553798      0.805713           4  \n",
       "4   0.302886      0.842308      0.187214           5  "
      ]
     },
     "execution_count": 10,
     "metadata": {},
     "output_type": "execute_result"
    }
   ],
   "source": [
    "dyadic.head()"
   ]
  },
  {
   "cell_type": "code",
   "execution_count": 11,
   "id": "ae5050b9",
   "metadata": {},
   "outputs": [
    {
     "data": {
      "text/plain": [
       "<AxesSubplot:xlabel='ratio_roeske', ylabel='Count'>"
      ]
     },
     "execution_count": 11,
     "metadata": {},
     "output_type": "execute_result"
    },
    {
     "data": {
      "image/png": "[encoded data removed]",
      "text/plain": [
       "<Figure size 432x288 with 1 Axes>"
      ]
     },
     "metadata": {
      "needs_background": "light"
     },
     "output_type": "display_data"
    }
   ],
   "source": [
    "sns.histplot(dyadic['ratio_roeske'])"
   ]
  },
  {
   "cell_type": "markdown",
   "id": "d70ee8a7",
   "metadata": {},
   "source": [
    "## Calculate Uniform Rhythm\n",
    "> Uniform rhythm is calculated under the assumption that interval lengths are uniformly distributed between a minimum and maximum interval length.  "
   ]
  },
  {
   "cell_type": "code",
   "execution_count": 12,
   "id": "4bbe9c43",
   "metadata": {},
   "outputs": [],
   "source": [
    "n = 1000"
   ]
  },
  {
   "cell_type": "code",
   "execution_count": 13,
   "id": "99046b59",
   "metadata": {},
   "outputs": [],
   "source": [
    "import numpy as np\n",
    "import numpy.random as random"
   ]
  },
  {
   "cell_type": "code",
   "execution_count": 14,
   "id": "a9d54652",
   "metadata": {},
   "outputs": [],
   "source": [
    "interval_min = np.min([dyadic['intervals1'].values, dyadic['intervals2']])\n",
    "interval_max = np.max([dyadic['intervals1'].values, dyadic['intervals2']])"
   ]
  },
  {
   "cell_type": "code",
   "execution_count": 15,
   "id": "3652c0d5",
   "metadata": {},
   "outputs": [],
   "source": [
    "df_uni = []\n",
    "for i in np.arange(0, n):\n",
    "    interval1_uni = random.uniform(low = interval_min, high = interval_max, size = len(dyadic))\n",
    "    interval2_uni = random.uniform(low = interval_min, high = interval_max, size = len(dyadic))\n",
    "    df_uni.append(interval1_uni / (interval1_uni + interval2_uni))"
   ]
  },
  {
   "cell_type": "code",
   "execution_count": 16,
   "id": "55039028",
   "metadata": {},
   "outputs": [],
   "source": [
    "uni_ratio = np.array(df_uni).flatten()"
   ]
  },
  {
   "cell_type": "code",
   "execution_count": 17,
   "id": "2b66dcaa",
   "metadata": {},
   "outputs": [
    {
     "data": {
      "text/plain": [
       "<AxesSubplot:ylabel='Count'>"
      ]
     },
     "execution_count": 17,
     "metadata": {},
     "output_type": "execute_result"
    },
    {
     "data": {
      "image/png": "[encoded data removed]",
      "text/plain": [
       "<Figure size 432x288 with 1 Axes>"
      ]
     },
     "metadata": {
      "needs_background": "light"
     },
     "output_type": "display_data"
    }
   ],
   "source": [
    "sns.histplot(uni_ratio)"
   ]
  },
  {
   "cell_type": "markdown",
   "id": "7c1d3bd8",
   "metadata": {},
   "source": [
    "## Calculate Shuffled IOI Rhythm\n",
    "> Shuffled rhythm is calculated under the assumption that interval lengths are bootstrapped from the empirical distribution, but the consecutive order of intervals are shuffled. "
   ]
  },
  {
   "cell_type": "code",
   "execution_count": 18,
   "id": "b4e9e3c5",
   "metadata": {},
   "outputs": [],
   "source": [
    "df_sf = []\n",
    "for i in np.arange(0, n):\n",
    "    interval1_sf = dyadic['intervals1'].sample(frac = 1, replace = True).values\n",
    "    interval2_sf = dyadic['intervals2'].sample(frac = 1, replace = True).values\n",
    "    df_sf.append(interval1_sf / (interval1_sf + interval2_sf))"
   ]
  },
  {
   "cell_type": "code",
   "execution_count": 19,
   "id": "492b68d9",
   "metadata": {},
   "outputs": [],
   "source": [
    "sf_ratio = np.array(df_sf).flatten()"
   ]
  },
  {
   "cell_type": "code",
   "execution_count": 20,
   "id": "e475ed22",
   "metadata": {},
   "outputs": [
    {
     "data": {
      "text/plain": [
       "<AxesSubplot:ylabel='Count'>"
      ]
     },
     "execution_count": 20,
     "metadata": {},
     "output_type": "execute_result"
    },
    {
     "data": {
      "image/png": "[encoded data removed]",
      "text/plain": [
       "<Figure size 432x288 with 1 Axes>"
      ]
     },
     "metadata": {
      "needs_background": "light"
     },
     "output_type": "display_data"
    }
   ],
   "source": [
    "sns.histplot(sf_ratio)"
   ]
  },
  {
   "cell_type": "markdown",
   "id": "f4ef0b1f",
   "metadata": {},
   "source": [
    "## Calculate Shuffled Note + Gap\n",
    "> Shuffled Note + Gap rhythm is calculated under the assumption that note length and inter-note gaps are independently shuffled."
   ]
  },
  {
   "cell_type": "code",
   "execution_count": 21,
   "id": "98e19bef",
   "metadata": {},
   "outputs": [],
   "source": [
    "import numpy.random as random"
   ]
  },
  {
   "cell_type": "code",
   "execution_count": 22,
   "id": "e86b6c7d",
   "metadata": {},
   "outputs": [],
   "source": [
    "# find all gaps and their positions\n",
    "grand_gaps = []\n",
    "\n",
    "for phrase_nb in np.unique(indv_df['phrase_nb']):\n",
    "    ## pull out each phrase\n",
    "    phrase = indv_df[indv_df['phrase_nb'] == phrase_nb]\n",
    "\n",
    "        ## find all internote gaps\n",
    "    gaps = phrase['note_strt'][1:].values - phrase['note_end'][:-1].values\n",
    "    grand_gaps.append(gaps) \n",
    "\n",
    "grand_gaps = np.hstack(grand_gaps)\n",
    "grand_gaps = grand_gaps[grand_gaps < 10]## gaps that are more than 10 seconds long are noise\n",
    "grand_gaps = grand_gaps[grand_gaps >= 0] ## gaps must be larger than or equal to 0"
   ]
  },
  {
   "cell_type": "code",
   "execution_count": 23,
   "id": "8c3a0c0b",
   "metadata": {},
   "outputs": [],
   "source": [
    "grand_gaps = np.hstack(grand_gaps)"
   ]
  },
  {
   "cell_type": "code",
   "execution_count": 24,
   "id": "619fa531",
   "metadata": {},
   "outputs": [],
   "source": [
    "df_lg = []\n",
    "\n",
    "for i in np.arange(0, n):\n",
    "    ## randomly shuffle gaps\n",
    "    random.shuffle(grand_gaps)\n",
    "    ## add to randomly shuffled lengths\n",
    "    shuffled_lg = grand_gaps + indv_df['note_len'].sample(n = len(grand_gaps), replace = True).values\n",
    "    \n",
    "    shuffled_lg_i1 = shuffled_lg[:-1]\n",
    "    shuffled_lg_i2 = shuffled_lg[1:]\n",
    "    \n",
    "    df_lg.append(shuffled_lg_i1 / (shuffled_lg_i1 + shuffled_lg_i2))\n",
    "    "
   ]
  },
  {
   "cell_type": "code",
   "execution_count": 25,
   "id": "f586fa7e",
   "metadata": {},
   "outputs": [],
   "source": [
    "lg_ratio = np.hstack(df_lg)"
   ]
  },
  {
   "cell_type": "code",
   "execution_count": 26,
   "id": "85ca084c",
   "metadata": {},
   "outputs": [
    {
     "data": {
      "text/plain": [
       "<AxesSubplot:ylabel='Count'>"
      ]
     },
     "execution_count": 26,
     "metadata": {},
     "output_type": "execute_result"
    },
    {
     "data": {
      "image/png": "[encoded data removed]",
      "text/plain": [
       "<Figure size 432x288 with 1 Axes>"
      ]
     },
     "metadata": {
      "needs_background": "light"
     },
     "output_type": "display_data"
    }
   ],
   "source": [
    "sns.histplot(lg_ratio)"
   ]
  },
  {
   "cell_type": "markdown",
   "id": "8052cb83",
   "metadata": {},
   "source": [
    "## Draw Figure"
   ]
  },
  {
   "cell_type": "code",
   "execution_count": 27,
   "id": "c4f58637",
   "metadata": {},
   "outputs": [],
   "source": [
    "import matplotlib.pyplot as plt\n",
    "from matplotlib.pyplot import figure\n",
    "from butcherbird.utils.paths import FIGURE_DIR"
   ]
  },
  {
   "cell_type": "code",
   "execution_count": null,
   "id": "6a72becd",
   "metadata": {
    "scrolled": false
   },
   "outputs": [],
   "source": [
    "figure(figsize = (8, 6), dpi = 300)\n",
    "\n",
    "plt.rcParams['patch.edgecolor'] = 'none'\n",
    "\n",
    "fig = sns.histplot(\n",
    "    x = dyadic['ratio_roeske'],\n",
    "    binwidth = 0.01,\n",
    "    stat = 'density',\n",
    "    color = '#A3E301',\n",
    "    fill = '#A3E301',\n",
    "    kde = True,\n",
    ")\n",
    "\n",
    "uni = sns.histplot(\n",
    "    x = uni_ratio,\n",
    "    stat = 'density',\n",
    "    alpha = 0,\n",
    "    color = '#FC6983',\n",
    "    kde = True,\n",
    "    line_kws = dict(linestyle = 'dashed')\n",
    ")\n",
    "\n",
    "sf = sns.histplot(\n",
    "    x = sf_ratio,\n",
    "    stat = 'density',\n",
    "    alpha = 0,\n",
    "    color = '#1DB6AB',\n",
    "    kde = True,\n",
    "    line_kws = dict(linestyle = 'dashed')\n",
    ")\n",
    "\n",
    "lg = sns.histplot(\n",
    "    x = lg_ratio,\n",
    "    stat = 'density',\n",
    "    alpha = 0,\n",
    "    color = '#15215B',\n",
    "    kde = True,\n",
    "    line_kws = dict(linestyle = 'dashed')\n",
    ")\n",
    "\n",
    "ax = plt.gca()\n",
    "ax.set_xlim([0, 1])\n",
    "plt.xticks(np.arange(0, 1.25, 0.25))\n",
    "\n",
    "# save\n",
    "figname = 'fig1_' + 'categorical_rhythm_' + indv + '.svg'\n",
    "plt.savefig(FIGURE_DIR/'categorical_rhythm'/figname)"
   ]
  },
  {
   "cell_type": "markdown",
   "id": "e40ac186",
   "metadata": {},
   "source": [
    "## Do some statistics"
   ]
  },
  {
   "cell_type": "code",
   "execution_count": null,
   "id": "b98380ac",
   "metadata": {},
   "outputs": [],
   "source": [
    "import scipy"
   ]
  },
  {
   "cell_type": "code",
   "execution_count": null,
   "id": "7d552280",
   "metadata": {},
   "outputs": [],
   "source": [
    "ks = scipy.stats.ks_2samp(dyadic['ratio_roeske'], sf_ratio)"
   ]
  },
  {
   "cell_type": "code",
   "execution_count": null,
   "id": "fcca5422",
   "metadata": {},
   "outputs": [],
   "source": [
    "len(dyadic['ratio_roeske'])"
   ]
  },
  {
   "cell_type": "code",
   "execution_count": null,
   "id": "eea5f0a6",
   "metadata": {},
   "outputs": [],
   "source": [
    "len(sf_ratio)"
   ]
  },
  {
   "cell_type": "code",
   "execution_count": null,
   "id": "92b1dc08",
   "metadata": {},
   "outputs": [],
   "source": [
    "ks"
   ]
  },
  {
   "cell_type": "code",
   "execution_count": null,
   "id": "c85878a0",
   "metadata": {},
   "outputs": [],
   "source": [
    "kslg = scipy.stats.ks_2samp(dyadic['ratio_roeske'], lg_ratio)"
   ]
  },
  {
   "cell_type": "code",
   "execution_count": null,
   "id": "752cb6fb",
   "metadata": {},
   "outputs": [],
   "source": [
    "len(lg_ratio)"
   ]
  },
  {
   "cell_type": "code",
   "execution_count": null,
   "id": "6f967938",
   "metadata": {
    "scrolled": true
   },
   "outputs": [],
   "source": [
    "kslg"
   ]
  },
  {
   "cell_type": "code",
   "execution_count": null,
   "id": "202046b9",
   "metadata": {},
   "outputs": [],
   "source": []
  },
  {
   "cell_type": "markdown",
   "id": "fc4dd553",
   "metadata": {},
   "source": [
    "## Calculate Hopkins Statistics and confidence intervals"
   ]
  },
  {
   "cell_type": "code",
   "execution_count": null,
   "id": "4c7c9ea2",
   "metadata": {},
   "outputs": [],
   "source": [
    "from butcherbird.rhythm import hopkins\n",
    "from tqdm.autonotebook import tqdm\n",
    "from joblib import Parallel, delayed"
   ]
  },
  {
   "cell_type": "code",
   "execution_count": null,
   "id": "b62b230f",
   "metadata": {},
   "outputs": [],
   "source": [
    "h_iterations = 100\n",
    "shuffle_iterations = 100\n",
    "n_jobs = 36"
   ]
  },
  {
   "cell_type": "code",
   "execution_count": null,
   "id": "0b31c831",
   "metadata": {},
   "outputs": [],
   "source": [
    "import numpy as np\n",
    "import scipy.stats\n",
    "\n",
    "## a standard calculation for confidence interval\n",
    "def mean_confidence_interval(data, confidence=0.95):\n",
    "    a = 1.0 * np.array(data)\n",
    "    n = len(a)\n",
    "    m, se = np.mean(a), scipy.stats.sem(a)\n",
    "    h = se * scipy.stats.t.ppf((1 + confidence) / 2., n-1)\n",
    "    return m, m-h, m+h"
   ]
  },
  {
   "cell_type": "code",
   "execution_count": null,
   "id": "0b651a50",
   "metadata": {
    "scrolled": false
   },
   "outputs": [],
   "source": [
    "## empirical\n",
    "SDoH = []\n",
    "\n",
    "for i in tqdm(range(0, h_iterations)):\n",
    "    SDoH.append(hopkins(dyadic[['ratio_roeske']]))\n",
    "    \n",
    "## take mean of sampling distribution of Hopkins as best estimate\n",
    "mean_confidence_interval(SDoH)"
   ]
  },
  {
   "cell_type": "code",
   "execution_count": null,
   "id": "86ee97be",
   "metadata": {},
   "outputs": [],
   "source": [
    "## uni\n",
    "SDoH_uni = []\n",
    "\n",
    "with Parallel(n_jobs= n_jobs) as parallel:\n",
    "    SDoH_uni = parallel(\n",
    "        delayed(hopkins)(\n",
    "            pd.DataFrame(sample)\n",
    "        )\n",
    "        for sample in tqdm(df_uni)\n",
    "    )\n",
    "\n",
    "## take mean of sampling distribution of Hopkins as best estimate\n",
    "mean_confidence_interval(SDoH_uni)"
   ]
  },
  {
   "cell_type": "code",
   "execution_count": null,
   "id": "89a14d7e",
   "metadata": {},
   "outputs": [],
   "source": [
    "## shuffle\n",
    "SDoH_shuffle = []\n",
    "\n",
    "with Parallel(n_jobs= n_jobs) as parallel:\n",
    "    SDoH_shuffle = parallel(\n",
    "        delayed(hopkins)(\n",
    "            pd.DataFrame(sample)\n",
    "        )\n",
    "        for sample in tqdm(df_sf)\n",
    "    )\n",
    "\n",
    "## take mean of sampling distribution of Hopkins as best estimate\n",
    "mean_confidence_interval(SDoH_shuffle)"
   ]
  },
  {
   "cell_type": "code",
   "execution_count": null,
   "id": "0abeb5ce",
   "metadata": {},
   "outputs": [],
   "source": [
    "## lg shuffle\n",
    "SDoH_lg = []\n",
    "\n",
    "with Parallel(n_jobs= n_jobs) as parallel:\n",
    "    SDoH_lg = parallel(\n",
    "        delayed(hopkins)(\n",
    "            pd.DataFrame(sample)\n",
    "        )\n",
    "        for sample in tqdm(df_lg)\n",
    "    )\n",
    "\n",
    "## take mean of sampling distribution of Hopkins as best estimate\n",
    "mean_confidence_interval(SDoH_lg)"
   ]
  },
  {
   "cell_type": "markdown",
   "id": "b1b3e4ae",
   "metadata": {},
   "source": [
    "## Timescale Estimation\n",
    "\n",
    "Timescale is estimated as mean inter-onset interval"
   ]
  },
  {
   "cell_type": "code",
   "execution_count": null,
   "id": "fd5b2db7",
   "metadata": {},
   "outputs": [],
   "source": [
    "import numpy as np\n",
    "import scipy.stats\n",
    "\n",
    "## a standard calculation for confidence interval\n",
    "def mean_confidence_interval(data, confidence=0.95):\n",
    "    a = 1.0 * np.array(data)\n",
    "    n = len(a)\n",
    "    m, se = np.mean(a), scipy.stats.sem(a)\n",
    "    h = se * scipy.stats.t.ppf((1 + confidence) / 2., n-1)\n",
    "    return m, m-h, m+h"
   ]
  },
  {
   "cell_type": "code",
   "execution_count": null,
   "id": "1b5ee710",
   "metadata": {},
   "outputs": [],
   "source": [
    "sequential_note = dyadic.sort_index()\n",
    "sequential_note"
   ]
  },
  {
   "cell_type": "code",
   "execution_count": null,
   "id": "85ebfb83",
   "metadata": {},
   "outputs": [],
   "source": [
    "n_IOI = list(sequential_note['intervals1'].values)\n",
    "n_IOI.append(sequential_note['intervals2'].values[-1])"
   ]
  },
  {
   "cell_type": "code",
   "execution_count": null,
   "id": "9f9a27e7",
   "metadata": {
    "scrolled": true
   },
   "outputs": [],
   "source": [
    "mean_confidence_interval(n_IOI, confidence=0.95)"
   ]
  }
 ],
 "metadata": {
  "kernelspec": {
   "display_name": "pbb",
   "language": "python",
   "name": "pbb"
  },
  "language_info": {
   "codemirror_mode": {
    "name": "ipython",
    "version": 3
   },
   "file_extension": ".py",
   "mimetype": "text/x-python",
   "name": "python",
   "nbconvert_exporter": "python",
   "pygments_lexer": "ipython3",
   "version": "3.10.0"
  }
 },
 "nbformat": 4,
 "nbformat_minor": 5
}
