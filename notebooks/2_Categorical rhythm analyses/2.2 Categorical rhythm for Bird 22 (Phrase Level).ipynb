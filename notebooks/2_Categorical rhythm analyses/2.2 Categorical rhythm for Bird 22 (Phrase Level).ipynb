{
 "cells": [
  {
   "cell_type": "markdown",
   "id": "9549e7c0",
   "metadata": {},
   "source": [
    "***\n",
    "# 2.1 Categorical rhythm for Bird 22\n",
    "### JX, 03/08/2022\n",
    "***\n",
    "    Bird22:\n",
    "    LS110593.9.8.2018Araluen.WAV\n",
    "    LS110640.10.1.2018Araluen.WAV\n",
    "    \n",
    "***"
   ]
  },
  {
   "cell_type": "markdown",
   "id": "fffff910",
   "metadata": {},
   "source": [
    "## Specify Locations"
   ]
  },
  {
   "cell_type": "code",
   "execution_count": 1,
   "id": "a3db957d",
   "metadata": {},
   "outputs": [],
   "source": [
    "from butcherbird.utils.paths import DATA_DIR"
   ]
  },
  {
   "cell_type": "code",
   "execution_count": 2,
   "id": "73b17a57",
   "metadata": {},
   "outputs": [],
   "source": [
    "indv = \"Bird22\""
   ]
  },
  {
   "cell_type": "code",
   "execution_count": 3,
   "id": "153564ba",
   "metadata": {},
   "outputs": [],
   "source": [
    "SAVE_LOC = 'interim/fine_labels/butcherbird_note_df_'+indv+'_fine.pickle'\n",
    "SAVE_LOC = DATA_DIR / SAVE_LOC"
   ]
  },
  {
   "cell_type": "markdown",
   "id": "62d55cab",
   "metadata": {},
   "source": [
    "## Load in Data"
   ]
  },
  {
   "cell_type": "code",
   "execution_count": 4,
   "id": "08a3a7e1",
   "metadata": {},
   "outputs": [],
   "source": [
    "import pandas as pd"
   ]
  },
  {
   "cell_type": "code",
   "execution_count": 5,
   "id": "4ffd65d8",
   "metadata": {},
   "outputs": [],
   "source": [
    "indv_df = pd.read_pickle(SAVE_LOC)"
   ]
  },
  {
   "cell_type": "code",
   "execution_count": 6,
   "id": "a0030a8e",
   "metadata": {},
   "outputs": [
    {
     "data": {
      "text/html": [
       "<div>\n",
       "<style scoped>\n",
       "    .dataframe tbody tr th:only-of-type {\n",
       "        vertical-align: middle;\n",
       "    }\n",
       "\n",
       "    .dataframe tbody tr th {\n",
       "        vertical-align: top;\n",
       "    }\n",
       "\n",
       "    .dataframe thead th {\n",
       "        text-align: right;\n",
       "    }\n",
       "</style>\n",
       "<table border=\"1\" class=\"dataframe\">\n",
       "  <thead>\n",
       "    <tr style=\"text-align: right;\">\n",
       "      <th></th>\n",
       "      <th>index</th>\n",
       "      <th>phrase_nb</th>\n",
       "      <th>phrase_strt</th>\n",
       "      <th>phrase_end</th>\n",
       "      <th>phrase_len</th>\n",
       "      <th>note_cnt</th>\n",
       "      <th>note_nb</th>\n",
       "      <th>note_strt</th>\n",
       "      <th>note_end</th>\n",
       "      <th>note_len</th>\n",
       "      <th>...</th>\n",
       "      <th>key</th>\n",
       "      <th>audio</th>\n",
       "      <th>rate</th>\n",
       "      <th>spectrogram</th>\n",
       "      <th>umap</th>\n",
       "      <th>hdbscan_labels</th>\n",
       "      <th>recur_labels</th>\n",
       "      <th>recur_labels_id</th>\n",
       "      <th>lasso_labels</th>\n",
       "      <th>seq_id</th>\n",
       "    </tr>\n",
       "  </thead>\n",
       "  <tbody>\n",
       "    <tr>\n",
       "      <th>0</th>\n",
       "      <td>0</td>\n",
       "      <td>0</td>\n",
       "      <td>2.370000</td>\n",
       "      <td>4.240000</td>\n",
       "      <td>1.870000</td>\n",
       "      <td>8</td>\n",
       "      <td>0</td>\n",
       "      <td>2.370000</td>\n",
       "      <td>2.415699</td>\n",
       "      <td>0.045699</td>\n",
       "      <td>...</td>\n",
       "      <td>LS110593.9.8.2018Araluen_dn</td>\n",
       "      <td>[0.0, -5.558967174674641e-06, -5.2225732263302...</td>\n",
       "      <td>48000</td>\n",
       "      <td>[[0, 0, 0, 0, 0, 0, 0, 0, 0, 0, 0, 0, 0, 0, 0,...</td>\n",
       "      <td>[12.999457, -3.640876]</td>\n",
       "      <td>5</td>\n",
       "      <td>5|1|0|1.0|1.0|1.0|0.0|nan</td>\n",
       "      <td>113</td>\n",
       "      <td>29</td>\n",
       "      <td>0</td>\n",
       "    </tr>\n",
       "    <tr>\n",
       "      <th>1</th>\n",
       "      <td>1</td>\n",
       "      <td>0</td>\n",
       "      <td>2.370000</td>\n",
       "      <td>4.240000</td>\n",
       "      <td>1.870000</td>\n",
       "      <td>8</td>\n",
       "      <td>1</td>\n",
       "      <td>2.660000</td>\n",
       "      <td>2.977558</td>\n",
       "      <td>0.317558</td>\n",
       "      <td>...</td>\n",
       "      <td>LS110593.9.8.2018Araluen_dn</td>\n",
       "      <td>[0.0, 3.069944854750729e-05, 4.037410245845782...</td>\n",
       "      <td>48000</td>\n",
       "      <td>[[0, 0, 0, 0, 0, 0, 0, 0, 0, 0, 0, 0, 0, 0, 0,...</td>\n",
       "      <td>[14.162895, 10.566473]</td>\n",
       "      <td>19</td>\n",
       "      <td>19|1|0|0.0|0.0|nan|nan|nan</td>\n",
       "      <td>59</td>\n",
       "      <td>21</td>\n",
       "      <td>0</td>\n",
       "    </tr>\n",
       "    <tr>\n",
       "      <th>2</th>\n",
       "      <td>2</td>\n",
       "      <td>0</td>\n",
       "      <td>2.370000</td>\n",
       "      <td>4.240000</td>\n",
       "      <td>1.870000</td>\n",
       "      <td>8</td>\n",
       "      <td>2</td>\n",
       "      <td>3.079714</td>\n",
       "      <td>3.173357</td>\n",
       "      <td>0.093643</td>\n",
       "      <td>...</td>\n",
       "      <td>LS110593.9.8.2018Araluen_dn</td>\n",
       "      <td>[0.0, 0.0030796517861769505, 0.008741865222086...</td>\n",
       "      <td>48000</td>\n",
       "      <td>[[0, 0, 0, 0, 0, 0, 0, 0, 0, 0, 0, 0, 0, 0, 0,...</td>\n",
       "      <td>[5.823101, 11.083305]</td>\n",
       "      <td>19</td>\n",
       "      <td>19|1|1|0.0|0.0|0.0|nan|nan</td>\n",
       "      <td>63</td>\n",
       "      <td>23</td>\n",
       "      <td>0</td>\n",
       "    </tr>\n",
       "    <tr>\n",
       "      <th>3</th>\n",
       "      <td>3</td>\n",
       "      <td>0</td>\n",
       "      <td>2.370000</td>\n",
       "      <td>4.240000</td>\n",
       "      <td>1.870000</td>\n",
       "      <td>8</td>\n",
       "      <td>3</td>\n",
       "      <td>3.260000</td>\n",
       "      <td>3.581982</td>\n",
       "      <td>0.321982</td>\n",
       "      <td>...</td>\n",
       "      <td>LS110593.9.8.2018Araluen_dn</td>\n",
       "      <td>[-0.0, -0.00020854328852771913, -0.00037995893...</td>\n",
       "      <td>48000</td>\n",
       "      <td>[[0, 0, 0, 0, 0, 0, 0, 0, 0, 0, 0, 0, 0, 0, 0,...</td>\n",
       "      <td>[-3.8884213, 19.716284]</td>\n",
       "      <td>3</td>\n",
       "      <td>3|0|2|0.0|nan|nan|nan|nan</td>\n",
       "      <td>96</td>\n",
       "      <td>17</td>\n",
       "      <td>0</td>\n",
       "    </tr>\n",
       "    <tr>\n",
       "      <th>4</th>\n",
       "      <td>4</td>\n",
       "      <td>0</td>\n",
       "      <td>2.370000</td>\n",
       "      <td>4.240000</td>\n",
       "      <td>1.870000</td>\n",
       "      <td>8</td>\n",
       "      <td>4</td>\n",
       "      <td>3.664275</td>\n",
       "      <td>3.718191</td>\n",
       "      <td>0.053916</td>\n",
       "      <td>...</td>\n",
       "      <td>LS110593.9.8.2018Araluen_dn</td>\n",
       "      <td>[-0.0, -0.0018707999847079283, -0.003892325714...</td>\n",
       "      <td>48000</td>\n",
       "      <td>[[0, 0, 0, 0, 0, 0, 0, 0, 0, 0, 0, 0, 0, 0, 0,...</td>\n",
       "      <td>[4.6038485, 3.3076212]</td>\n",
       "      <td>7</td>\n",
       "      <td>7|1|0|0.0|0.0|nan|nan|nan</td>\n",
       "      <td>134</td>\n",
       "      <td>26</td>\n",
       "      <td>0</td>\n",
       "    </tr>\n",
       "    <tr>\n",
       "      <th>...</th>\n",
       "      <td>...</td>\n",
       "      <td>...</td>\n",
       "      <td>...</td>\n",
       "      <td>...</td>\n",
       "      <td>...</td>\n",
       "      <td>...</td>\n",
       "      <td>...</td>\n",
       "      <td>...</td>\n",
       "      <td>...</td>\n",
       "      <td>...</td>\n",
       "      <td>...</td>\n",
       "      <td>...</td>\n",
       "      <td>...</td>\n",
       "      <td>...</td>\n",
       "      <td>...</td>\n",
       "      <td>...</td>\n",
       "      <td>...</td>\n",
       "      <td>...</td>\n",
       "      <td>...</td>\n",
       "      <td>...</td>\n",
       "      <td>...</td>\n",
       "    </tr>\n",
       "    <tr>\n",
       "      <th>3566</th>\n",
       "      <td>1077</td>\n",
       "      <td>216</td>\n",
       "      <td>7449.073765</td>\n",
       "      <td>7451.014733</td>\n",
       "      <td>1.940968</td>\n",
       "      <td>5</td>\n",
       "      <td>2</td>\n",
       "      <td>7449.909933</td>\n",
       "      <td>7450.602325</td>\n",
       "      <td>0.692392</td>\n",
       "      <td>...</td>\n",
       "      <td>LS110640.10.1.2018Araluen_dn</td>\n",
       "      <td>[-0.0, -2.140440722621177e-07, -3.212511081611...</td>\n",
       "      <td>48000</td>\n",
       "      <td>[[0, 0, 0, 0, 0, 0, 0, 0, 0, 0, 0, 0, 0, 0, 0,...</td>\n",
       "      <td>[-6.6992188, 3.5407455]</td>\n",
       "      <td>12</td>\n",
       "      <td>12|1|0|0.0|nan|nan|nan|nan</td>\n",
       "      <td>18</td>\n",
       "      <td>4</td>\n",
       "      <td>647</td>\n",
       "    </tr>\n",
       "    <tr>\n",
       "      <th>3567</th>\n",
       "      <td>1078</td>\n",
       "      <td>216</td>\n",
       "      <td>7449.073765</td>\n",
       "      <td>7451.014733</td>\n",
       "      <td>1.940968</td>\n",
       "      <td>5</td>\n",
       "      <td>3</td>\n",
       "      <td>7450.606109</td>\n",
       "      <td>7450.790000</td>\n",
       "      <td>0.183891</td>\n",
       "      <td>...</td>\n",
       "      <td>LS110640.10.1.2018Araluen_dn</td>\n",
       "      <td>[0.0, 6.060969809557767e-05, 0.000226911032359...</td>\n",
       "      <td>48000</td>\n",
       "      <td>[[0, 0, 0, 0, 0, 0, 0, 0, 0, 0, 0, 0, 0, 0, 0,...</td>\n",
       "      <td>[-6.1084714, 10.006679]</td>\n",
       "      <td>13</td>\n",
       "      <td>13|0|1|0.0|nan|nan|nan|nan</td>\n",
       "      <td>23</td>\n",
       "      <td>6</td>\n",
       "      <td>647</td>\n",
       "    </tr>\n",
       "    <tr>\n",
       "      <th>3568</th>\n",
       "      <td>1079</td>\n",
       "      <td>216</td>\n",
       "      <td>7449.073765</td>\n",
       "      <td>7451.014733</td>\n",
       "      <td>1.940968</td>\n",
       "      <td>5</td>\n",
       "      <td>4</td>\n",
       "      <td>7450.880000</td>\n",
       "      <td>7451.014733</td>\n",
       "      <td>0.134733</td>\n",
       "      <td>...</td>\n",
       "      <td>LS110640.10.1.2018Araluen_dn</td>\n",
       "      <td>[-0.0, -0.0002617451218550637, -0.000495686777...</td>\n",
       "      <td>48000</td>\n",
       "      <td>[[0, 0, 0, 0, 0, 0, 0, 0, 0, 0, 0, 0, 0, 0, 0,...</td>\n",
       "      <td>[-0.7211057, 7.325408]</td>\n",
       "      <td>17</td>\n",
       "      <td>17|1|0|nan|nan|nan|nan|nan</td>\n",
       "      <td>50</td>\n",
       "      <td>8</td>\n",
       "      <td>647</td>\n",
       "    </tr>\n",
       "    <tr>\n",
       "      <th>3569</th>\n",
       "      <td>1080</td>\n",
       "      <td>217</td>\n",
       "      <td>7455.220000</td>\n",
       "      <td>7455.855543</td>\n",
       "      <td>0.635543</td>\n",
       "      <td>2</td>\n",
       "      <td>0</td>\n",
       "      <td>7455.220000</td>\n",
       "      <td>7455.440000</td>\n",
       "      <td>0.220000</td>\n",
       "      <td>...</td>\n",
       "      <td>LS110640.10.1.2018Araluen_dn</td>\n",
       "      <td>[0.0, 4.403572842078721e-05, 6.391323052796741...</td>\n",
       "      <td>48000</td>\n",
       "      <td>[[0, 0, 0, 0, 0, 0, 0, 0, 0, 0, 0, 0, 0, 0, 0,...</td>\n",
       "      <td>[3.3330638, 15.063577]</td>\n",
       "      <td>21</td>\n",
       "      <td>21|0|0|0.0|0.0|nan|nan|nan</td>\n",
       "      <td>77</td>\n",
       "      <td>24</td>\n",
       "      <td>648</td>\n",
       "    </tr>\n",
       "    <tr>\n",
       "      <th>3570</th>\n",
       "      <td>1081</td>\n",
       "      <td>217</td>\n",
       "      <td>7455.220000</td>\n",
       "      <td>7455.855543</td>\n",
       "      <td>0.635543</td>\n",
       "      <td>2</td>\n",
       "      <td>1</td>\n",
       "      <td>7455.670000</td>\n",
       "      <td>7455.855543</td>\n",
       "      <td>0.185543</td>\n",
       "      <td>...</td>\n",
       "      <td>LS110640.10.1.2018Araluen_dn</td>\n",
       "      <td>[0.0, 1.7624285897152536e-05, 1.44506010833202...</td>\n",
       "      <td>48000</td>\n",
       "      <td>[[0, 0, 0, 0, 0, 0, 0, 0, 0, 0, 0, 0, 0, 0, 0,...</td>\n",
       "      <td>[2.662084, 14.934641]</td>\n",
       "      <td>10</td>\n",
       "      <td>10|1|0|0.0|nan|nan|nan|nan</td>\n",
       "      <td>7</td>\n",
       "      <td>23</td>\n",
       "      <td>648</td>\n",
       "    </tr>\n",
       "  </tbody>\n",
       "</table>\n",
       "<p>3571 rows × 22 columns</p>\n",
       "</div>"
      ],
      "text/plain": [
       "      index  phrase_nb  phrase_strt   phrase_end  phrase_len  note_cnt  \\\n",
       "0         0          0     2.370000     4.240000    1.870000         8   \n",
       "1         1          0     2.370000     4.240000    1.870000         8   \n",
       "2         2          0     2.370000     4.240000    1.870000         8   \n",
       "3         3          0     2.370000     4.240000    1.870000         8   \n",
       "4         4          0     2.370000     4.240000    1.870000         8   \n",
       "...     ...        ...          ...          ...         ...       ...   \n",
       "3566   1077        216  7449.073765  7451.014733    1.940968         5   \n",
       "3567   1078        216  7449.073765  7451.014733    1.940968         5   \n",
       "3568   1079        216  7449.073765  7451.014733    1.940968         5   \n",
       "3569   1080        217  7455.220000  7455.855543    0.635543         2   \n",
       "3570   1081        217  7455.220000  7455.855543    0.635543         2   \n",
       "\n",
       "      note_nb    note_strt     note_end  note_len  ...  \\\n",
       "0           0     2.370000     2.415699  0.045699  ...   \n",
       "1           1     2.660000     2.977558  0.317558  ...   \n",
       "2           2     3.079714     3.173357  0.093643  ...   \n",
       "3           3     3.260000     3.581982  0.321982  ...   \n",
       "4           4     3.664275     3.718191  0.053916  ...   \n",
       "...       ...          ...          ...       ...  ...   \n",
       "3566        2  7449.909933  7450.602325  0.692392  ...   \n",
       "3567        3  7450.606109  7450.790000  0.183891  ...   \n",
       "3568        4  7450.880000  7451.014733  0.134733  ...   \n",
       "3569        0  7455.220000  7455.440000  0.220000  ...   \n",
       "3570        1  7455.670000  7455.855543  0.185543  ...   \n",
       "\n",
       "                               key  \\\n",
       "0      LS110593.9.8.2018Araluen_dn   \n",
       "1      LS110593.9.8.2018Araluen_dn   \n",
       "2      LS110593.9.8.2018Araluen_dn   \n",
       "3      LS110593.9.8.2018Araluen_dn   \n",
       "4      LS110593.9.8.2018Araluen_dn   \n",
       "...                            ...   \n",
       "3566  LS110640.10.1.2018Araluen_dn   \n",
       "3567  LS110640.10.1.2018Araluen_dn   \n",
       "3568  LS110640.10.1.2018Araluen_dn   \n",
       "3569  LS110640.10.1.2018Araluen_dn   \n",
       "3570  LS110640.10.1.2018Araluen_dn   \n",
       "\n",
       "                                                  audio   rate  \\\n",
       "0     [0.0, -5.558967174674641e-06, -5.2225732263302...  48000   \n",
       "1     [0.0, 3.069944854750729e-05, 4.037410245845782...  48000   \n",
       "2     [0.0, 0.0030796517861769505, 0.008741865222086...  48000   \n",
       "3     [-0.0, -0.00020854328852771913, -0.00037995893...  48000   \n",
       "4     [-0.0, -0.0018707999847079283, -0.003892325714...  48000   \n",
       "...                                                 ...    ...   \n",
       "3566  [-0.0, -2.140440722621177e-07, -3.212511081611...  48000   \n",
       "3567  [0.0, 6.060969809557767e-05, 0.000226911032359...  48000   \n",
       "3568  [-0.0, -0.0002617451218550637, -0.000495686777...  48000   \n",
       "3569  [0.0, 4.403572842078721e-05, 6.391323052796741...  48000   \n",
       "3570  [0.0, 1.7624285897152536e-05, 1.44506010833202...  48000   \n",
       "\n",
       "                                            spectrogram  \\\n",
       "0     [[0, 0, 0, 0, 0, 0, 0, 0, 0, 0, 0, 0, 0, 0, 0,...   \n",
       "1     [[0, 0, 0, 0, 0, 0, 0, 0, 0, 0, 0, 0, 0, 0, 0,...   \n",
       "2     [[0, 0, 0, 0, 0, 0, 0, 0, 0, 0, 0, 0, 0, 0, 0,...   \n",
       "3     [[0, 0, 0, 0, 0, 0, 0, 0, 0, 0, 0, 0, 0, 0, 0,...   \n",
       "4     [[0, 0, 0, 0, 0, 0, 0, 0, 0, 0, 0, 0, 0, 0, 0,...   \n",
       "...                                                 ...   \n",
       "3566  [[0, 0, 0, 0, 0, 0, 0, 0, 0, 0, 0, 0, 0, 0, 0,...   \n",
       "3567  [[0, 0, 0, 0, 0, 0, 0, 0, 0, 0, 0, 0, 0, 0, 0,...   \n",
       "3568  [[0, 0, 0, 0, 0, 0, 0, 0, 0, 0, 0, 0, 0, 0, 0,...   \n",
       "3569  [[0, 0, 0, 0, 0, 0, 0, 0, 0, 0, 0, 0, 0, 0, 0,...   \n",
       "3570  [[0, 0, 0, 0, 0, 0, 0, 0, 0, 0, 0, 0, 0, 0, 0,...   \n",
       "\n",
       "                         umap hdbscan_labels                recur_labels  \\\n",
       "0      [12.999457, -3.640876]              5   5|1|0|1.0|1.0|1.0|0.0|nan   \n",
       "1      [14.162895, 10.566473]             19  19|1|0|0.0|0.0|nan|nan|nan   \n",
       "2       [5.823101, 11.083305]             19  19|1|1|0.0|0.0|0.0|nan|nan   \n",
       "3     [-3.8884213, 19.716284]              3   3|0|2|0.0|nan|nan|nan|nan   \n",
       "4      [4.6038485, 3.3076212]              7   7|1|0|0.0|0.0|nan|nan|nan   \n",
       "...                       ...            ...                         ...   \n",
       "3566  [-6.6992188, 3.5407455]             12  12|1|0|0.0|nan|nan|nan|nan   \n",
       "3567  [-6.1084714, 10.006679]             13  13|0|1|0.0|nan|nan|nan|nan   \n",
       "3568   [-0.7211057, 7.325408]             17  17|1|0|nan|nan|nan|nan|nan   \n",
       "3569   [3.3330638, 15.063577]             21  21|0|0|0.0|0.0|nan|nan|nan   \n",
       "3570    [2.662084, 14.934641]             10  10|1|0|0.0|nan|nan|nan|nan   \n",
       "\n",
       "      recur_labels_id lasso_labels  seq_id  \n",
       "0                 113           29       0  \n",
       "1                  59           21       0  \n",
       "2                  63           23       0  \n",
       "3                  96           17       0  \n",
       "4                 134           26       0  \n",
       "...               ...          ...     ...  \n",
       "3566               18            4     647  \n",
       "3567               23            6     647  \n",
       "3568               50            8     647  \n",
       "3569               77           24     648  \n",
       "3570                7           23     648  \n",
       "\n",
       "[3571 rows x 22 columns]"
      ]
     },
     "execution_count": 6,
     "metadata": {},
     "output_type": "execute_result"
    }
   ],
   "source": [
    "indv_df"
   ]
  },
  {
   "cell_type": "markdown",
   "id": "01b5df5b",
   "metadata": {},
   "source": [
    "## Leave only phrase"
   ]
  },
  {
   "cell_type": "code",
   "execution_count": 7,
   "id": "17d4bc9b",
   "metadata": {},
   "outputs": [],
   "source": [
    "indv_df = indv_df.drop_duplicates(subset = 'phrase_strt').reset_index()"
   ]
  },
  {
   "cell_type": "markdown",
   "id": "7bde13c5",
   "metadata": {},
   "source": [
    "## Calculate Empirical Rhythm"
   ]
  },
  {
   "cell_type": "code",
   "execution_count": 8,
   "id": "7e5736b7",
   "metadata": {
    "scrolled": true
   },
   "outputs": [
    {
     "name": "stderr",
     "output_type": "stream",
     "text": [
      "/home/AD/j8xing/syntax_rhythm_pbb/butcherbird/rhythm.py:153: TqdmExperimentalWarning: Using `tqdm.autonotebook.tqdm` in notebook mode. Use `tqdm.tqdm` instead to force console mode (e.g. in jupyter console)\n",
      "  from tqdm.autonotebook import tqdm\n"
     ]
    }
   ],
   "source": [
    "import butcherbird.rhythm as rhythm\n",
    "import seaborn as sns"
   ]
  },
  {
   "cell_type": "code",
   "execution_count": 9,
   "id": "a2e29cdc",
   "metadata": {
    "scrolled": true
   },
   "outputs": [],
   "source": [
    "dyadic = rhythm.construct_rhythm_df(\n",
    "    onsets = indv_df['phrase_strt'], \n",
    "    syntactic_units = indv_df['hdbscan_labels'], \n",
    "    expected_interval_range = [0, 10]\n",
    ")"
   ]
  },
  {
   "cell_type": "code",
   "execution_count": 10,
   "id": "8db7d7df",
   "metadata": {
    "scrolled": false
   },
   "outputs": [
    {
     "data": {
      "text/html": [
       "<div>\n",
       "<style scoped>\n",
       "    .dataframe tbody tr th:only-of-type {\n",
       "        vertical-align: middle;\n",
       "    }\n",
       "\n",
       "    .dataframe tbody tr th {\n",
       "        vertical-align: top;\n",
       "    }\n",
       "\n",
       "    .dataframe thead th {\n",
       "        text-align: right;\n",
       "    }\n",
       "</style>\n",
       "<table border=\"1\" class=\"dataframe\">\n",
       "  <thead>\n",
       "    <tr style=\"text-align: right;\">\n",
       "      <th></th>\n",
       "      <th>intervals1</th>\n",
       "      <th>intervals2</th>\n",
       "      <th>label1</th>\n",
       "      <th>label2</th>\n",
       "      <th>label3</th>\n",
       "      <th>s_interval</th>\n",
       "      <th>l_interval</th>\n",
       "      <th>cycle_dur</th>\n",
       "      <th>ratio_roeske</th>\n",
       "      <th>ratio_custom</th>\n",
       "      <th>cycle_rank</th>\n",
       "    </tr>\n",
       "  </thead>\n",
       "  <tbody>\n",
       "    <tr>\n",
       "      <th>249</th>\n",
       "      <td>4.380000</td>\n",
       "      <td>2.350000</td>\n",
       "      <td>15</td>\n",
       "      <td>8</td>\n",
       "      <td>7</td>\n",
       "      <td>2.350000</td>\n",
       "      <td>4.380000</td>\n",
       "      <td>6.730000</td>\n",
       "      <td>0.650817</td>\n",
       "      <td>0.536530</td>\n",
       "      <td>1</td>\n",
       "    </tr>\n",
       "    <tr>\n",
       "      <th>618</th>\n",
       "      <td>5.565566</td>\n",
       "      <td>3.084434</td>\n",
       "      <td>0</td>\n",
       "      <td>6</td>\n",
       "      <td>7</td>\n",
       "      <td>3.084434</td>\n",
       "      <td>5.565566</td>\n",
       "      <td>8.650000</td>\n",
       "      <td>0.643418</td>\n",
       "      <td>0.554199</td>\n",
       "      <td>2</td>\n",
       "    </tr>\n",
       "    <tr>\n",
       "      <th>619</th>\n",
       "      <td>3.084434</td>\n",
       "      <td>6.560000</td>\n",
       "      <td>6</td>\n",
       "      <td>7</td>\n",
       "      <td>8</td>\n",
       "      <td>3.084434</td>\n",
       "      <td>6.560000</td>\n",
       "      <td>9.644434</td>\n",
       "      <td>0.319815</td>\n",
       "      <td>0.470188</td>\n",
       "      <td>3</td>\n",
       "    </tr>\n",
       "    <tr>\n",
       "      <th>465</th>\n",
       "      <td>4.170000</td>\n",
       "      <td>5.750000</td>\n",
       "      <td>15</td>\n",
       "      <td>5</td>\n",
       "      <td>19</td>\n",
       "      <td>4.170000</td>\n",
       "      <td>5.750000</td>\n",
       "      <td>9.920000</td>\n",
       "      <td>0.420363</td>\n",
       "      <td>0.725217</td>\n",
       "      <td>4</td>\n",
       "    </tr>\n",
       "    <tr>\n",
       "      <th>632</th>\n",
       "      <td>5.180000</td>\n",
       "      <td>5.350000</td>\n",
       "      <td>21</td>\n",
       "      <td>8</td>\n",
       "      <td>5</td>\n",
       "      <td>5.180000</td>\n",
       "      <td>5.350000</td>\n",
       "      <td>10.530000</td>\n",
       "      <td>0.491928</td>\n",
       "      <td>0.968224</td>\n",
       "      <td>5</td>\n",
       "    </tr>\n",
       "    <tr>\n",
       "      <th>...</th>\n",
       "      <td>...</td>\n",
       "      <td>...</td>\n",
       "      <td>...</td>\n",
       "      <td>...</td>\n",
       "      <td>...</td>\n",
       "      <td>...</td>\n",
       "      <td>...</td>\n",
       "      <td>...</td>\n",
       "      <td>...</td>\n",
       "      <td>...</td>\n",
       "      <td>...</td>\n",
       "    </tr>\n",
       "    <tr>\n",
       "      <th>281</th>\n",
       "      <td>9.300000</td>\n",
       "      <td>9.610000</td>\n",
       "      <td>5</td>\n",
       "      <td>8</td>\n",
       "      <td>21</td>\n",
       "      <td>9.300000</td>\n",
       "      <td>9.610000</td>\n",
       "      <td>18.910000</td>\n",
       "      <td>0.491803</td>\n",
       "      <td>0.967742</td>\n",
       "      <td>422</td>\n",
       "    </tr>\n",
       "    <tr>\n",
       "      <th>263</th>\n",
       "      <td>9.026678</td>\n",
       "      <td>9.913655</td>\n",
       "      <td>6</td>\n",
       "      <td>5</td>\n",
       "      <td>16</td>\n",
       "      <td>9.026678</td>\n",
       "      <td>9.913655</td>\n",
       "      <td>18.940333</td>\n",
       "      <td>0.476585</td>\n",
       "      <td>0.910530</td>\n",
       "      <td>423</td>\n",
       "    </tr>\n",
       "    <tr>\n",
       "      <th>130</th>\n",
       "      <td>9.750000</td>\n",
       "      <td>9.470000</td>\n",
       "      <td>8</td>\n",
       "      <td>5</td>\n",
       "      <td>21</td>\n",
       "      <td>9.470000</td>\n",
       "      <td>9.750000</td>\n",
       "      <td>19.220000</td>\n",
       "      <td>0.507284</td>\n",
       "      <td>0.971282</td>\n",
       "      <td>424</td>\n",
       "    </tr>\n",
       "    <tr>\n",
       "      <th>190</th>\n",
       "      <td>9.667445</td>\n",
       "      <td>9.672555</td>\n",
       "      <td>8</td>\n",
       "      <td>16</td>\n",
       "      <td>5</td>\n",
       "      <td>9.667445</td>\n",
       "      <td>9.672555</td>\n",
       "      <td>19.340000</td>\n",
       "      <td>0.499868</td>\n",
       "      <td>0.999472</td>\n",
       "      <td>425</td>\n",
       "    </tr>\n",
       "    <tr>\n",
       "      <th>152</th>\n",
       "      <td>9.740000</td>\n",
       "      <td>9.825904</td>\n",
       "      <td>5</td>\n",
       "      <td>7</td>\n",
       "      <td>10</td>\n",
       "      <td>9.740000</td>\n",
       "      <td>9.825904</td>\n",
       "      <td>19.565904</td>\n",
       "      <td>0.497805</td>\n",
       "      <td>0.991257</td>\n",
       "      <td>426</td>\n",
       "    </tr>\n",
       "  </tbody>\n",
       "</table>\n",
       "<p>426 rows × 11 columns</p>\n",
       "</div>"
      ],
      "text/plain": [
       "     intervals1  intervals2  label1  label2  label3  s_interval  l_interval  \\\n",
       "249    4.380000    2.350000      15       8       7    2.350000    4.380000   \n",
       "618    5.565566    3.084434       0       6       7    3.084434    5.565566   \n",
       "619    3.084434    6.560000       6       7       8    3.084434    6.560000   \n",
       "465    4.170000    5.750000      15       5      19    4.170000    5.750000   \n",
       "632    5.180000    5.350000      21       8       5    5.180000    5.350000   \n",
       "..          ...         ...     ...     ...     ...         ...         ...   \n",
       "281    9.300000    9.610000       5       8      21    9.300000    9.610000   \n",
       "263    9.026678    9.913655       6       5      16    9.026678    9.913655   \n",
       "130    9.750000    9.470000       8       5      21    9.470000    9.750000   \n",
       "190    9.667445    9.672555       8      16       5    9.667445    9.672555   \n",
       "152    9.740000    9.825904       5       7      10    9.740000    9.825904   \n",
       "\n",
       "     cycle_dur  ratio_roeske  ratio_custom  cycle_rank  \n",
       "249   6.730000      0.650817      0.536530           1  \n",
       "618   8.650000      0.643418      0.554199           2  \n",
       "619   9.644434      0.319815      0.470188           3  \n",
       "465   9.920000      0.420363      0.725217           4  \n",
       "632  10.530000      0.491928      0.968224           5  \n",
       "..         ...           ...           ...         ...  \n",
       "281  18.910000      0.491803      0.967742         422  \n",
       "263  18.940333      0.476585      0.910530         423  \n",
       "130  19.220000      0.507284      0.971282         424  \n",
       "190  19.340000      0.499868      0.999472         425  \n",
       "152  19.565904      0.497805      0.991257         426  \n",
       "\n",
       "[426 rows x 11 columns]"
      ]
     },
     "execution_count": 10,
     "metadata": {},
     "output_type": "execute_result"
    }
   ],
   "source": [
    "dyadic"
   ]
  },
  {
   "cell_type": "code",
   "execution_count": 11,
   "id": "d1e0c16a",
   "metadata": {},
   "outputs": [
    {
     "data": {
      "text/plain": [
       "<AxesSubplot:xlabel='ratio_roeske', ylabel='Count'>"
      ]
     },
     "execution_count": 11,
     "metadata": {},
     "output_type": "execute_result"
    },
    {
     "data": {
      "image/png": "[encoded data removed]",
      "text/plain": [
       "<Figure size 432x288 with 1 Axes>"
      ]
     },
     "metadata": {
      "needs_background": "light"
     },
     "output_type": "display_data"
    }
   ],
   "source": [
    "sns.histplot(dyadic['ratio_roeske'])"
   ]
  },
  {
   "cell_type": "code",
   "execution_count": 12,
   "id": "cdbecdb1",
   "metadata": {},
   "outputs": [
    {
     "data": {
      "text/plain": [
       "<AxesSubplot:xlabel='intervals1', ylabel='Count'>"
      ]
     },
     "execution_count": 12,
     "metadata": {},
     "output_type": "execute_result"
    },
    {
     "data": {
      "image/png": "[encoded data removed]",
      "text/plain": [
       "<Figure size 432x288 with 1 Axes>"
      ]
     },
     "metadata": {
      "needs_background": "light"
     },
     "output_type": "display_data"
    }
   ],
   "source": [
    "sns.histplot(dyadic['intervals1'])"
   ]
  },
  {
   "cell_type": "markdown",
   "id": "919e2a53",
   "metadata": {},
   "source": [
    "## Calculate Uniform Rhythm\n",
    "> Uniform rhythm is calculated under the assumption that interval lengths are uniformly distributed between a minimum and maximum interval length.  "
   ]
  },
  {
   "cell_type": "code",
   "execution_count": 13,
   "id": "0e034e52",
   "metadata": {},
   "outputs": [],
   "source": [
    "n = 1000"
   ]
  },
  {
   "cell_type": "code",
   "execution_count": 14,
   "id": "88974449",
   "metadata": {},
   "outputs": [],
   "source": [
    "import numpy as np\n",
    "import numpy.random as random"
   ]
  },
  {
   "cell_type": "code",
   "execution_count": 15,
   "id": "1acdacdc",
   "metadata": {},
   "outputs": [],
   "source": [
    "interval_min = np.min([dyadic['intervals1'].values, dyadic['intervals2']])\n",
    "interval_max = np.max([dyadic['intervals1'].values, dyadic['intervals2']])"
   ]
  },
  {
   "cell_type": "code",
   "execution_count": 16,
   "id": "816ef432",
   "metadata": {},
   "outputs": [],
   "source": [
    "interval1_uni = random.uniform(low = interval_min, high = interval_max, size = len(dyadic) * n)\n",
    "interval2_uni = random.uniform(low = interval_min, high = interval_max, size = len(dyadic) * n)\n",
    "uni_ratio = interval1_uni / (interval1_uni + interval2_uni)"
   ]
  },
  {
   "cell_type": "code",
   "execution_count": 17,
   "id": "74658e4e",
   "metadata": {},
   "outputs": [
    {
     "data": {
      "text/plain": [
       "<AxesSubplot:ylabel='Count'>"
      ]
     },
     "execution_count": 17,
     "metadata": {},
     "output_type": "execute_result"
    },
    {
     "data": {
      "image/png": "[encoded data removed]",
      "text/plain": [
       "<Figure size 432x288 with 1 Axes>"
      ]
     },
     "metadata": {
      "needs_background": "light"
     },
     "output_type": "display_data"
    }
   ],
   "source": [
    "sns.histplot(uni_ratio)"
   ]
  },
  {
   "cell_type": "markdown",
   "id": "d224676f",
   "metadata": {},
   "source": [
    "## Calculate Shuffled Rhythm\n",
    "> Shuffled rhythm is calculated under the assumption that interval lengths are bootstrapped from the empirical distribution, but the consecutive order of intervals are shuffled. "
   ]
  },
  {
   "cell_type": "code",
   "execution_count": 18,
   "id": "bbf68abf",
   "metadata": {},
   "outputs": [],
   "source": [
    "interval1_sf = dyadic['intervals1'].sample(frac = n, replace = True).values\n",
    "interval2_sf = dyadic['intervals2'].sample(frac = n, replace = True).values\n",
    "sf_ratio = interval1_sf / (interval1_sf + interval2_sf)"
   ]
  },
  {
   "cell_type": "code",
   "execution_count": 19,
   "id": "10743e69",
   "metadata": {},
   "outputs": [
    {
     "data": {
      "text/plain": [
       "<AxesSubplot:ylabel='Count'>"
      ]
     },
     "execution_count": 19,
     "metadata": {},
     "output_type": "execute_result"
    },
    {
     "data": {
      "image/png": "[encoded data removed]",
      "text/plain": [
       "<Figure size 432x288 with 1 Axes>"
      ]
     },
     "metadata": {
      "needs_background": "light"
     },
     "output_type": "display_data"
    }
   ],
   "source": [
    "sns.histplot(sf_ratio)"
   ]
  },
  {
   "cell_type": "markdown",
   "id": "f4ef0b1f",
   "metadata": {},
   "source": [
    "## Calculate Shuffled Phrase + Gap\n",
    "> Shuffled Note + Gap rhythm is calculated under the assumption that note length and inter-note gaps are independently shuffled."
   ]
  },
  {
   "cell_type": "code",
   "execution_count": 20,
   "id": "98e19bef",
   "metadata": {},
   "outputs": [],
   "source": [
    "import numpy.random as random"
   ]
  },
  {
   "cell_type": "code",
   "execution_count": 21,
   "id": "e86b6c7d",
   "metadata": {},
   "outputs": [],
   "source": [
    "# find all gaps and their positions\n",
    "grand_gaps = indv_df['phrase_strt'][1:].values - indv_df['phrase_end'][:-1].values\n",
    "    \n",
    "grand_gaps = np.hstack(grand_gaps)\n",
    "grand_gaps = grand_gaps[grand_gaps < 10] ## gaps that are more than 10 seconds long are noise\n",
    "grand_gaps = grand_gaps[grand_gaps > 0] ## gaps shouldn't be negative"
   ]
  },
  {
   "cell_type": "code",
   "execution_count": 22,
   "id": "619fa531",
   "metadata": {},
   "outputs": [],
   "source": [
    "df_lg = []\n",
    "\n",
    "for i in np.arange(0, n):\n",
    "    ## randomly shuffle gaps\n",
    "    random.shuffle(grand_gaps)\n",
    "    ## add to randomly shuffled lengths\n",
    "    shuffled_lg = grand_gaps + indv_df['phrase_len'].sample(n = len(grand_gaps), replace = True).values\n",
    "    \n",
    "    shuffled_lg_i1 = shuffled_lg[:-1]\n",
    "    shuffled_lg_i2 = shuffled_lg[1:]\n",
    "    \n",
    "    df_lg.append(shuffled_lg_i1 / (shuffled_lg_i1 + shuffled_lg_i2))"
   ]
  },
  {
   "cell_type": "code",
   "execution_count": 23,
   "id": "f586fa7e",
   "metadata": {},
   "outputs": [],
   "source": [
    "lg_ratio = np.hstack(df_lg)"
   ]
  },
  {
   "cell_type": "code",
   "execution_count": 24,
   "id": "85ca084c",
   "metadata": {},
   "outputs": [
    {
     "data": {
      "text/plain": [
       "<AxesSubplot:ylabel='Count'>"
      ]
     },
     "execution_count": 24,
     "metadata": {},
     "output_type": "execute_result"
    },
    {
     "data": {
      "image/png": "[encoded data removed]",
      "text/plain": [
       "<Figure size 432x288 with 1 Axes>"
      ]
     },
     "metadata": {
      "needs_background": "light"
     },
     "output_type": "display_data"
    }
   ],
   "source": [
    "sns.histplot(lg_ratio)"
   ]
  },
  {
   "cell_type": "markdown",
   "id": "8267c8eb",
   "metadata": {},
   "source": [
    "## Draw Figure"
   ]
  },
  {
   "cell_type": "code",
   "execution_count": 25,
   "id": "9134a980",
   "metadata": {},
   "outputs": [],
   "source": [
    "import matplotlib.pyplot as plt\n",
    "from matplotlib.pyplot import figure\n",
    "from butcherbird.utils.paths import FIGURE_DIR"
   ]
  },
  {
   "cell_type": "code",
   "execution_count": 26,
   "id": "3073c4d8",
   "metadata": {
    "scrolled": false
   },
   "outputs": [
    {
     "data": {
      "image/png": "[encoded data removed]",
      "text/plain": [
       "<Figure size 2400x1800 with 1 Axes>"
      ]
     },
     "metadata": {
      "needs_background": "light"
     },
     "output_type": "display_data"
    }
   ],
   "source": [
    "figure(figsize = (8, 6), dpi = 300)\n",
    "\n",
    "plt.rcParams['patch.edgecolor'] = 'none'\n",
    "\n",
    "fig = sns.histplot(\n",
    "    x = dyadic['ratio_roeske'],\n",
    "    binwidth = 0.01,\n",
    "    stat=\"density\",\n",
    "    color = '#6D6C9E',\n",
    "    fill = '#6D6C9E',\n",
    "    kde = True\n",
    ")\n",
    "\n",
    "uni = sns.histplot(\n",
    "    x = uni_ratio,\n",
    "    stat=\"density\",\n",
    "    alpha = 0,\n",
    "    color = '#FC6983',\n",
    "    kde = True,\n",
    "    line_kws = dict(linestyle = 'dashed')\n",
    ")\n",
    "\n",
    "sf = sns.histplot(\n",
    "    x = sf_ratio,\n",
    "    stat = 'density',\n",
    "    alpha = 0,\n",
    "    kde = True,\n",
    "    color = '#1DB6AB',\n",
    "    line_kws = dict(linestyle = 'dashed')\n",
    ")\n",
    "\n",
    "lg = sns.histplot(\n",
    "    x = lg_ratio,\n",
    "    stat = 'density',\n",
    "    alpha = 0,\n",
    "    kde = True,\n",
    "    color = '#15215B',\n",
    "    line_kws = dict(linestyle = 'dashed')\n",
    ")\n",
    "\n",
    "ax = plt.gca()\n",
    "ax.set_xlim([0, 1])\n",
    "plt.xticks(np.arange(0, 1.25, 0.25))\n",
    "\n",
    "# save\n",
    "figname = 'phrase_rhythm_' + indv + '.svg'\n",
    "plt.savefig(FIGURE_DIR/'categorical_rhythm'/figname)"
   ]
  },
  {
   "cell_type": "markdown",
   "id": "e40ac186",
   "metadata": {},
   "source": [
    "## Do some statistics"
   ]
  },
  {
   "cell_type": "code",
   "execution_count": 27,
   "id": "b98380ac",
   "metadata": {},
   "outputs": [],
   "source": [
    "import scipy"
   ]
  },
  {
   "cell_type": "code",
   "execution_count": 28,
   "id": "7d552280",
   "metadata": {},
   "outputs": [],
   "source": [
    "ks = scipy.stats.ks_2samp(dyadic['ratio_roeske'], sf_ratio)"
   ]
  },
  {
   "cell_type": "code",
   "execution_count": 29,
   "id": "fcca5422",
   "metadata": {},
   "outputs": [
    {
     "data": {
      "text/plain": [
       "426"
      ]
     },
     "execution_count": 29,
     "metadata": {},
     "output_type": "execute_result"
    }
   ],
   "source": [
    "len(dyadic['ratio_roeske'])"
   ]
  },
  {
   "cell_type": "code",
   "execution_count": 30,
   "id": "eea5f0a6",
   "metadata": {},
   "outputs": [
    {
     "data": {
      "text/plain": [
       "426000"
      ]
     },
     "execution_count": 30,
     "metadata": {},
     "output_type": "execute_result"
    }
   ],
   "source": [
    "len(sf_ratio)"
   ]
  },
  {
   "cell_type": "code",
   "execution_count": 31,
   "id": "92b1dc08",
   "metadata": {},
   "outputs": [
    {
     "data": {
      "text/plain": [
       "KstestResult(statistic=0.027474178403755822, pvalue=0.895700943805698)"
      ]
     },
     "execution_count": 31,
     "metadata": {},
     "output_type": "execute_result"
    }
   ],
   "source": [
    "ks"
   ]
  },
  {
   "cell_type": "code",
   "execution_count": 37,
   "id": "c85878a0",
   "metadata": {},
   "outputs": [],
   "source": [
    "kslg = scipy.stats.ks_2samp(dyadic['ratio_roeske'], lg_ratio)"
   ]
  },
  {
   "cell_type": "code",
   "execution_count": 38,
   "id": "752cb6fb",
   "metadata": {},
   "outputs": [
    {
     "data": {
      "text/plain": [
       "533000"
      ]
     },
     "execution_count": 38,
     "metadata": {},
     "output_type": "execute_result"
    }
   ],
   "source": [
    "len(lg_ratio)"
   ]
  },
  {
   "cell_type": "code",
   "execution_count": 39,
   "id": "6f967938",
   "metadata": {},
   "outputs": [
    {
     "data": {
      "text/plain": [
       "KstestResult(statistic=0.03426382686362073, pvalue=0.6859984891632575)"
      ]
     },
     "execution_count": 39,
     "metadata": {},
     "output_type": "execute_result"
    }
   ],
   "source": [
    "kslg"
   ]
  },
  {
   "cell_type": "markdown",
   "id": "9aca36e4",
   "metadata": {},
   "source": [
    "## Timescale Estimation"
   ]
  },
  {
   "cell_type": "code",
   "execution_count": 32,
   "id": "95cfadf2",
   "metadata": {},
   "outputs": [],
   "source": [
    "import numpy as np\n",
    "import scipy.stats\n",
    "\n",
    "## a standard calculation for confidence interval\n",
    "def mean_confidence_interval(data, confidence=0.95):\n",
    "    a = 1.0 * np.array(data)\n",
    "    n = len(a)\n",
    "    m, se = np.mean(a), scipy.stats.sem(a)\n",
    "    h = se * scipy.stats.t.ppf((1 + confidence) / 2., n-1)\n",
    "    return m, m-h, m+h"
   ]
  },
  {
   "cell_type": "code",
   "execution_count": 33,
   "id": "238426c0",
   "metadata": {},
   "outputs": [
    {
     "data": {
      "text/html": [
       "<div>\n",
       "<style scoped>\n",
       "    .dataframe tbody tr th:only-of-type {\n",
       "        vertical-align: middle;\n",
       "    }\n",
       "\n",
       "    .dataframe tbody tr th {\n",
       "        vertical-align: top;\n",
       "    }\n",
       "\n",
       "    .dataframe thead th {\n",
       "        text-align: right;\n",
       "    }\n",
       "</style>\n",
       "<table border=\"1\" class=\"dataframe\">\n",
       "  <thead>\n",
       "    <tr style=\"text-align: right;\">\n",
       "      <th></th>\n",
       "      <th>intervals1</th>\n",
       "      <th>intervals2</th>\n",
       "      <th>label1</th>\n",
       "      <th>label2</th>\n",
       "      <th>label3</th>\n",
       "      <th>s_interval</th>\n",
       "      <th>l_interval</th>\n",
       "      <th>cycle_dur</th>\n",
       "      <th>ratio_roeske</th>\n",
       "      <th>ratio_custom</th>\n",
       "      <th>cycle_rank</th>\n",
       "    </tr>\n",
       "  </thead>\n",
       "  <tbody>\n",
       "    <tr>\n",
       "      <th>1</th>\n",
       "      <td>6.440000</td>\n",
       "      <td>8.200000</td>\n",
       "      <td>16</td>\n",
       "      <td>8</td>\n",
       "      <td>5</td>\n",
       "      <td>6.440000</td>\n",
       "      <td>8.200000</td>\n",
       "      <td>14.640000</td>\n",
       "      <td>0.439891</td>\n",
       "      <td>0.785366</td>\n",
       "      <td>184</td>\n",
       "    </tr>\n",
       "    <tr>\n",
       "      <th>4</th>\n",
       "      <td>7.620000</td>\n",
       "      <td>9.020000</td>\n",
       "      <td>21</td>\n",
       "      <td>8</td>\n",
       "      <td>5</td>\n",
       "      <td>7.620000</td>\n",
       "      <td>9.020000</td>\n",
       "      <td>16.640000</td>\n",
       "      <td>0.457933</td>\n",
       "      <td>0.844789</td>\n",
       "      <td>350</td>\n",
       "    </tr>\n",
       "    <tr>\n",
       "      <th>5</th>\n",
       "      <td>9.020000</td>\n",
       "      <td>9.670000</td>\n",
       "      <td>8</td>\n",
       "      <td>5</td>\n",
       "      <td>21</td>\n",
       "      <td>9.020000</td>\n",
       "      <td>9.670000</td>\n",
       "      <td>18.690000</td>\n",
       "      <td>0.482611</td>\n",
       "      <td>0.932782</td>\n",
       "      <td>418</td>\n",
       "    </tr>\n",
       "    <tr>\n",
       "      <th>6</th>\n",
       "      <td>9.670000</td>\n",
       "      <td>5.490000</td>\n",
       "      <td>5</td>\n",
       "      <td>21</td>\n",
       "      <td>7</td>\n",
       "      <td>5.490000</td>\n",
       "      <td>9.670000</td>\n",
       "      <td>15.160000</td>\n",
       "      <td>0.637863</td>\n",
       "      <td>0.567735</td>\n",
       "      <td>232</td>\n",
       "    </tr>\n",
       "    <tr>\n",
       "      <th>7</th>\n",
       "      <td>5.490000</td>\n",
       "      <td>9.410000</td>\n",
       "      <td>21</td>\n",
       "      <td>7</td>\n",
       "      <td>5</td>\n",
       "      <td>5.490000</td>\n",
       "      <td>9.410000</td>\n",
       "      <td>14.900000</td>\n",
       "      <td>0.368456</td>\n",
       "      <td>0.583422</td>\n",
       "      <td>200</td>\n",
       "    </tr>\n",
       "    <tr>\n",
       "      <th>...</th>\n",
       "      <td>...</td>\n",
       "      <td>...</td>\n",
       "      <td>...</td>\n",
       "      <td>...</td>\n",
       "      <td>...</td>\n",
       "      <td>...</td>\n",
       "      <td>...</td>\n",
       "      <td>...</td>\n",
       "      <td>...</td>\n",
       "      <td>...</td>\n",
       "      <td>...</td>\n",
       "    </tr>\n",
       "    <tr>\n",
       "      <th>642</th>\n",
       "      <td>6.480000</td>\n",
       "      <td>6.040000</td>\n",
       "      <td>0</td>\n",
       "      <td>0</td>\n",
       "      <td>21</td>\n",
       "      <td>6.040000</td>\n",
       "      <td>6.480000</td>\n",
       "      <td>12.520000</td>\n",
       "      <td>0.517572</td>\n",
       "      <td>0.932099</td>\n",
       "      <td>51</td>\n",
       "    </tr>\n",
       "    <tr>\n",
       "      <th>643</th>\n",
       "      <td>6.040000</td>\n",
       "      <td>6.280000</td>\n",
       "      <td>0</td>\n",
       "      <td>21</td>\n",
       "      <td>8</td>\n",
       "      <td>6.040000</td>\n",
       "      <td>6.280000</td>\n",
       "      <td>12.320000</td>\n",
       "      <td>0.490260</td>\n",
       "      <td>0.961783</td>\n",
       "      <td>41</td>\n",
       "    </tr>\n",
       "    <tr>\n",
       "      <th>644</th>\n",
       "      <td>6.280000</td>\n",
       "      <td>9.540000</td>\n",
       "      <td>21</td>\n",
       "      <td>8</td>\n",
       "      <td>7</td>\n",
       "      <td>6.280000</td>\n",
       "      <td>9.540000</td>\n",
       "      <td>15.820000</td>\n",
       "      <td>0.396966</td>\n",
       "      <td>0.658281</td>\n",
       "      <td>293</td>\n",
       "    </tr>\n",
       "    <tr>\n",
       "      <th>645</th>\n",
       "      <td>9.540000</td>\n",
       "      <td>7.953765</td>\n",
       "      <td>8</td>\n",
       "      <td>7</td>\n",
       "      <td>21</td>\n",
       "      <td>7.953765</td>\n",
       "      <td>9.540000</td>\n",
       "      <td>17.493765</td>\n",
       "      <td>0.545337</td>\n",
       "      <td>0.833728</td>\n",
       "      <td>389</td>\n",
       "    </tr>\n",
       "    <tr>\n",
       "      <th>646</th>\n",
       "      <td>7.953765</td>\n",
       "      <td>6.146235</td>\n",
       "      <td>7</td>\n",
       "      <td>21</td>\n",
       "      <td>21</td>\n",
       "      <td>6.146235</td>\n",
       "      <td>7.953765</td>\n",
       "      <td>14.100000</td>\n",
       "      <td>0.564097</td>\n",
       "      <td>0.772745</td>\n",
       "      <td>150</td>\n",
       "    </tr>\n",
       "  </tbody>\n",
       "</table>\n",
       "<p>426 rows × 11 columns</p>\n",
       "</div>"
      ],
      "text/plain": [
       "     intervals1  intervals2  label1  label2  label3  s_interval  l_interval  \\\n",
       "1      6.440000    8.200000      16       8       5    6.440000    8.200000   \n",
       "4      7.620000    9.020000      21       8       5    7.620000    9.020000   \n",
       "5      9.020000    9.670000       8       5      21    9.020000    9.670000   \n",
       "6      9.670000    5.490000       5      21       7    5.490000    9.670000   \n",
       "7      5.490000    9.410000      21       7       5    5.490000    9.410000   \n",
       "..          ...         ...     ...     ...     ...         ...         ...   \n",
       "642    6.480000    6.040000       0       0      21    6.040000    6.480000   \n",
       "643    6.040000    6.280000       0      21       8    6.040000    6.280000   \n",
       "644    6.280000    9.540000      21       8       7    6.280000    9.540000   \n",
       "645    9.540000    7.953765       8       7      21    7.953765    9.540000   \n",
       "646    7.953765    6.146235       7      21      21    6.146235    7.953765   \n",
       "\n",
       "     cycle_dur  ratio_roeske  ratio_custom  cycle_rank  \n",
       "1    14.640000      0.439891      0.785366         184  \n",
       "4    16.640000      0.457933      0.844789         350  \n",
       "5    18.690000      0.482611      0.932782         418  \n",
       "6    15.160000      0.637863      0.567735         232  \n",
       "7    14.900000      0.368456      0.583422         200  \n",
       "..         ...           ...           ...         ...  \n",
       "642  12.520000      0.517572      0.932099          51  \n",
       "643  12.320000      0.490260      0.961783          41  \n",
       "644  15.820000      0.396966      0.658281         293  \n",
       "645  17.493765      0.545337      0.833728         389  \n",
       "646  14.100000      0.564097      0.772745         150  \n",
       "\n",
       "[426 rows x 11 columns]"
      ]
     },
     "execution_count": 33,
     "metadata": {},
     "output_type": "execute_result"
    }
   ],
   "source": [
    "sequential_phrase = dyadic.sort_index()\n",
    "sequential_phrase"
   ]
  },
  {
   "cell_type": "code",
   "execution_count": 34,
   "id": "4fb56008",
   "metadata": {},
   "outputs": [],
   "source": [
    "p_IOI = list(sequential_phrase['intervals1'].values)\n",
    "p_IOI.append(sequential_phrase['intervals2'].values[-1])"
   ]
  },
  {
   "cell_type": "code",
   "execution_count": 35,
   "id": "f38e02f6",
   "metadata": {},
   "outputs": [
    {
     "data": {
      "text/plain": [
       "(7.42100082735378, 7.2917261352641125, 7.550275519443448)"
      ]
     },
     "execution_count": 35,
     "metadata": {},
     "output_type": "execute_result"
    }
   ],
   "source": [
    "mean_confidence_interval(p_IOI, confidence=0.95)"
   ]
  }
 ],
 "metadata": {
  "kernelspec": {
   "display_name": "pbb",
   "language": "python",
   "name": "pbb"
  },
  "language_info": {
   "codemirror_mode": {
    "name": "ipython",
    "version": 3
   },
   "file_extension": ".py",
   "mimetype": "text/x-python",
   "name": "python",
   "nbconvert_exporter": "python",
   "pygments_lexer": "ipython3",
   "version": "3.10.0"
  }
 },
 "nbformat": 4,
 "nbformat_minor": 5
}
