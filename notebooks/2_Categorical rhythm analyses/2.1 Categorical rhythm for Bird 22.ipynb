{
 "cells": [
  {
   "cell_type": "markdown",
   "id": "01607931",
   "metadata": {},
   "source": [
    "***\n",
    "# 2.1 Categorical rhythm for Bird 22\n",
    "### JX, 03/08/2022\n",
    "***\n",
    "\n",
    "    Bird22:\n",
    "    LS110593.9.8.2018Araluen.WAV\n",
    "    LS110640.10.1.2018Araluen.WAV\n",
    "    \n",
    "***"
   ]
  },
  {
   "cell_type": "markdown",
   "id": "aa770fa7",
   "metadata": {},
   "source": [
    "## Specify Locations"
   ]
  },
  {
   "cell_type": "code",
   "execution_count": 1,
   "id": "30590551",
   "metadata": {},
   "outputs": [],
   "source": [
    "from butcherbird.utils.paths import DATA_DIR"
   ]
  },
  {
   "cell_type": "code",
   "execution_count": 2,
   "id": "d4375558",
   "metadata": {},
   "outputs": [],
   "source": [
    "indv = \"Bird22\""
   ]
  },
  {
   "cell_type": "code",
   "execution_count": 3,
   "id": "153564ba",
   "metadata": {},
   "outputs": [],
   "source": [
    "SAVE_LOC = DATA_DIR/'interim/raw_spectrogram/butcherbird_note_df.pickle'"
   ]
  },
  {
   "cell_type": "markdown",
   "id": "1dbc2310",
   "metadata": {},
   "source": [
    "## Load in Data"
   ]
  },
  {
   "cell_type": "code",
   "execution_count": 4,
   "id": "247a2acc",
   "metadata": {},
   "outputs": [],
   "source": [
    "import pandas as pd"
   ]
  },
  {
   "cell_type": "code",
   "execution_count": 5,
   "id": "4ffd65d8",
   "metadata": {},
   "outputs": [],
   "source": [
    "note_df = pd.read_pickle(SAVE_LOC)"
   ]
  },
  {
   "cell_type": "code",
   "execution_count": 6,
   "id": "478a4eaf",
   "metadata": {},
   "outputs": [],
   "source": [
    "indv_df = note_df[note_df['indv'] == indv].reset_index()"
   ]
  },
  {
   "cell_type": "code",
   "execution_count": 7,
   "id": "4def7083",
   "metadata": {},
   "outputs": [
    {
     "data": {
      "text/html": [
       "<div>\n",
       "<style scoped>\n",
       "    .dataframe tbody tr th:only-of-type {\n",
       "        vertical-align: middle;\n",
       "    }\n",
       "\n",
       "    .dataframe tbody tr th {\n",
       "        vertical-align: top;\n",
       "    }\n",
       "\n",
       "    .dataframe thead th {\n",
       "        text-align: right;\n",
       "    }\n",
       "</style>\n",
       "<table border=\"1\" class=\"dataframe\">\n",
       "  <thead>\n",
       "    <tr style=\"text-align: right;\">\n",
       "      <th></th>\n",
       "      <th>index</th>\n",
       "      <th>phrase_nb</th>\n",
       "      <th>phrase_strt</th>\n",
       "      <th>phrase_end</th>\n",
       "      <th>phrase_len</th>\n",
       "      <th>note_cnt</th>\n",
       "      <th>note_nb</th>\n",
       "      <th>note_strt</th>\n",
       "      <th>note_end</th>\n",
       "      <th>note_len</th>\n",
       "      <th>indv</th>\n",
       "      <th>indvi</th>\n",
       "      <th>key</th>\n",
       "      <th>audio</th>\n",
       "      <th>rate</th>\n",
       "      <th>spectrogram</th>\n",
       "    </tr>\n",
       "  </thead>\n",
       "  <tbody>\n",
       "    <tr>\n",
       "      <th>0</th>\n",
       "      <td>0</td>\n",
       "      <td>0</td>\n",
       "      <td>2.37</td>\n",
       "      <td>4.24</td>\n",
       "      <td>1.87</td>\n",
       "      <td>8</td>\n",
       "      <td>0</td>\n",
       "      <td>2.370000</td>\n",
       "      <td>2.415699</td>\n",
       "      <td>0.045699</td>\n",
       "      <td>Bird22</td>\n",
       "      <td>0</td>\n",
       "      <td>LS110593.9.8.2018Araluen_dn</td>\n",
       "      <td>[0.0, -5.558967174674641e-06, -5.2225732263302...</td>\n",
       "      <td>48000</td>\n",
       "      <td>[[0, 0, 0, 0, 0, 0, 0, 0, 0, 0, 0, 0, 0, 0, 0,...</td>\n",
       "    </tr>\n",
       "    <tr>\n",
       "      <th>1</th>\n",
       "      <td>1</td>\n",
       "      <td>0</td>\n",
       "      <td>2.37</td>\n",
       "      <td>4.24</td>\n",
       "      <td>1.87</td>\n",
       "      <td>8</td>\n",
       "      <td>1</td>\n",
       "      <td>2.660000</td>\n",
       "      <td>2.977558</td>\n",
       "      <td>0.317558</td>\n",
       "      <td>Bird22</td>\n",
       "      <td>0</td>\n",
       "      <td>LS110593.9.8.2018Araluen_dn</td>\n",
       "      <td>[0.0, 3.069944854750729e-05, 4.037410245845782...</td>\n",
       "      <td>48000</td>\n",
       "      <td>[[0, 0, 0, 0, 0, 0, 0, 0, 0, 0, 0, 0, 0, 0, 0,...</td>\n",
       "    </tr>\n",
       "    <tr>\n",
       "      <th>2</th>\n",
       "      <td>2</td>\n",
       "      <td>0</td>\n",
       "      <td>2.37</td>\n",
       "      <td>4.24</td>\n",
       "      <td>1.87</td>\n",
       "      <td>8</td>\n",
       "      <td>2</td>\n",
       "      <td>3.079714</td>\n",
       "      <td>3.173357</td>\n",
       "      <td>0.093643</td>\n",
       "      <td>Bird22</td>\n",
       "      <td>0</td>\n",
       "      <td>LS110593.9.8.2018Araluen_dn</td>\n",
       "      <td>[0.0, 0.0030796517861769505, 0.008741865222086...</td>\n",
       "      <td>48000</td>\n",
       "      <td>[[0, 0, 0, 0, 0, 0, 0, 0, 0, 0, 0, 0, 0, 0, 0,...</td>\n",
       "    </tr>\n",
       "    <tr>\n",
       "      <th>3</th>\n",
       "      <td>3</td>\n",
       "      <td>0</td>\n",
       "      <td>2.37</td>\n",
       "      <td>4.24</td>\n",
       "      <td>1.87</td>\n",
       "      <td>8</td>\n",
       "      <td>3</td>\n",
       "      <td>3.260000</td>\n",
       "      <td>3.581982</td>\n",
       "      <td>0.321982</td>\n",
       "      <td>Bird22</td>\n",
       "      <td>0</td>\n",
       "      <td>LS110593.9.8.2018Araluen_dn</td>\n",
       "      <td>[-0.0, -0.00020854328852771913, -0.00037995893...</td>\n",
       "      <td>48000</td>\n",
       "      <td>[[0, 0, 0, 0, 0, 0, 0, 0, 0, 0, 0, 0, 0, 0, 0,...</td>\n",
       "    </tr>\n",
       "    <tr>\n",
       "      <th>4</th>\n",
       "      <td>4</td>\n",
       "      <td>0</td>\n",
       "      <td>2.37</td>\n",
       "      <td>4.24</td>\n",
       "      <td>1.87</td>\n",
       "      <td>8</td>\n",
       "      <td>4</td>\n",
       "      <td>3.664275</td>\n",
       "      <td>3.718191</td>\n",
       "      <td>0.053916</td>\n",
       "      <td>Bird22</td>\n",
       "      <td>0</td>\n",
       "      <td>LS110593.9.8.2018Araluen_dn</td>\n",
       "      <td>[-0.0, -0.0018707999847079283, -0.003892325714...</td>\n",
       "      <td>48000</td>\n",
       "      <td>[[0, 0, 0, 0, 0, 0, 0, 0, 0, 0, 0, 0, 0, 0, 0,...</td>\n",
       "    </tr>\n",
       "  </tbody>\n",
       "</table>\n",
       "</div>"
      ],
      "text/plain": [
       "   index  phrase_nb  phrase_strt  phrase_end  phrase_len  note_cnt  note_nb  \\\n",
       "0      0          0         2.37        4.24        1.87         8        0   \n",
       "1      1          0         2.37        4.24        1.87         8        1   \n",
       "2      2          0         2.37        4.24        1.87         8        2   \n",
       "3      3          0         2.37        4.24        1.87         8        3   \n",
       "4      4          0         2.37        4.24        1.87         8        4   \n",
       "\n",
       "   note_strt  note_end  note_len    indv  indvi                          key  \\\n",
       "0   2.370000  2.415699  0.045699  Bird22      0  LS110593.9.8.2018Araluen_dn   \n",
       "1   2.660000  2.977558  0.317558  Bird22      0  LS110593.9.8.2018Araluen_dn   \n",
       "2   3.079714  3.173357  0.093643  Bird22      0  LS110593.9.8.2018Araluen_dn   \n",
       "3   3.260000  3.581982  0.321982  Bird22      0  LS110593.9.8.2018Araluen_dn   \n",
       "4   3.664275  3.718191  0.053916  Bird22      0  LS110593.9.8.2018Araluen_dn   \n",
       "\n",
       "                                               audio   rate  \\\n",
       "0  [0.0, -5.558967174674641e-06, -5.2225732263302...  48000   \n",
       "1  [0.0, 3.069944854750729e-05, 4.037410245845782...  48000   \n",
       "2  [0.0, 0.0030796517861769505, 0.008741865222086...  48000   \n",
       "3  [-0.0, -0.00020854328852771913, -0.00037995893...  48000   \n",
       "4  [-0.0, -0.0018707999847079283, -0.003892325714...  48000   \n",
       "\n",
       "                                         spectrogram  \n",
       "0  [[0, 0, 0, 0, 0, 0, 0, 0, 0, 0, 0, 0, 0, 0, 0,...  \n",
       "1  [[0, 0, 0, 0, 0, 0, 0, 0, 0, 0, 0, 0, 0, 0, 0,...  \n",
       "2  [[0, 0, 0, 0, 0, 0, 0, 0, 0, 0, 0, 0, 0, 0, 0,...  \n",
       "3  [[0, 0, 0, 0, 0, 0, 0, 0, 0, 0, 0, 0, 0, 0, 0,...  \n",
       "4  [[0, 0, 0, 0, 0, 0, 0, 0, 0, 0, 0, 0, 0, 0, 0,...  "
      ]
     },
     "execution_count": 7,
     "metadata": {},
     "output_type": "execute_result"
    }
   ],
   "source": [
    "indv_df.head()"
   ]
  },
  {
   "cell_type": "markdown",
   "id": "0ef649c5",
   "metadata": {},
   "source": [
    "## Calculate Empirical Rhythm"
   ]
  },
  {
   "cell_type": "code",
   "execution_count": 8,
   "id": "c3a3cfed",
   "metadata": {},
   "outputs": [
    {
     "name": "stderr",
     "output_type": "stream",
     "text": [
      "/home/AD/j8xing/syntax_rhythm_pbb/butcherbird/rhythm.py:153: TqdmExperimentalWarning: Using `tqdm.autonotebook.tqdm` in notebook mode. Use `tqdm.tqdm` instead to force console mode (e.g. in jupyter console)\n",
      "  from tqdm.autonotebook import tqdm\n"
     ]
    }
   ],
   "source": [
    "import butcherbird.rhythm as rhythm\n",
    "import seaborn as sns"
   ]
  },
  {
   "cell_type": "code",
   "execution_count": 9,
   "id": "a2e29cdc",
   "metadata": {},
   "outputs": [],
   "source": [
    "dyadic = rhythm.construct_rhythm_df(\n",
    "    onsets = indv_df['note_strt'], \n",
    "    syntactic_units = indv_df['indv'], \n",
    "    expected_interval_range = [0, 1]\n",
    ")"
   ]
  },
  {
   "cell_type": "code",
   "execution_count": 10,
   "id": "8db7d7df",
   "metadata": {
    "scrolled": false
   },
   "outputs": [
    {
     "data": {
      "text/html": [
       "<div>\n",
       "<style scoped>\n",
       "    .dataframe tbody tr th:only-of-type {\n",
       "        vertical-align: middle;\n",
       "    }\n",
       "\n",
       "    .dataframe tbody tr th {\n",
       "        vertical-align: top;\n",
       "    }\n",
       "\n",
       "    .dataframe thead th {\n",
       "        text-align: right;\n",
       "    }\n",
       "</style>\n",
       "<table border=\"1\" class=\"dataframe\">\n",
       "  <thead>\n",
       "    <tr style=\"text-align: right;\">\n",
       "      <th></th>\n",
       "      <th>intervals1</th>\n",
       "      <th>intervals2</th>\n",
       "      <th>label1</th>\n",
       "      <th>label2</th>\n",
       "      <th>label3</th>\n",
       "      <th>s_interval</th>\n",
       "      <th>l_interval</th>\n",
       "      <th>cycle_dur</th>\n",
       "      <th>ratio_roeske</th>\n",
       "      <th>ratio_custom</th>\n",
       "      <th>cycle_rank</th>\n",
       "    </tr>\n",
       "  </thead>\n",
       "  <tbody>\n",
       "    <tr>\n",
       "      <th>746</th>\n",
       "      <td>0.018920</td>\n",
       "      <td>0.015573</td>\n",
       "      <td>Bird22</td>\n",
       "      <td>Bird22</td>\n",
       "      <td>Bird22</td>\n",
       "      <td>0.015573</td>\n",
       "      <td>0.018920</td>\n",
       "      <td>0.034493</td>\n",
       "      <td>0.548518</td>\n",
       "      <td>0.823094</td>\n",
       "      <td>1</td>\n",
       "    </tr>\n",
       "    <tr>\n",
       "      <th>1275</th>\n",
       "      <td>0.049143</td>\n",
       "      <td>0.007020</td>\n",
       "      <td>Bird22</td>\n",
       "      <td>Bird22</td>\n",
       "      <td>Bird22</td>\n",
       "      <td>0.007020</td>\n",
       "      <td>0.049143</td>\n",
       "      <td>0.056163</td>\n",
       "      <td>0.875000</td>\n",
       "      <td>0.142857</td>\n",
       "      <td>2</td>\n",
       "    </tr>\n",
       "    <tr>\n",
       "      <th>2146</th>\n",
       "      <td>0.054145</td>\n",
       "      <td>0.019306</td>\n",
       "      <td>Bird22</td>\n",
       "      <td>Bird22</td>\n",
       "      <td>Bird22</td>\n",
       "      <td>0.019306</td>\n",
       "      <td>0.054145</td>\n",
       "      <td>0.073452</td>\n",
       "      <td>0.737159</td>\n",
       "      <td>0.356560</td>\n",
       "      <td>3</td>\n",
       "    </tr>\n",
       "    <tr>\n",
       "      <th>12</th>\n",
       "      <td>0.042565</td>\n",
       "      <td>0.048240</td>\n",
       "      <td>Bird22</td>\n",
       "      <td>Bird22</td>\n",
       "      <td>Bird22</td>\n",
       "      <td>0.042565</td>\n",
       "      <td>0.048240</td>\n",
       "      <td>0.090806</td>\n",
       "      <td>0.468750</td>\n",
       "      <td>0.882353</td>\n",
       "      <td>4</td>\n",
       "    </tr>\n",
       "    <tr>\n",
       "      <th>2634</th>\n",
       "      <td>0.055795</td>\n",
       "      <td>0.056753</td>\n",
       "      <td>Bird22</td>\n",
       "      <td>Bird22</td>\n",
       "      <td>Bird22</td>\n",
       "      <td>0.055795</td>\n",
       "      <td>0.056753</td>\n",
       "      <td>0.112549</td>\n",
       "      <td>0.495744</td>\n",
       "      <td>0.983118</td>\n",
       "      <td>5</td>\n",
       "    </tr>\n",
       "  </tbody>\n",
       "</table>\n",
       "</div>"
      ],
      "text/plain": [
       "      intervals1  intervals2  label1  label2  label3  s_interval  l_interval  \\\n",
       "746     0.018920    0.015573  Bird22  Bird22  Bird22    0.015573    0.018920   \n",
       "1275    0.049143    0.007020  Bird22  Bird22  Bird22    0.007020    0.049143   \n",
       "2146    0.054145    0.019306  Bird22  Bird22  Bird22    0.019306    0.054145   \n",
       "12      0.042565    0.048240  Bird22  Bird22  Bird22    0.042565    0.048240   \n",
       "2634    0.055795    0.056753  Bird22  Bird22  Bird22    0.055795    0.056753   \n",
       "\n",
       "      cycle_dur  ratio_roeske  ratio_custom  cycle_rank  \n",
       "746    0.034493      0.548518      0.823094           1  \n",
       "1275   0.056163      0.875000      0.142857           2  \n",
       "2146   0.073452      0.737159      0.356560           3  \n",
       "12     0.090806      0.468750      0.882353           4  \n",
       "2634   0.112549      0.495744      0.983118           5  "
      ]
     },
     "execution_count": 10,
     "metadata": {},
     "output_type": "execute_result"
    }
   ],
   "source": [
    "dyadic.head()"
   ]
  },
  {
   "cell_type": "code",
   "execution_count": 11,
   "id": "ae5050b9",
   "metadata": {},
   "outputs": [
    {
     "data": {
      "text/plain": [
       "<AxesSubplot:xlabel='ratio_roeske', ylabel='Count'>"
      ]
     },
     "execution_count": 11,
     "metadata": {},
     "output_type": "execute_result"
    },
    {
     "data": {
      "image/png": "[encoded data removed]",
      "text/plain": [
       "<Figure size 432x288 with 1 Axes>"
      ]
     },
     "metadata": {
      "needs_background": "light"
     },
     "output_type": "display_data"
    }
   ],
   "source": [
    "sns.histplot(dyadic['ratio_roeske'])"
   ]
  },
  {
   "cell_type": "code",
   "execution_count": 12,
   "id": "33872279",
   "metadata": {},
   "outputs": [
    {
     "data": {
      "text/html": [
       "<div>\n",
       "<style scoped>\n",
       "    .dataframe tbody tr th:only-of-type {\n",
       "        vertical-align: middle;\n",
       "    }\n",
       "\n",
       "    .dataframe tbody tr th {\n",
       "        vertical-align: top;\n",
       "    }\n",
       "\n",
       "    .dataframe thead th {\n",
       "        text-align: right;\n",
       "    }\n",
       "</style>\n",
       "<table border=\"1\" class=\"dataframe\">\n",
       "  <thead>\n",
       "    <tr style=\"text-align: right;\">\n",
       "      <th></th>\n",
       "      <th>intervals1</th>\n",
       "      <th>intervals2</th>\n",
       "      <th>label1</th>\n",
       "      <th>label2</th>\n",
       "      <th>label3</th>\n",
       "      <th>s_interval</th>\n",
       "      <th>l_interval</th>\n",
       "      <th>cycle_dur</th>\n",
       "      <th>ratio_roeske</th>\n",
       "      <th>ratio_custom</th>\n",
       "      <th>cycle_rank</th>\n",
       "    </tr>\n",
       "  </thead>\n",
       "  <tbody>\n",
       "    <tr>\n",
       "      <th>746</th>\n",
       "      <td>0.018920</td>\n",
       "      <td>0.015573</td>\n",
       "      <td>Bird22</td>\n",
       "      <td>Bird22</td>\n",
       "      <td>Bird22</td>\n",
       "      <td>0.015573</td>\n",
       "      <td>0.018920</td>\n",
       "      <td>0.034493</td>\n",
       "      <td>0.548518</td>\n",
       "      <td>0.823094</td>\n",
       "      <td>1</td>\n",
       "    </tr>\n",
       "    <tr>\n",
       "      <th>1275</th>\n",
       "      <td>0.049143</td>\n",
       "      <td>0.007020</td>\n",
       "      <td>Bird22</td>\n",
       "      <td>Bird22</td>\n",
       "      <td>Bird22</td>\n",
       "      <td>0.007020</td>\n",
       "      <td>0.049143</td>\n",
       "      <td>0.056163</td>\n",
       "      <td>0.875000</td>\n",
       "      <td>0.142857</td>\n",
       "      <td>2</td>\n",
       "    </tr>\n",
       "    <tr>\n",
       "      <th>2146</th>\n",
       "      <td>0.054145</td>\n",
       "      <td>0.019306</td>\n",
       "      <td>Bird22</td>\n",
       "      <td>Bird22</td>\n",
       "      <td>Bird22</td>\n",
       "      <td>0.019306</td>\n",
       "      <td>0.054145</td>\n",
       "      <td>0.073452</td>\n",
       "      <td>0.737159</td>\n",
       "      <td>0.356560</td>\n",
       "      <td>3</td>\n",
       "    </tr>\n",
       "    <tr>\n",
       "      <th>12</th>\n",
       "      <td>0.042565</td>\n",
       "      <td>0.048240</td>\n",
       "      <td>Bird22</td>\n",
       "      <td>Bird22</td>\n",
       "      <td>Bird22</td>\n",
       "      <td>0.042565</td>\n",
       "      <td>0.048240</td>\n",
       "      <td>0.090806</td>\n",
       "      <td>0.468750</td>\n",
       "      <td>0.882353</td>\n",
       "      <td>4</td>\n",
       "    </tr>\n",
       "    <tr>\n",
       "      <th>2634</th>\n",
       "      <td>0.055795</td>\n",
       "      <td>0.056753</td>\n",
       "      <td>Bird22</td>\n",
       "      <td>Bird22</td>\n",
       "      <td>Bird22</td>\n",
       "      <td>0.055795</td>\n",
       "      <td>0.056753</td>\n",
       "      <td>0.112549</td>\n",
       "      <td>0.495744</td>\n",
       "      <td>0.983118</td>\n",
       "      <td>5</td>\n",
       "    </tr>\n",
       "    <tr>\n",
       "      <th>...</th>\n",
       "      <td>...</td>\n",
       "      <td>...</td>\n",
       "      <td>...</td>\n",
       "      <td>...</td>\n",
       "      <td>...</td>\n",
       "      <td>...</td>\n",
       "      <td>...</td>\n",
       "      <td>...</td>\n",
       "      <td>...</td>\n",
       "      <td>...</td>\n",
       "      <td>...</td>\n",
       "    </tr>\n",
       "    <tr>\n",
       "      <th>509</th>\n",
       "      <td>0.555021</td>\n",
       "      <td>0.895000</td>\n",
       "      <td>Bird22</td>\n",
       "      <td>Bird22</td>\n",
       "      <td>Bird22</td>\n",
       "      <td>0.555021</td>\n",
       "      <td>0.895000</td>\n",
       "      <td>1.450021</td>\n",
       "      <td>0.382767</td>\n",
       "      <td>0.620135</td>\n",
       "      <td>2295</td>\n",
       "    </tr>\n",
       "    <tr>\n",
       "      <th>1609</th>\n",
       "      <td>0.707663</td>\n",
       "      <td>0.752358</td>\n",
       "      <td>Bird22</td>\n",
       "      <td>Bird22</td>\n",
       "      <td>Bird22</td>\n",
       "      <td>0.707663</td>\n",
       "      <td>0.752358</td>\n",
       "      <td>1.460021</td>\n",
       "      <td>0.484694</td>\n",
       "      <td>0.940593</td>\n",
       "      <td>2296</td>\n",
       "    </tr>\n",
       "    <tr>\n",
       "      <th>427</th>\n",
       "      <td>0.670000</td>\n",
       "      <td>0.830021</td>\n",
       "      <td>Bird22</td>\n",
       "      <td>Bird22</td>\n",
       "      <td>Bird22</td>\n",
       "      <td>0.670000</td>\n",
       "      <td>0.830021</td>\n",
       "      <td>1.500021</td>\n",
       "      <td>0.446660</td>\n",
       "      <td>0.807209</td>\n",
       "      <td>2297</td>\n",
       "    </tr>\n",
       "    <tr>\n",
       "      <th>3343</th>\n",
       "      <td>0.555399</td>\n",
       "      <td>0.965593</td>\n",
       "      <td>Bird22</td>\n",
       "      <td>Bird22</td>\n",
       "      <td>Bird22</td>\n",
       "      <td>0.555399</td>\n",
       "      <td>0.965593</td>\n",
       "      <td>1.520993</td>\n",
       "      <td>0.365156</td>\n",
       "      <td>0.575190</td>\n",
       "      <td>2298</td>\n",
       "    </tr>\n",
       "    <tr>\n",
       "      <th>1143</th>\n",
       "      <td>0.792418</td>\n",
       "      <td>0.737603</td>\n",
       "      <td>Bird22</td>\n",
       "      <td>Bird22</td>\n",
       "      <td>Bird22</td>\n",
       "      <td>0.737603</td>\n",
       "      <td>0.792418</td>\n",
       "      <td>1.530021</td>\n",
       "      <td>0.517913</td>\n",
       "      <td>0.930825</td>\n",
       "      <td>2299</td>\n",
       "    </tr>\n",
       "  </tbody>\n",
       "</table>\n",
       "<p>2299 rows × 11 columns</p>\n",
       "</div>"
      ],
      "text/plain": [
       "      intervals1  intervals2  label1  label2  label3  s_interval  l_interval  \\\n",
       "746     0.018920    0.015573  Bird22  Bird22  Bird22    0.015573    0.018920   \n",
       "1275    0.049143    0.007020  Bird22  Bird22  Bird22    0.007020    0.049143   \n",
       "2146    0.054145    0.019306  Bird22  Bird22  Bird22    0.019306    0.054145   \n",
       "12      0.042565    0.048240  Bird22  Bird22  Bird22    0.042565    0.048240   \n",
       "2634    0.055795    0.056753  Bird22  Bird22  Bird22    0.055795    0.056753   \n",
       "...          ...         ...     ...     ...     ...         ...         ...   \n",
       "509     0.555021    0.895000  Bird22  Bird22  Bird22    0.555021    0.895000   \n",
       "1609    0.707663    0.752358  Bird22  Bird22  Bird22    0.707663    0.752358   \n",
       "427     0.670000    0.830021  Bird22  Bird22  Bird22    0.670000    0.830021   \n",
       "3343    0.555399    0.965593  Bird22  Bird22  Bird22    0.555399    0.965593   \n",
       "1143    0.792418    0.737603  Bird22  Bird22  Bird22    0.737603    0.792418   \n",
       "\n",
       "      cycle_dur  ratio_roeske  ratio_custom  cycle_rank  \n",
       "746    0.034493      0.548518      0.823094           1  \n",
       "1275   0.056163      0.875000      0.142857           2  \n",
       "2146   0.073452      0.737159      0.356560           3  \n",
       "12     0.090806      0.468750      0.882353           4  \n",
       "2634   0.112549      0.495744      0.983118           5  \n",
       "...         ...           ...           ...         ...  \n",
       "509    1.450021      0.382767      0.620135        2295  \n",
       "1609   1.460021      0.484694      0.940593        2296  \n",
       "427    1.500021      0.446660      0.807209        2297  \n",
       "3343   1.520993      0.365156      0.575190        2298  \n",
       "1143   1.530021      0.517913      0.930825        2299  \n",
       "\n",
       "[2299 rows x 11 columns]"
      ]
     },
     "execution_count": 12,
     "metadata": {},
     "output_type": "execute_result"
    }
   ],
   "source": [
    "dyadic"
   ]
  },
  {
   "cell_type": "markdown",
   "id": "d70ee8a7",
   "metadata": {},
   "source": [
    "## Calculate Uniform Rhythm\n",
    "> Uniform rhythm is calculated under the assumption that interval lengths are uniformly distributed between a minimum and maximum interval length.  "
   ]
  },
  {
   "cell_type": "code",
   "execution_count": 13,
   "id": "4bbe9c43",
   "metadata": {},
   "outputs": [],
   "source": [
    "n = 1000"
   ]
  },
  {
   "cell_type": "code",
   "execution_count": 14,
   "id": "99046b59",
   "metadata": {},
   "outputs": [],
   "source": [
    "import numpy as np\n",
    "import numpy.random as random"
   ]
  },
  {
   "cell_type": "code",
   "execution_count": 15,
   "id": "a9d54652",
   "metadata": {},
   "outputs": [],
   "source": [
    "interval_min = np.min([dyadic['intervals1'].values, dyadic['intervals2']])\n",
    "interval_max = np.max([dyadic['intervals1'].values, dyadic['intervals2']])"
   ]
  },
  {
   "cell_type": "code",
   "execution_count": 16,
   "id": "3652c0d5",
   "metadata": {},
   "outputs": [],
   "source": [
    "df_uni = []\n",
    "for i in np.arange(0, n):\n",
    "    interval1_uni = random.uniform(low = interval_min, high = interval_max, size = len(dyadic))\n",
    "    interval2_uni = random.uniform(low = interval_min, high = interval_max, size = len(dyadic))\n",
    "    df_uni.append(interval1_uni / (interval1_uni + interval2_uni))"
   ]
  },
  {
   "cell_type": "code",
   "execution_count": 17,
   "id": "55039028",
   "metadata": {},
   "outputs": [],
   "source": [
    "uni_ratio = np.array(df_uni).flatten()"
   ]
  },
  {
   "cell_type": "code",
   "execution_count": 18,
   "id": "2b66dcaa",
   "metadata": {},
   "outputs": [
    {
     "data": {
      "text/plain": [
       "<AxesSubplot:ylabel='Count'>"
      ]
     },
     "execution_count": 18,
     "metadata": {},
     "output_type": "execute_result"
    },
    {
     "data": {
      "image/png": "[encoded data removed]",
      "text/plain": [
       "<Figure size 432x288 with 1 Axes>"
      ]
     },
     "metadata": {
      "needs_background": "light"
     },
     "output_type": "display_data"
    }
   ],
   "source": [
    "sns.histplot(uni_ratio)"
   ]
  },
  {
   "cell_type": "markdown",
   "id": "7c1d3bd8",
   "metadata": {},
   "source": [
    "## Calculate Shuffled IOI Rhythm\n",
    "> Shuffled rhythm is calculated under the assumption that interval lengths are bootstrapped from the empirical distribution, but the consecutive order of intervals are shuffled. "
   ]
  },
  {
   "cell_type": "code",
   "execution_count": 19,
   "id": "b4e9e3c5",
   "metadata": {},
   "outputs": [],
   "source": [
    "df_sf = []\n",
    "for i in np.arange(0, n):\n",
    "    interval1_sf = dyadic['intervals1'].sample(frac = 1, replace = True).values\n",
    "    interval2_sf = dyadic['intervals2'].sample(frac = 1, replace = True).values\n",
    "    df_sf.append(interval1_sf / (interval1_sf + interval2_sf))"
   ]
  },
  {
   "cell_type": "code",
   "execution_count": 20,
   "id": "492b68d9",
   "metadata": {},
   "outputs": [],
   "source": [
    "sf_ratio = np.array(df_sf).flatten()"
   ]
  },
  {
   "cell_type": "code",
   "execution_count": 21,
   "id": "e475ed22",
   "metadata": {},
   "outputs": [
    {
     "data": {
      "text/plain": [
       "<AxesSubplot:ylabel='Count'>"
      ]
     },
     "execution_count": 21,
     "metadata": {},
     "output_type": "execute_result"
    },
    {
     "data": {
      "image/png": "[encoded data removed]",
      "text/plain": [
       "<Figure size 432x288 with 1 Axes>"
      ]
     },
     "metadata": {
      "needs_background": "light"
     },
     "output_type": "display_data"
    }
   ],
   "source": [
    "sns.histplot(sf_ratio)"
   ]
  },
  {
   "cell_type": "markdown",
   "id": "f4ef0b1f",
   "metadata": {},
   "source": [
    "## Calculate Shuffled Note + Gap\n",
    "> Shuffled Note + Gap rhythm is calculated under the assumption that note length and inter-note gaps are independently shuffled."
   ]
  },
  {
   "cell_type": "code",
   "execution_count": 22,
   "id": "98e19bef",
   "metadata": {},
   "outputs": [],
   "source": [
    "import numpy.random as random"
   ]
  },
  {
   "cell_type": "code",
   "execution_count": 23,
   "id": "e86b6c7d",
   "metadata": {},
   "outputs": [],
   "source": [
    "# find all gaps and their positions\n",
    "grand_gaps = []\n",
    "\n",
    "for phrase_nb in np.unique(indv_df['phrase_nb']):\n",
    "    ## pull out each phrase\n",
    "    phrase = indv_df[indv_df['phrase_nb'] == phrase_nb]\n",
    "\n",
    "        ## find all internote gaps\n",
    "    gaps = phrase['note_strt'][1:].values - phrase['note_end'][:-1].values\n",
    "    grand_gaps.append(gaps)\n",
    "    \n",
    "grand_gaps = np.hstack(grand_gaps)\n",
    "grand_gaps = grand_gaps[grand_gaps < 10] ## gaps that are more than 10 seconds long are noise"
   ]
  },
  {
   "cell_type": "code",
   "execution_count": 24,
   "id": "619fa531",
   "metadata": {},
   "outputs": [],
   "source": [
    "df_lg = []\n",
    "\n",
    "for i in np.arange(0, n):\n",
    "    ## randomly shuffle gaps\n",
    "    random.shuffle(grand_gaps)\n",
    "    ## add to randomly shuffled lengths\n",
    "    shuffled_lg = grand_gaps + indv_df['note_len'].sample(n = len(grand_gaps), replace = True).values\n",
    "    \n",
    "    shuffled_lg_i1 = shuffled_lg[:-1]\n",
    "    shuffled_lg_i2 = shuffled_lg[1:]\n",
    "    \n",
    "    df_lg.append(shuffled_lg_i1 / (shuffled_lg_i1 + shuffled_lg_i2))"
   ]
  },
  {
   "cell_type": "code",
   "execution_count": 25,
   "id": "f586fa7e",
   "metadata": {},
   "outputs": [],
   "source": [
    "lg_ratio = np.hstack(df_lg)"
   ]
  },
  {
   "cell_type": "code",
   "execution_count": 26,
   "id": "85ca084c",
   "metadata": {},
   "outputs": [
    {
     "data": {
      "text/plain": [
       "<AxesSubplot:ylabel='Count'>"
      ]
     },
     "execution_count": 26,
     "metadata": {},
     "output_type": "execute_result"
    },
    {
     "data": {
      "image/png": "[encoded data removed]",
      "text/plain": [
       "<Figure size 432x288 with 1 Axes>"
      ]
     },
     "metadata": {
      "needs_background": "light"
     },
     "output_type": "display_data"
    }
   ],
   "source": [
    "sns.histplot(lg_ratio)"
   ]
  },
  {
   "cell_type": "markdown",
   "id": "8052cb83",
   "metadata": {},
   "source": [
    "## Draw Figure"
   ]
  },
  {
   "cell_type": "code",
   "execution_count": 27,
   "id": "c4f58637",
   "metadata": {},
   "outputs": [],
   "source": [
    "import matplotlib.pyplot as plt\n",
    "from matplotlib.pyplot import figure\n",
    "from butcherbird.utils.paths import FIGURE_DIR"
   ]
  },
  {
   "cell_type": "code",
   "execution_count": 28,
   "id": "6a72becd",
   "metadata": {
    "scrolled": false
   },
   "outputs": [
    {
     "data": {
      "image/png": "[encoded data removed]",
      "text/plain": [
       "<Figure size 2400x1800 with 1 Axes>"
      ]
     },
     "metadata": {
      "needs_background": "light"
     },
     "output_type": "display_data"
    }
   ],
   "source": [
    "figure(figsize = (8, 6), dpi = 300)\n",
    "\n",
    "plt.rcParams['patch.edgecolor'] = 'none'\n",
    "\n",
    "fig = sns.histplot(\n",
    "    x = dyadic['ratio_roeske'],\n",
    "    binwidth = 0.01,\n",
    "    stat = 'density',\n",
    "    color = '#A3E301',\n",
    "    fill = '#A3E301',\n",
    "    kde = True,\n",
    ")\n",
    "\n",
    "uni = sns.histplot(\n",
    "    x = uni_ratio,\n",
    "    stat = 'density',\n",
    "    alpha = 0,\n",
    "    color = '#FC6983',\n",
    "    kde = True,\n",
    "    line_kws = dict(linestyle = 'dashed')\n",
    ")\n",
    "\n",
    "sf = sns.histplot(\n",
    "    x = sf_ratio,\n",
    "    stat = 'density',\n",
    "    alpha = 0,\n",
    "    color = '#1DB6AB',\n",
    "    kde = True,\n",
    "    line_kws = dict(linestyle = 'dashed')\n",
    ")\n",
    "\n",
    "lg = sns.histplot(\n",
    "    x = lg_ratio,\n",
    "    stat = 'density',\n",
    "    alpha = 0,\n",
    "    color = '#15215B',\n",
    "    kde = True,\n",
    "    line_kws = dict(linestyle = 'dashed')\n",
    ")\n",
    "\n",
    "ax = plt.gca()\n",
    "ax.set_xlim([0, 1])\n",
    "plt.xticks(np.arange(0, 1.25, 0.25))\n",
    "\n",
    "# save\n",
    "figname = 'fig1_' + 'categorical_rhythm_' + indv + '.svg'\n",
    "plt.savefig(FIGURE_DIR/'categorical_rhythm'/figname)"
   ]
  },
  {
   "cell_type": "markdown",
   "id": "fc4dd553",
   "metadata": {},
   "source": [
    "## Calculate Hopkins Statistics and confidence intervals"
   ]
  },
  {
   "cell_type": "code",
   "execution_count": 29,
   "id": "4c7c9ea2",
   "metadata": {},
   "outputs": [],
   "source": [
    "from butcherbird.rhythm import hopkins\n",
    "from tqdm.autonotebook import tqdm\n",
    "from joblib import Parallel, delayed"
   ]
  },
  {
   "cell_type": "code",
   "execution_count": 30,
   "id": "b62b230f",
   "metadata": {},
   "outputs": [],
   "source": [
    "h_iterations = 100\n",
    "shuffle_iterations = 100\n",
    "n_jobs = 36"
   ]
  },
  {
   "cell_type": "code",
   "execution_count": 31,
   "id": "0b31c831",
   "metadata": {},
   "outputs": [],
   "source": [
    "import numpy as np\n",
    "import scipy.stats\n",
    "\n",
    "## a standard calculation for confidence interval\n",
    "def mean_confidence_interval(data, confidence=0.95):\n",
    "    a = 1.0 * np.array(data)\n",
    "    n = len(a)\n",
    "    m, se = np.mean(a), scipy.stats.sem(a)\n",
    "    h = se * scipy.stats.t.ppf((1 + confidence) / 2., n-1)\n",
    "    return m, m-h, m+h"
   ]
  },
  {
   "cell_type": "code",
   "execution_count": 32,
   "id": "0b651a50",
   "metadata": {
    "scrolled": false
   },
   "outputs": [
    {
     "data": {
      "application/vnd.jupyter.widget-view+json": {
       "model_id": "d33033e53759411bb6e5a1e252b2ca87",
       "version_major": 2,
       "version_minor": 0
      },
      "text/plain": [
       "  0%|          | 0/100 [00:00<?, ?it/s]"
      ]
     },
     "metadata": {},
     "output_type": "display_data"
    },
    {
     "data": {
      "text/plain": [
       "(0.8518924005281581, 0.8471064609003721, 0.856678340155944)"
      ]
     },
     "execution_count": 32,
     "metadata": {},
     "output_type": "execute_result"
    }
   ],
   "source": [
    "## empirical\n",
    "SDoH = []\n",
    "\n",
    "for i in tqdm(range(0, h_iterations)):\n",
    "    SDoH.append(hopkins(dyadic[['ratio_roeske']]))\n",
    "    \n",
    "## take mean of sampling distribution of Hopkins as best estimate\n",
    "mean_confidence_interval(SDoH)"
   ]
  },
  {
   "cell_type": "code",
   "execution_count": 33,
   "id": "86ee97be",
   "metadata": {},
   "outputs": [
    {
     "data": {
      "application/vnd.jupyter.widget-view+json": {
       "model_id": "021e5a3a1bd047b08fa5e5fc8e12ec59",
       "version_major": 2,
       "version_minor": 0
      },
      "text/plain": [
       "  0%|          | 0/1000 [00:00<?, ?it/s]"
      ]
     },
     "metadata": {},
     "output_type": "display_data"
    },
    {
     "data": {
      "text/plain": [
       "(0.7013536765110999, 0.7000637632429008, 0.7026435897792991)"
      ]
     },
     "execution_count": 33,
     "metadata": {},
     "output_type": "execute_result"
    }
   ],
   "source": [
    "## uni\n",
    "SDoH_uni = []\n",
    "\n",
    "with Parallel(n_jobs= n_jobs) as parallel:\n",
    "    SDoH_uni = parallel(\n",
    "        delayed(hopkins)(\n",
    "            pd.DataFrame(sample)\n",
    "        )\n",
    "        for sample in tqdm(df_uni)\n",
    "    )\n",
    "\n",
    "## take mean of sampling distribution of Hopkins as best estimate\n",
    "mean_confidence_interval(SDoH_uni)"
   ]
  },
  {
   "cell_type": "code",
   "execution_count": 34,
   "id": "89a14d7e",
   "metadata": {},
   "outputs": [
    {
     "data": {
      "application/vnd.jupyter.widget-view+json": {
       "model_id": "e3ff9b54c70c45399c252975ed1e975d",
       "version_major": 2,
       "version_minor": 0
      },
      "text/plain": [
       "  0%|          | 0/1000 [00:00<?, ?it/s]"
      ]
     },
     "metadata": {},
     "output_type": "display_data"
    },
    {
     "data": {
      "text/plain": [
       "(0.776908386986908, 0.7740752658199618, 0.7797415081538542)"
      ]
     },
     "execution_count": 34,
     "metadata": {},
     "output_type": "execute_result"
    }
   ],
   "source": [
    "## shuffle\n",
    "SDoH_shuffle = []\n",
    "\n",
    "with Parallel(n_jobs= n_jobs) as parallel:\n",
    "    SDoH_shuffle = parallel(\n",
    "        delayed(hopkins)(\n",
    "            pd.DataFrame(sample)\n",
    "        )\n",
    "        for sample in tqdm(df_sf)\n",
    "    )\n",
    "\n",
    "## take mean of sampling distribution of Hopkins as best estimate\n",
    "mean_confidence_interval(SDoH_shuffle)"
   ]
  },
  {
   "cell_type": "code",
   "execution_count": 35,
   "id": "0abeb5ce",
   "metadata": {},
   "outputs": [
    {
     "data": {
      "application/vnd.jupyter.widget-view+json": {
       "model_id": "9d2cc2a503654b2ba382406c6b275917",
       "version_major": 2,
       "version_minor": 0
      },
      "text/plain": [
       "  0%|          | 0/1000 [00:00<?, ?it/s]"
      ]
     },
     "metadata": {},
     "output_type": "display_data"
    },
    {
     "data": {
      "text/plain": [
       "(0.7972125467666654, 0.7947389296004149, 0.7996861639329159)"
      ]
     },
     "execution_count": 35,
     "metadata": {},
     "output_type": "execute_result"
    }
   ],
   "source": [
    "## lg shuffle\n",
    "SDoH_lg = []\n",
    "\n",
    "with Parallel(n_jobs= n_jobs) as parallel:\n",
    "    SDoH_lg = parallel(\n",
    "        delayed(hopkins)(\n",
    "            pd.DataFrame(sample)\n",
    "        )\n",
    "        for sample in tqdm(df_lg)\n",
    "    )\n",
    "\n",
    "## take mean of sampling distribution of Hopkins as best estimate\n",
    "mean_confidence_interval(SDoH_lg)"
   ]
  },
  {
   "cell_type": "markdown",
   "id": "b1b3e4ae",
   "metadata": {},
   "source": [
    "## Timescale Estimation\n",
    "\n",
    "Timescale is estimated as mean inter-onset interval"
   ]
  },
  {
   "cell_type": "code",
   "execution_count": 36,
   "id": "fd5b2db7",
   "metadata": {},
   "outputs": [],
   "source": [
    "import numpy as np\n",
    "import scipy.stats\n",
    "\n",
    "## a standard calculation for confidence interval\n",
    "def mean_confidence_interval(data, confidence=0.95):\n",
    "    a = 1.0 * np.array(data)\n",
    "    n = len(a)\n",
    "    m, se = np.mean(a), scipy.stats.sem(a)\n",
    "    h = se * scipy.stats.t.ppf((1 + confidence) / 2., n-1)\n",
    "    return m, m-h, m+h"
   ]
  },
  {
   "cell_type": "code",
   "execution_count": 37,
   "id": "1b5ee710",
   "metadata": {},
   "outputs": [
    {
     "data": {
      "text/html": [
       "<div>\n",
       "<style scoped>\n",
       "    .dataframe tbody tr th:only-of-type {\n",
       "        vertical-align: middle;\n",
       "    }\n",
       "\n",
       "    .dataframe tbody tr th {\n",
       "        vertical-align: top;\n",
       "    }\n",
       "\n",
       "    .dataframe thead th {\n",
       "        text-align: right;\n",
       "    }\n",
       "</style>\n",
       "<table border=\"1\" class=\"dataframe\">\n",
       "  <thead>\n",
       "    <tr style=\"text-align: right;\">\n",
       "      <th></th>\n",
       "      <th>intervals1</th>\n",
       "      <th>intervals2</th>\n",
       "      <th>label1</th>\n",
       "      <th>label2</th>\n",
       "      <th>label3</th>\n",
       "      <th>s_interval</th>\n",
       "      <th>l_interval</th>\n",
       "      <th>cycle_dur</th>\n",
       "      <th>ratio_roeske</th>\n",
       "      <th>ratio_custom</th>\n",
       "      <th>cycle_rank</th>\n",
       "    </tr>\n",
       "  </thead>\n",
       "  <tbody>\n",
       "    <tr>\n",
       "      <th>0</th>\n",
       "      <td>0.290000</td>\n",
       "      <td>0.419714</td>\n",
       "      <td>Bird22</td>\n",
       "      <td>Bird22</td>\n",
       "      <td>Bird22</td>\n",
       "      <td>0.290000</td>\n",
       "      <td>0.419714</td>\n",
       "      <td>0.709714</td>\n",
       "      <td>0.408615</td>\n",
       "      <td>0.690946</td>\n",
       "      <td>1790</td>\n",
       "    </tr>\n",
       "    <tr>\n",
       "      <th>1</th>\n",
       "      <td>0.419714</td>\n",
       "      <td>0.180286</td>\n",
       "      <td>Bird22</td>\n",
       "      <td>Bird22</td>\n",
       "      <td>Bird22</td>\n",
       "      <td>0.180286</td>\n",
       "      <td>0.419714</td>\n",
       "      <td>0.600000</td>\n",
       "      <td>0.699524</td>\n",
       "      <td>0.429544</td>\n",
       "      <td>1476</td>\n",
       "    </tr>\n",
       "    <tr>\n",
       "      <th>2</th>\n",
       "      <td>0.180286</td>\n",
       "      <td>0.404275</td>\n",
       "      <td>Bird22</td>\n",
       "      <td>Bird22</td>\n",
       "      <td>Bird22</td>\n",
       "      <td>0.180286</td>\n",
       "      <td>0.404275</td>\n",
       "      <td>0.584561</td>\n",
       "      <td>0.308413</td>\n",
       "      <td>0.445949</td>\n",
       "      <td>1389</td>\n",
       "    </tr>\n",
       "    <tr>\n",
       "      <th>3</th>\n",
       "      <td>0.404275</td>\n",
       "      <td>0.075725</td>\n",
       "      <td>Bird22</td>\n",
       "      <td>Bird22</td>\n",
       "      <td>Bird22</td>\n",
       "      <td>0.075725</td>\n",
       "      <td>0.404275</td>\n",
       "      <td>0.480000</td>\n",
       "      <td>0.842239</td>\n",
       "      <td>0.187311</td>\n",
       "      <td>944</td>\n",
       "    </tr>\n",
       "    <tr>\n",
       "      <th>4</th>\n",
       "      <td>0.075725</td>\n",
       "      <td>0.196397</td>\n",
       "      <td>Bird22</td>\n",
       "      <td>Bird22</td>\n",
       "      <td>Bird22</td>\n",
       "      <td>0.075725</td>\n",
       "      <td>0.196397</td>\n",
       "      <td>0.272123</td>\n",
       "      <td>0.278276</td>\n",
       "      <td>0.385572</td>\n",
       "      <td>509</td>\n",
       "    </tr>\n",
       "    <tr>\n",
       "      <th>...</th>\n",
       "      <td>...</td>\n",
       "      <td>...</td>\n",
       "      <td>...</td>\n",
       "      <td>...</td>\n",
       "      <td>...</td>\n",
       "      <td>...</td>\n",
       "      <td>...</td>\n",
       "      <td>...</td>\n",
       "      <td>...</td>\n",
       "      <td>...</td>\n",
       "      <td>...</td>\n",
       "    </tr>\n",
       "    <tr>\n",
       "      <th>3560</th>\n",
       "      <td>0.350000</td>\n",
       "      <td>0.060540</td>\n",
       "      <td>Bird22</td>\n",
       "      <td>Bird22</td>\n",
       "      <td>Bird22</td>\n",
       "      <td>0.060540</td>\n",
       "      <td>0.350000</td>\n",
       "      <td>0.410540</td>\n",
       "      <td>0.852536</td>\n",
       "      <td>0.172971</td>\n",
       "      <td>701</td>\n",
       "    </tr>\n",
       "    <tr>\n",
       "      <th>3561</th>\n",
       "      <td>0.060540</td>\n",
       "      <td>0.069996</td>\n",
       "      <td>Bird22</td>\n",
       "      <td>Bird22</td>\n",
       "      <td>Bird22</td>\n",
       "      <td>0.060540</td>\n",
       "      <td>0.069996</td>\n",
       "      <td>0.130536</td>\n",
       "      <td>0.463779</td>\n",
       "      <td>0.864904</td>\n",
       "      <td>46</td>\n",
       "    </tr>\n",
       "    <tr>\n",
       "      <th>3564</th>\n",
       "      <td>0.480513</td>\n",
       "      <td>0.355655</td>\n",
       "      <td>Bird22</td>\n",
       "      <td>Bird22</td>\n",
       "      <td>Bird22</td>\n",
       "      <td>0.355655</td>\n",
       "      <td>0.480513</td>\n",
       "      <td>0.836168</td>\n",
       "      <td>0.574661</td>\n",
       "      <td>0.740157</td>\n",
       "      <td>1949</td>\n",
       "    </tr>\n",
       "    <tr>\n",
       "      <th>3565</th>\n",
       "      <td>0.355655</td>\n",
       "      <td>0.696176</td>\n",
       "      <td>Bird22</td>\n",
       "      <td>Bird22</td>\n",
       "      <td>Bird22</td>\n",
       "      <td>0.355655</td>\n",
       "      <td>0.696176</td>\n",
       "      <td>1.051831</td>\n",
       "      <td>0.338129</td>\n",
       "      <td>0.510870</td>\n",
       "      <td>2117</td>\n",
       "    </tr>\n",
       "    <tr>\n",
       "      <th>3566</th>\n",
       "      <td>0.696176</td>\n",
       "      <td>0.273891</td>\n",
       "      <td>Bird22</td>\n",
       "      <td>Bird22</td>\n",
       "      <td>Bird22</td>\n",
       "      <td>0.273891</td>\n",
       "      <td>0.696176</td>\n",
       "      <td>0.970067</td>\n",
       "      <td>0.717657</td>\n",
       "      <td>0.393423</td>\n",
       "      <td>2070</td>\n",
       "    </tr>\n",
       "  </tbody>\n",
       "</table>\n",
       "<p>2299 rows × 11 columns</p>\n",
       "</div>"
      ],
      "text/plain": [
       "      intervals1  intervals2  label1  label2  label3  s_interval  l_interval  \\\n",
       "0       0.290000    0.419714  Bird22  Bird22  Bird22    0.290000    0.419714   \n",
       "1       0.419714    0.180286  Bird22  Bird22  Bird22    0.180286    0.419714   \n",
       "2       0.180286    0.404275  Bird22  Bird22  Bird22    0.180286    0.404275   \n",
       "3       0.404275    0.075725  Bird22  Bird22  Bird22    0.075725    0.404275   \n",
       "4       0.075725    0.196397  Bird22  Bird22  Bird22    0.075725    0.196397   \n",
       "...          ...         ...     ...     ...     ...         ...         ...   \n",
       "3560    0.350000    0.060540  Bird22  Bird22  Bird22    0.060540    0.350000   \n",
       "3561    0.060540    0.069996  Bird22  Bird22  Bird22    0.060540    0.069996   \n",
       "3564    0.480513    0.355655  Bird22  Bird22  Bird22    0.355655    0.480513   \n",
       "3565    0.355655    0.696176  Bird22  Bird22  Bird22    0.355655    0.696176   \n",
       "3566    0.696176    0.273891  Bird22  Bird22  Bird22    0.273891    0.696176   \n",
       "\n",
       "      cycle_dur  ratio_roeske  ratio_custom  cycle_rank  \n",
       "0      0.709714      0.408615      0.690946        1790  \n",
       "1      0.600000      0.699524      0.429544        1476  \n",
       "2      0.584561      0.308413      0.445949        1389  \n",
       "3      0.480000      0.842239      0.187311         944  \n",
       "4      0.272123      0.278276      0.385572         509  \n",
       "...         ...           ...           ...         ...  \n",
       "3560   0.410540      0.852536      0.172971         701  \n",
       "3561   0.130536      0.463779      0.864904          46  \n",
       "3564   0.836168      0.574661      0.740157        1949  \n",
       "3565   1.051831      0.338129      0.510870        2117  \n",
       "3566   0.970067      0.717657      0.393423        2070  \n",
       "\n",
       "[2299 rows x 11 columns]"
      ]
     },
     "execution_count": 37,
     "metadata": {},
     "output_type": "execute_result"
    }
   ],
   "source": [
    "sequential_note = dyadic.sort_index()\n",
    "sequential_note"
   ]
  },
  {
   "cell_type": "code",
   "execution_count": 38,
   "id": "85ebfb83",
   "metadata": {},
   "outputs": [],
   "source": [
    "n_IOI = list(sequential_note['intervals1'].values)\n",
    "n_IOI.append(sequential_note['intervals2'].values[-1])"
   ]
  },
  {
   "cell_type": "code",
   "execution_count": 39,
   "id": "9f9a27e7",
   "metadata": {
    "scrolled": true
   },
   "outputs": [
    {
     "data": {
      "text/plain": [
       "(0.2830544122433199, 0.27592883354442904, 0.29017999094221075)"
      ]
     },
     "execution_count": 39,
     "metadata": {},
     "output_type": "execute_result"
    }
   ],
   "source": [
    "mean_confidence_interval(n_IOI, confidence=0.95)"
   ]
  }
 ],
 "metadata": {
  "kernelspec": {
   "display_name": "pbb",
   "language": "python",
   "name": "pbb"
  },
  "language_info": {
   "codemirror_mode": {
    "name": "ipython",
    "version": 3
   },
   "file_extension": ".py",
   "mimetype": "text/x-python",
   "name": "python",
   "nbconvert_exporter": "python",
   "pygments_lexer": "ipython3",
   "version": "3.10.0"
  }
 },
 "nbformat": 4,
 "nbformat_minor": 5
}
